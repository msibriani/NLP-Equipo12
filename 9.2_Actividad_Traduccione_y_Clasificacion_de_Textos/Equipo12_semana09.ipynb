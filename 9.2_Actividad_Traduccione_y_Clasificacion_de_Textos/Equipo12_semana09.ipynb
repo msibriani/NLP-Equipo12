{
 "cells": [
  {
   "attachments": {},
   "cell_type": "markdown",
   "id": "d1dc2e28-08c7-494f-bbf0-037c4e27c67a",
   "metadata": {
    "id": "1c7bad3b-0d0a-47e7-baa9-f6537ab2f38f"
   },
   "source": [
    "![image.png](data:image/png;base64,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)"
   ]
  },
  {
   "attachments": {},
   "cell_type": "markdown",
   "id": "5d7267bd-1f64-46b1-b8a5-70274b2970bd",
   "metadata": {
    "id": "12b3ca1e-2b2c-4588-922f-7a24ad152612"
   },
   "source": [
    "# **Maestría en Inteligencia Artificial Aplicada**\n",
    "## **Curso: Estrategia de implementación de servicios tecnológicos**\n",
    "### Tecnológico de Monterrey\n",
    "### Prof Luis Eduardo Falcón Morales\n",
    "\n",
    "## **9.2 Actividad**\n",
    "## Actividad en Equipos - Semanas 9:\n",
    "\n",
    "### **Modelos Transformer para textos en Español e Inglés**\n",
    "____________"
   ]
  },
  {
   "attachments": {},
   "cell_type": "markdown",
   "id": "83a3a581-2e89-4edc-9369-1fdc97aa1639",
   "metadata": {
    "id": "a93d8e04-5ce1-4feb-941e-f896eb98204e"
   },
   "source": [
    "## Equipo 12\n",
    "> - Francisco Javier Parga Garcia  **A01794380**\n",
    ">\n",
    "> - Enrique Hernández García **A01793727**\n",
    ">\n",
    "> - Matthias Sibrian Illescas **A01794249**\n",
    ">\n",
    "> - Alejandro Tomás Mackey **A01164338**\n",
    ">\n",
    "> - Ignacio Valdés Reyes **A0179326**\n",
    "\n",
    "\n"
   ]
  },
  {
   "cell_type": "code",
   "execution_count": 12,
   "id": "fb7f11c8-8610-420f-b088-c3f2628c973c",
   "metadata": {},
   "outputs": [],
   "source": [
    "import pandas as pd\n",
    "import numpy as np\n",
    "from tqdm.notebook import tqdm"
   ]
  },
  {
   "attachments": {},
   "cell_type": "markdown",
   "id": "1cb79d36-2455-41cd-b708-1aecc9900cce",
   "metadata": {},
   "source": [
    "# 1. Carga de datos "
   ]
  },
  {
   "cell_type": "code",
   "execution_count": 2,
   "id": "1609f46e-9a90-4120-9d67-9beb5b287ff5",
   "metadata": {},
   "outputs": [
    {
     "data": {
      "text/html": [
       "<div>\n",
       "<style scoped>\n",
       "    .dataframe tbody tr th:only-of-type {\n",
       "        vertical-align: middle;\n",
       "    }\n",
       "\n",
       "    .dataframe tbody tr th {\n",
       "        vertical-align: top;\n",
       "    }\n",
       "\n",
       "    .dataframe thead th {\n",
       "        text-align: right;\n",
       "    }\n",
       "</style>\n",
       "<table border=\"1\" class=\"dataframe\">\n",
       "  <thead>\n",
       "    <tr style=\"text-align: right;\">\n",
       "      <th></th>\n",
       "      <th>review</th>\n",
       "      <th>rating</th>\n",
       "    </tr>\n",
       "  </thead>\n",
       "  <tbody>\n",
       "    <tr>\n",
       "      <th>380</th>\n",
       "      <td>It's a simple book and my niece loved it becau...</td>\n",
       "      <td>1</td>\n",
       "    </tr>\n",
       "    <tr>\n",
       "      <th>1208</th>\n",
       "      <td>This box is pretty but wow........so expensive...</td>\n",
       "      <td>1</td>\n",
       "    </tr>\n",
       "    <tr>\n",
       "      <th>2957</th>\n",
       "      <td>My twins are at a stage where they chew on eve...</td>\n",
       "      <td>1</td>\n",
       "    </tr>\n",
       "    <tr>\n",
       "      <th>2124</th>\n",
       "      <td>LOVE IT,QUICK LIL GADGET FOR WET SOILED CLOTHE...</td>\n",
       "      <td>1</td>\n",
       "    </tr>\n",
       "    <tr>\n",
       "      <th>328</th>\n",
       "      <td>We requested this system for the arrival of ou...</td>\n",
       "      <td>1</td>\n",
       "    </tr>\n",
       "  </tbody>\n",
       "</table>\n",
       "</div>"
      ],
      "text/plain": [
       "                                                 review  rating\n",
       "380   It's a simple book and my niece loved it becau...       1\n",
       "1208  This box is pretty but wow........so expensive...       1\n",
       "2957  My twins are at a stage where they chew on eve...       1\n",
       "2124  LOVE IT,QUICK LIL GADGET FOR WET SOILED CLOTHE...       1\n",
       "328   We requested this system for the arrival of ou...       1"
      ]
     },
     "execution_count": 2,
     "metadata": {},
     "output_type": "execute_result"
    }
   ],
   "source": [
    "# Cargar el archivo y crear el DataFrame\n",
    "reviews = pd.read_csv('amazonbaby5000.csv', encoding='utf-8')\n",
    "reviews.sample(5)"
   ]
  },
  {
   "cell_type": "code",
   "execution_count": 3,
   "id": "12a28327-e846-46bc-a0a9-3556dde4549c",
   "metadata": {},
   "outputs": [
    {
     "name": "stdout",
     "output_type": "stream",
     "text": [
      "<class 'pandas.core.frame.DataFrame'>\n",
      "RangeIndex: 5000 entries, 0 to 4999\n",
      "Data columns (total 2 columns):\n",
      " #   Column  Non-Null Count  Dtype \n",
      "---  ------  --------------  ----- \n",
      " 0   review  5000 non-null   object\n",
      " 1   rating  5000 non-null   int64 \n",
      "dtypes: int64(1), object(1)\n",
      "memory usage: 78.2+ KB\n"
     ]
    }
   ],
   "source": [
    "#Informacion general del dataframe\n",
    "reviews.info()"
   ]
  },
  {
   "cell_type": "code",
   "execution_count": 4,
   "id": "f580006e-d4d0-4021-9035-be77dbee4c7d",
   "metadata": {},
   "outputs": [
    {
     "data": {
      "text/plain": [
       "rating\n",
       "1    3840\n",
       "0    1160\n",
       "Name: count, dtype: int64"
      ]
     },
     "execution_count": 4,
     "metadata": {},
     "output_type": "execute_result"
    }
   ],
   "source": [
    "#Conteo del rating\n",
    "reviews.rating.value_counts()"
   ]
  },
  {
   "attachments": {},
   "cell_type": "markdown",
   "id": "c94a144b-cd9c-4590-80c6-b257f4e3ea01",
   "metadata": {},
   "source": [
    "# 2. Partición del dato"
   ]
  },
  {
   "cell_type": "code",
   "execution_count": 5,
   "id": "fc1a3b50-841a-4887-8606-d130e4362188",
   "metadata": {},
   "outputs": [],
   "source": [
    "from sklearn.model_selection import train_test_split\n",
    "\n",
    "# Particionar los datos en entrenamiento (60%) y prueba (40%), estratificando por rating\n",
    "X_train, X_test, y_train, y_test = train_test_split(reviews['review'], reviews['rating'], test_size=0.4, stratify=reviews['rating'], random_state=42)\n",
    "\n",
    "# Particionar el conjunto de entrenamiento en entrenamiento (75%) y validación (25%), estratificando por rating\n",
    "X_train, X_val, y_train, y_val = train_test_split(X_train, y_train, test_size=0.25, stratify=y_train, random_state=42)"
   ]
  },
  {
   "attachments": {},
   "cell_type": "markdown",
   "id": "e31b22f7-b99b-4e8c-b390-f79e34c9214f",
   "metadata": {},
   "source": [
    "# 3. Modelo Transformer de HuggingFace"
   ]
  },
  {
   "attachments": {},
   "cell_type": "markdown",
   "id": "1ee2aa24-122a-45eb-ad0c-700a910fabb0",
   "metadata": {},
   "source": [
    "## a. Modelo predeterminado"
   ]
  },
  {
   "cell_type": "code",
   "execution_count": 6,
   "id": "98ff8af7-1d1e-40f0-9746-8295df45d206",
   "metadata": {},
   "outputs": [
    {
     "name": "stderr",
     "output_type": "stream",
     "text": [
      "A matching Triton is not available, some optimizations will not be enabled.\n",
      "Error caught was: No module named 'triton'\n"
     ]
    }
   ],
   "source": [
    "from transformers import pipeline\n",
    "from sklearn.metrics import accuracy_score\n",
    "\n",
    "# Crear un pipeline de análisis de sentimiento\n",
    "sentiment_analysis = pipeline(\"sentiment-analysis\", model=\"siebert/sentiment-roberta-large-english\", max_length=512, truncation=True, device=0)"
   ]
  },
  {
   "cell_type": "code",
   "execution_count": 7,
   "id": "228a8879-52d6-4577-8183-c67d34cab42e",
   "metadata": {},
   "outputs": [
    {
     "name": "stdout",
     "output_type": "stream",
     "text": [
      "CPU times: total: 1min 47s\n",
      "Wall time: 1min 48s\n"
     ]
    }
   ],
   "source": [
    "%%time\n",
    "# Analizar los comentarios del dataframe\n",
    "results = sentiment_analysis(X_test.tolist(), \n",
    "                             batch_size=64)\n",
    "\n",
    "# Definir el diccionario de mapeo\n",
    "label_map = {'POSITIVE': 1, 'NEGATIVE': 0}\n",
    "\n",
    "# Extraer las etiquetas predichas\n",
    "y_pred = [label_map[result['label']] for result in results]"
   ]
  },
  {
   "cell_type": "code",
   "execution_count": 8,
   "id": "b1989c12-843d-42e1-a636-2c3882b12e9d",
   "metadata": {},
   "outputs": [
    {
     "name": "stdout",
     "output_type": "stream",
     "text": [
      "Accuracy: 94.05%\n"
     ]
    }
   ],
   "source": [
    "# Extraer las etiquetas reales\n",
    "y_true = y_test.tolist()\n",
    "\n",
    "# Calcular el accuracy\n",
    "accuracy = accuracy_score(y_true, y_pred)\n",
    "print(f\"Accuracy: {(accuracy)*100:.2f}%\")"
   ]
  },
  {
   "attachments": {},
   "cell_type": "markdown",
   "id": "9dcc60b2-66ce-4825-921c-331843f16a8f",
   "metadata": {},
   "source": [
    "## b. DistilBERT"
   ]
  },
  {
   "cell_type": "code",
   "execution_count": 9,
   "id": "4fe3dc4a-6a6f-4420-94fd-42cd8b890661",
   "metadata": {},
   "outputs": [],
   "source": [
    "from transformers import DistilBertTokenizerFast, DistilBertForSequenceClassification, Trainer, TrainingArguments\n",
    "import torch"
   ]
  },
  {
   "cell_type": "code",
   "execution_count": 10,
   "id": "a2f4e1ea-028a-4405-8fe4-16ac4b5ed622",
   "metadata": {},
   "outputs": [],
   "source": [
    "# Crear un tokenizador de DistilBERT\n",
    "tokenizer = DistilBertTokenizerFast.from_pretrained('distilbert-base-uncased', max_position_embeddings=512)\n",
    "\n",
    "# Codificar los textos de cada conjunto\n",
    "train_encodings = tokenizer(X_train.tolist(), truncation=True, padding=True)\n",
    "val_encodings = tokenizer(X_val.tolist(), truncation=True, padding=True)\n",
    "test_encodings = tokenizer(X_test.tolist(), truncation=True, padding=True)"
   ]
  },
  {
   "cell_type": "code",
   "execution_count": 11,
   "id": "ad57f321-9002-4202-acf7-df0b28eaaeb7",
   "metadata": {},
   "outputs": [],
   "source": [
    "# Crear un dataset personalizado\n",
    "class AmazonDataset(torch.utils.data.Dataset):\n",
    "  def __init__(self, encodings, labels):\n",
    "    self.encodings = encodings\n",
    "    self.labels = labels\n",
    "\n",
    "  def __getitem__(self, idx):\n",
    "    item = {key: torch.tensor(val[idx]) for key, val in self.encodings.items()}\n",
    "    item['labels'] = torch.tensor(self.labels[idx])\n",
    "    return item\n",
    "\n",
    "  def __len__(self):\n",
    "    return len(self.labels)\n",
    "\n",
    "# Crear los datasets de entrenamiento, validación y prueba\n",
    "train_dataset = AmazonDataset(train_encodings, y_train.tolist())\n",
    "val_dataset = AmazonDataset(val_encodings, y_val.tolist())\n",
    "test_dataset = AmazonDataset(test_encodings, y_test.tolist())"
   ]
  },
  {
   "cell_type": "code",
   "execution_count": 12,
   "id": "a0e730bf-94aa-4d14-ae5d-7fde84f21fb6",
   "metadata": {},
   "outputs": [
    {
     "name": "stderr",
     "output_type": "stream",
     "text": [
      "Some weights of the model checkpoint at distilbert-base-uncased were not used when initializing DistilBertForSequenceClassification: ['vocab_transform.bias', 'vocab_transform.weight', 'vocab_layer_norm.weight', 'vocab_layer_norm.bias', 'vocab_projector.bias']\n",
      "- This IS expected if you are initializing DistilBertForSequenceClassification from the checkpoint of a model trained on another task or with another architecture (e.g. initializing a BertForSequenceClassification model from a BertForPreTraining model).\n",
      "- This IS NOT expected if you are initializing DistilBertForSequenceClassification from the checkpoint of a model that you expect to be exactly identical (initializing a BertForSequenceClassification model from a BertForSequenceClassification model).\n",
      "Some weights of DistilBertForSequenceClassification were not initialized from the model checkpoint at distilbert-base-uncased and are newly initialized: ['pre_classifier.weight', 'classifier.weight', 'pre_classifier.bias', 'classifier.bias']\n",
      "You should probably TRAIN this model on a down-stream task to be able to use it for predictions and inference.\n"
     ]
    }
   ],
   "source": [
    "# Crear un modelo de clasificación de secuencias con DistilBERT\n",
    "model = DistilBertForSequenceClassification.from_pretrained('distilbert-base-uncased', max_position_embeddings=512).to(\"cuda\")\n",
    "\n",
    "# Crear un objeto de entrenamiento\n",
    "training_args = TrainingArguments(\n",
    "                              output_dir='./results', # directorio de salida\n",
    "                              num_train_epochs=5, # número de épocas de entrenamiento\n",
    "                              per_device_train_batch_size=32, # tamaño del lote por dispositivo durante el entrenamiento\n",
    "                              per_device_eval_batch_size=64, # tamaño del lote para la evaluación\n",
    "                              warmup_steps=500, # número de pasos de calentamiento para el programador de la tasa de aprendizaje\n",
    "                              weight_decay=0.01, # fuerza de la decaimiento de peso\n",
    "                              logging_dir='./logs', # directorio para almacenar los registros\n",
    "                              logging_steps=10, # número de pasos para guardar los registros\n",
    "                            )"
   ]
  },
  {
   "cell_type": "code",
   "execution_count": 13,
   "id": "0fbceda8-a9be-4551-88eb-3f50ea9fdf01",
   "metadata": {},
   "outputs": [],
   "source": [
    "# Crear un entrenador\n",
    "trainer = Trainer(\n",
    "              model=model, # el modelo a entrenar\n",
    "              args=training_args, # los argumentos de entrenamiento\n",
    "              train_dataset=train_dataset, # el dataset de entrenamiento\n",
    "              eval_dataset=val_dataset # el dataset de validación\n",
    "            )"
   ]
  },
  {
   "cell_type": "code",
   "execution_count": 14,
   "id": "b2d8f3f3-ed1c-4ce0-9fab-b8bc6f75413f",
   "metadata": {},
   "outputs": [
    {
     "name": "stderr",
     "output_type": "stream",
     "text": [
      "C:\\Users\\fgarcia24\\Anaconda3\\envs\\mna\\lib\\site-packages\\transformers\\optimization.py:411: FutureWarning: This implementation of AdamW is deprecated and will be removed in a future version. Use the PyTorch implementation torch.optim.AdamW instead, or set `no_deprecation_warning=True` to disable this warning\n",
      "  warnings.warn(\n"
     ]
    },
    {
     "data": {
      "text/html": [
       "\n",
       "    <div>\n",
       "      \n",
       "      <progress value='355' max='355' style='width:300px; height:20px; vertical-align: middle;'></progress>\n",
       "      [355/355 05:15, Epoch 5/5]\n",
       "    </div>\n",
       "    <table border=\"1\" class=\"dataframe\">\n",
       "  <thead>\n",
       " <tr style=\"text-align: left;\">\n",
       "      <th>Step</th>\n",
       "      <th>Training Loss</th>\n",
       "    </tr>\n",
       "  </thead>\n",
       "  <tbody>\n",
       "    <tr>\n",
       "      <td>10</td>\n",
       "      <td>0.671800</td>\n",
       "    </tr>\n",
       "    <tr>\n",
       "      <td>20</td>\n",
       "      <td>0.653900</td>\n",
       "    </tr>\n",
       "    <tr>\n",
       "      <td>30</td>\n",
       "      <td>0.630200</td>\n",
       "    </tr>\n",
       "    <tr>\n",
       "      <td>40</td>\n",
       "      <td>0.600100</td>\n",
       "    </tr>\n",
       "    <tr>\n",
       "      <td>50</td>\n",
       "      <td>0.579700</td>\n",
       "    </tr>\n",
       "    <tr>\n",
       "      <td>60</td>\n",
       "      <td>0.513300</td>\n",
       "    </tr>\n",
       "    <tr>\n",
       "      <td>70</td>\n",
       "      <td>0.478800</td>\n",
       "    </tr>\n",
       "    <tr>\n",
       "      <td>80</td>\n",
       "      <td>0.467600</td>\n",
       "    </tr>\n",
       "    <tr>\n",
       "      <td>90</td>\n",
       "      <td>0.429100</td>\n",
       "    </tr>\n",
       "    <tr>\n",
       "      <td>100</td>\n",
       "      <td>0.372400</td>\n",
       "    </tr>\n",
       "    <tr>\n",
       "      <td>110</td>\n",
       "      <td>0.369700</td>\n",
       "    </tr>\n",
       "    <tr>\n",
       "      <td>120</td>\n",
       "      <td>0.330400</td>\n",
       "    </tr>\n",
       "    <tr>\n",
       "      <td>130</td>\n",
       "      <td>0.313700</td>\n",
       "    </tr>\n",
       "    <tr>\n",
       "      <td>140</td>\n",
       "      <td>0.365200</td>\n",
       "    </tr>\n",
       "    <tr>\n",
       "      <td>150</td>\n",
       "      <td>0.288800</td>\n",
       "    </tr>\n",
       "    <tr>\n",
       "      <td>160</td>\n",
       "      <td>0.220000</td>\n",
       "    </tr>\n",
       "    <tr>\n",
       "      <td>170</td>\n",
       "      <td>0.196000</td>\n",
       "    </tr>\n",
       "    <tr>\n",
       "      <td>180</td>\n",
       "      <td>0.159800</td>\n",
       "    </tr>\n",
       "    <tr>\n",
       "      <td>190</td>\n",
       "      <td>0.195000</td>\n",
       "    </tr>\n",
       "    <tr>\n",
       "      <td>200</td>\n",
       "      <td>0.235700</td>\n",
       "    </tr>\n",
       "    <tr>\n",
       "      <td>210</td>\n",
       "      <td>0.283800</td>\n",
       "    </tr>\n",
       "    <tr>\n",
       "      <td>220</td>\n",
       "      <td>0.190500</td>\n",
       "    </tr>\n",
       "    <tr>\n",
       "      <td>230</td>\n",
       "      <td>0.140400</td>\n",
       "    </tr>\n",
       "    <tr>\n",
       "      <td>240</td>\n",
       "      <td>0.131500</td>\n",
       "    </tr>\n",
       "    <tr>\n",
       "      <td>250</td>\n",
       "      <td>0.166000</td>\n",
       "    </tr>\n",
       "    <tr>\n",
       "      <td>260</td>\n",
       "      <td>0.135700</td>\n",
       "    </tr>\n",
       "    <tr>\n",
       "      <td>270</td>\n",
       "      <td>0.179100</td>\n",
       "    </tr>\n",
       "    <tr>\n",
       "      <td>280</td>\n",
       "      <td>0.114400</td>\n",
       "    </tr>\n",
       "    <tr>\n",
       "      <td>290</td>\n",
       "      <td>0.085600</td>\n",
       "    </tr>\n",
       "    <tr>\n",
       "      <td>300</td>\n",
       "      <td>0.109600</td>\n",
       "    </tr>\n",
       "    <tr>\n",
       "      <td>310</td>\n",
       "      <td>0.075400</td>\n",
       "    </tr>\n",
       "    <tr>\n",
       "      <td>320</td>\n",
       "      <td>0.056200</td>\n",
       "    </tr>\n",
       "    <tr>\n",
       "      <td>330</td>\n",
       "      <td>0.084900</td>\n",
       "    </tr>\n",
       "    <tr>\n",
       "      <td>340</td>\n",
       "      <td>0.063500</td>\n",
       "    </tr>\n",
       "    <tr>\n",
       "      <td>350</td>\n",
       "      <td>0.097100</td>\n",
       "    </tr>\n",
       "  </tbody>\n",
       "</table><p>"
      ],
      "text/plain": [
       "<IPython.core.display.HTML object>"
      ]
     },
     "metadata": {},
     "output_type": "display_data"
    },
    {
     "name": "stdout",
     "output_type": "stream",
     "text": [
      "CPU times: total: 5min 13s\n",
      "Wall time: 5min 16s\n"
     ]
    },
    {
     "data": {
      "text/plain": [
       "TrainOutput(global_step=355, training_loss=0.28417265096180877, metrics={'train_runtime': 316.1338, 'train_samples_per_second': 35.586, 'train_steps_per_second': 1.123, 'total_flos': 1490258234880000.0, 'train_loss': 0.28417265096180877, 'epoch': 5.0})"
      ]
     },
     "execution_count": 14,
     "metadata": {},
     "output_type": "execute_result"
    }
   ],
   "source": [
    "%%time\n",
    "\n",
    "# Entrenar el modelo\n",
    "trainer.train()"
   ]
  },
  {
   "cell_type": "code",
   "execution_count": 15,
   "id": "08cc016e-3c62-4698-a7fb-3a0d5887d0f1",
   "metadata": {},
   "outputs": [
    {
     "name": "stderr",
     "output_type": "stream",
     "text": [
      "C:\\Users\\fgarcia24\\AppData\\Local\\Temp\\ipykernel_38100\\250083128.py:3: FutureWarning: load_metric is deprecated and will be removed in the next major version of datasets. Use 'evaluate.load' instead, from the new library 🤗 Evaluate: https://huggingface.co/docs/evaluate\n",
      "  metric = load_metric('accuracy')\n"
     ]
    },
    {
     "data": {
      "text/html": [],
      "text/plain": [
       "<IPython.core.display.HTML object>"
      ]
     },
     "metadata": {},
     "output_type": "display_data"
    },
    {
     "name": "stdout",
     "output_type": "stream",
     "text": [
      "Accuracy: 91.05%\n"
     ]
    }
   ],
   "source": [
    "from datasets import load_metric\n",
    "\n",
    "metric = load_metric('accuracy')\n",
    "\n",
    "def compute_metrics(eval_pred):\n",
    "  predictions, labels, summary = eval_pred\n",
    "  predictions = np.argmax(predictions, axis=1)\n",
    "  return metric.compute(predictions=predictions, references=labels)\n",
    "\n",
    "\n",
    "test_predict = trainer.predict(test_dataset)\n",
    "\n",
    "accuracy = compute_metrics(test_predict)\n",
    "print(f\"Accuracy: {(accuracy['accuracy'])*100:.2f}%\")"
   ]
  },
  {
   "attachments": {},
   "cell_type": "markdown",
   "id": "ef972136-20a9-427d-812d-c9640441f747",
   "metadata": {},
   "source": [
    "## c. Comparación"
   ]
  },
  {
   "attachments": {},
   "cell_type": "markdown",
   "id": "1803b533-d7b8-4f4e-95bb-eccc12e0640a",
   "metadata": {},
   "source": [
    "> El modelo  default elegido `SiEBERT` logra un accuracy del **94%** sin ajustes (Este modelo `SiEBERT`, prefijo para “Sentiment in English”) es un punto de control afinado de RoBERTa-large (Liu et al. 2019). Permite un análisis de sentimiento binario confiable para varios tipos de texto en inglés.), mientras que `DistilBERT` entrenado con 60% de los comentarios en Amazon logra un **91%**"
   ]
  },
  {
   "attachments": {},
   "cell_type": "markdown",
   "id": "d44c5bab-c92f-4f89-a069-4415bdfeecc5",
   "metadata": {},
   "source": [
    "# 4. BETO-sentiment-analysis"
   ]
  },
  {
   "attachments": {},
   "cell_type": "markdown",
   "id": "db9a8fb0-5c99-4a79-9311-762216dc3ed1",
   "metadata": {},
   "source": [
    "## Traducción de los comentarios"
   ]
  },
  {
   "cell_type": "code",
   "execution_count": 16,
   "id": "fe123604-89be-423c-a937-e83484821ef4",
   "metadata": {},
   "outputs": [],
   "source": [
    "# Importar la librería transformers\n",
    "from transformers import AutoTokenizer, AutoModelForSeq2SeqLM\n",
    "\n",
    "# Cargar el tokenizador y el modelo pre-entrenados\n",
    "tokenizer = AutoTokenizer.from_pretrained(\"Helsinki-NLP/opus-mt-en-es\")\n",
    "model = AutoModelForSeq2SeqLM.from_pretrained(\"Helsinki-NLP/opus-mt-en-es\")\n",
    "\n",
    "# Crear una pipeline de traducción\n",
    "translator = pipeline(\"translation_en_to_es\", model=model, tokenizer=tokenizer, max_length=512, truncation=True, device=0)"
   ]
  },
  {
   "cell_type": "code",
   "execution_count": 17,
   "id": "4fc9cffd-adb5-4777-9de0-17dbcee8b931",
   "metadata": {},
   "outputs": [
    {
     "name": "stderr",
     "output_type": "stream",
     "text": [
      "Your input_length: 505 is bigger than 0.9 * max_length: 512. You might consider increasing your max_length manually, e.g. translator('...', max_length=400)\n",
      "Your input_length: 512 is bigger than 0.9 * max_length: 512. You might consider increasing your max_length manually, e.g. translator('...', max_length=400)\n",
      "Your input_length: 512 is bigger than 0.9 * max_length: 512. You might consider increasing your max_length manually, e.g. translator('...', max_length=400)\n",
      "Your input_length: 512 is bigger than 0.9 * max_length: 512. You might consider increasing your max_length manually, e.g. translator('...', max_length=400)\n",
      "Your input_length: 512 is bigger than 0.9 * max_length: 512. You might consider increasing your max_length manually, e.g. translator('...', max_length=400)\n",
      "Your input_length: 512 is bigger than 0.9 * max_length: 512. You might consider increasing your max_length manually, e.g. translator('...', max_length=400)\n",
      "Your input_length: 493 is bigger than 0.9 * max_length: 512. You might consider increasing your max_length manually, e.g. translator('...', max_length=400)\n",
      "Your input_length: 512 is bigger than 0.9 * max_length: 512. You might consider increasing your max_length manually, e.g. translator('...', max_length=400)\n",
      "Your input_length: 512 is bigger than 0.9 * max_length: 512. You might consider increasing your max_length manually, e.g. translator('...', max_length=400)\n",
      "Your input_length: 512 is bigger than 0.9 * max_length: 512. You might consider increasing your max_length manually, e.g. translator('...', max_length=400)\n",
      "Your input_length: 512 is bigger than 0.9 * max_length: 512. You might consider increasing your max_length manually, e.g. translator('...', max_length=400)\n",
      "Your input_length: 512 is bigger than 0.9 * max_length: 512. You might consider increasing your max_length manually, e.g. translator('...', max_length=400)\n",
      "Your input_length: 512 is bigger than 0.9 * max_length: 512. You might consider increasing your max_length manually, e.g. translator('...', max_length=400)\n",
      "Your input_length: 512 is bigger than 0.9 * max_length: 512. You might consider increasing your max_length manually, e.g. translator('...', max_length=400)\n",
      "Your input_length: 512 is bigger than 0.9 * max_length: 512. You might consider increasing your max_length manually, e.g. translator('...', max_length=400)\n",
      "Your input_length: 476 is bigger than 0.9 * max_length: 512. You might consider increasing your max_length manually, e.g. translator('...', max_length=400)\n",
      "Your input_length: 483 is bigger than 0.9 * max_length: 512. You might consider increasing your max_length manually, e.g. translator('...', max_length=400)\n",
      "Your input_length: 512 is bigger than 0.9 * max_length: 512. You might consider increasing your max_length manually, e.g. translator('...', max_length=400)\n",
      "Your input_length: 512 is bigger than 0.9 * max_length: 512. You might consider increasing your max_length manually, e.g. translator('...', max_length=400)\n",
      "Your input_length: 468 is bigger than 0.9 * max_length: 512. You might consider increasing your max_length manually, e.g. translator('...', max_length=400)\n",
      "Your input_length: 512 is bigger than 0.9 * max_length: 512. You might consider increasing your max_length manually, e.g. translator('...', max_length=400)\n",
      "Your input_length: 512 is bigger than 0.9 * max_length: 512. You might consider increasing your max_length manually, e.g. translator('...', max_length=400)\n",
      "Your input_length: 467 is bigger than 0.9 * max_length: 512. You might consider increasing your max_length manually, e.g. translator('...', max_length=400)\n",
      "Your input_length: 512 is bigger than 0.9 * max_length: 512. You might consider increasing your max_length manually, e.g. translator('...', max_length=400)\n",
      "Your input_length: 512 is bigger than 0.9 * max_length: 512. You might consider increasing your max_length manually, e.g. translator('...', max_length=400)\n",
      "Your input_length: 462 is bigger than 0.9 * max_length: 512. You might consider increasing your max_length manually, e.g. translator('...', max_length=400)\n",
      "Your input_length: 512 is bigger than 0.9 * max_length: 512. You might consider increasing your max_length manually, e.g. translator('...', max_length=400)\n",
      "Your input_length: 512 is bigger than 0.9 * max_length: 512. You might consider increasing your max_length manually, e.g. translator('...', max_length=400)\n",
      "Your input_length: 512 is bigger than 0.9 * max_length: 512. You might consider increasing your max_length manually, e.g. translator('...', max_length=400)\n",
      "Your input_length: 498 is bigger than 0.9 * max_length: 512. You might consider increasing your max_length manually, e.g. translator('...', max_length=400)\n",
      "Your input_length: 512 is bigger than 0.9 * max_length: 512. You might consider increasing your max_length manually, e.g. translator('...', max_length=400)\n",
      "Your input_length: 512 is bigger than 0.9 * max_length: 512. You might consider increasing your max_length manually, e.g. translator('...', max_length=400)\n",
      "Your input_length: 512 is bigger than 0.9 * max_length: 512. You might consider increasing your max_length manually, e.g. translator('...', max_length=400)\n",
      "Your input_length: 482 is bigger than 0.9 * max_length: 512. You might consider increasing your max_length manually, e.g. translator('...', max_length=400)\n",
      "Your input_length: 512 is bigger than 0.9 * max_length: 512. You might consider increasing your max_length manually, e.g. translator('...', max_length=400)\n",
      "Your input_length: 512 is bigger than 0.9 * max_length: 512. You might consider increasing your max_length manually, e.g. translator('...', max_length=400)\n",
      "Your input_length: 485 is bigger than 0.9 * max_length: 512. You might consider increasing your max_length manually, e.g. translator('...', max_length=400)\n",
      "Your input_length: 512 is bigger than 0.9 * max_length: 512. You might consider increasing your max_length manually, e.g. translator('...', max_length=400)\n",
      "Your input_length: 512 is bigger than 0.9 * max_length: 512. You might consider increasing your max_length manually, e.g. translator('...', max_length=400)\n",
      "Your input_length: 512 is bigger than 0.9 * max_length: 512. You might consider increasing your max_length manually, e.g. translator('...', max_length=400)\n",
      "Your input_length: 512 is bigger than 0.9 * max_length: 512. You might consider increasing your max_length manually, e.g. translator('...', max_length=400)\n",
      "Your input_length: 466 is bigger than 0.9 * max_length: 512. You might consider increasing your max_length manually, e.g. translator('...', max_length=400)\n",
      "Your input_length: 499 is bigger than 0.9 * max_length: 512. You might consider increasing your max_length manually, e.g. translator('...', max_length=400)\n",
      "Your input_length: 465 is bigger than 0.9 * max_length: 512. You might consider increasing your max_length manually, e.g. translator('...', max_length=400)\n",
      "Your input_length: 512 is bigger than 0.9 * max_length: 512. You might consider increasing your max_length manually, e.g. translator('...', max_length=400)\n",
      "Your input_length: 512 is bigger than 0.9 * max_length: 512. You might consider increasing your max_length manually, e.g. translator('...', max_length=400)\n",
      "Your input_length: 512 is bigger than 0.9 * max_length: 512. You might consider increasing your max_length manually, e.g. translator('...', max_length=400)\n",
      "Your input_length: 512 is bigger than 0.9 * max_length: 512. You might consider increasing your max_length manually, e.g. translator('...', max_length=400)\n",
      "Your input_length: 512 is bigger than 0.9 * max_length: 512. You might consider increasing your max_length manually, e.g. translator('...', max_length=400)\n",
      "Your input_length: 512 is bigger than 0.9 * max_length: 512. You might consider increasing your max_length manually, e.g. translator('...', max_length=400)\n",
      "Your input_length: 512 is bigger than 0.9 * max_length: 512. You might consider increasing your max_length manually, e.g. translator('...', max_length=400)\n",
      "Your input_length: 512 is bigger than 0.9 * max_length: 512. You might consider increasing your max_length manually, e.g. translator('...', max_length=400)\n",
      "Your input_length: 463 is bigger than 0.9 * max_length: 512. You might consider increasing your max_length manually, e.g. translator('...', max_length=400)\n",
      "Your input_length: 512 is bigger than 0.9 * max_length: 512. You might consider increasing your max_length manually, e.g. translator('...', max_length=400)\n",
      "Your input_length: 472 is bigger than 0.9 * max_length: 512. You might consider increasing your max_length manually, e.g. translator('...', max_length=400)\n",
      "Your input_length: 466 is bigger than 0.9 * max_length: 512. You might consider increasing your max_length manually, e.g. translator('...', max_length=400)\n",
      "Your input_length: 512 is bigger than 0.9 * max_length: 512. You might consider increasing your max_length manually, e.g. translator('...', max_length=400)\n",
      "Your input_length: 512 is bigger than 0.9 * max_length: 512. You might consider increasing your max_length manually, e.g. translator('...', max_length=400)\n",
      "Your input_length: 512 is bigger than 0.9 * max_length: 512. You might consider increasing your max_length manually, e.g. translator('...', max_length=400)\n",
      "Your input_length: 512 is bigger than 0.9 * max_length: 512. You might consider increasing your max_length manually, e.g. translator('...', max_length=400)\n",
      "Your input_length: 510 is bigger than 0.9 * max_length: 512. You might consider increasing your max_length manually, e.g. translator('...', max_length=400)\n",
      "Your input_length: 512 is bigger than 0.9 * max_length: 512. You might consider increasing your max_length manually, e.g. translator('...', max_length=400)\n",
      "Your input_length: 512 is bigger than 0.9 * max_length: 512. You might consider increasing your max_length manually, e.g. translator('...', max_length=400)\n",
      "Your input_length: 512 is bigger than 0.9 * max_length: 512. You might consider increasing your max_length manually, e.g. translator('...', max_length=400)\n",
      "Your input_length: 512 is bigger than 0.9 * max_length: 512. You might consider increasing your max_length manually, e.g. translator('...', max_length=400)\n",
      "Your input_length: 464 is bigger than 0.9 * max_length: 512. You might consider increasing your max_length manually, e.g. translator('...', max_length=400)\n",
      "Your input_length: 512 is bigger than 0.9 * max_length: 512. You might consider increasing your max_length manually, e.g. translator('...', max_length=400)\n",
      "Your input_length: 512 is bigger than 0.9 * max_length: 512. You might consider increasing your max_length manually, e.g. translator('...', max_length=400)\n",
      "Your input_length: 512 is bigger than 0.9 * max_length: 512. You might consider increasing your max_length manually, e.g. translator('...', max_length=400)\n",
      "Your input_length: 512 is bigger than 0.9 * max_length: 512. You might consider increasing your max_length manually, e.g. translator('...', max_length=400)\n"
     ]
    },
    {
     "name": "stdout",
     "output_type": "stream",
     "text": [
      "CPU times: total: 17min 27s\n",
      "Wall time: 18min 25s\n"
     ]
    }
   ],
   "source": [
    "%%time\n",
    "# Aplicar la pipeline a los comentarios\n",
    "traducciones = translator(reviews['review'].values.tolist(),\n",
    "                          batch_size=32)"
   ]
  },
  {
   "cell_type": "code",
   "execution_count": 18,
   "id": "9be387b3-f6e2-4c4c-8fce-2074365f27ca",
   "metadata": {},
   "outputs": [
    {
     "data": {
      "text/plain": [
       "'Compré este pensamiento que haría mi vida un poco más fácil. Mi niño le gusta encender y apagar la luz en su cuarto de baño al entrar y salir de la habitación, lo que significaba que tendría que recogerla cada vez. Sé que podía hacerlo por ella, pero quiero que aprenda cómo funcionan las cosas y que puede hacer las cosas por su cuenta. No sólo esto hizo mi vida más fácil, le encanta mostrar a los abuelos y tías cómo puede encender y apagar la luz.Leí una reseña que decía que era una pieza de plástico endeble.Quizás hicieron mejoras desde que ese crítico compró la suya, sino que mi experiencia es que estoy muy satisfecho con la construcción de la pieza.El brazo de plástico es muy rígido y cuelga (restos) a unos 3/4 de pulgada de distancia de la pared, por lo que no raspa la pared con todo el arriba y abajo.Los tornillos con las mangas que vino con un accesorio sólido en la placa de pared, y la acción es suave y consistente.'"
      ]
     },
     "execution_count": 18,
     "metadata": {},
     "output_type": "execute_result"
    }
   ],
   "source": [
    "traducciones[-1]['translation_text']"
   ]
  },
  {
   "cell_type": "code",
   "execution_count": 19,
   "id": "4396c76c-11f7-4b88-93c5-6c8dd6ba76b7",
   "metadata": {},
   "outputs": [
    {
     "data": {
      "text/plain": [
       "\"I bought this thinking it would make my life a little easier.  My toddler likes to turn the light in her bathroom on and off upon entering and leaving the room, which meant I would have to pick her up every time.  I know, I could do it for her, but I want her to learn how things work and that she can do things on her own.  Not only did this make my life easier, she loves showing grandparents and aunts how she can turn the light on and off.I read one review that said this was a real flimsy piece of plastic.  Maybe they made upgrades since that reviewer purchased theirs, but my experience is that I am very pleased with the construction of the piece.  The plastic arm is very rigid and it hangs (rests) about 3/4 of a inch away from the wall, so it doesn't scratch up the wall with all the up and down.  The screws with sleeves that it came with make for a solid attachment at the wall plate, and the action is smooth and consistent.It does glow in the dark if it has been exposed to light for a time, but the glowing properties don't last through the night.  The only thing I had to train my toddler to do was not to pull it away from the wall, but rather push up and pull down.\""
      ]
     },
     "execution_count": 19,
     "metadata": {},
     "output_type": "execute_result"
    }
   ],
   "source": [
    "reviews['review'].values[-1]"
   ]
  },
  {
   "cell_type": "code",
   "execution_count": 20,
   "id": "8362a355-c929-4cea-a4b3-66c4ec49a6d4",
   "metadata": {},
   "outputs": [
    {
     "data": {
      "text/html": [
       "<div>\n",
       "<style scoped>\n",
       "    .dataframe tbody tr th:only-of-type {\n",
       "        vertical-align: middle;\n",
       "    }\n",
       "\n",
       "    .dataframe tbody tr th {\n",
       "        vertical-align: top;\n",
       "    }\n",
       "\n",
       "    .dataframe thead th {\n",
       "        text-align: right;\n",
       "    }\n",
       "</style>\n",
       "<table border=\"1\" class=\"dataframe\">\n",
       "  <thead>\n",
       "    <tr style=\"text-align: right;\">\n",
       "      <th></th>\n",
       "      <th>review</th>\n",
       "      <th>rating</th>\n",
       "      <th>es</th>\n",
       "    </tr>\n",
       "  </thead>\n",
       "  <tbody>\n",
       "    <tr>\n",
       "      <th>1501</th>\n",
       "      <td>This toy is so amazing - my friends had raved ...</td>\n",
       "      <td>1</td>\n",
       "      <td>Este juguete es tan increíble - mis amigos hab...</td>\n",
       "    </tr>\n",
       "    <tr>\n",
       "      <th>2586</th>\n",
       "      <td>this was a great price for what i got, if you ...</td>\n",
       "      <td>1</td>\n",
       "      <td>Este fue un gran precio por lo que tengo, si v...</td>\n",
       "    </tr>\n",
       "    <tr>\n",
       "      <th>2653</th>\n",
       "      <td>I think the description is very accurate, It's...</td>\n",
       "      <td>1</td>\n",
       "      <td>Creo que la descripción es muy precisa, es gen...</td>\n",
       "    </tr>\n",
       "    <tr>\n",
       "      <th>1055</th>\n",
       "      <td>I have this car seat for a year and its still ...</td>\n",
       "      <td>1</td>\n",
       "      <td>Tengo esta silla de coche por un año y todavía...</td>\n",
       "    </tr>\n",
       "    <tr>\n",
       "      <th>705</th>\n",
       "      <td>I really like this book. You can show your bab...</td>\n",
       "      <td>1</td>\n",
       "      <td>Realmente me gusta este libro. Puedes mostrar ...</td>\n",
       "    </tr>\n",
       "  </tbody>\n",
       "</table>\n",
       "</div>"
      ],
      "text/plain": [
       "                                                 review  rating   \n",
       "1501  This toy is so amazing - my friends had raved ...       1  \\\n",
       "2586  this was a great price for what i got, if you ...       1   \n",
       "2653  I think the description is very accurate, It's...       1   \n",
       "1055  I have this car seat for a year and its still ...       1   \n",
       "705   I really like this book. You can show your bab...       1   \n",
       "\n",
       "                                                     es  \n",
       "1501  Este juguete es tan increíble - mis amigos hab...  \n",
       "2586  Este fue un gran precio por lo que tengo, si v...  \n",
       "2653  Creo que la descripción es muy precisa, es gen...  \n",
       "1055  Tengo esta silla de coche por un año y todavía...  \n",
       "705   Realmente me gusta este libro. Puedes mostrar ...  "
      ]
     },
     "execution_count": 20,
     "metadata": {},
     "output_type": "execute_result"
    }
   ],
   "source": [
    "traducciones_list = [traduccion['translation_text'] for traduccion in traducciones]\n",
    "\n",
    "reviews = reviews.assign(es=traducciones_list)\n",
    "reviews.sample(5)"
   ]
  },
  {
   "cell_type": "code",
   "execution_count": 21,
   "id": "8f401d8b-f8e7-4cbd-ab7c-3a19682e177a",
   "metadata": {},
   "outputs": [],
   "source": [
    "reviews.to_csv('reviews_es.csv', index=False)"
   ]
  },
  {
   "attachments": {},
   "cell_type": "markdown",
   "id": "3d6c26dd",
   "metadata": {},
   "source": [
    "Las traducciones son buenas en general. Lo que pudimos notar es que algunas palabras son traducidas sin tomar en cuenta el contexto completo. A pesar de esto, las traducciones conservan la idea principal en el paso del inglés al español. Los errores son mínimos y no crean confusión."
   ]
  },
  {
   "attachments": {},
   "cell_type": "markdown",
   "id": "86ea6ad5-374a-4114-b64c-fcdcd821f624",
   "metadata": {},
   "source": [
    "# 5.  Modelo Transformer “pysentimiento”, basado en BETO"
   ]
  },
  {
   "cell_type": "code",
   "execution_count": 13,
   "id": "e041ac18",
   "metadata": {},
   "outputs": [
    {
     "data": {
      "text/html": [
       "<div>\n",
       "<style scoped>\n",
       "    .dataframe tbody tr th:only-of-type {\n",
       "        vertical-align: middle;\n",
       "    }\n",
       "\n",
       "    .dataframe tbody tr th {\n",
       "        vertical-align: top;\n",
       "    }\n",
       "\n",
       "    .dataframe thead th {\n",
       "        text-align: right;\n",
       "    }\n",
       "</style>\n",
       "<table border=\"1\" class=\"dataframe\">\n",
       "  <thead>\n",
       "    <tr style=\"text-align: right;\">\n",
       "      <th></th>\n",
       "      <th>review</th>\n",
       "      <th>rating</th>\n",
       "      <th>es</th>\n",
       "    </tr>\n",
       "  </thead>\n",
       "  <tbody>\n",
       "    <tr>\n",
       "      <th>0</th>\n",
       "      <td>I think it is more Expensive than drugstore th...</td>\n",
       "      <td>0</td>\n",
       "      <td>Creo que es más caro que la farmacia que sólo ...</td>\n",
       "    </tr>\n",
       "    <tr>\n",
       "      <th>1</th>\n",
       "      <td>When I saw this on Amazon, I put it into my wi...</td>\n",
       "      <td>1</td>\n",
       "      <td>Cuando vi esto en Amazon, lo puse en mi lista ...</td>\n",
       "    </tr>\n",
       "    <tr>\n",
       "      <th>2</th>\n",
       "      <td>We really like these valances.  They have such...</td>\n",
       "      <td>1</td>\n",
       "      <td>Realmente nos gustan estos valances. Tienen pe...</td>\n",
       "    </tr>\n",
       "    <tr>\n",
       "      <th>3</th>\n",
       "      <td>No light emits from the night light. They pain...</td>\n",
       "      <td>0</td>\n",
       "      <td>No hay luz que emita de la luz nocturna. Lo pi...</td>\n",
       "    </tr>\n",
       "    <tr>\n",
       "      <th>4</th>\n",
       "      <td>I was really hoping for this to be a conventie...</td>\n",
       "      <td>0</td>\n",
       "      <td>Realmente esperaba que esto fuera un dispensad...</td>\n",
       "    </tr>\n",
       "  </tbody>\n",
       "</table>\n",
       "</div>"
      ],
      "text/plain": [
       "                                              review  rating  \\\n",
       "0  I think it is more Expensive than drugstore th...       0   \n",
       "1  When I saw this on Amazon, I put it into my wi...       1   \n",
       "2  We really like these valances.  They have such...       1   \n",
       "3  No light emits from the night light. They pain...       0   \n",
       "4  I was really hoping for this to be a conventie...       0   \n",
       "\n",
       "                                                  es  \n",
       "0  Creo que es más caro que la farmacia que sólo ...  \n",
       "1  Cuando vi esto en Amazon, lo puse en mi lista ...  \n",
       "2  Realmente nos gustan estos valances. Tienen pe...  \n",
       "3  No hay luz que emita de la luz nocturna. Lo pi...  \n",
       "4  Realmente esperaba que esto fuera un dispensad...  "
      ]
     },
     "execution_count": 13,
     "metadata": {},
     "output_type": "execute_result"
    }
   ],
   "source": [
    "reviews = pd.read_csv('reviews_es.csv', encoding='utf-8')\n",
    "reviews.head()"
   ]
  },
  {
   "cell_type": "code",
   "execution_count": 22,
   "id": "f554da99-d341-47d4-96f3-5afdf7aff126",
   "metadata": {},
   "outputs": [],
   "source": [
    "from pysentimiento import create_analyzer\n",
    "\n",
    "sentiment_classifier_es = create_analyzer(task=\"sentiment\", lang=\"es\")"
   ]
  },
  {
   "cell_type": "code",
   "execution_count": 23,
   "id": "2845c72f-dc16-4712-bc52-f9383916c97e",
   "metadata": {},
   "outputs": [
    {
     "data": {
      "application/vnd.jupyter.widget-view+json": {
       "model_id": "",
       "version_major": 2,
       "version_minor": 0
      },
      "text/plain": [
       "Map:   0%|          | 0/5000 [00:00<?, ? examples/s]"
      ]
     },
     "metadata": {},
     "output_type": "display_data"
    },
    {
     "name": "stdout",
     "output_type": "stream",
     "text": [
      "CPU times: total: 35.2 s\n",
      "Wall time: 36.3 s\n"
     ]
    }
   ],
   "source": [
    "%%time\n",
    "# Aplicar la pipeline a los comentarios\n",
    "sentimientos = sentiment_classifier_es.predict(traducciones_list)"
   ]
  },
  {
   "cell_type": "code",
   "execution_count": 24,
   "id": "40cad03f-f66f-48d5-a102-5bb42e9e2810",
   "metadata": {},
   "outputs": [
    {
     "data": {
      "text/plain": [
       "[AnalyzerOutput(output=NEU, probas={NEU: 0.516, NEG: 0.453, POS: 0.031}),\n",
       " AnalyzerOutput(output=POS, probas={POS: 0.927, NEU: 0.068, NEG: 0.004}),\n",
       " AnalyzerOutput(output=POS, probas={POS: 0.976, NEU: 0.021, NEG: 0.003}),\n",
       " AnalyzerOutput(output=NEU, probas={NEU: 0.699, NEG: 0.207, POS: 0.094}),\n",
       " AnalyzerOutput(output=NEG, probas={NEG: 0.702, NEU: 0.293, POS: 0.006}),\n",
       " AnalyzerOutput(output=POS, probas={POS: 0.975, NEU: 0.023, NEG: 0.002}),\n",
       " AnalyzerOutput(output=NEU, probas={NEU: 0.729, NEG: 0.180, POS: 0.091}),\n",
       " AnalyzerOutput(output=POS, probas={POS: 0.482, NEU: 0.468, NEG: 0.051}),\n",
       " AnalyzerOutput(output=NEG, probas={NEG: 0.799, NEU: 0.193, POS: 0.008}),\n",
       " AnalyzerOutput(output=POS, probas={POS: 0.959, NEU: 0.037, NEG: 0.004})]"
      ]
     },
     "execution_count": 24,
     "metadata": {},
     "output_type": "execute_result"
    }
   ],
   "source": [
    "sentimientos[0:10]"
   ]
  },
  {
   "cell_type": "code",
   "execution_count": 25,
   "id": "c064cbf3-f01f-4326-a257-99fc5027dffd",
   "metadata": {},
   "outputs": [
    {
     "data": {
      "text/html": [
       "<div>\n",
       "<style scoped>\n",
       "    .dataframe tbody tr th:only-of-type {\n",
       "        vertical-align: middle;\n",
       "    }\n",
       "\n",
       "    .dataframe tbody tr th {\n",
       "        vertical-align: top;\n",
       "    }\n",
       "\n",
       "    .dataframe thead th {\n",
       "        text-align: right;\n",
       "    }\n",
       "</style>\n",
       "<table border=\"1\" class=\"dataframe\">\n",
       "  <thead>\n",
       "    <tr style=\"text-align: right;\">\n",
       "      <th></th>\n",
       "      <th>review</th>\n",
       "      <th>rating</th>\n",
       "      <th>es</th>\n",
       "      <th>es_sent</th>\n",
       "    </tr>\n",
       "  </thead>\n",
       "  <tbody>\n",
       "    <tr>\n",
       "      <th>1501</th>\n",
       "      <td>This toy is so amazing - my friends had raved ...</td>\n",
       "      <td>1</td>\n",
       "      <td>Este juguete es tan increíble - mis amigos hab...</td>\n",
       "      <td>1.0</td>\n",
       "    </tr>\n",
       "    <tr>\n",
       "      <th>2586</th>\n",
       "      <td>this was a great price for what i got, if you ...</td>\n",
       "      <td>1</td>\n",
       "      <td>Este fue un gran precio por lo que tengo, si v...</td>\n",
       "      <td>1.0</td>\n",
       "    </tr>\n",
       "    <tr>\n",
       "      <th>2653</th>\n",
       "      <td>I think the description is very accurate, It's...</td>\n",
       "      <td>1</td>\n",
       "      <td>Creo que la descripción es muy precisa, es gen...</td>\n",
       "      <td>1.0</td>\n",
       "    </tr>\n",
       "    <tr>\n",
       "      <th>1055</th>\n",
       "      <td>I have this car seat for a year and its still ...</td>\n",
       "      <td>1</td>\n",
       "      <td>Tengo esta silla de coche por un año y todavía...</td>\n",
       "      <td>1.0</td>\n",
       "    </tr>\n",
       "    <tr>\n",
       "      <th>705</th>\n",
       "      <td>I really like this book. You can show your bab...</td>\n",
       "      <td>1</td>\n",
       "      <td>Realmente me gusta este libro. Puedes mostrar ...</td>\n",
       "      <td>1.0</td>\n",
       "    </tr>\n",
       "  </tbody>\n",
       "</table>\n",
       "</div>"
      ],
      "text/plain": [
       "                                                 review  rating   \n",
       "1501  This toy is so amazing - my friends had raved ...       1  \\\n",
       "2586  this was a great price for what i got, if you ...       1   \n",
       "2653  I think the description is very accurate, It's...       1   \n",
       "1055  I have this car seat for a year and its still ...       1   \n",
       "705   I really like this book. You can show your bab...       1   \n",
       "\n",
       "                                                     es  es_sent  \n",
       "1501  Este juguete es tan increíble - mis amigos hab...      1.0  \n",
       "2586  Este fue un gran precio por lo que tengo, si v...      1.0  \n",
       "2653  Creo que la descripción es muy precisa, es gen...      1.0  \n",
       "1055  Tengo esta silla de coche por un año y todavía...      1.0  \n",
       "705   Realmente me gusta este libro. Puedes mostrar ...      1.0  "
      ]
     },
     "execution_count": 25,
     "metadata": {},
     "output_type": "execute_result"
    }
   ],
   "source": [
    "# Definir el diccionario de mapeo\n",
    "label_map_es = {'POS': 1, 'NEG': 0, 'NEU':0.5}\n",
    "\n",
    "# Extraer las etiquetas predichas\n",
    "sentimientos_es_code = [label_map_es[result.output] for result in sentimientos]\n",
    "\n",
    "reviews = reviews.assign(es_sent=sentimientos_es_code)\n",
    "reviews.sample(5)"
   ]
  },
  {
   "cell_type": "code",
   "execution_count": 16,
   "id": "5f53b891-d227-4a55-9cae-8bead45883b1",
   "metadata": {},
   "outputs": [
    {
     "data": {
      "text/plain": [
       "1.0    3103\n",
       "0.5    1109\n",
       "0.0     788\n",
       "Name: es_sent, dtype: int64"
      ]
     },
     "execution_count": 16,
     "metadata": {},
     "output_type": "execute_result"
    }
   ],
   "source": [
    "reviews = pd.read_csv('reviews_es_sent.csv', encoding='utf-8')\n",
    "reviews['es_sent'].value_counts()"
   ]
  },
  {
   "cell_type": "code",
   "execution_count": 19,
   "id": "c46f9b4b",
   "metadata": {},
   "outputs": [
    {
     "data": {
      "text/plain": [
       "review      object\n",
       "rating       int64\n",
       "es          object\n",
       "es_sent    float64\n",
       "dtype: object"
      ]
     },
     "execution_count": 19,
     "metadata": {},
     "output_type": "execute_result"
    }
   ],
   "source": [
    "reviews.dtypes"
   ]
  },
  {
   "cell_type": "code",
   "execution_count": 20,
   "id": "8602190c",
   "metadata": {},
   "outputs": [],
   "source": [
    "reviews = reviews.astype({'rating': float})"
   ]
  },
  {
   "cell_type": "code",
   "execution_count": 34,
   "id": "a2fc434b",
   "metadata": {},
   "outputs": [],
   "source": [
    "reviews = reviews.loc[reviews['es_sent'] != 0.5]"
   ]
  },
  {
   "cell_type": "code",
   "execution_count": 37,
   "id": "9bf9de4e",
   "metadata": {},
   "outputs": [],
   "source": [
    "y_true = reviews['rating'].values\n",
    "y_pred = reviews['es_sent'].values"
   ]
  },
  {
   "cell_type": "code",
   "execution_count": 38,
   "id": "7bccd063",
   "metadata": {},
   "outputs": [
    {
     "name": "stdout",
     "output_type": "stream",
     "text": [
      "Accuracy: 90.75%\n"
     ]
    }
   ],
   "source": [
    "accuracy = accuracy_score(y_true, y_pred)\n",
    "print(f\"Accuracy: {(accuracy)*100:.2f}%\")"
   ]
  },
  {
   "attachments": {},
   "cell_type": "markdown",
   "id": "1d00eb8a",
   "metadata": {},
   "source": [
    "Para comparar el resultado obtenido a través del análisis de sentimiento, se tuvo que considerar exclusivamente los casos en los que la clase resultante aparecía en la etiqueta original. Es decir, para comparar si un sentimiento es positivo o negativo, se excluyó los escenarios en donde se cuenta con un resultado neutro. Tomando esto en cuenta, se tiene una exactitud (accuracy) del 90.75%, lo cual es bastante favorable."
   ]
  },
  {
   "attachments": {},
   "cell_type": "markdown",
   "id": "226232b4",
   "metadata": {},
   "source": [
    "# 6. Resumen de resultados"
   ]
  },
  {
   "attachments": {},
   "cell_type": "markdown",
   "id": "b694837e",
   "metadata": {},
   "source": [
    "| Modelo predeterminado | DistilBERT | Pysentimiento |\n",
    "| -------- | -------- | -------- |\n",
    "| 94.05%   | 91.05%   | 90.75%   |\n",
    "\n",
    "\n",
    "En la tabla anterior se muestra un resumen de los resultados obtenidos para los tres modelos utilizados. El primero de ellos consiste en el modelo Transformer Hugging Face sin ajuste de parámetros y sin reentrenamiento. El segundo consiste en el modelo entrenado exclusivamente con la data de los comentarios positivos y negativos del dataset de Amazon, En el tercer modelo, se utilizó el modelo Pysentimiento para el análisis de sentimiento. El primero de ellos tuvo una exactitud (accuracy) de 94.05%, el segundo, de 91.05%, mientras que el tercero, de 90.75%. \n",
    "\n",
    "Estas diferencias se deben grandemente a que DistilBERT se entrenó usando solamente los comentarios del dataset utilizado. Por ello, se hizo un reajuste de parámetros para conseguir la mejor iteración posible. Por otro lado, el resultado de Pysentimiento hizo uso de los resultados traducidos al español desde el inglés. Esto crea un error asociado a la traducción adicional que se debe considerar. Sin embargo, a pesar de ello, se tuvo un desempeño alto de exactitud. Esto sugiere que estos modelos son bastante robustos para su utilización en soluciones diversas, ya sea reentrenando para el caso de uso, usándolos ya entrenados, e incluso traduciendo los textos a utilizar entre distintos idiomas."
   ]
  },
  {
   "attachments": {},
   "cell_type": "markdown",
   "id": "9c51c5b8",
   "metadata": {},
   "source": []
  }
 ],
 "metadata": {
  "kernelspec": {
   "display_name": "Python 3 (ipykernel)",
   "language": "python",
   "name": "python3"
  },
  "language_info": {
   "codemirror_mode": {
    "name": "ipython",
    "version": 3
   },
   "file_extension": ".py",
   "mimetype": "text/x-python",
   "name": "python",
   "nbconvert_exporter": "python",
   "pygments_lexer": "ipython3",
   "version": "3.9.16"
  }
 },
 "nbformat": 4,
 "nbformat_minor": 5
}
