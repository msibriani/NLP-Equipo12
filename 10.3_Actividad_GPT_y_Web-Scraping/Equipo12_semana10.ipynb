{
  "cells": [
    {
      "cell_type": "markdown",
      "metadata": {
        "id": "view-in-github",
        "colab_type": "text"
      },
      "source": [
        "<a href=\"https://colab.research.google.com/github/Tecnologico-de-Monterrey-MNA/nlp-2023-Equipo-12/blob/main/10.3_Actividad_GPT_y_Web-Scraping/Equipo12_semana10.ipynb\" target=\"_parent\"><img src=\"https://colab.research.google.com/assets/colab-badge.svg\" alt=\"Open In Colab\"/></a>"
      ]
    },
    {
      "cell_type": "markdown",
      "id": "dd4c7828-0fe8-44be-9b3d-ee0c84d8a405",
      "metadata": {
        "id": "dd4c7828-0fe8-44be-9b3d-ee0c84d8a405"
      },
      "source": [
        "![image.png](data:image/png;base64,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)"
      ]
    },
    {
      "cell_type": "markdown",
      "id": "ef34cc40-6ed4-4884-84e0-b9dd3545035b",
      "metadata": {
        "id": "ef34cc40-6ed4-4884-84e0-b9dd3545035b"
      },
      "source": [
        "# **Maestría en Inteligencia Artificial Aplicada**\n",
        "## **Curso: Estrategia de implementación de servicios tecnológicos**\n",
        "### Tecnológico de Monterrey\n",
        "### Prof Luis Eduardo Falcón Morales\n",
        "\n",
        "## **10.3 Actividad**\n",
        "## Actividad en Equipos - Semanas 10:\n",
        "\n",
        "### **Transformer GPT & Web-Scraping**\n",
        "____________"
      ]
    },
    {
      "cell_type": "markdown",
      "id": "0a3ce97a-9a3d-4a53-a340-261cf496ef5a",
      "metadata": {
        "id": "0a3ce97a-9a3d-4a53-a340-261cf496ef5a"
      },
      "source": [
        "## Equipo 12\n",
        "> - Francisco Javier Parga Garcia  **A01794380**\n",
        ">\n",
        "> - Enrique Hernández García **A01793727**\n",
        ">\n",
        "> - Matthias Sibrian Illescas **A01794249**\n",
        ">\n",
        "> - Alejandro Tomás Mackey **A01164338**\n",
        ">\n",
        "> - Ignacio Valdés Reyes **A0179326**\n",
        "\n",
        "\n"
      ]
    },
    {
      "cell_type": "markdown",
      "id": "3b780922-8c29-4f9f-927e-e993eaabd609",
      "metadata": {
        "id": "3b780922-8c29-4f9f-927e-e993eaabd609"
      },
      "source": [
        "# 1. Web scraping"
      ]
    },
    {
      "cell_type": "code",
      "execution_count": null,
      "id": "9bb32374-53aa-45e7-8025-4f7777ae459d",
      "metadata": {
        "id": "9bb32374-53aa-45e7-8025-4f7777ae459d"
      },
      "outputs": [],
      "source": [
        "import time\n",
        "from selenium import webdriver\n",
        "from selenium.webdriver.common.by import By\n",
        "from selenium.common.exceptions import NoSuchElementException\n",
        "from bs4 import BeautifulSoup\n",
        "import pandas as pd\n",
        "import matplotlib.pyplot as plt"
      ]
    },
    {
      "cell_type": "code",
      "execution_count": null,
      "id": "35880948-b7fd-447f-93ca-0dd25d141120",
      "metadata": {
        "id": "35880948-b7fd-447f-93ca-0dd25d141120"
      },
      "outputs": [],
      "source": [
        "# Configurar las opciones del webdriver\n",
        "options = webdriver.ChromeOptions()\n",
        "options.add_argument('--headless')  # Ejecutar Chrome en modo sin cabeza\n",
        "\n",
        "# Establecer la ruta al ejecutable de chromedriver\n",
        "chromedriver_path = 'chromedriver'\n",
        "\n",
        "# Crear una nueva instancia del driver de Chrome\n",
        "driver = webdriver.Chrome(options=options)\n",
        "\n",
        "# Establecer la URL de la página a raspar\n",
        "url = 'https://www.tripadvisor.com.mx/Hotel_Review-g150782-d8283336-Reviews-Hilton_Garden_Inn_Monterrey_Airport-Monterrey_Northern_Mexico.html'\n",
        "\n",
        "# Cargar la página\n",
        "driver.get(url)\n",
        "\n",
        "# Esperar a que se cargue la página\n",
        "time.sleep(3)"
      ]
    },
    {
      "cell_type": "code",
      "execution_count": null,
      "id": "048ef250-f75b-4a83-9ae5-68c637862d18",
      "metadata": {
        "id": "048ef250-f75b-4a83-9ae5-68c637862d18",
        "outputId": "5862d52b-7fee-4d74-9c7d-f2156cc81355"
      },
      "outputs": [
        {
          "name": "stdout",
          "output_type": "stream",
          "text": [
            "Author Link: /Profile/A9973AEcarlosg\n",
            "Author Name: Carlos G\n",
            "Comment Text: Todo excelente, habitaciones muy comodas  y limpias, el restaurante exquisito la atención de Mario fue muy buena y a mi salida Brandon muy amable y al pendiente de mi un transporte que solicite, sin duda de mis mejores estancias en la ciudad.\n",
            "Rating: 50\n",
            "---------\n",
            "Author Link: /Profile/IMVM\n",
            "Author Name: IMVM\n",
            "Comment Text: Hotel muy limpio, personal súper amable, estacionamiento semi techado gratis hasta por seis días, room service y servicio de alimentos dentro del hotel de excelente calidad. Segunda ocasión que nos hospedamos aquí en familia para viajar temprano desde una de las terminales y superan expectativas. De vdd gracias! Además muy cerca de una tienda de conveniencia 7/11.\n",
            "Rating: 50\n",
            "---------\n",
            "Author Link: /Profile/633mariluf\n",
            "Author Name: marilu f\n",
            "Comment Text: Muy buena atención desde su recepción hasta las habitaciones, el personal atento a lo que necesitaba y en verdad la limpieza sobre sale y se agradece por que así se inicia un muy buen día una buena experiencia en atención calidad y calidez, las instalaciones muy lindas y agradables a la vista\n",
            "Rating: 50\n",
            "---------\n",
            "Author Link: /Profile/U3629SZsylviab\n",
            "Author Name: Sylvia B\n",
            "Comment Text: Excelente servicio y amabilidad de todo su personal, asi sus espacios y tranquilidad para reunirse. Me gusto mucho sus platillos de excelente sabor y presentación, lo recomiendo.  El personal nos atendió con rapidez y atentos en todo momento.\n",
            "Rating: 50\n",
            "---------\n",
            "Author Link: /Profile/gilbertojoaquina\n",
            "Author Name: gilbertojoaquina\n",
            "Comment Text: Estuve hospedada en este hotel y lo que más me sorprendió ,fue la amabilidad de todo el personal...y dedicar especial mencion a Mirna García por ser MARAVILLOSA!!! Su atención y dedicación en hacerme sentir lo más cómoda posible ,logro que mi estancia allí ,fuese única \n",
            "Rating: 50\n",
            "---------\n"
          ]
        }
      ],
      "source": [
        "# Lista para los comentarios\n",
        "comment_data = []\n",
        "\n",
        "# Obtener el código fuente de la página inicial\n",
        "page_source = driver.page_source\n",
        "#print(page_source)\n",
        "\n",
        "# Analizar el contenido HTML\n",
        "soup = BeautifulSoup(page_source, 'html.parser')\n",
        "\n",
        "# scrape de la sección de comentarios\n",
        "comments_section = soup.find_all('div', class_='YibKl MC R2 Gi z Z BB pBbQr')\n",
        "\n",
        "# Iterar sobre las secciones de comentarios y extraer la información relevante\n",
        "for comment_div in comments_section:\n",
        "    author_link = comment_div.find('a', class_='ui_header_link uyyBf')['href']\n",
        "    author_name = comment_div.find('a', class_='ui_header_link uyyBf').text\n",
        "    comment_text = comment_div.find('div', class_='fIrGe _T').text\n",
        "    rating = comment_div.find('span', class_='ui_bubble_rating')['class'][1].split('_')[1]\n",
        "\n",
        "    # Imprimir la información extraída\n",
        "    print(\"Author Link:\", author_link)\n",
        "    print(\"Author Name:\", author_name)\n",
        "    print(\"Comment Text:\", comment_text)\n",
        "    print(\"Rating:\", rating)\n",
        "    print(\"---------\")\n",
        "\n",
        "    comment_data.append({\n",
        "            'Author Link': author_link,\n",
        "            'Author Name': author_name,\n",
        "            'Comment Text': comment_text,\n",
        "            'Rating': rating\n",
        "        })"
      ]
    },
    {
      "cell_type": "code",
      "execution_count": null,
      "id": "d6c27789-aa0d-47e1-8e4f-d8ade4b0b4c4",
      "metadata": {
        "id": "d6c27789-aa0d-47e1-8e4f-d8ade4b0b4c4",
        "outputId": "47fb40b5-ecce-4c4f-94d3-199e8426d086"
      },
      "outputs": [
        {
          "name": "stdout",
          "output_type": "stream",
          "text": [
            "Author Link: /Profile/fabiolat819\n",
            "Author Name: Fabiola T\n",
            "Comment Text: Todo fue prefecto, mi estancia ideal sobre todo porque está a unos pasos del aeropuerto, la mejor, más cómoda y segura opción para estar a tiempo en mi vuelo.   Todo el staff del hotel muy amable y el servicio en el restaurante excelente siempre !  Las habitaciones perfectas para descansar :)\n",
            "Rating: 50\n",
            "---------\n",
            "Author Link: /Profile/mayramK6494YZ\n",
            "Author Name: MAYRA M\n",
            "Comment Text: La atencion excelente y el desayuno estuvo muy bueno. Muy recomendable, me gustaron las instalaciones y el trato de las personas. todos muy amables. Volvere pronto por motivos de trabajo y obviamente me hospedaria con uds. Saludos\n",
            "Rating: 50\n",
            "---------\n",
            "Author Link: /Profile/FabyJL\n",
            "Author Name: FabyJL\n",
            "Comment Text: No tienes que salir del aeropuerto a la calle para ingresar al hotel, desde adentro de la terminal hay un puente para acercarte al lobby. Hotel muy cómodo, comida agradable, sólo me tocó un caldo de pollo múuuuy salado pero lo demás muy bien. \n",
            "Rating: 50\n",
            "---------\n",
            "Author Link: /Profile/larrydE6899IM\n",
            "Author Name: Larry D\n",
            "Comment Text: Una excelente opción para hospedarse, el personal es muy agradable, el hotel muy limpio y accesible pues está  a un lado del aeropuerto, las habitaciones son muy cómodas y acogedoras. Recomendable totalmente.\n",
            "Rating: 50\n",
            "---------\n",
            "Author Link: /Profile/M4989GNjorgeg\n",
            "Author Name: Jorge G\n",
            "Comment Text: Es un hotel muy acogedor, super accesible y la atención del personal muy eficiente.  agradezco la atención, apesar de los problemas que tuve en el vuelo, mi llegada con ustedes hizo el viaje muy ameno Altamente recomendado \n",
            "Rating: 50\n",
            "---------\n",
            "Author Link: /Profile/523noem\n",
            "Author Name: Noe M\n",
            "Comment Text: Aniversario, nos hicieron una decoración de Love, muy bonito detalle, excelentes instalaciones los colchones y almohadas muy cómodas. Buena comida y buen servicio de parte del personal, amables, atentos y siempre disponibles en apoyo a lo que pudieras necesitar. Gracias por sus atenciones.\n",
            "Rating: 50\n",
            "---------\n",
            "Author Link: /Profile/B6548GEanitam\n",
            "Author Name: Anita M\n",
            "Comment Text: Lugar de 100 es decir excepcional, limpio, agradable, exelente ubicación con acceso a terminal b de manera directa, buena comida, precio elevado pero vale lo que cuesta. Mario el barman muy agradable y servicial\n",
            "Rating: 50\n",
            "---------\n",
            "Author Link: /Profile/samstay23\n",
            "Author Name: ayelenha09@gmail.com\n",
            "Comment Text: excelente servicio. desayuno muy rico y variado, el caldo tlalpeño delicioso, muy rica la comida, excelentes instalaciones, ni hablar de la limpieza del lugar, me encantó!!! cuenta con gimnasio y conexión al aeropuerto muy comodo\n",
            "Rating: 40\n",
            "---------\n",
            "Author Link: /Profile/52nellyg\n",
            "Author Name: NGh\n",
            "Comment Text: Me encanta este lugar, siempre cómodo, limpio y con buen servicio, los alimentos de buen sabor y buena variedad. Para vuelos tempraneros muy cómodo y de fácil acceso a todas las terminales ya sea caminando o bien con el servicio de shuttle. Recomendado al 100\n",
            "Rating: 50\n",
            "---------\n",
            "Author Link: /Profile/92ximenam\n",
            "Author Name: Ximena M\n",
            "Comment Text: Buen lugar, buena ubicación, gran servicio, siempre agradable visitar este lugar 10 de 10  Habitaciones limpias, cómodas y funcionales. Buena comida, todos empleados amables y sonrientes . Ofrecen buen servicio y nos hacen sentir cómodos.\n",
            "Rating: 50\n",
            "---------\n",
            "Author Link: /Profile/G8670EGedgarh\n",
            "Author Name: Edgar H\n",
            "Comment Text: Mi pareja y yo estuvimos muy a gusto en el restaurante, la hamburguesa muy rica, buena porcion, el pan delicioso y la carne de muy buena calidad, la Manger del restaurante atenta siempre al servicio. En general muy buen hotel, habitaciones limpias y agradables. \n",
            "Rating: 50\n",
            "---------\n",
            "Author Link: /Profile/ilyelens\n",
            "Author Name: Ilyelen S\n",
            "Comment Text: Hola! Recomiendo 100% el hotel, el alojamiento es acojedor, el personal del hotel son muy atentos, cuando se requiere orientación nos brindan una excelente atención.  Algo que no se pueden perder es probar los postres que ofrece el restaurante del hotel. \n",
            "Rating: 50\n",
            "---------\n",
            "Author Link: /Profile/B6690WBfernandos\n",
            "Author Name: Fernando S\n",
            "Comment Text: Hotel super cómodo, cumple con todo lo necesario para una estadía placentera, el personal muy atento desde que llega uno y apoyando para resolver cualquier duda que tengamos, los alimentos buen sabor,   sin duda regresaría\n",
            "Rating: 50\n",
            "---------\n",
            "Author Link: /Profile/135saudya\n",
            "Author Name: Saudy A\n",
            "Comment Text: Estuve una noche en el hotel y quedé totalmente satisfecho, la habitación estuvo realmente muy confortable y en el desayuno una excelente atención del personal  en general y muy rico todo  realmente disfrute mi estadía \n",
            "Rating: 50\n",
            "---------\n",
            "Author Link: /Profile/borderl2022\n",
            "Author Name: Border L\n",
            "Comment Text: Mario un excelente bar tender   Me recomendó el mezcal de margarita. No soy buen fan de mezcal pero la margarita esta excelente. Pregunten por Mario. El hotel tiene buena vibe. La localidad excelente. Comida excelente\n",
            "Rating: 50\n",
            "---------\n",
            "Author Link: /Profile/savlh2021\n",
            "Author Name: Savl H\n",
            "Comment Text: El servicio del personal es muy amable, te hace sentir en casa. La atención de los meseros es excelente y los alimentos de muy buena calidad. Un lugar confortable, muy bien ubicado e instalaciones espectaculares. \n",
            "Rating: 50\n",
            "---------\n",
            "Author Link: /Profile/K614UIalanc\n",
            "Author Name: alan c\n",
            "Comment Text: El staff de este hotel son extremadamente amables, en especial don erik, fue de mucha ayuda e hizo de nuestra estadia mas comoda y aparte nos ayudo cuando mas lo necesitabamos. los almuerzos y cenas son muy exquisitos tambien.\n",
            "Rating: 50\n",
            "---------\n",
            "Author Link: /Profile/715gumerl\n",
            "Author Name: Gumer l\n",
            "Comment Text: Buenos días. Restaurante:Excelente buffet, varios guisos muy ricos y deliciosos,  atención con calidad, las instalaciones son modernas y con excelente presentación  y limpieza. Ambiente agradable y muy recomendable para desayunar. Desde luego que volveré para degustar de los deliciosos Guisos. Felicidades a todos los que hacen posible brindar tan excelente servicio. Volveremos pronto.\n",
            "Rating: 50\n",
            "---------\n",
            "Author Link: /Profile/Roving66450511879\n",
            "Author Name: Roving66450511879\n",
            "Comment Text: Las habitaciones son excelentes para trabajar, es cómodo y agradable contar con tu propio escritorio y silla, muy práctico para quienes trabajamos en cualquier lugar a cualquier hora, ni hablar de los alimentos, desayuno, comida y cena, todo muy rico, además se puede desayunar muy temprano, en general fue una buena experiencia y sin dudarlo regresaría, gracias a todo el personal.\n",
            "Rating: 50\n",
            "---------\n",
            "Author Link: /Profile/R2195DTtaniam\n",
            "Author Name: Tania M\n",
            "Comment Text: Por un costo extra nos dejaron acceder a la habitación antes de la hr ya que mi bebé necesitaba dormir la siesta, está genial que tengan transporte a la redonda así puedes salir del hotel y conocer lugares cercanos, está entre las terminales a y b así que es muy fácil llegar a cualquier a de estas 2 terminales y nosotros que íbamos a terminal c el hotel nos ofrece el transporte para trasladarnos, el chofer Ignacio del abúrrale nos trató excelente, felicidades\n",
            "Rating: 40\n",
            "---------\n"
          ]
        }
      ],
      "source": [
        "# Encontrar el elemento del botón siguiente\n",
        "next_button = driver.find_element(By.XPATH, \"//a[contains(@class, 'ui_button nav next primary')]\")\n",
        "\n",
        "index=0\n",
        "while next_button and index<4:\n",
        "    index+=1\n",
        "    # Hacer clic en el botón siguiente\n",
        "    driver.execute_script(\"arguments[0].click();\", next_button)\n",
        "    time.sleep(3)  # Esperar a que se cargue la página, ajustar el tiempo si es necesario\n",
        "\n",
        "    # Obtener el código fuente actualizado después de hacer clic en el botón siguiente\n",
        "    page_source = driver.page_source\n",
        "\n",
        "    # Analizar el contenido HTML de la siguiente páginae\n",
        "    soup = BeautifulSoup(page_source, 'html.parser')\n",
        "\n",
        "    # scrape de la sección de comentarios\n",
        "    comments_section = soup.find_all('div', class_='YibKl MC R2 Gi z Z BB pBbQr')\n",
        "\n",
        "    # Iterar sobre las secciones de comentarios y extraer la información relevante\n",
        "    for comment_div in comments_section:\n",
        "        author_link = comment_div.find('a', class_='ui_header_link uyyBf')['href']\n",
        "        author_name = comment_div.find('a', class_='ui_header_link uyyBf').text\n",
        "        comment_text = comment_div.find('div', class_='fIrGe _T').text\n",
        "        rating = comment_div.find('span', class_='ui_bubble_rating')['class'][1].split('_')[1]\n",
        "\n",
        "        # Imprimir la información extraída\n",
        "        print(\"Author Link:\", author_link)\n",
        "        print(\"Author Name:\", author_name)\n",
        "        print(\"Comment Text:\", comment_text)\n",
        "        print(\"Rating:\", rating)\n",
        "        print(\"---------\")\n",
        "        comment_data.append({\n",
        "            'Author Link': author_link,\n",
        "            'Author Name': author_name,\n",
        "            'Comment Text': comment_text,\n",
        "            'Rating': rating\n",
        "        })\n",
        "\n",
        "    try:\n",
        "        # Encontrar el elemento del botón siguiente en la página actualizada\n",
        "        next_button = driver.find_element(By.XPATH, \"//a[contains(@class, 'ui_button nav next primary')]\")\n",
        "    except NoSuchElementException:\n",
        "        # Si no se encuentra el botón siguiente, romper el ciclo\n",
        "        break\n",
        "\n",
        "# Cerrar el driver\n",
        "driver.quit()"
      ]
    },
    {
      "cell_type": "code",
      "execution_count": null,
      "id": "d46fa675-f9dc-4b88-a908-5c50d0e1c157",
      "metadata": {
        "id": "d46fa675-f9dc-4b88-a908-5c50d0e1c157",
        "outputId": "d91875bd-7ae7-498a-f212-e6d18d6ff592"
      },
      "outputs": [
        {
          "data": {
            "text/html": [
              "<div>\n",
              "<style scoped>\n",
              "    .dataframe tbody tr th:only-of-type {\n",
              "        vertical-align: middle;\n",
              "    }\n",
              "\n",
              "    .dataframe tbody tr th {\n",
              "        vertical-align: top;\n",
              "    }\n",
              "\n",
              "    .dataframe thead th {\n",
              "        text-align: right;\n",
              "    }\n",
              "</style>\n",
              "<table border=\"1\" class=\"dataframe\">\n",
              "  <thead>\n",
              "    <tr style=\"text-align: right;\">\n",
              "      <th></th>\n",
              "      <th>Author Link</th>\n",
              "      <th>Author Name</th>\n",
              "      <th>Comment Text</th>\n",
              "      <th>Rating</th>\n",
              "    </tr>\n",
              "  </thead>\n",
              "  <tbody>\n",
              "    <tr>\n",
              "      <th>0</th>\n",
              "      <td>/Profile/A9973AEcarlosg</td>\n",
              "      <td>Carlos G</td>\n",
              "      <td>Todo excelente, habitaciones muy comodas  y li...</td>\n",
              "      <td>50</td>\n",
              "    </tr>\n",
              "    <tr>\n",
              "      <th>1</th>\n",
              "      <td>/Profile/IMVM</td>\n",
              "      <td>IMVM</td>\n",
              "      <td>Hotel muy limpio, personal súper amable, estac...</td>\n",
              "      <td>50</td>\n",
              "    </tr>\n",
              "    <tr>\n",
              "      <th>2</th>\n",
              "      <td>/Profile/633mariluf</td>\n",
              "      <td>marilu f</td>\n",
              "      <td>Muy buena atención desde su recepción hasta la...</td>\n",
              "      <td>50</td>\n",
              "    </tr>\n",
              "    <tr>\n",
              "      <th>3</th>\n",
              "      <td>/Profile/U3629SZsylviab</td>\n",
              "      <td>Sylvia B</td>\n",
              "      <td>Excelente servicio y amabilidad de todo su per...</td>\n",
              "      <td>50</td>\n",
              "    </tr>\n",
              "    <tr>\n",
              "      <th>4</th>\n",
              "      <td>/Profile/gilbertojoaquina</td>\n",
              "      <td>gilbertojoaquina</td>\n",
              "      <td>Estuve hospedada en este hotel y lo que más me...</td>\n",
              "      <td>50</td>\n",
              "    </tr>\n",
              "  </tbody>\n",
              "</table>\n",
              "</div>"
            ],
            "text/plain": [
              "                 Author Link       Author Name   \n",
              "0    /Profile/A9973AEcarlosg          Carlos G  \\\n",
              "1              /Profile/IMVM              IMVM   \n",
              "2        /Profile/633mariluf          marilu f   \n",
              "3    /Profile/U3629SZsylviab          Sylvia B   \n",
              "4  /Profile/gilbertojoaquina  gilbertojoaquina   \n",
              "\n",
              "                                        Comment Text Rating  \n",
              "0  Todo excelente, habitaciones muy comodas  y li...     50  \n",
              "1  Hotel muy limpio, personal súper amable, estac...     50  \n",
              "2  Muy buena atención desde su recepción hasta la...     50  \n",
              "3  Excelente servicio y amabilidad de todo su per...     50  \n",
              "4  Estuve hospedada en este hotel y lo que más me...     50  "
            ]
          },
          "execution_count": 5,
          "metadata": {},
          "output_type": "execute_result"
        }
      ],
      "source": [
        "df = pd.DataFrame(comment_data)\n",
        "df.to_csv(\"Comments_sample.csv\")\n",
        "\n",
        "df.head()"
      ]
    },
    {
      "cell_type": "code",
      "execution_count": null,
      "id": "98b8cd26-73e3-407b-b129-f3cd2c6ccaa4",
      "metadata": {
        "id": "98b8cd26-73e3-407b-b129-f3cd2c6ccaa4",
        "outputId": "3a6f1c6c-febb-4958-9e77-0db395af3a5e"
      },
      "outputs": [
        {
          "data": {
            "text/html": [
              "<div>\n",
              "<style scoped>\n",
              "    .dataframe tbody tr th:only-of-type {\n",
              "        vertical-align: middle;\n",
              "    }\n",
              "\n",
              "    .dataframe tbody tr th {\n",
              "        vertical-align: top;\n",
              "    }\n",
              "\n",
              "    .dataframe thead th {\n",
              "        text-align: right;\n",
              "    }\n",
              "</style>\n",
              "<table border=\"1\" class=\"dataframe\">\n",
              "  <thead>\n",
              "    <tr style=\"text-align: right;\">\n",
              "      <th></th>\n",
              "      <th>Author Link</th>\n",
              "      <th>Author Name</th>\n",
              "      <th>Comentario</th>\n",
              "      <th>Rating</th>\n",
              "    </tr>\n",
              "  </thead>\n",
              "  <tbody>\n",
              "    <tr>\n",
              "      <th>0</th>\n",
              "      <td>/Profile/A9973AEcarlosg</td>\n",
              "      <td>Carlos G</td>\n",
              "      <td>Todo excelente, habitaciones muy comodas  y li...</td>\n",
              "      <td>50</td>\n",
              "    </tr>\n",
              "    <tr>\n",
              "      <th>1</th>\n",
              "      <td>/Profile/IMVM</td>\n",
              "      <td>IMVM</td>\n",
              "      <td>Hotel muy limpio, personal súper amable, estac...</td>\n",
              "      <td>50</td>\n",
              "    </tr>\n",
              "    <tr>\n",
              "      <th>2</th>\n",
              "      <td>/Profile/633mariluf</td>\n",
              "      <td>marilu f</td>\n",
              "      <td>Muy buena atención desde su recepción hasta la...</td>\n",
              "      <td>50</td>\n",
              "    </tr>\n",
              "    <tr>\n",
              "      <th>3</th>\n",
              "      <td>/Profile/U3629SZsylviab</td>\n",
              "      <td>Sylvia B</td>\n",
              "      <td>Excelente servicio y amabilidad de todo su per...</td>\n",
              "      <td>50</td>\n",
              "    </tr>\n",
              "    <tr>\n",
              "      <th>4</th>\n",
              "      <td>/Profile/gilbertojoaquina</td>\n",
              "      <td>gilbertojoaquina</td>\n",
              "      <td>Estuve hospedada en este hotel y lo que más me...</td>\n",
              "      <td>50</td>\n",
              "    </tr>\n",
              "  </tbody>\n",
              "</table>\n",
              "</div>"
            ],
            "text/plain": [
              "                 Author Link       Author Name   \n",
              "0    /Profile/A9973AEcarlosg          Carlos G  \\\n",
              "1              /Profile/IMVM              IMVM   \n",
              "2        /Profile/633mariluf          marilu f   \n",
              "3    /Profile/U3629SZsylviab          Sylvia B   \n",
              "4  /Profile/gilbertojoaquina  gilbertojoaquina   \n",
              "\n",
              "                                          Comentario  Rating  \n",
              "0  Todo excelente, habitaciones muy comodas  y li...      50  \n",
              "1  Hotel muy limpio, personal súper amable, estac...      50  \n",
              "2  Muy buena atención desde su recepción hasta la...      50  \n",
              "3  Excelente servicio y amabilidad de todo su per...      50  \n",
              "4  Estuve hospedada en este hotel y lo que más me...      50  "
            ]
          },
          "execution_count": 6,
          "metadata": {},
          "output_type": "execute_result"
        }
      ],
      "source": [
        "comentarios = pd.read_csv('Comments.csv', encoding='utf-8', index_col=0)\n",
        "comentarios = comentarios.rename(columns={\"Comment Text\": \"Comentario\"})\n",
        "comentarios.head()"
      ]
    },
    {
      "cell_type": "code",
      "execution_count": null,
      "id": "e862bedd-6233-4333-a947-f1ad1d01ee38",
      "metadata": {
        "id": "e862bedd-6233-4333-a947-f1ad1d01ee38",
        "outputId": "b0696d45-8f8e-4cfe-c501-d4d59de21568"
      },
      "outputs": [
        {
          "name": "stdout",
          "output_type": "stream",
          "text": [
            "<class 'pandas.core.frame.DataFrame'>\n",
            "Index: 335 entries, 0 to 334\n",
            "Data columns (total 4 columns):\n",
            " #   Column       Non-Null Count  Dtype \n",
            "---  ------       --------------  ----- \n",
            " 0   Author Link  335 non-null    object\n",
            " 1   Author Name  335 non-null    object\n",
            " 2   Comentario   335 non-null    object\n",
            " 3   Rating       335 non-null    int64 \n",
            "dtypes: int64(1), object(3)\n",
            "memory usage: 13.1+ KB\n"
          ]
        }
      ],
      "source": [
        "comentarios.info()"
      ]
    },
    {
      "cell_type": "code",
      "execution_count": null,
      "id": "1fa33019-0742-4862-9e65-eb8a748b7629",
      "metadata": {
        "id": "1fa33019-0742-4862-9e65-eb8a748b7629",
        "outputId": "cbeab339-b4db-4894-ae24-e10df9740c66"
      },
      "outputs": [
        {
          "data": {
            "image/png": "[encoded data removed]",
            "text/plain": [
              "<Figure size 640x480 with 1 Axes>"
            ]
          },
          "metadata": {},
          "output_type": "display_data"
        }
      ],
      "source": [
        "plt.hist(comentarios[\"Rating\"], bins=[5, 15, 25, 35, 45, 55], rwidth=.5)\n",
        "\n",
        "plt.show()"
      ]
    },
    {
      "cell_type": "code",
      "execution_count": null,
      "id": "8c4fc0be-e07a-4300-9a24-def814a67774",
      "metadata": {
        "id": "8c4fc0be-e07a-4300-9a24-def814a67774",
        "outputId": "009c3372-233f-402c-d0a7-e6226e9d6b31"
      },
      "outputs": [
        {
          "data": {
            "text/plain": [
              "Rating\n",
              "50    212\n",
              "40     72\n",
              "20     18\n",
              "30     18\n",
              "10     15\n",
              "Name: count, dtype: int64"
            ]
          },
          "execution_count": 9,
          "metadata": {},
          "output_type": "execute_result"
        }
      ],
      "source": [
        "comentarios[\"Rating\"].value_counts()"
      ]
    },
    {
      "cell_type": "code",
      "execution_count": null,
      "id": "95f72844-665a-48d1-bc4a-286fa37c586f",
      "metadata": {
        "id": "95f72844-665a-48d1-bc4a-286fa37c586f",
        "outputId": "35e19abc-6880-4ee2-8b68-9e79ab7b7e6a"
      },
      "outputs": [
        {
          "data": {
            "image/png": "[encoded data removed]",
            "text/plain": [
              "<Figure size 640x480 with 1 Axes>"
            ]
          },
          "metadata": {},
          "output_type": "display_data"
        }
      ],
      "source": [
        "plt.hist(comentarios[\"Comentario\"].str.len(), bins=23) # You can change the number of bins as you like\n",
        "plt.xlabel(\"Longitud\")\n",
        "plt.ylabel(\"Frecuencia\")\n",
        "plt.show()"
      ]
    },
    {
      "cell_type": "markdown",
      "id": "f58cf400",
      "metadata": {
        "id": "f58cf400"
      },
      "source": [
        "### Indica la cantidad de comentarios y sus calificaciones que extrajiste.\n",
        "Se extrajo 335 comentarios en total. De ellos, se tuvo 212 con un puntaje de 50, 72 en 40, 18 en 30, 18 en 20 y 15 en 10, la puntuación más baja. Asimismo, se incluye un histograma para visualizar la longitud de los comentarios. La distribución está principalmente concentrada bajo la marca de 500 palabras, con un grupo considerable muy cercano a 800."
      ]
    },
    {
      "cell_type": "markdown",
      "id": "fb4d94f9-246b-473e-ac7a-6f6ae15f5c10",
      "metadata": {
        "id": "fb4d94f9-246b-473e-ac7a-6f6ae15f5c10"
      },
      "source": [
        "# 2. Convertir a problema binario"
      ]
    },
    {
      "cell_type": "code",
      "execution_count": null,
      "id": "f532ef9a-30a8-447f-98a4-ae9acc94e560",
      "metadata": {
        "id": "f532ef9a-30a8-447f-98a4-ae9acc94e560",
        "outputId": "b70258e1-cc02-4ab5-e604-da2ee954241c"
      },
      "outputs": [
        {
          "name": "stdout",
          "output_type": "stream",
          "text": [
            "Desbalanceo original:\n",
            "Rating\n",
            "1    0.847761\n",
            "0    0.152239\n",
            "Name: proportion, dtype: float64\n"
          ]
        }
      ],
      "source": [
        "comentarios[\"Rating\"] = comentarios[\"Rating\"].apply(lambda x: 0 if x < 40 else 1)\n",
        "\n",
        "# Calcular el desbalanceo original de las clases\n",
        "original_balance = comentarios[\"Rating\"].value_counts(normalize=True)\n",
        "print(f\"Desbalanceo original:\\n{original_balance}\")"
      ]
    },
    {
      "cell_type": "markdown",
      "id": "019dc905",
      "metadata": {
        "id": "019dc905"
      },
      "source": [
        "### En particular indica cómo considerarás las calificaciones entre 3 y 4, como 3.5, por ejemplo. Justifica la decisión tomada.\n",
        "Para binarizar el rating, se colocó como regla de comentario positivo solamente los casos mayores a 40. Esto se hizo así porque se considera que hasta un 4 ya representa una experiencia positiva para los clientes."
      ]
    },
    {
      "cell_type": "code",
      "execution_count": null,
      "id": "93d0ddad-c631-4c5e-9bb0-7ae0bff35d8b",
      "metadata": {
        "id": "93d0ddad-c631-4c5e-9bb0-7ae0bff35d8b",
        "outputId": "486d2237-203d-4390-a661-6f24d9c12c27"
      },
      "outputs": [
        {
          "data": {
            "text/plain": [
              "Rating\n",
              "1    284\n",
              "0     51\n",
              "Name: count, dtype: int64"
            ]
          },
          "execution_count": 12,
          "metadata": {},
          "output_type": "execute_result"
        }
      ],
      "source": [
        "comentarios[\"Rating\"].value_counts(normalize=False)"
      ]
    },
    {
      "cell_type": "markdown",
      "id": "2208f4a3",
      "metadata": {
        "id": "2208f4a3"
      },
      "source": [
        "### Indica la proporción de comentarios positivos y negativos que tienes ahora.\n",
        "Ahora, la proporción quedó como 284 comentarios positivos, y 51 comentarios negativos."
      ]
    },
    {
      "cell_type": "markdown",
      "id": "6f04a9c1-18a9-46b6-abd6-c848f48414dd",
      "metadata": {
        "id": "6f04a9c1-18a9-46b6-abd6-c848f48414dd"
      },
      "source": [
        "# 3. Generador de texto en español"
      ]
    },
    {
      "cell_type": "code",
      "execution_count": null,
      "id": "9e93189b-afd1-447b-a19f-17f6647fd24f",
      "metadata": {
        "id": "9e93189b-afd1-447b-a19f-17f6647fd24f"
      },
      "outputs": [],
      "source": [
        "import random\n",
        "from tqdm.notebook import tqdm\n",
        "from transformers import AutoTokenizer, AutoModelForCausalLM"
      ]
    },
    {
      "cell_type": "code",
      "execution_count": null,
      "id": "921c739d-bd30-48ae-86da-23a864c2bfbf",
      "metadata": {
        "id": "921c739d-bd30-48ae-86da-23a864c2bfbf",
        "outputId": "e8bffcdc-07fa-4231-dc89-c717359081d0"
      },
      "outputs": [
        {
          "name": "stderr",
          "output_type": "stream",
          "text": [
            "Special tokens have been added in the vocabulary, make sure the associated word embeddings are fine-tuned or trained.\n",
            "Special tokens have been added in the vocabulary, make sure the associated word embeddings are fine-tuned or trained.\n"
          ]
        }
      ],
      "source": [
        "# Cargar el modelo y el tokenizer\n",
        "model = AutoModelForCausalLM.from_pretrained(\"datificate/gpt2-small-spanish\")\n",
        "tokenizer = AutoTokenizer.from_pretrained(\"datificate/gpt2-small-spanish\", pad_token=\"<|pad|>\")"
      ]
    },
    {
      "cell_type": "markdown",
      "id": "0beca3bd",
      "metadata": {
        "id": "0beca3bd"
      },
      "source": [
        "### ¿Vas a generar solo datos de la clase negativa minoritaria o de ambas clases? ¿Por qué?\n",
        "Se generará datos artificiales de ambas clases, no solo de la minoritaria, con el fin de evitar que el set de entrenamiento se aleje mucho del desbalance que presentan los datos en realidad. Dado que se quiere incrementar las observaciones de la data minoritaria en gran número, y que sí existirá una mayor proporción de esta en relación a la clase mayoritaria, se optará por realizar generación de observaciones para ambas.\n",
        "\n",
        "En resumen, la generación de datos artificiales para ambas clases ayuda a mantener un equilibrio relativo entre las clases, evitando que el conjunto de entrenamiento se sesgue demasiado hacia una clase en particular. [1]\n",
        "\n",
        "[1] Brownlee, J. (2020). 8 Tactics to Combat Imbalanced Classes in Your Machine Learning Dataset. MachineLearningMastery.com. https://machinelearningmastery.com/tactics-to-combat-imbalanced-classes-in-your-machine-learning-dataset/"
      ]
    },
    {
      "cell_type": "markdown",
      "id": "ac47c07e",
      "metadata": {
        "id": "ac47c07e"
      },
      "source": [
        "### ¿Qué porcentaje de nuevo balanceo de clases vas a generar? ¿Por qué?\n",
        "Se llevará la proporción de clases a 70% (clase mayoritaria) y 30% (clase minoritaria). Esto porque no se quiere que la data de entrenamiento se aleje tanto del desbalance que existe en el fenómeno real y que existirá en la data a clasificar."
      ]
    },
    {
      "cell_type": "code",
      "execution_count": null,
      "id": "4ec7ec15-0f47-4f3e-8527-e1e1224c5bc0",
      "metadata": {
        "id": "4ec7ec15-0f47-4f3e-8527-e1e1224c5bc0"
      },
      "outputs": [],
      "source": [
        "# Separar los comentarios por clase\n",
        "positivos = comentarios[comentarios[\"Rating\"] == 1][\"Comentario\"].tolist()\n",
        "negativos = comentarios[comentarios[\"Rating\"] == 0][\"Comentario\"].tolist()\n",
        "\n",
        "# Calcular el número de datos sintéticos a generar por clase\n",
        "# En este caso, se genera el 35% de datos sintéticos de clase negativa y 10% de positiva\n",
        "n_positivos = int(len(positivos) * 0.1)\n",
        "n_negativos = int(len(negativos) * 3)"
      ]
    },
    {
      "cell_type": "code",
      "execution_count": null,
      "id": "d5ce1e99-647f-4095-b840-5c0c0c1e0024",
      "metadata": {
        "colab": {
          "referenced_widgets": [
            "1bb02f309c004ad699e0e27955336dd9",
            "11d9eea76fbf4583a2073990703abe13"
          ]
        },
        "id": "d5ce1e99-647f-4095-b840-5c0c0c1e0024",
        "outputId": "939632a2-4eb8-4dbc-b5f6-fa844ae64d33"
      },
      "outputs": [
        {
          "data": {
            "application/vnd.jupyter.widget-view+json": {
              "model_id": "1bb02f309c004ad699e0e27955336dd9",
              "version_major": 2,
              "version_minor": 0
            },
            "text/plain": [
              "  0%|          | 0/28 [00:00<?, ?it/s]"
            ]
          },
          "metadata": {},
          "output_type": "display_data"
        },
        {
          "name": "stderr",
          "output_type": "stream",
          "text": [
            "Setting `pad_token_id` to `eos_token_id`:50256 for open-end generation.\n",
            "Setting `pad_token_id` to `eos_token_id`:50256 for open-end generation.\n",
            "Setting `pad_token_id` to `eos_token_id`:50256 for open-end generation.\n",
            "Setting `pad_token_id` to `eos_token_id`:50256 for open-end generation.\n",
            "Setting `pad_token_id` to `eos_token_id`:50256 for open-end generation.\n",
            "Setting `pad_token_id` to `eos_token_id`:50256 for open-end generation.\n",
            "Setting `pad_token_id` to `eos_token_id`:50256 for open-end generation.\n",
            "Setting `pad_token_id` to `eos_token_id`:50256 for open-end generation.\n",
            "Setting `pad_token_id` to `eos_token_id`:50256 for open-end generation.\n",
            "Setting `pad_token_id` to `eos_token_id`:50256 for open-end generation.\n",
            "Setting `pad_token_id` to `eos_token_id`:50256 for open-end generation.\n",
            "Setting `pad_token_id` to `eos_token_id`:50256 for open-end generation.\n",
            "Setting `pad_token_id` to `eos_token_id`:50256 for open-end generation.\n",
            "Setting `pad_token_id` to `eos_token_id`:50256 for open-end generation.\n",
            "Setting `pad_token_id` to `eos_token_id`:50256 for open-end generation.\n",
            "Setting `pad_token_id` to `eos_token_id`:50256 for open-end generation.\n",
            "Setting `pad_token_id` to `eos_token_id`:50256 for open-end generation.\n",
            "Setting `pad_token_id` to `eos_token_id`:50256 for open-end generation.\n",
            "Setting `pad_token_id` to `eos_token_id`:50256 for open-end generation.\n",
            "Setting `pad_token_id` to `eos_token_id`:50256 for open-end generation.\n",
            "Setting `pad_token_id` to `eos_token_id`:50256 for open-end generation.\n",
            "Setting `pad_token_id` to `eos_token_id`:50256 for open-end generation.\n",
            "Setting `pad_token_id` to `eos_token_id`:50256 for open-end generation.\n",
            "Setting `pad_token_id` to `eos_token_id`:50256 for open-end generation.\n",
            "Setting `pad_token_id` to `eos_token_id`:50256 for open-end generation.\n",
            "Setting `pad_token_id` to `eos_token_id`:50256 for open-end generation.\n",
            "Setting `pad_token_id` to `eos_token_id`:50256 for open-end generation.\n",
            "Setting `pad_token_id` to `eos_token_id`:50256 for open-end generation.\n"
          ]
        },
        {
          "data": {
            "application/vnd.jupyter.widget-view+json": {
              "model_id": "11d9eea76fbf4583a2073990703abe13",
              "version_major": 2,
              "version_minor": 0
            },
            "text/plain": [
              "  0%|          | 0/153 [00:00<?, ?it/s]"
            ]
          },
          "metadata": {},
          "output_type": "display_data"
        },
        {
          "name": "stderr",
          "output_type": "stream",
          "text": [
            "Setting `pad_token_id` to `eos_token_id`:50256 for open-end generation.\n",
            "Setting `pad_token_id` to `eos_token_id`:50256 for open-end generation.\n",
            "Setting `pad_token_id` to `eos_token_id`:50256 for open-end generation.\n",
            "Setting `pad_token_id` to `eos_token_id`:50256 for open-end generation.\n",
            "Setting `pad_token_id` to `eos_token_id`:50256 for open-end generation.\n",
            "Setting `pad_token_id` to `eos_token_id`:50256 for open-end generation.\n",
            "Setting `pad_token_id` to `eos_token_id`:50256 for open-end generation.\n",
            "Setting `pad_token_id` to `eos_token_id`:50256 for open-end generation.\n",
            "Setting `pad_token_id` to `eos_token_id`:50256 for open-end generation.\n",
            "Setting `pad_token_id` to `eos_token_id`:50256 for open-end generation.\n",
            "Setting `pad_token_id` to `eos_token_id`:50256 for open-end generation.\n",
            "Setting `pad_token_id` to `eos_token_id`:50256 for open-end generation.\n",
            "Setting `pad_token_id` to `eos_token_id`:50256 for open-end generation.\n",
            "Setting `pad_token_id` to `eos_token_id`:50256 for open-end generation.\n",
            "Setting `pad_token_id` to `eos_token_id`:50256 for open-end generation.\n",
            "Setting `pad_token_id` to `eos_token_id`:50256 for open-end generation.\n",
            "Setting `pad_token_id` to `eos_token_id`:50256 for open-end generation.\n",
            "Setting `pad_token_id` to `eos_token_id`:50256 for open-end generation.\n",
            "Setting `pad_token_id` to `eos_token_id`:50256 for open-end generation.\n",
            "Setting `pad_token_id` to `eos_token_id`:50256 for open-end generation.\n",
            "Setting `pad_token_id` to `eos_token_id`:50256 for open-end generation.\n",
            "Setting `pad_token_id` to `eos_token_id`:50256 for open-end generation.\n",
            "Setting `pad_token_id` to `eos_token_id`:50256 for open-end generation.\n",
            "Setting `pad_token_id` to `eos_token_id`:50256 for open-end generation.\n",
            "Setting `pad_token_id` to `eos_token_id`:50256 for open-end generation.\n",
            "Setting `pad_token_id` to `eos_token_id`:50256 for open-end generation.\n",
            "Setting `pad_token_id` to `eos_token_id`:50256 for open-end generation.\n",
            "Setting `pad_token_id` to `eos_token_id`:50256 for open-end generation.\n",
            "Setting `pad_token_id` to `eos_token_id`:50256 for open-end generation.\n",
            "Setting `pad_token_id` to `eos_token_id`:50256 for open-end generation.\n",
            "Setting `pad_token_id` to `eos_token_id`:50256 for open-end generation.\n",
            "Setting `pad_token_id` to `eos_token_id`:50256 for open-end generation.\n",
            "Setting `pad_token_id` to `eos_token_id`:50256 for open-end generation.\n",
            "Setting `pad_token_id` to `eos_token_id`:50256 for open-end generation.\n",
            "Setting `pad_token_id` to `eos_token_id`:50256 for open-end generation.\n",
            "Setting `pad_token_id` to `eos_token_id`:50256 for open-end generation.\n",
            "Setting `pad_token_id` to `eos_token_id`:50256 for open-end generation.\n",
            "Setting `pad_token_id` to `eos_token_id`:50256 for open-end generation.\n",
            "Setting `pad_token_id` to `eos_token_id`:50256 for open-end generation.\n",
            "Setting `pad_token_id` to `eos_token_id`:50256 for open-end generation.\n",
            "Setting `pad_token_id` to `eos_token_id`:50256 for open-end generation.\n",
            "Setting `pad_token_id` to `eos_token_id`:50256 for open-end generation.\n",
            "Setting `pad_token_id` to `eos_token_id`:50256 for open-end generation.\n",
            "Setting `pad_token_id` to `eos_token_id`:50256 for open-end generation.\n",
            "Setting `pad_token_id` to `eos_token_id`:50256 for open-end generation.\n",
            "Setting `pad_token_id` to `eos_token_id`:50256 for open-end generation.\n",
            "Setting `pad_token_id` to `eos_token_id`:50256 for open-end generation.\n",
            "Setting `pad_token_id` to `eos_token_id`:50256 for open-end generation.\n",
            "Setting `pad_token_id` to `eos_token_id`:50256 for open-end generation.\n",
            "Setting `pad_token_id` to `eos_token_id`:50256 for open-end generation.\n",
            "Setting `pad_token_id` to `eos_token_id`:50256 for open-end generation.\n",
            "Setting `pad_token_id` to `eos_token_id`:50256 for open-end generation.\n",
            "Setting `pad_token_id` to `eos_token_id`:50256 for open-end generation.\n",
            "Setting `pad_token_id` to `eos_token_id`:50256 for open-end generation.\n",
            "Setting `pad_token_id` to `eos_token_id`:50256 for open-end generation.\n",
            "Setting `pad_token_id` to `eos_token_id`:50256 for open-end generation.\n",
            "Setting `pad_token_id` to `eos_token_id`:50256 for open-end generation.\n",
            "Setting `pad_token_id` to `eos_token_id`:50256 for open-end generation.\n",
            "Setting `pad_token_id` to `eos_token_id`:50256 for open-end generation.\n",
            "Setting `pad_token_id` to `eos_token_id`:50256 for open-end generation.\n",
            "Setting `pad_token_id` to `eos_token_id`:50256 for open-end generation.\n",
            "Setting `pad_token_id` to `eos_token_id`:50256 for open-end generation.\n",
            "Setting `pad_token_id` to `eos_token_id`:50256 for open-end generation.\n",
            "Setting `pad_token_id` to `eos_token_id`:50256 for open-end generation.\n",
            "Setting `pad_token_id` to `eos_token_id`:50256 for open-end generation.\n",
            "Setting `pad_token_id` to `eos_token_id`:50256 for open-end generation.\n",
            "Setting `pad_token_id` to `eos_token_id`:50256 for open-end generation.\n",
            "Setting `pad_token_id` to `eos_token_id`:50256 for open-end generation.\n",
            "Setting `pad_token_id` to `eos_token_id`:50256 for open-end generation.\n",
            "Setting `pad_token_id` to `eos_token_id`:50256 for open-end generation.\n",
            "Setting `pad_token_id` to `eos_token_id`:50256 for open-end generation.\n",
            "Setting `pad_token_id` to `eos_token_id`:50256 for open-end generation.\n",
            "Setting `pad_token_id` to `eos_token_id`:50256 for open-end generation.\n",
            "Setting `pad_token_id` to `eos_token_id`:50256 for open-end generation.\n",
            "Setting `pad_token_id` to `eos_token_id`:50256 for open-end generation.\n",
            "Setting `pad_token_id` to `eos_token_id`:50256 for open-end generation.\n",
            "Setting `pad_token_id` to `eos_token_id`:50256 for open-end generation.\n",
            "Setting `pad_token_id` to `eos_token_id`:50256 for open-end generation.\n",
            "Setting `pad_token_id` to `eos_token_id`:50256 for open-end generation.\n",
            "Setting `pad_token_id` to `eos_token_id`:50256 for open-end generation.\n",
            "Setting `pad_token_id` to `eos_token_id`:50256 for open-end generation.\n",
            "Setting `pad_token_id` to `eos_token_id`:50256 for open-end generation.\n",
            "Setting `pad_token_id` to `eos_token_id`:50256 for open-end generation.\n",
            "Setting `pad_token_id` to `eos_token_id`:50256 for open-end generation.\n",
            "Setting `pad_token_id` to `eos_token_id`:50256 for open-end generation.\n",
            "Setting `pad_token_id` to `eos_token_id`:50256 for open-end generation.\n",
            "Setting `pad_token_id` to `eos_token_id`:50256 for open-end generation.\n",
            "Setting `pad_token_id` to `eos_token_id`:50256 for open-end generation.\n",
            "Setting `pad_token_id` to `eos_token_id`:50256 for open-end generation.\n",
            "Setting `pad_token_id` to `eos_token_id`:50256 for open-end generation.\n",
            "Setting `pad_token_id` to `eos_token_id`:50256 for open-end generation.\n",
            "Setting `pad_token_id` to `eos_token_id`:50256 for open-end generation.\n",
            "Setting `pad_token_id` to `eos_token_id`:50256 for open-end generation.\n",
            "Setting `pad_token_id` to `eos_token_id`:50256 for open-end generation.\n",
            "Setting `pad_token_id` to `eos_token_id`:50256 for open-end generation.\n",
            "Setting `pad_token_id` to `eos_token_id`:50256 for open-end generation.\n",
            "Setting `pad_token_id` to `eos_token_id`:50256 for open-end generation.\n",
            "Setting `pad_token_id` to `eos_token_id`:50256 for open-end generation.\n",
            "Setting `pad_token_id` to `eos_token_id`:50256 for open-end generation.\n",
            "Setting `pad_token_id` to `eos_token_id`:50256 for open-end generation.\n",
            "Setting `pad_token_id` to `eos_token_id`:50256 for open-end generation.\n",
            "Setting `pad_token_id` to `eos_token_id`:50256 for open-end generation.\n",
            "Setting `pad_token_id` to `eos_token_id`:50256 for open-end generation.\n",
            "Setting `pad_token_id` to `eos_token_id`:50256 for open-end generation.\n",
            "Setting `pad_token_id` to `eos_token_id`:50256 for open-end generation.\n",
            "Setting `pad_token_id` to `eos_token_id`:50256 for open-end generation.\n",
            "Setting `pad_token_id` to `eos_token_id`:50256 for open-end generation.\n",
            "Setting `pad_token_id` to `eos_token_id`:50256 for open-end generation.\n",
            "Setting `pad_token_id` to `eos_token_id`:50256 for open-end generation.\n",
            "Setting `pad_token_id` to `eos_token_id`:50256 for open-end generation.\n",
            "Setting `pad_token_id` to `eos_token_id`:50256 for open-end generation.\n",
            "Setting `pad_token_id` to `eos_token_id`:50256 for open-end generation.\n",
            "Setting `pad_token_id` to `eos_token_id`:50256 for open-end generation.\n",
            "Setting `pad_token_id` to `eos_token_id`:50256 for open-end generation.\n",
            "Setting `pad_token_id` to `eos_token_id`:50256 for open-end generation.\n",
            "Setting `pad_token_id` to `eos_token_id`:50256 for open-end generation.\n",
            "Setting `pad_token_id` to `eos_token_id`:50256 for open-end generation.\n",
            "Setting `pad_token_id` to `eos_token_id`:50256 for open-end generation.\n",
            "Setting `pad_token_id` to `eos_token_id`:50256 for open-end generation.\n",
            "Setting `pad_token_id` to `eos_token_id`:50256 for open-end generation.\n",
            "Setting `pad_token_id` to `eos_token_id`:50256 for open-end generation.\n",
            "Setting `pad_token_id` to `eos_token_id`:50256 for open-end generation.\n",
            "Setting `pad_token_id` to `eos_token_id`:50256 for open-end generation.\n",
            "Setting `pad_token_id` to `eos_token_id`:50256 for open-end generation.\n",
            "Setting `pad_token_id` to `eos_token_id`:50256 for open-end generation.\n",
            "Setting `pad_token_id` to `eos_token_id`:50256 for open-end generation.\n",
            "Setting `pad_token_id` to `eos_token_id`:50256 for open-end generation.\n",
            "Setting `pad_token_id` to `eos_token_id`:50256 for open-end generation.\n",
            "Setting `pad_token_id` to `eos_token_id`:50256 for open-end generation.\n",
            "Setting `pad_token_id` to `eos_token_id`:50256 for open-end generation.\n",
            "Setting `pad_token_id` to `eos_token_id`:50256 for open-end generation.\n",
            "Setting `pad_token_id` to `eos_token_id`:50256 for open-end generation.\n",
            "Setting `pad_token_id` to `eos_token_id`:50256 for open-end generation.\n",
            "Setting `pad_token_id` to `eos_token_id`:50256 for open-end generation.\n",
            "Setting `pad_token_id` to `eos_token_id`:50256 for open-end generation.\n",
            "Setting `pad_token_id` to `eos_token_id`:50256 for open-end generation.\n",
            "Setting `pad_token_id` to `eos_token_id`:50256 for open-end generation.\n",
            "Setting `pad_token_id` to `eos_token_id`:50256 for open-end generation.\n",
            "Setting `pad_token_id` to `eos_token_id`:50256 for open-end generation.\n",
            "Setting `pad_token_id` to `eos_token_id`:50256 for open-end generation.\n",
            "Setting `pad_token_id` to `eos_token_id`:50256 for open-end generation.\n",
            "Setting `pad_token_id` to `eos_token_id`:50256 for open-end generation.\n",
            "Setting `pad_token_id` to `eos_token_id`:50256 for open-end generation.\n",
            "Setting `pad_token_id` to `eos_token_id`:50256 for open-end generation.\n",
            "Setting `pad_token_id` to `eos_token_id`:50256 for open-end generation.\n",
            "Setting `pad_token_id` to `eos_token_id`:50256 for open-end generation.\n",
            "Setting `pad_token_id` to `eos_token_id`:50256 for open-end generation.\n",
            "Setting `pad_token_id` to `eos_token_id`:50256 for open-end generation.\n",
            "Setting `pad_token_id` to `eos_token_id`:50256 for open-end generation.\n",
            "Setting `pad_token_id` to `eos_token_id`:50256 for open-end generation.\n",
            "Setting `pad_token_id` to `eos_token_id`:50256 for open-end generation.\n",
            "Setting `pad_token_id` to `eos_token_id`:50256 for open-end generation.\n",
            "Setting `pad_token_id` to `eos_token_id`:50256 for open-end generation.\n"
          ]
        }
      ],
      "source": [
        "# Generar los datos sintéticos usando el modelo\n",
        "# Se usa un comentario real como prefijo y se completa con el modelo\n",
        "# Se usa una temperatura de 0.8 para controlar la aleatoriedad de la generación\n",
        "positivos_sinteticos = []\n",
        "negativos_sinteticos = []\n",
        "\n",
        "for i in tqdm(range(n_positivos)):\n",
        "    # Elegir un comentario positivo al azar como prefijo\n",
        "    prefijo = random.choice(positivos)\n",
        "    # Codificar el prefijo con el tokenizer\n",
        "    input_ids = tokenizer.encode(prefijo, return_tensors=\"pt\")\n",
        "    attention_mask = input_ids != tokenizer.pad_token_id\n",
        "    # Generar una secuencia de texto con el modelo\n",
        "    output_ids = model.generate(input_ids, attention_mask=attention_mask, max_length=250, temperature=0.8)\n",
        "    # Decodificar la secuencia generada con el tokenizer\n",
        "    output_text = tokenizer.decode(output_ids[0], skip_special_tokens=True)\n",
        "    # Añadir el texto generado a la lista de positivos sintéticos\n",
        "    positivos_sinteticos.append(output_text)\n",
        "\n",
        "for i in tqdm(range(n_negativos)):\n",
        "    # Elegir un comentario negativo al azar como prefijo\n",
        "    prefijo = random.choice(negativos)\n",
        "    # Codificar el prefijo con el tokenizer\n",
        "    input_ids = tokenizer.encode(prefijo, return_tensors=\"pt\")\n",
        "    attention_mask = input_ids != tokenizer.pad_token_id\n",
        "    # Generar una secuencia de texto con el modelo\n",
        "    output_ids = model.generate(input_ids, attention_mask=attention_mask, max_length=250, temperature=0.8)\n",
        "    # Decodificar la secuencia generada con el tokenizer\n",
        "    output_text = tokenizer.decode(output_ids[0], skip_special_tokens=True)\n",
        "    # Añadir el texto generado a la lista de negativos sintéticos\n",
        "    negativos_sinteticos.append(output_text)"
      ]
    },
    {
      "cell_type": "code",
      "execution_count": null,
      "id": "678f9e62-c7ca-426e-b326-b8e5af364395",
      "metadata": {
        "id": "678f9e62-c7ca-426e-b326-b8e5af364395",
        "outputId": "f70ca24d-4598-4766-fa0c-b2514fe0c7c9"
      },
      "outputs": [
        {
          "data": {
            "text/plain": [
              "['No tienes que salir del aeropuerto a la calle para ingresar al hotel, desde adentro de la terminal hay un puente para acercarte al lobby. Hotel muy cómodo, comida agradable, sólo me tocó un caldo de pollo múuuuy salado pero lo demás muy bien. ',\n",
              " 'Una excelente opción para hospedarse, el personal es muy agradable, el hotel muy limpio y accesible pues está  a un lado del aeropuerto, las habitaciones son muy cómodas y acogedoras. Recomendable totalmente.',\n",
              " 'Es un hotel muy acogedor, super accesible y la atención del personal muy eficiente.  agradezco la atención, apesar de los problemas que tuve en el vuelo, mi llegada con ustedes hizo el viaje muy ameno Altamente recomendado ',\n",
              " 'Aniversario, nos hicieron una decoración de Love, muy bonito detalle, excelentes instalaciones los colchones y almohadas muy cómodas. Buena comida y buen servicio de parte del personal, amables, atentos y siempre disponibles en apoyo a lo que pudieras necesitar. Gracias por sus atenciones.',\n",
              " 'Lugar de 100 es decir excepcional, limpio, agradable, exelente ubicación con acceso a terminal b de manera directa, buena comida, precio elevado pero vale lo que cuesta. Mario el barman muy agradable y servicial',\n",
              " 'excelente servicio. desayuno muy rico y variado, el caldo tlalpeño delicioso, muy rica la comida, excelentes instalaciones, ni hablar de la limpieza del lugar, me encantó!!! cuenta con gimnasio y conexión al aeropuerto muy comodo',\n",
              " 'Me encanta este lugar, siempre cómodo, limpio y con buen servicio, los alimentos de buen sabor y buena variedad. Para vuelos tempraneros muy cómodo y de fácil acceso a todas las terminales ya sea caminando o bien con el servicio de shuttle. Recomendado al 100',\n",
              " 'Buen lugar, buena ubicación, gran servicio, siempre agradable visitar este lugar 10 de 10  Habitaciones limpias, cómodas y funcionales. Buena comida, todos empleados amables y sonrientes . Ofrecen buen servicio y nos hacen sentir cómodos.']"
            ]
          },
          "execution_count": 40,
          "metadata": {},
          "output_type": "execute_result"
        }
      ],
      "source": [
        "positivos[7:15]"
      ]
    },
    {
      "cell_type": "code",
      "execution_count": null,
      "id": "e1aebe94-f40d-4d01-aec1-74f80321be80",
      "metadata": {
        "id": "e1aebe94-f40d-4d01-aec1-74f80321be80",
        "outputId": "15f3a38b-fb6b-45a1-f521-c385162b841a"
      },
      "outputs": [
        {
          "data": {
            "text/plain": [
              "['No  había transporte del hotel a la terminal a las 10 am. Les preguntamos si existía transporte entre las terminales y nos dijeron que no había y  si lo hay. Pedimos hablar a un taxi y pasados 25 minutos no llegó. La atención a clientes en el restaurante no fue buena. No tenían granola. Nunca nos preguntaron qué jugo queríamos cuando la carta daba a elegir.. creemos que son cosas que pueden mejorar',\n",
              " 'Estuve en el hotel el 17 de diciembre 2019. Cuarto 409. Para empezar a la hora de hacer el check in el personal se portó bastante grosero, estábamos muy cansados y al otro día había qué salir a las 4 am por lo que dejamos pasar el trato, primer error. Al llegar a la habitación se ve todo bien, sin embargo la cama estaba bastante incómoda, por lo que solicitamos un cambio de habitación, no tienen habitaciones. Están completamente llenos, por lo que nos quedamos en la habitación.  El problema empieza cuando alguno de los vecinos prende el tv. Parece que estaba dentro de nuestra habitación! Las paredes son de papel!  Quitemos todo eso de lado, NO HAY AGUA!!!!! Llamamos a recepción y mandan a una persona de mantenimiento, salen solamente gotas de la regadera y NO HAY PRESIÓN NI…',\n",
              " 'La ubicación del lugar lo salva de ser una mala opción, pero la comida es capitulo aparte porque es horrible.  Impensable e imperdonable que pidas una hamburguesa en un lugar que tiene una de las mejores carnes del País (Monterrey)y te sirvan una porquería de plato con una carne que sacaron de un paquete de comida pre congelada que tiene cero sabor..  El desayuno también deja mucho que desear porque se acaba el jugo de naranja (que ponen en un mini jarra) y nadie se acuerda ni se preocupa por rellenar la.  Si quieren quedarse háganlo pero les recomiendo que crucen la calle y destinen o coman en el aeropuerto donde hay más y mejores opciones.  Mucho por mejorar la verdad!!!',\n",
              " 'servicio nefasto en recepcion no cumplieron con el tema ofrecido de traslado al aeropuerto no les importo resolverlo no me facturaron  no volveria ni recomendaria todo lo que se gasta en marketing se va por la borda cuando hay empleados nefastos  ',\n",
              " 'Estaba tomando una llamada afuera del hotel y el guardia me corrió, me dijo que era propiedad privada y que el hotel no permitía que estuviera ahí. Necesitan unas clases de buen servicio a sus empleados.',\n",
              " 'Actualmente estoy sufriendo a mala experiencia de no ser atendido con respeto por parte de el personal del Hotel Hilton Garden Aeropuerto, estuve hospedado de los dias 10 al 13 de septiembre y es fecha (Septiembre/30) que no recibo la factura por el servicio, esto ha resultado en que tengo que hacerme responsable del pago de los intereses de mi tarjeta de credito. He hablado con el personal que me atienden amablemente pero no me han ayudado a resolver este problema (que no fue originado por mi, sino por su mal servicio de facturacion. Lasp ersonas que me atendieron fueron la señorita Hilda, un joven de nombre Jesus y alguien mas que no recuerdo su nombre. La ultima respuesta que me dieron fue que habian enviado un correo al departamento de facturacion para que mi problema sea…',\n",
              " 'A la hora de hacer el check in me cobraron la tarifa acordada con Expedia, al dia siguiente me hicieron un cargo por el doble de lo pagado, es decir pague $2,086 que era la tarifa acordada, al día siguiente me aparece un cargo EXTRA de $4,196.30 , al llamar al hotel no obtuve respuesta ni ayuda. lastima que en un Hilton pase eso, estoy realmente decepcionado de que pase esto en una cadena \"confiable\" de hoteles Me comunique al Hotel para saber que pasó y el Sr Luis Glz me dice que hablo con la Gerente Valeria y que la \"tarifa\" había cambiado aun cuando yo contaba con la tarifa pactada y reservada con Expedia por los 2,086 pesos',\n",
              " 'Es un Hilton muy básico, solo recomendable si requieres estar en la zona del aeropuerto o la zona industrial de Apodaca. Las habitaciones son cómodas, en general yo lo tipificaría como un hotel de paso. Servicio de desayunos bastante limitado.']"
            ]
          },
          "execution_count": 41,
          "metadata": {},
          "output_type": "execute_result"
        }
      ],
      "source": [
        "negativos[7:15]"
      ]
    },
    {
      "cell_type": "code",
      "execution_count": null,
      "id": "8a680769-441b-4691-a0b2-dcb18a2aadef",
      "metadata": {
        "id": "8a680769-441b-4691-a0b2-dcb18a2aadef"
      },
      "outputs": [],
      "source": [
        "# Crear un nuevo dataframe con los datos originales y los sintéticos\n",
        "df_positivos = pd.DataFrame({\"Comentario\": positivos + positivos_sinteticos, \"Rating\": 1})\n",
        "df_negativos = pd.DataFrame({\"Comentario\": negativos + negativos_sinteticos, \"Rating\": 0})\n",
        "comentarios_synth = pd.concat([df_positivos, df_negativos], ignore_index=True)\n",
        "\n",
        "# Guardar el dataframe balanceado en un archivo csv\n",
        "comentarios_synth.to_csv(\"comentarios_syntheticos.csv\", index=False)"
      ]
    },
    {
      "cell_type": "code",
      "execution_count": null,
      "id": "65e6becc-c8fe-45ac-b107-123f3087a824",
      "metadata": {
        "id": "65e6becc-c8fe-45ac-b107-123f3087a824"
      },
      "outputs": [],
      "source": [
        "comentarios_synth = pd.read_csv(\"comentarios_syntheticos.csv\")"
      ]
    },
    {
      "cell_type": "code",
      "execution_count": null,
      "id": "d9485656-3620-4b0f-87db-e74911c8329a",
      "metadata": {
        "id": "d9485656-3620-4b0f-87db-e74911c8329a",
        "outputId": "c42f1f6d-84d8-40f9-ed3e-981973cbc54e"
      },
      "outputs": [
        {
          "data": {
            "text/html": [
              "<div>\n",
              "<style scoped>\n",
              "    .dataframe tbody tr th:only-of-type {\n",
              "        vertical-align: middle;\n",
              "    }\n",
              "\n",
              "    .dataframe tbody tr th {\n",
              "        vertical-align: top;\n",
              "    }\n",
              "\n",
              "    .dataframe thead th {\n",
              "        text-align: right;\n",
              "    }\n",
              "</style>\n",
              "<table border=\"1\" class=\"dataframe\">\n",
              "  <thead>\n",
              "    <tr style=\"text-align: right;\">\n",
              "      <th></th>\n",
              "      <th>Comentario</th>\n",
              "      <th>Rating</th>\n",
              "    </tr>\n",
              "  </thead>\n",
              "  <tbody>\n",
              "    <tr>\n",
              "      <th>0</th>\n",
              "      <td>Todo excelente, habitaciones muy comodas  y li...</td>\n",
              "      <td>1</td>\n",
              "    </tr>\n",
              "    <tr>\n",
              "      <th>1</th>\n",
              "      <td>Hotel muy limpio, personal súper amable, estac...</td>\n",
              "      <td>1</td>\n",
              "    </tr>\n",
              "    <tr>\n",
              "      <th>2</th>\n",
              "      <td>Muy buena atención desde su recepción hasta la...</td>\n",
              "      <td>1</td>\n",
              "    </tr>\n",
              "    <tr>\n",
              "      <th>3</th>\n",
              "      <td>Excelente servicio y amabilidad de todo su per...</td>\n",
              "      <td>1</td>\n",
              "    </tr>\n",
              "    <tr>\n",
              "      <th>4</th>\n",
              "      <td>Estuve hospedada en este hotel y lo que más me...</td>\n",
              "      <td>1</td>\n",
              "    </tr>\n",
              "  </tbody>\n",
              "</table>\n",
              "</div>"
            ],
            "text/plain": [
              "                                          Comentario  Rating\n",
              "0  Todo excelente, habitaciones muy comodas  y li...       1\n",
              "1  Hotel muy limpio, personal súper amable, estac...       1\n",
              "2  Muy buena atención desde su recepción hasta la...       1\n",
              "3  Excelente servicio y amabilidad de todo su per...       1\n",
              "4  Estuve hospedada en este hotel y lo que más me...       1"
            ]
          },
          "execution_count": 17,
          "metadata": {},
          "output_type": "execute_result"
        }
      ],
      "source": [
        "comentarios_synth.head()"
      ]
    },
    {
      "cell_type": "code",
      "execution_count": null,
      "id": "bdb97012-a8f0-42f5-b98e-a676a599e8ec",
      "metadata": {
        "id": "bdb97012-a8f0-42f5-b98e-a676a599e8ec",
        "outputId": "c775ed03-6ec9-4d71-d6a0-78460dcab6ba"
      },
      "outputs": [
        {
          "data": {
            "image/png": "[encoded data removed]",
            "text/plain": [
              "<Figure size 640x480 with 1 Axes>"
            ]
          },
          "metadata": {},
          "output_type": "display_data"
        }
      ],
      "source": [
        "plt.hist(comentarios_synth[\"Comentario\"].str.len(), bins=23) # You can change the number of bins as you like\n",
        "plt.xlabel(\"Longitud\")\n",
        "plt.ylabel(\"Frecuencia\")\n",
        "plt.show()"
      ]
    },
    {
      "cell_type": "code",
      "execution_count": null,
      "id": "23afdfe9-5be0-4286-bbba-cb0e3b09a68e",
      "metadata": {
        "id": "23afdfe9-5be0-4286-bbba-cb0e3b09a68e",
        "outputId": "de055fd7-85ae-4e61-c399-166c833982be"
      },
      "outputs": [
        {
          "name": "stdout",
          "output_type": "stream",
          "text": [
            "Desbalanceo original:\n",
            "Rating\n",
            "1    0.700353\n",
            "0    0.299647\n",
            "Name: proportion, dtype: float64\n"
          ]
        }
      ],
      "source": [
        "all = pd.concat([comentarios_synth[['Comentario','Rating']], comentarios[['Comentario','Rating']]], ignore_index=True)\n",
        "\n",
        "# Calcular el desbalanceo original de las clases\n",
        "final_balance = all[\"Rating\"].value_counts(normalize=True)\n",
        "print(f\"Desbalanceo original:\\n{final_balance}\")"
      ]
    },
    {
      "cell_type": "code",
      "execution_count": null,
      "id": "f6bb1383-9a93-40a1-88a4-465f5296c1eb",
      "metadata": {
        "id": "f6bb1383-9a93-40a1-88a4-465f5296c1eb",
        "outputId": "3b46c95b-9990-436a-8732-91e70e5e1bd5"
      },
      "outputs": [
        {
          "data": {
            "text/plain": [
              "Rating\n",
              "1    596\n",
              "0    255\n",
              "Name: count, dtype: int64"
            ]
          },
          "execution_count": 20,
          "metadata": {},
          "output_type": "execute_result"
        }
      ],
      "source": [
        " all[\"Rating\"].value_counts(normalize=False)"
      ]
    },
    {
      "cell_type": "markdown",
      "id": "45352f21-003b-49c3-906a-959957538482",
      "metadata": {
        "id": "45352f21-003b-49c3-906a-959957538482"
      },
      "source": [
        "# 4. Partición del dato original"
      ]
    },
    {
      "cell_type": "code",
      "execution_count": null,
      "id": "dd3ed152-2a5b-4fd6-b4c2-7246818fe656",
      "metadata": {
        "id": "dd3ed152-2a5b-4fd6-b4c2-7246818fe656",
        "outputId": "01afa042-2989-4c81-ebc1-49a259edfac6"
      },
      "outputs": [
        {
          "name": "stdout",
          "output_type": "stream",
          "text": [
            "152 82 101\n",
            "Counter({1: 129, 0: 23}) Counter({1: 69, 0: 13}) Counter({1: 86, 0: 15})\n"
          ]
        }
      ],
      "source": [
        "from collections import Counter\n",
        "from sklearn.model_selection import train_test_split\n",
        "\n",
        "# Particionar los datos en entrenamiento (70%) y prueba (30%), estratificando por rating\n",
        "X_train, X_test, y_train, y_test = train_test_split(comentarios['Comentario'],\n",
        "                                                    comentarios['Rating'],\n",
        "                                                    test_size=0.3, stratify=comentarios['Rating'], random_state=42)\n",
        "\n",
        "# Particionar el conjunto de entrenamiento en entrenamiento (75%) y validación (25%), estratificando por rating\n",
        "X_train, X_val, y_train, y_val = train_test_split(X_train, y_train, test_size=0.35, stratify=y_train, random_state=42)\n",
        "\n",
        "print(X_train.shape[0], X_val.shape[0], X_test.shape[0])\n",
        "print(Counter(y_train), Counter(y_val), Counter(y_test))"
      ]
    },
    {
      "cell_type": "code",
      "execution_count": null,
      "id": "0aa8cc55-0e3f-402e-85b2-c4db10e3a7fb",
      "metadata": {
        "id": "0aa8cc55-0e3f-402e-85b2-c4db10e3a7fb"
      },
      "outputs": [],
      "source": [
        "# Reordenar y renumerar los índices de las series\n",
        "X_train = X_train.reset_index(drop=True)\n",
        "X_val = X_val.reset_index(drop=True)\n",
        "X_test = X_test[:-1].reset_index(drop=True) #Los batches tienen que quedar en pares\n",
        "y_train = y_train.reset_index(drop=True)\n",
        "y_val = y_val.reset_index(drop=True)\n",
        "y_test = y_test[:-1].reset_index(drop=True) #Los batches tienen que quedar en pares"
      ]
    },
    {
      "cell_type": "code",
      "execution_count": null,
      "id": "28f4d406-a07c-4bc5-abbe-014ad772e906",
      "metadata": {
        "id": "28f4d406-a07c-4bc5-abbe-014ad772e906",
        "outputId": "c28364ad-f854-4f6d-fe95-0b4425edf0fd"
      },
      "outputs": [
        {
          "name": "stderr",
          "output_type": "stream",
          "text": [
            "Some weights of the model checkpoint at dccuchile/bert-base-spanish-wwm-uncased were not used when initializing BertForSequenceClassification: ['cls.predictions.transform.LayerNorm.bias', 'cls.predictions.decoder.bias', 'cls.predictions.transform.dense.weight', 'cls.predictions.transform.dense.bias', 'cls.predictions.transform.LayerNorm.weight', 'cls.predictions.bias', 'cls.predictions.decoder.weight']\n",
            "- This IS expected if you are initializing BertForSequenceClassification from the checkpoint of a model trained on another task or with another architecture (e.g. initializing a BertForSequenceClassification model from a BertForPreTraining model).\n",
            "- This IS NOT expected if you are initializing BertForSequenceClassification from the checkpoint of a model that you expect to be exactly identical (initializing a BertForSequenceClassification model from a BertForSequenceClassification model).\n",
            "Some weights of BertForSequenceClassification were not initialized from the model checkpoint at dccuchile/bert-base-spanish-wwm-uncased and are newly initialized: ['bert.pooler.dense.weight', 'classifier.bias', 'bert.pooler.dense.bias', 'classifier.weight']\n",
            "You should probably TRAIN this model on a down-stream task to be able to use it for predictions and inference.\n"
          ]
        }
      ],
      "source": [
        "import torch\n",
        "import torch.nn as nn\n",
        "import torch.optim as optim\n",
        "from torch.utils.data import Dataset, DataLoader\n",
        "from transformers import AutoTokenizer, BertForSequenceClassification\n",
        "from sklearn.metrics import accuracy_score\n",
        "\n",
        "# Cargar el modelo y el tokenizador pre-entrenados\n",
        "model = BertForSequenceClassification.from_pretrained(\"dccuchile/bert-base-spanish-wwm-uncased\")\n",
        "tokenizer = AutoTokenizer.from_pretrained(\"dccuchile/bert-base-spanish-wwm-uncased\")\n",
        "\n",
        "# Añadir una capa lineal de clasificación binaria al final del modelo\n",
        "model.classifier = nn.Linear(model.config.hidden_size, 1)"
      ]
    },
    {
      "cell_type": "code",
      "execution_count": null,
      "id": "005d5282-51aa-4c66-8752-fe80382b2f47",
      "metadata": {
        "id": "005d5282-51aa-4c66-8752-fe80382b2f47"
      },
      "outputs": [],
      "source": [
        "# Definir una clase para crear un dataset personalizado\n",
        "class ComentariosDataset(Dataset):\n",
        "    def __init__(self, textos, etiquetas, tokenizer):\n",
        "        self.textos = textos\n",
        "        self.etiquetas = etiquetas\n",
        "        self.tokenizer = tokenizer\n",
        "\n",
        "    def __len__(self):\n",
        "        return len(self.textos)\n",
        "\n",
        "    def __getitem__(self, idx):\n",
        "        # Tokenizar el texto con el tokenizador\n",
        "        encoding = self.tokenizer(self.textos[idx], return_tensors=\"pt\", padding=\"max_length\", truncation=True)\n",
        "        # Convertir la etiqueta a tensor\n",
        "        label = torch.tensor(self.etiquetas[idx], dtype=torch.float)\n",
        "        # Devolver el texto codificado y la etiqueta\n",
        "        return encoding, label"
      ]
    },
    {
      "cell_type": "code",
      "execution_count": null,
      "id": "40db4440-b926-48d9-a441-58930033726e",
      "metadata": {
        "id": "40db4440-b926-48d9-a441-58930033726e"
      },
      "outputs": [],
      "source": [
        "# Crear un dataloader para el conjunto de entrenamiento y otro para el de validación\n",
        "train_dataset = ComentariosDataset(X_train, y_train, tokenizer)\n",
        "val_dataset = ComentariosDataset(X_val, y_val, tokenizer)\n",
        "test_dataset = ComentariosDataset(X_test, y_test, tokenizer)\n",
        "\n",
        "train_dataloader = DataLoader(train_dataset, batch_size=2, shuffle=True)\n",
        "val_dataloader = DataLoader(val_dataset, batch_size=2)\n",
        "test_dataloader = DataLoader(test_dataset, batch_size=2)"
      ]
    },
    {
      "cell_type": "code",
      "execution_count": null,
      "id": "e069eccb-2b0a-4ef7-8847-e12467896b5c",
      "metadata": {
        "id": "e069eccb-2b0a-4ef7-8847-e12467896b5c"
      },
      "outputs": [],
      "source": [
        "# Definir el optimizador, la función de pérdida y el scheduler\n",
        "optimizer = optim.AdamW(model.parameters(), lr=2e-5)\n",
        "criterion = nn.BCEWithLogitsLoss()\n",
        "scheduler = optim.lr_scheduler.StepLR(optimizer, step_size=1, gamma=0.9)"
      ]
    },
    {
      "cell_type": "code",
      "execution_count": null,
      "id": "396a38ba-7429-463e-a195-3378daafcf53",
      "metadata": {
        "id": "396a38ba-7429-463e-a195-3378daafcf53"
      },
      "outputs": [],
      "source": [
        "# Definir una función para entrenar una época\n",
        "def train_epoch(model, dataloader, optimizer, criterion):\n",
        "    # Poner el modelo en modo de entrenamiento\n",
        "    model.train()\n",
        "    # Inicializar las variables para almacenar la pérdida y las etiquetas\n",
        "    total_loss = 0\n",
        "    all_labels = []\n",
        "    all_preds = []\n",
        "    # Iterar sobre los batches del dataloader\n",
        "    for batch in dataloader:\n",
        "        # Obtener los datos y las etiquetas del batch\n",
        "        inputs, labels = batch\n",
        "        # Mover los datos y las etiquetas al dispositivo adecuado (cpu o gpu)\n",
        "        inputs = {k: v.to(device) for k, v in inputs.items()}\n",
        "        labels = labels.to(device)\n",
        "        inputs = {k: v.squeeze() for k, v in inputs.items()}\n",
        "        # Hacer un forward pass con el modelo\n",
        "        outputs = model(**inputs)\n",
        "        # Obtener las logits del modelo\n",
        "        logits = outputs.logits.squeeze()\n",
        "        # Calcular la pérdida con la función de pérdida\n",
        "        loss = criterion(logits, labels)\n",
        "        # Hacer un backward pass con la pérdida\n",
        "        loss.backward()\n",
        "        # Actualizar los parámetros del modelo con el optimizador\n",
        "        optimizer.step()\n",
        "        # Reiniciar los gradientes del optimizador\n",
        "        optimizer.zero_grad()\n",
        "        # Acumular la pérdida total\n",
        "        total_loss += loss.item()\n",
        "        # Almacenar las etiquetas reales\n",
        "        probs = torch.sigmoid(logits)\n",
        "        # Aplicar un umbral de 0.5 a las probabilidades para obtener las predicciones binarias\n",
        "        preds = (probs > 0.5).long()\n",
        "        all_labels.extend(labels.tolist())\n",
        "        all_preds.extend(preds.tolist())\n",
        "    # Calcular la pérdida promedio por batch\n",
        "    avg_loss = total_loss / len(dataloader)\n",
        "    acc = accuracy_score(all_labels, all_preds)\n",
        "    # Devolver la pérdida promedio y las etiquetas reales\n",
        "    return avg_loss, all_labels, all_preds, acc"
      ]
    },
    {
      "cell_type": "code",
      "execution_count": null,
      "id": "35bd613a-db2a-4cb8-bd57-adb417b88c87",
      "metadata": {
        "id": "35bd613a-db2a-4cb8-bd57-adb417b88c87"
      },
      "outputs": [],
      "source": [
        "# Definir una función para evaluar una época\n",
        "def eval_epoch(model, dataloader, criterion):\n",
        "    # Poner el modelo en modo de evaluación\n",
        "    model.eval()\n",
        "    # Inicializar las variables para almacenar la pérdida, las etiquetas y las predicciones\n",
        "    total_loss = 0\n",
        "    all_labels = []\n",
        "    all_preds = []\n",
        "    # Iterar sobre los batches del dataloader\n",
        "    for batch in dataloader:\n",
        "        # Obtener los datos y las etiquetas del batch\n",
        "        inputs, labels = batch\n",
        "        # Mover los datos y las etiquetas al dispositivo adecuado (cpu o gpu)\n",
        "        inputs = {k: v.to(device) for k, v in inputs.items()}\n",
        "        labels = labels.to(device)\n",
        "        inputs = {k: v.squeeze() for k, v in inputs.items()}\n",
        "        # Desactivar el cálculo de gradientes\n",
        "        with torch.no_grad():\n",
        "            # Hacer un forward pass con el modelo\n",
        "            outputs = model(**inputs)\n",
        "            # Obtener las logits del modelo\n",
        "            logits = outputs.logits.squeeze()\n",
        "            # Calcular la pérdida con la función de pérdida\n",
        "            loss = criterion(logits, labels)\n",
        "            # Aplicar una función sigmoide a las logits para obtener las probabilidades\n",
        "            probs = torch.sigmoid(logits)\n",
        "            # Aplicar un umbral de 0.5 a las probabilidades para obtener las predicciones binarias\n",
        "            preds = (probs > 0.5).long()\n",
        "        # Acumular la pérdida total\n",
        "        total_loss += loss.item()\n",
        "        # Almacenar las etiquetas reales y las predicciones\n",
        "        all_labels.extend(labels.tolist())\n",
        "        all_preds.extend(preds.tolist())\n",
        "    # Calcular la pérdida promedio por batch\n",
        "    avg_loss = total_loss / len(dataloader)\n",
        "    # Calcular la métrica de accuracy\n",
        "    acc = accuracy_score(all_labels, all_preds)\n",
        "    # Devolver la pérdida promedio, las etiquetas reales, las predicciones y el accuracy\n",
        "    return avg_loss, all_labels, all_preds, acc"
      ]
    },
    {
      "cell_type": "code",
      "execution_count": null,
      "id": "998730c9-95ad-4f67-b82a-5204f7cebf0d",
      "metadata": {
        "id": "998730c9-95ad-4f67-b82a-5204f7cebf0d",
        "outputId": "15cb1707-36bb-4fb2-8b42-8e9429fded53"
      },
      "outputs": [
        {
          "data": {
            "text/plain": [
              "BertForSequenceClassification(\n",
              "  (bert): BertModel(\n",
              "    (embeddings): BertEmbeddings(\n",
              "      (word_embeddings): Embedding(31002, 768, padding_idx=1)\n",
              "      (position_embeddings): Embedding(512, 768)\n",
              "      (token_type_embeddings): Embedding(2, 768)\n",
              "      (LayerNorm): LayerNorm((768,), eps=1e-12, elementwise_affine=True)\n",
              "      (dropout): Dropout(p=0.1, inplace=False)\n",
              "    )\n",
              "    (encoder): BertEncoder(\n",
              "      (layer): ModuleList(\n",
              "        (0-11): 12 x BertLayer(\n",
              "          (attention): BertAttention(\n",
              "            (self): BertSelfAttention(\n",
              "              (query): Linear(in_features=768, out_features=768, bias=True)\n",
              "              (key): Linear(in_features=768, out_features=768, bias=True)\n",
              "              (value): Linear(in_features=768, out_features=768, bias=True)\n",
              "              (dropout): Dropout(p=0.1, inplace=False)\n",
              "            )\n",
              "            (output): BertSelfOutput(\n",
              "              (dense): Linear(in_features=768, out_features=768, bias=True)\n",
              "              (LayerNorm): LayerNorm((768,), eps=1e-12, elementwise_affine=True)\n",
              "              (dropout): Dropout(p=0.1, inplace=False)\n",
              "            )\n",
              "          )\n",
              "          (intermediate): BertIntermediate(\n",
              "            (dense): Linear(in_features=768, out_features=3072, bias=True)\n",
              "            (intermediate_act_fn): GELUActivation()\n",
              "          )\n",
              "          (output): BertOutput(\n",
              "            (dense): Linear(in_features=3072, out_features=768, bias=True)\n",
              "            (LayerNorm): LayerNorm((768,), eps=1e-12, elementwise_affine=True)\n",
              "            (dropout): Dropout(p=0.1, inplace=False)\n",
              "          )\n",
              "        )\n",
              "      )\n",
              "    )\n",
              "    (pooler): BertPooler(\n",
              "      (dense): Linear(in_features=768, out_features=768, bias=True)\n",
              "      (activation): Tanh()\n",
              "    )\n",
              "  )\n",
              "  (dropout): Dropout(p=0.1, inplace=False)\n",
              "  (classifier): Linear(in_features=768, out_features=1, bias=True)\n",
              ")"
            ]
          },
          "execution_count": 103,
          "metadata": {},
          "output_type": "execute_result"
        }
      ],
      "source": [
        "# Definir el número de épocas\n",
        "epochs = 5\n",
        "\n",
        "# Definir el dispositivo a usar (cpu o gpu)\n",
        "device = torch.device(\"cuda\" if torch.cuda.is_available() else \"cpu\")\n",
        "\n",
        "# Mover el modelo al dispositivo\n",
        "model.to(device)"
      ]
    },
    {
      "cell_type": "code",
      "execution_count": null,
      "id": "45bd66d9-c5ba-4f9e-9866-4e1bcd17c612",
      "metadata": {
        "id": "45bd66d9-c5ba-4f9e-9866-4e1bcd17c612",
        "outputId": "2d765f35-1ec6-45b6-f1e2-ba6b01542599"
      },
      "outputs": [
        {
          "name": "stdout",
          "output_type": "stream",
          "text": [
            "Epoch 1, Train loss: 0.3250,  Train acc: 0.8750, Val loss: 0.2553, Val acc: 0.8659\n",
            "Epoch 2, Train loss: 0.1628,  Train acc: 0.9474, Val loss: 0.2300, Val acc: 0.9268\n",
            "Epoch 3, Train loss: 0.0433,  Train acc: 0.9803, Val loss: 0.2936, Val acc: 0.9146\n",
            "Epoch 4, Train loss: 0.0076,  Train acc: 1.0000, Val loss: 0.3408, Val acc: 0.9024\n",
            "Epoch 5, Train loss: 0.0045,  Train acc: 1.0000, Val loss: 0.3431, Val acc: 0.9146\n"
          ]
        }
      ],
      "source": [
        "train_loss_list = []\n",
        "train_acc_list = []\n",
        "\n",
        "val_loss_list = []\n",
        "val_acc_list = []\n",
        "\n",
        "# Entrenar el modelo por el número de épocas definido\n",
        "for epoch in range(epochs):\n",
        "    # Entrenar el modelo con el conjunto de entrenamiento\n",
        "    train_loss, train_labels, train_preds, train_acc = train_epoch(model, train_dataloader, optimizer, criterion)\n",
        "    # Evaluar el modelo con el conjunto de validación\n",
        "    val_loss, val_labels, val_preds, val_acc = eval_epoch(model, val_dataloader, criterion)\n",
        "    # Ajustar la tasa de aprendizaje con el scheduler\n",
        "    scheduler.step()\n",
        "\n",
        "    train_loss_list.append(train_loss)\n",
        "    val_loss_list.append(val_loss)\n",
        "    train_acc_list.append(train_acc)\n",
        "    val_acc_list.append(val_acc)\n",
        "    # Imprimir los resultados de la época\n",
        "    print(f\"Epoch {epoch+1}, Train loss: {train_loss:.4f},  Train acc: {train_acc:.4f}, Val loss: {val_loss:.4f}, Val acc: {val_acc:.4f}\")"
      ]
    },
    {
      "cell_type": "code",
      "execution_count": null,
      "id": "00583dc5-c2c0-4e7c-9233-a604d3ed2078",
      "metadata": {
        "id": "00583dc5-c2c0-4e7c-9233-a604d3ed2078",
        "outputId": "3f3d8478-0fb4-4cb2-dbc2-232776cf0482"
      },
      "outputs": [
        {
          "name": "stdout",
          "output_type": "stream",
          "text": [
            "Test loss: 0.4515, Test acc: 0.8900\n"
          ]
        }
      ],
      "source": [
        "# Probar el modelo con el conjunto de prueba\n",
        "test_loss, test_labels, test_preds, test_acc = eval_epoch(model, test_dataloader, criterion)\n",
        "# Imprimir los resultados del conjunto de prueba\n",
        "print(f\"Test loss: {test_loss:.4f}, Test acc: {test_acc:.4f}\")"
      ]
    },
    {
      "cell_type": "markdown",
      "id": "02455e47",
      "metadata": {
        "id": "02455e47"
      },
      "source": [
        "### Aplica un modelo de clasificación binaria (análisis de sentimiento) para los datos originales, es decir, sin incluir los comentarios sintéticos. ¿Qué desempeño obtienes? NOTA: Justifica el procedimiento utilizado.\n",
        "Se obtuvo 45.15% de loss y 89.00% de accuracy. El procedimiento empleado consisitió de usar el conjunto de entrenamiento inicialmente y luego utilizar el de prueba para la validación. Esto porque se utilizó un modelo optimizado."
      ]
    },
    {
      "cell_type": "code",
      "execution_count": null,
      "id": "48b57f47-da8a-4eb1-8bc0-4871386c8a26",
      "metadata": {
        "id": "48b57f47-da8a-4eb1-8bc0-4871386c8a26",
        "outputId": "b739e10b-f564-4229-ded8-c4eb701f4a42"
      },
      "outputs": [
        {
          "data": {
            "image/png": "[encoded data removed]",
            "text/plain": [
              "<Figure size 1200x600 with 2 Axes>"
            ]
          },
          "metadata": {},
          "output_type": "display_data"
        }
      ],
      "source": [
        "# Graficar las curvas de pérdida y exactitud para el entrenamiento y la validación\n",
        "\n",
        "# Crear una figura con dos subplots (uno para la pérdida y otro para la exactitud)\n",
        "fig, (ax1, ax2) = plt.subplots(1, 2, figsize=(12, 6))\n",
        "\n",
        "# Graficar la pérdida de entrenamiento y validación en el primer subplot\n",
        "ax1.plot(train_loss_list, label=\"Train loss\")\n",
        "ax1.plot(val_loss_list, label=\"Val loss\")\n",
        "ax1.set_xlabel(\"Epoch\")\n",
        "ax1.set_ylabel(\"Loss\")\n",
        "ax1.set_title(\"Loss curves\")\n",
        "ax1.legend()\n",
        "\n",
        "# Graficar la exactitud de entrenamiento y validación en el segundo subplot\n",
        "ax2.plot(train_acc_list, label=\"Train acc\")\n",
        "ax2.plot(val_acc_list, label=\"Val acc\")\n",
        "ax2.set_xlabel(\"Epoch\")\n",
        "ax2.set_ylabel(\"Accuracy\")\n",
        "ax2.set_title(\"Accuracy curves\")\n",
        "ax2.legend()\n",
        "\n",
        "# Mostrar la figura\n",
        "plt.show()"
      ]
    },
    {
      "cell_type": "markdown",
      "id": "e212bdcc-9554-4a22-9d5f-1faf4ac8aeb3",
      "metadata": {
        "id": "e212bdcc-9554-4a22-9d5f-1faf4ac8aeb3"
      },
      "source": [
        "# 6. Dato aumentado"
      ]
    },
    {
      "cell_type": "code",
      "execution_count": null,
      "id": "60f3bd03-ccc6-475e-a917-701b6c4c2d4c",
      "metadata": {
        "id": "60f3bd03-ccc6-475e-a917-701b6c4c2d4c",
        "outputId": "2df28760-720f-4b70-8e2d-881da94547d0"
      },
      "outputs": [
        {
          "name": "stdout",
          "output_type": "stream",
          "text": [
            "386 209 256\n",
            "Counter({1: 271, 0: 115}) Counter({1: 146, 0: 63}) Counter({1: 179, 0: 77})\n"
          ]
        }
      ],
      "source": [
        "# Particionar los datos en entrenamiento (70%) y prueba (30%), estratificando por rating\n",
        "X_train, X_test, y_train, y_test = train_test_split(all['Comentario'], all['Rating'], test_size=0.3, stratify=all['Rating'], random_state=42)\n",
        "\n",
        "# Particionar el conjunto de entrenamiento en entrenamiento (75%) y validación (25%), estratificando por rating\n",
        "X_train, X_val, y_train, y_val = train_test_split(X_train, y_train, test_size=0.35, stratify=y_train, random_state=42)\n",
        "\n",
        "print(X_train.shape[0], X_val.shape[0], X_test.shape[0])\n",
        "print(Counter(y_train), Counter(y_val), Counter(y_test))"
      ]
    },
    {
      "cell_type": "code",
      "execution_count": null,
      "id": "d7c65e8f-4644-4f4e-b43d-d462de550681",
      "metadata": {
        "id": "d7c65e8f-4644-4f4e-b43d-d462de550681"
      },
      "outputs": [],
      "source": [
        "# Reordenar y renumerar los índices de las series\n",
        "X_train = X_train.reset_index(drop=True)\n",
        "X_val = X_val[:-1].reset_index(drop=True) #Los batches tienen que quedar en pares\n",
        "X_test = X_test.reset_index(drop=True)\n",
        "y_train = y_train.reset_index(drop=True)\n",
        "y_val = y_val[:-1].reset_index(drop=True) #Los batches tienen que quedar en pares\n",
        "y_test = y_test.reset_index(drop=True)"
      ]
    },
    {
      "cell_type": "code",
      "execution_count": null,
      "id": "0793e885-cd80-49f2-8d78-b3563a91625e",
      "metadata": {
        "id": "0793e885-cd80-49f2-8d78-b3563a91625e"
      },
      "outputs": [],
      "source": [
        "# Crear un dataloader para el conjunto de entrenamiento y otro para el de validación\n",
        "train_dataset = ComentariosDataset(X_train, y_train, tokenizer)\n",
        "val_dataset = ComentariosDataset(X_val, y_val, tokenizer)\n",
        "test_dataset = ComentariosDataset(X_test, y_test, tokenizer)\n",
        "\n",
        "train_dataloader = DataLoader(train_dataset, batch_size=2, shuffle=True)\n",
        "val_dataloader = DataLoader(val_dataset, batch_size=2)\n",
        "test_dataloader = DataLoader(test_dataset, batch_size=2)"
      ]
    },
    {
      "cell_type": "markdown",
      "id": "b3eafae5",
      "metadata": {
        "id": "b3eafae5"
      },
      "source": [
        "### En este caso sí aplica un modelo con fine-tuning. ¿Por qué en este caso no se justificaría utilizar la técnica out-of-box para entrenar y evaluar directamente los datos con los comentarios sintéticos?\n",
        "En este caso, no se puede usar out of the box porque se ha cambiado la distribución de clases al introducir los datos sintéticos.\n",
        "\n",
        "Cuando se utiliza un modelo \"out-of-box\", se espera que los datos de entrenamiento sigan una distribución similar a la de los datos de prueba. Sin embargo, al generar datos sintéticos para equilibrar las clases, se introduce una modificacion en la proporción original de clases, que implica un cambio en la distribución de los datos. [1]\n",
        "\n",
        "[1] Rahman, M. S., Khomh, F., Hamidi, A., & Washizaki, H. (2021). Machine Learning Application Development: Practitioners’ Insights. ResearchGate. https://www.researchgate.net/publication/357526533_Machine_Learning_Application_Development_Practitioners%27_Insights"
      ]
    },
    {
      "cell_type": "code",
      "execution_count": null,
      "id": "62e312a3-9b4a-44ed-a730-a841469a12f6",
      "metadata": {
        "id": "62e312a3-9b4a-44ed-a730-a841469a12f6",
        "outputId": "1fedf635-5f81-4edf-ac26-b1dbf575872c"
      },
      "outputs": [
        {
          "name": "stderr",
          "output_type": "stream",
          "text": [
            "Some weights of the model checkpoint at dccuchile/bert-base-spanish-wwm-uncased were not used when initializing BertForSequenceClassification: ['cls.predictions.transform.LayerNorm.bias', 'cls.predictions.decoder.bias', 'cls.predictions.transform.dense.weight', 'cls.predictions.transform.dense.bias', 'cls.predictions.transform.LayerNorm.weight', 'cls.predictions.bias', 'cls.predictions.decoder.weight']\n",
            "- This IS expected if you are initializing BertForSequenceClassification from the checkpoint of a model trained on another task or with another architecture (e.g. initializing a BertForSequenceClassification model from a BertForPreTraining model).\n",
            "- This IS NOT expected if you are initializing BertForSequenceClassification from the checkpoint of a model that you expect to be exactly identical (initializing a BertForSequenceClassification model from a BertForSequenceClassification model).\n",
            "Some weights of BertForSequenceClassification were not initialized from the model checkpoint at dccuchile/bert-base-spanish-wwm-uncased and are newly initialized: ['bert.pooler.dense.weight', 'classifier.bias', 'bert.pooler.dense.bias', 'classifier.weight']\n",
            "You should probably TRAIN this model on a down-stream task to be able to use it for predictions and inference.\n"
          ]
        }
      ],
      "source": [
        "# Cargar el modelo y el tokenizador pre-entrenados\n",
        "model = BertForSequenceClassification.from_pretrained(\"dccuchile/bert-base-spanish-wwm-uncased\")\n",
        "tokenizer = AutoTokenizer.from_pretrained(\"dccuchile/bert-base-spanish-wwm-uncased\")\n",
        "\n",
        "# Añadir una capa lineal de clasificación binaria al final del modelo\n",
        "model.classifier = nn.Linear(model.config.hidden_size, 1)"
      ]
    },
    {
      "cell_type": "code",
      "execution_count": null,
      "id": "c8ff45fc-ca99-4ff8-8770-f52a8e4796fd",
      "metadata": {
        "id": "c8ff45fc-ca99-4ff8-8770-f52a8e4796fd",
        "outputId": "d7bc429c-11f1-4798-c83f-b4afb3b35d78"
      },
      "outputs": [
        {
          "data": {
            "text/plain": [
              "BertForSequenceClassification(\n",
              "  (bert): BertModel(\n",
              "    (embeddings): BertEmbeddings(\n",
              "      (word_embeddings): Embedding(31002, 768, padding_idx=1)\n",
              "      (position_embeddings): Embedding(512, 768)\n",
              "      (token_type_embeddings): Embedding(2, 768)\n",
              "      (LayerNorm): LayerNorm((768,), eps=1e-12, elementwise_affine=True)\n",
              "      (dropout): Dropout(p=0.1, inplace=False)\n",
              "    )\n",
              "    (encoder): BertEncoder(\n",
              "      (layer): ModuleList(\n",
              "        (0-11): 12 x BertLayer(\n",
              "          (attention): BertAttention(\n",
              "            (self): BertSelfAttention(\n",
              "              (query): Linear(in_features=768, out_features=768, bias=True)\n",
              "              (key): Linear(in_features=768, out_features=768, bias=True)\n",
              "              (value): Linear(in_features=768, out_features=768, bias=True)\n",
              "              (dropout): Dropout(p=0.1, inplace=False)\n",
              "            )\n",
              "            (output): BertSelfOutput(\n",
              "              (dense): Linear(in_features=768, out_features=768, bias=True)\n",
              "              (LayerNorm): LayerNorm((768,), eps=1e-12, elementwise_affine=True)\n",
              "              (dropout): Dropout(p=0.1, inplace=False)\n",
              "            )\n",
              "          )\n",
              "          (intermediate): BertIntermediate(\n",
              "            (dense): Linear(in_features=768, out_features=3072, bias=True)\n",
              "            (intermediate_act_fn): GELUActivation()\n",
              "          )\n",
              "          (output): BertOutput(\n",
              "            (dense): Linear(in_features=3072, out_features=768, bias=True)\n",
              "            (LayerNorm): LayerNorm((768,), eps=1e-12, elementwise_affine=True)\n",
              "            (dropout): Dropout(p=0.1, inplace=False)\n",
              "          )\n",
              "        )\n",
              "      )\n",
              "    )\n",
              "    (pooler): BertPooler(\n",
              "      (dense): Linear(in_features=768, out_features=768, bias=True)\n",
              "      (activation): Tanh()\n",
              "    )\n",
              "  )\n",
              "  (dropout): Dropout(p=0.1, inplace=False)\n",
              "  (classifier): Linear(in_features=768, out_features=1, bias=True)\n",
              ")"
            ]
          },
          "execution_count": 113,
          "metadata": {},
          "output_type": "execute_result"
        }
      ],
      "source": [
        "# Definir el número de épocas\n",
        "epochs = 5\n",
        "\n",
        "# Definir el dispositivo a usar (cpu o gpu)\n",
        "device = torch.device(\"cuda\" if torch.cuda.is_available() else \"cpu\")\n",
        "\n",
        "# Mover el modelo al dispositivo\n",
        "model.to(device)"
      ]
    },
    {
      "cell_type": "code",
      "execution_count": null,
      "id": "8962598a-8e58-41bb-b16b-e88816bf20a0",
      "metadata": {
        "id": "8962598a-8e58-41bb-b16b-e88816bf20a0",
        "outputId": "6dde87ab-86f2-4578-9572-703a7baa3ad6"
      },
      "outputs": [
        {
          "name": "stdout",
          "output_type": "stream",
          "text": [
            "Epoch 1, Train loss: 0.6684,  Train acc: 0.6813, Val loss: 0.6601, Val acc: 0.6971\n",
            "Epoch 2, Train loss: 0.6682,  Train acc: 0.6503, Val loss: 0.6601, Val acc: 0.6971\n",
            "Epoch 3, Train loss: 0.6733,  Train acc: 0.6347, Val loss: 0.6601, Val acc: 0.6971\n",
            "Epoch 4, Train loss: 0.6679,  Train acc: 0.6269, Val loss: 0.6601, Val acc: 0.6971\n",
            "Epoch 5, Train loss: 0.6687,  Train acc: 0.6347, Val loss: 0.6601, Val acc: 0.6971\n"
          ]
        }
      ],
      "source": [
        "train_loss_list = []\n",
        "train_acc_list = []\n",
        "\n",
        "val_loss_list = []\n",
        "val_acc_list = []\n",
        "\n",
        "# Entrenar el modelo por el número de épocas definido\n",
        "for epoch in range(epochs):\n",
        "    # Entrenar el modelo con el conjunto de entrenamiento\n",
        "    train_loss, train_labels, train_preds, train_acc = train_epoch(model, train_dataloader, optimizer, criterion)\n",
        "    # Evaluar el modelo con el conjunto de validación\n",
        "    val_loss, val_labels, val_preds, val_acc = eval_epoch(model, val_dataloader, criterion)\n",
        "    # Ajustar la tasa de aprendizaje con el scheduler\n",
        "    scheduler.step()\n",
        "\n",
        "    train_loss_list.append(train_loss)\n",
        "    val_loss_list.append(val_loss)\n",
        "    train_acc_list.append(train_acc)\n",
        "    val_acc_list.append(val_acc)\n",
        "    # Imprimir los resultados de la época\n",
        "    print(f\"Epoch {epoch+1}, Train loss: {train_loss:.4f},  Train acc: {train_acc:.4f}, Val loss: {val_loss:.4f}, Val acc: {val_acc:.4f}\")"
      ]
    },
    {
      "cell_type": "code",
      "execution_count": null,
      "id": "1f89d406-a013-4dc0-a740-cfc402108b12",
      "metadata": {
        "id": "1f89d406-a013-4dc0-a740-cfc402108b12",
        "outputId": "1ebc8899-c010-4296-ebb7-db43eff00b88"
      },
      "outputs": [
        {
          "name": "stdout",
          "output_type": "stream",
          "text": [
            "Test loss: 0.6514, Test acc: 0.7500\n"
          ]
        }
      ],
      "source": [
        "# Probar el modelo con el conjunto de prueba\n",
        "test_loss, test_labels, test_preds, test_acc = eval_epoch(model, test_dataloader, criterion)\n",
        "# Imprimir los resultados del conjunto de prueba\n",
        "print(f\"Test loss: {test_loss:.4f}, Test acc: {test_acc:.4f}\")"
      ]
    },
    {
      "cell_type": "code",
      "execution_count": null,
      "id": "dbc6187d-22af-478a-987c-a85323e600f5",
      "metadata": {
        "id": "dbc6187d-22af-478a-987c-a85323e600f5",
        "outputId": "82f84555-01a6-4431-cfa3-7cde3c4305b9"
      },
      "outputs": [
        {
          "data": {
            "image/png": "[encoded data removed]",
            "text/plain": [
              "<Figure size 1200x600 with 2 Axes>"
            ]
          },
          "metadata": {},
          "output_type": "display_data"
        }
      ],
      "source": [
        "# Graficar las curvas de pérdida y exactitud para el entrenamiento y la validación\n",
        "\n",
        "# Crear una figura con dos subplots (uno para la pérdida y otro para la exactitud)\n",
        "fig, (ax1, ax2) = plt.subplots(1, 2, figsize=(12, 6))\n",
        "\n",
        "# Graficar la pérdida de entrenamiento y validación en el primer subplot\n",
        "ax1.plot(train_loss_list, label=\"Train loss\")\n",
        "ax1.plot(val_loss_list, label=\"Val loss\")\n",
        "ax1.set_xlabel(\"Epoch\")\n",
        "ax1.set_ylabel(\"Loss\")\n",
        "ax1.set_title(\"Loss curves\")\n",
        "ax1.legend()\n",
        "\n",
        "# Graficar la exactitud de entrenamiento y validación en el segundo subplot\n",
        "ax2.plot(train_acc_list, label=\"Train acc\")\n",
        "ax2.plot(val_acc_list, label=\"Val acc\")\n",
        "ax2.set_xlabel(\"Epoch\")\n",
        "ax2.set_ylabel(\"Accuracy\")\n",
        "ax2.set_title(\"Accuracy curves\")\n",
        "ax2.legend()\n",
        "\n",
        "# Mostrar la figura\n",
        "plt.show()"
      ]
    },
    {
      "cell_type": "markdown",
      "id": "f23b9223",
      "metadata": {
        "id": "f23b9223"
      },
      "source": [
        "# 7. Compara los resultados e incluye tus comentarios. En particular, indica si consideras que los comentarios sintéticos fueron de ayuda en este caso."
      ]
    },
    {
      "cell_type": "markdown",
      "id": "9fb9d210",
      "metadata": {
        "id": "9fb9d210"
      },
      "source": [
        "Se encontró que los resultados fueron mejores para el escenario en el que no se introdujeron los datos sintéticos. Esto sugiere que los comentarios sintéticos no fueron de ayuda en este caso específico. Es probable que al introducir los datos sintéticos se haya perdido la distribución natural del sentimiento de los usuarios, lo que generó un conjunto de comentarios que no reflejaba adecuadamente la realidad. [1]\n",
        "\n",
        "Además, entrenar el modelo con una muestra de comentarios sintéticos alejados de la realidad pudo haber dificultado la capacidad del modelo para generalizar y capturar los patrones y características necesarios para la clasificación de sentimientos.\n",
        "\n",
        "En resumen, puntualmente en este caso, la inclusión de los comentarios sintéticos no proporcionó beneficios significativos y posiblemente afectó negativamente el desempeño del modelo al alejarlo de la distribución real de sentimientos.\n",
        "\n",
        "[1] Kumar, S. (2023, January 9). Problems with Synthetic Data - AITUDE. AITUDE. https://www.aitude.com/problems-with-synthetic-data/"
      ]
    }
  ],
  "metadata": {
    "kernelspec": {
      "display_name": "Python 3 (ipykernel)",
      "language": "python",
      "name": "python3"
    },
    "language_info": {
      "codemirror_mode": {
        "name": "ipython",
        "version": 3
      },
      "file_extension": ".py",
      "mimetype": "text/x-python",
      "name": "python",
      "nbconvert_exporter": "python",
      "pygments_lexer": "ipython3",
      "version": "3.9.12"
    },
    "colab": {
      "provenance": [],
      "include_colab_link": true
    }
  },
  "nbformat": 4,
  "nbformat_minor": 5
}