{
  "cells": [
    {
      "attachments": {},
      "cell_type": "markdown",
      "id": "1c7bad3b-0d0a-47e7-baa9-f6537ab2f38f",
      "metadata": {
        "id": "1c7bad3b-0d0a-47e7-baa9-f6537ab2f38f"
      },
      "source": [
        "![image.png](data:image/png;base64,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)"
      ]
    },
    {
      "attachments": {},
      "cell_type": "markdown",
      "id": "12b3ca1e-2b2c-4588-922f-7a24ad152612",
      "metadata": {
        "id": "12b3ca1e-2b2c-4588-922f-7a24ad152612"
      },
      "source": [
        "# **Maestría en Inteligencia Artificial Aplicada**\n",
        "## **Curso: Estrategia de implementación de servicios tecnológicos**\n",
        "### Tecnológico de Monterrey\n",
        "### Prof Luis Eduardo Falcón Morales\n",
        "\n",
        "## **6.3 Actividad**\n",
        "## Actividad en Equipos - Semanas 6 y 7:\n",
        "\n",
        "### **Modelado de Tópicos - LSI/LDA**\n",
        "____________"
      ]
    },
    {
      "attachments": {},
      "cell_type": "markdown",
      "id": "a93d8e04-5ce1-4feb-941e-f896eb98204e",
      "metadata": {
        "id": "a93d8e04-5ce1-4feb-941e-f896eb98204e"
      },
      "source": [
        "## Equipo 12\n",
        "> - Francisco Javier Parga Garcia  **A01794380**\n",
        ">\n",
        "> - Enrique Hernández García **A01793727**\n",
        ">\n",
        "> - Matthias Sibrian Illescas **A01794249**\n",
        ">\n",
        "> - Alejandro Tomás Mackey **A01164338**\n",
        ">\n",
        "> - Ignacio Valdés Reyes **A0179326**\n",
        "\n",
        "\n"
      ]
    },
    {
      "attachments": {},
      "cell_type": "markdown",
      "id": "f2a42f5d-984b-4cb1-a752-f2e3c048f77d",
      "metadata": {
        "id": "f2a42f5d-984b-4cb1-a752-f2e3c048f77d"
      },
      "source": [
        "# 0. Librerias¶"
      ]
    },
    {
      "cell_type": "code",
      "execution_count": 2,
      "id": "5a8a6d1c-1f51-40a7-8850-5b91feb66f8f",
      "metadata": {
        "colab": {
          "base_uri": "https://localhost:8080/"
        },
        "id": "5a8a6d1c-1f51-40a7-8850-5b91feb66f8f",
        "outputId": "6fbad94c-216b-4b61-c494-687a13c1d245"
      },
      "outputs": [
        {
          "name": "stderr",
          "output_type": "stream",
          "text": [
            "\n",
            "[notice] A new release of pip available: 22.3.1 -> 23.1.2\n",
            "[notice] To update, run: python.exe -m pip install --upgrade pip\n",
            "\n",
            "[notice] A new release of pip available: 22.3.1 -> 23.1.2\n",
            "[notice] To update, run: python.exe -m pip install --upgrade pip\n",
            "\n",
            "[notice] A new release of pip available: 22.3.1 -> 23.1.2\n",
            "[notice] To update, run: python.exe -m pip install --upgrade pip\n"
          ]
        },
        {
          "name": "stdout",
          "output_type": "stream",
          "text": [
            "Collecting es-core-news-sm==3.5.0\n",
            "  Downloading https://github.com/explosion/spacy-models/releases/download/es_core_news_sm-3.5.0/es_core_news_sm-3.5.0-py3-none-any.whl (12.9 MB)\n",
            "     ---------------------------------------- 12.9/12.9 MB 3.8 MB/s eta 0:00:00\n",
            "Requirement already satisfied: spacy<3.6.0,>=3.5.0 in c:\\users\\matth\\anaconda3\\lib\\site-packages (from es-core-news-sm==3.5.0) (3.5.3)\n",
            "Requirement already satisfied: murmurhash<1.1.0,>=0.28.0 in c:\\users\\matth\\anaconda3\\lib\\site-packages (from spacy<3.6.0,>=3.5.0->es-core-news-sm==3.5.0) (1.0.9)\n",
            "Requirement already satisfied: smart-open<7.0.0,>=5.2.1 in c:\\users\\matth\\anaconda3\\lib\\site-packages (from spacy<3.6.0,>=3.5.0->es-core-news-sm==3.5.0) (6.3.0)\n",
            "Requirement already satisfied: requests<3.0.0,>=2.13.0 in c:\\users\\matth\\anaconda3\\lib\\site-packages (from spacy<3.6.0,>=3.5.0->es-core-news-sm==3.5.0) (2.27.1)\n",
            "Requirement already satisfied: typer<0.8.0,>=0.3.0 in c:\\users\\matth\\anaconda3\\lib\\site-packages (from spacy<3.6.0,>=3.5.0->es-core-news-sm==3.5.0) (0.7.0)\n",
            "Requirement already satisfied: spacy-legacy<3.1.0,>=3.0.11 in c:\\users\\matth\\anaconda3\\lib\\site-packages (from spacy<3.6.0,>=3.5.0->es-core-news-sm==3.5.0) (3.0.12)\n",
            "Requirement already satisfied: cymem<2.1.0,>=2.0.2 in c:\\users\\matth\\anaconda3\\lib\\site-packages (from spacy<3.6.0,>=3.5.0->es-core-news-sm==3.5.0) (2.0.7)\n",
            "Requirement already satisfied: jinja2 in c:\\users\\matth\\anaconda3\\lib\\site-packages (from spacy<3.6.0,>=3.5.0->es-core-news-sm==3.5.0) (3.1.2)\n",
            "Requirement already satisfied: pydantic!=1.8,!=1.8.1,<1.11.0,>=1.7.4 in c:\\users\\matth\\anaconda3\\lib\\site-packages (from spacy<3.6.0,>=3.5.0->es-core-news-sm==3.5.0) (1.9.2)\n",
            "Requirement already satisfied: langcodes<4.0.0,>=3.2.0 in c:\\users\\matth\\anaconda3\\lib\\site-packages (from spacy<3.6.0,>=3.5.0->es-core-news-sm==3.5.0) (3.3.0)\n",
            "Requirement already satisfied: spacy-loggers<2.0.0,>=1.0.0 in c:\\users\\matth\\anaconda3\\lib\\site-packages (from spacy<3.6.0,>=3.5.0->es-core-news-sm==3.5.0) (1.0.4)\n",
            "Requirement already satisfied: tqdm<5.0.0,>=4.38.0 in c:\\users\\matth\\anaconda3\\lib\\site-packages (from spacy<3.6.0,>=3.5.0->es-core-news-sm==3.5.0) (4.64.0)\n",
            "Requirement already satisfied: pathy>=0.10.0 in c:\\users\\matth\\anaconda3\\lib\\site-packages (from spacy<3.6.0,>=3.5.0->es-core-news-sm==3.5.0) (0.10.1)\n",
            "Requirement already satisfied: wasabi<1.2.0,>=0.9.1 in c:\\users\\matth\\anaconda3\\lib\\site-packages (from spacy<3.6.0,>=3.5.0->es-core-news-sm==3.5.0) (1.1.2)\n",
            "Requirement already satisfied: srsly<3.0.0,>=2.4.3 in c:\\users\\matth\\anaconda3\\lib\\site-packages (from spacy<3.6.0,>=3.5.0->es-core-news-sm==3.5.0) (2.4.6)\n",
            "Requirement already satisfied: catalogue<2.1.0,>=2.0.6 in c:\\users\\matth\\anaconda3\\lib\\site-packages (from spacy<3.6.0,>=3.5.0->es-core-news-sm==3.5.0) (2.0.8)\n",
            "Requirement already satisfied: preshed<3.1.0,>=3.0.2 in c:\\users\\matth\\anaconda3\\lib\\site-packages (from spacy<3.6.0,>=3.5.0->es-core-news-sm==3.5.0) (3.0.8)\n",
            "Requirement already satisfied: thinc<8.2.0,>=8.1.8 in c:\\users\\matth\\anaconda3\\lib\\site-packages (from spacy<3.6.0,>=3.5.0->es-core-news-sm==3.5.0) (8.1.10)\n",
            "Requirement already satisfied: setuptools in c:\\users\\matth\\anaconda3\\lib\\site-packages (from spacy<3.6.0,>=3.5.0->es-core-news-sm==3.5.0) (65.6.3)\n",
            "Requirement already satisfied: packaging>=20.0 in c:\\users\\matth\\anaconda3\\lib\\site-packages (from spacy<3.6.0,>=3.5.0->es-core-news-sm==3.5.0) (22.0)\n",
            "Requirement already satisfied: numpy>=1.15.0 in c:\\users\\matth\\anaconda3\\lib\\site-packages (from spacy<3.6.0,>=3.5.0->es-core-news-sm==3.5.0) (1.21.5)\n",
            "Requirement already satisfied: typing-extensions>=3.7.4.3 in c:\\users\\matth\\anaconda3\\lib\\site-packages (from pydantic!=1.8,!=1.8.1,<1.11.0,>=1.7.4->spacy<3.6.0,>=3.5.0->es-core-news-sm==3.5.0) (4.1.1)\n",
            "Requirement already satisfied: certifi>=2017.4.17 in c:\\users\\matth\\anaconda3\\lib\\site-packages (from requests<3.0.0,>=2.13.0->spacy<3.6.0,>=3.5.0->es-core-news-sm==3.5.0) (2021.10.8)\n",
            "Requirement already satisfied: charset-normalizer~=2.0.0 in c:\\users\\matth\\anaconda3\\lib\\site-packages (from requests<3.0.0,>=2.13.0->spacy<3.6.0,>=3.5.0->es-core-news-sm==3.5.0) (2.0.4)\n",
            "Requirement already satisfied: urllib3<1.27,>=1.21.1 in c:\\users\\matth\\anaconda3\\lib\\site-packages (from requests<3.0.0,>=2.13.0->spacy<3.6.0,>=3.5.0->es-core-news-sm==3.5.0) (1.26.9)\n",
            "Requirement already satisfied: idna<4,>=2.5 in c:\\users\\matth\\anaconda3\\lib\\site-packages (from requests<3.0.0,>=2.13.0->spacy<3.6.0,>=3.5.0->es-core-news-sm==3.5.0) (3.3)\n",
            "Requirement already satisfied: blis<0.8.0,>=0.7.8 in c:\\users\\matth\\anaconda3\\lib\\site-packages (from thinc<8.2.0,>=8.1.8->spacy<3.6.0,>=3.5.0->es-core-news-sm==3.5.0) (0.7.9)\n",
            "Requirement already satisfied: confection<1.0.0,>=0.0.1 in c:\\users\\matth\\anaconda3\\lib\\site-packages (from thinc<8.2.0,>=8.1.8->spacy<3.6.0,>=3.5.0->es-core-news-sm==3.5.0) (0.0.4)\n",
            "Requirement already satisfied: colorama in c:\\users\\matth\\anaconda3\\lib\\site-packages (from tqdm<5.0.0,>=4.38.0->spacy<3.6.0,>=3.5.0->es-core-news-sm==3.5.0) (0.4.6)\n",
            "Requirement already satisfied: click<9.0.0,>=7.1.1 in c:\\users\\matth\\anaconda3\\lib\\site-packages (from typer<0.8.0,>=0.3.0->spacy<3.6.0,>=3.5.0->es-core-news-sm==3.5.0) (8.0.4)\n",
            "Requirement already satisfied: MarkupSafe>=2.0 in c:\\users\\matth\\anaconda3\\lib\\site-packages (from jinja2->spacy<3.6.0,>=3.5.0->es-core-news-sm==3.5.0) (2.1.1)\n",
            "\u001b[38;5;2m✔ Download and installation successful\u001b[0m\n",
            "You can now load the package via spacy.load('es_core_news_sm')\n"
          ]
        },
        {
          "name": "stderr",
          "output_type": "stream",
          "text": [
            "\n",
            "[notice] A new release of pip available: 22.3.1 -> 23.1.2\n",
            "[notice] To update, run: python.exe -m pip install --upgrade pip\n"
          ]
        }
      ],
      "source": [
        "!pip install -q nltk\n",
        "!pip install -q langdetect\n",
        "!pip install -q spacy\n",
        "!python -m spacy download es_core_news_sm"
      ]
    },
    {
      "cell_type": "code",
      "execution_count": 3,
      "id": "5d4ec2c0-44e5-4fe9-b276-61b83c3a4b88",
      "metadata": {
        "colab": {
          "base_uri": "https://localhost:8080/"
        },
        "id": "5d4ec2c0-44e5-4fe9-b276-61b83c3a4b88",
        "outputId": "0fbd475f-18ba-4176-b5c8-4cb7ec82f355"
      },
      "outputs": [
        {
          "name": "stderr",
          "output_type": "stream",
          "text": [
            "c:\\Users\\matth\\anaconda3\\lib\\site-packages\\seaborn\\rcmod.py:82: DeprecationWarning: distutils Version classes are deprecated. Use packaging.version instead.\n",
            "  if LooseVersion(mpl.__version__) >= \"3.0\":\n",
            "c:\\Users\\matth\\anaconda3\\lib\\site-packages\\setuptools\\_distutils\\version.py:346: DeprecationWarning: distutils Version classes are deprecated. Use packaging.version instead.\n",
            "  other = LooseVersion(other)\n",
            "[nltk_data] Downloading package stopwords to\n",
            "[nltk_data]     C:\\Users\\matth\\AppData\\Roaming\\nltk_data...\n",
            "[nltk_data]   Package stopwords is already up-to-date!\n",
            "[nltk_data] Downloading package punkt to\n",
            "[nltk_data]     C:\\Users\\matth\\AppData\\Roaming\\nltk_data...\n",
            "[nltk_data]   Package punkt is already up-to-date!\n"
          ]
        },
        {
          "data": {
            "text/plain": [
              "True"
            ]
          },
          "execution_count": 3,
          "metadata": {},
          "output_type": "execute_result"
        }
      ],
      "source": [
        "import re\n",
        "import nltk\n",
        "import spacy\n",
        "import pandas as pd\n",
        "import ipywidgets as widgets\n",
        "from tqdm.notebook import tqdm\n",
        "from sklearn.feature_extraction.text import TfidfVectorizer\n",
        "from sklearn.decomposition import TruncatedSVD\n",
        "import matplotlib.pyplot as plt\n",
        "import seaborn as sns\n",
        "\n",
        "from nltk.corpus import stopwords\n",
        "\n",
        "\n",
        "nltk.download('stopwords')\n",
        "nltk.download('punkt')"
      ]
    },
    {
      "attachments": {},
      "cell_type": "markdown",
      "id": "fee19338-073e-4ba0-acf0-54ddb9f615e1",
      "metadata": {
        "id": "fee19338-073e-4ba0-acf0-54ddb9f615e1"
      },
      "source": [
        "# 1. Carga del dato"
      ]
    },
    {
      "cell_type": "code",
      "execution_count": 4,
      "id": "106e3976-2b24-4662-96b5-ac29592f4e9f",
      "metadata": {
        "colab": {
          "base_uri": "https://localhost:8080/",
          "height": 204
        },
        "id": "106e3976-2b24-4662-96b5-ac29592f4e9f",
        "outputId": "a0cd843b-dc70-43a9-a80d-d222b579425f"
      },
      "outputs": [
        {
          "data": {
            "text/html": [
              "<div>\n",
              "<style scoped>\n",
              "    .dataframe tbody tr th:only-of-type {\n",
              "        vertical-align: middle;\n",
              "    }\n",
              "\n",
              "    .dataframe tbody tr th {\n",
              "        vertical-align: top;\n",
              "    }\n",
              "\n",
              "    .dataframe thead th {\n",
              "        text-align: right;\n",
              "    }\n",
              "</style>\n",
              "<table border=\"1\" class=\"dataframe\">\n",
              "  <thead>\n",
              "    <tr style=\"text-align: right;\">\n",
              "      <th></th>\n",
              "      <th>titular</th>\n",
              "      <th>texto</th>\n",
              "    </tr>\n",
              "  </thead>\n",
              "  <tbody>\n",
              "    <tr>\n",
              "      <th>0</th>\n",
              "      <td>Vox se sube a la ola de la extrema derecha eur...</td>\n",
              "      <td>\"España ha dejado de ser católica\", decía Manu...</td>\n",
              "    </tr>\n",
              "    <tr>\n",
              "      <th>1</th>\n",
              "      <td>Mensajes xenófobos de Vox y la cancelación de ...</td>\n",
              "      <td>El clima de crispación social en Ceuta ha lleg...</td>\n",
              "    </tr>\n",
              "    <tr>\n",
              "      <th>2</th>\n",
              "      <td>El Gobierno alega el estado de alarma para no ...</td>\n",
              "      <td>El Gobierno ha alegado la suspensión de plazos...</td>\n",
              "    </tr>\n",
              "    <tr>\n",
              "      <th>3</th>\n",
              "      <td>La fiscala</td>\n",
              "      <td>Puedes mandar tu pregunta, sugerencia o queja ...</td>\n",
              "    </tr>\n",
              "    <tr>\n",
              "      <th>4</th>\n",
              "      <td>La CorteIDH pide a Panamá informe sobre migran...</td>\n",
              "      <td>Panamá debe entregar esta semana a la Corte In...</td>\n",
              "    </tr>\n",
              "  </tbody>\n",
              "</table>\n",
              "</div>"
            ],
            "text/plain": [
              "                                             titular  \\\n",
              "0  Vox se sube a la ola de la extrema derecha eur...   \n",
              "1  Mensajes xenófobos de Vox y la cancelación de ...   \n",
              "2  El Gobierno alega el estado de alarma para no ...   \n",
              "3                                         La fiscala   \n",
              "4  La CorteIDH pide a Panamá informe sobre migran...   \n",
              "\n",
              "                                               texto  \n",
              "0  \"España ha dejado de ser católica\", decía Manu...  \n",
              "1  El clima de crispación social en Ceuta ha lleg...  \n",
              "2  El Gobierno ha alegado la suspensión de plazos...  \n",
              "3  Puedes mandar tu pregunta, sugerencia o queja ...  \n",
              "4  Panamá debe entregar esta semana a la Corte In...  "
            ]
          },
          "execution_count": 4,
          "metadata": {},
          "output_type": "execute_result"
        }
      ],
      "source": [
        "# Descargar y cargar el modelo de spaCy para español\n",
        "nlp = spacy.load('es_core_news_sm')\n",
        "\n",
        "# Cargar el archivo y crear el DataFrame\n",
        "with open('noticiasTopicModeling.txt', 'r', encoding='utf-8') as file:\n",
        "    noticias = eval(file.read())  # Cargar el contenido del archivo como una lista de diccionarios\n",
        "\n",
        "df = pd.DataFrame(noticias)\n",
        "df.head()"
      ]
    },
    {
      "attachments": {},
      "cell_type": "markdown",
      "id": "7b06ed57-89f0-4586-b80c-ccf23999eedd",
      "metadata": {
        "id": "7b06ed57-89f0-4586-b80c-ccf23999eedd"
      },
      "source": [
        "# 2. Limpieza del texto"
      ]
    },
    {
      "cell_type": "code",
      "execution_count": 5,
      "id": "633fc619-75f7-479b-a20a-97c2ca4a425c",
      "metadata": {
        "colab": {
          "base_uri": "https://localhost:8080/",
          "height": 365,
          "referenced_widgets": [
            "7df956d3eb834490916b8887cb787607",
            "48112ba5251e4e799d5bc7bea2022119",
            "c80c5955024a4f7a8343a6e6a7d823cf",
            "ead25e7920064335aad369fbee321212",
            "bcee810fcbeb493f83887d2492a75edf",
            "0ec1d6c7bbab4bb099a751ecd0f423de",
            "f74725152402405f873075c7392bf2ee",
            "7fef456769d546abbfb306e0b6b1d9bc",
            "18864d8092c843ea8a6dd2a4c8cf03b3",
            "e26058f1b6b0445b90a2cddb3c1a6e60",
            "6795989f732c4cf1ab177245839832e0"
          ]
        },
        "id": "633fc619-75f7-479b-a20a-97c2ca4a425c",
        "outputId": "4bdb92f8-0f9c-4b56-ead1-12fb51ab3464"
      },
      "outputs": [
        {
          "data": {
            "application/vnd.jupyter.widget-view+json": {
              "model_id": "099348b7711e47fa80154b69832b32f5",
              "version_major": 2,
              "version_minor": 0
            },
            "text/plain": [
              "  0%|          | 0/5658 [00:00<?, ?it/s]"
            ]
          },
          "metadata": {},
          "output_type": "display_data"
        },
        {
          "data": {
            "text/html": [
              "<div>\n",
              "<style scoped>\n",
              "    .dataframe tbody tr th:only-of-type {\n",
              "        vertical-align: middle;\n",
              "    }\n",
              "\n",
              "    .dataframe tbody tr th {\n",
              "        vertical-align: top;\n",
              "    }\n",
              "\n",
              "    .dataframe thead th {\n",
              "        text-align: right;\n",
              "    }\n",
              "</style>\n",
              "<table border=\"1\" class=\"dataframe\">\n",
              "  <thead>\n",
              "    <tr style=\"text-align: right;\">\n",
              "      <th></th>\n",
              "      <th>titular</th>\n",
              "      <th>texto</th>\n",
              "      <th>noticia</th>\n",
              "    </tr>\n",
              "  </thead>\n",
              "  <tbody>\n",
              "    <tr>\n",
              "      <th>0</th>\n",
              "      <td>Vox se sube a la ola de la extrema derecha eur...</td>\n",
              "      <td>España ha dejado de ser católica decía Manuel ...</td>\n",
              "      <td>españa haber dejar ser católico decir manuel a...</td>\n",
              "    </tr>\n",
              "    <tr>\n",
              "      <th>1</th>\n",
              "      <td>Mensajes xenófobos de Vox y la cancelación de ...</td>\n",
              "      <td>El clima de crispación social en Ceuta ha lleg...</td>\n",
              "      <td>clima crispación social ceuta haber llegar pun...</td>\n",
              "    </tr>\n",
              "    <tr>\n",
              "      <th>2</th>\n",
              "      <td>El Gobierno alega el estado de alarma para no ...</td>\n",
              "      <td>El Gobierno ha alegado la suspensión de plazos...</td>\n",
              "      <td>gobierno haber alegar suspensión plazo derivad...</td>\n",
              "    </tr>\n",
              "    <tr>\n",
              "      <th>3</th>\n",
              "      <td>La fiscala</td>\n",
              "      <td>Puedes mandar tu pregunta sugerencia o queja a...</td>\n",
              "      <td>poder mandar pregunta sugerencia queja través ...</td>\n",
              "    </tr>\n",
              "    <tr>\n",
              "      <th>4</th>\n",
              "      <td>La CorteIDH pide a Panamá informe sobre migran...</td>\n",
              "      <td>Panamá debe entregar esta semana a la Corte In...</td>\n",
              "      <td>panamá deber entregar semana corte interameric...</td>\n",
              "    </tr>\n",
              "  </tbody>\n",
              "</table>\n",
              "</div>"
            ],
            "text/plain": [
              "                                             titular  \\\n",
              "0  Vox se sube a la ola de la extrema derecha eur...   \n",
              "1  Mensajes xenófobos de Vox y la cancelación de ...   \n",
              "2  El Gobierno alega el estado de alarma para no ...   \n",
              "3                                         La fiscala   \n",
              "4  La CorteIDH pide a Panamá informe sobre migran...   \n",
              "\n",
              "                                               texto  \\\n",
              "0  España ha dejado de ser católica decía Manuel ...   \n",
              "1  El clima de crispación social en Ceuta ha lleg...   \n",
              "2  El Gobierno ha alegado la suspensión de plazos...   \n",
              "3  Puedes mandar tu pregunta sugerencia o queja a...   \n",
              "4  Panamá debe entregar esta semana a la Corte In...   \n",
              "\n",
              "                                             noticia  \n",
              "0  españa haber dejar ser católico decir manuel a...  \n",
              "1  clima crispación social ceuta haber llegar pun...  \n",
              "2  gobierno haber alegar suspensión plazo derivad...  \n",
              "3  poder mandar pregunta sugerencia queja través ...  \n",
              "4  panamá deber entregar semana corte interameric...  "
            ]
          },
          "execution_count": 5,
          "metadata": {},
          "output_type": "execute_result"
        }
      ],
      "source": [
        "df['texto'] = df['texto'].apply(lambda x: re.sub(r'[^\\w\\s]', '', x))  # Eliminar signos de puntuación\n",
        "\n",
        "# Realizar el preprocesamiento de texto\n",
        "stop_words = set(stopwords.words('spanish'))\n",
        "\n",
        "preprocessed_text = []\n",
        "preprocessed_tokens = []\n",
        "for text in tqdm(df['texto']):\n",
        "    text = text.lower()\n",
        "    doc = nlp(text)\n",
        "    filtered_tokens = [token.lemma_ for token in doc if token.is_alpha and token.lemma_ not in stop_words]\n",
        "    preprocessed_text.append(' '.join(filtered_tokens))\n",
        "    preprocessed_tokens.append(filtered_tokens)\n",
        "\n",
        "df['noticia'] = preprocessed_text\n",
        "df.head()"
      ]
    },
    {
      "attachments": {},
      "cell_type": "markdown",
      "id": "116e6f1a-2457-43ca-9b63-ac06883e3d2a",
      "metadata": {
        "id": "116e6f1a-2457-43ca-9b63-ac06883e3d2a"
      },
      "source": [
        "# 3. ¿Por qué en este caso no requerimos hacer una partición en entrenamiento, validación y prueba?"
      ]
    },
    {
      "attachments": {},
      "cell_type": "markdown",
      "id": "70e63f30-fc67-4644-a277-67559770b2f2",
      "metadata": {
        "id": "70e63f30-fc67-4644-a277-67559770b2f2"
      },
      "source": [
        "Porque es una tarea no supervisada de aprendizaje automático.\n",
        "\n",
        "En el aprendizaje supervisado, separamos nuestros datos en conjuntos de entrenamiento, validación y prueba para poder entrenar nuestro modelo, ajustarlo y evaluarlo.\n",
        "\n",
        "Sin embargo, en el modelado de temas (aprendizaje no supervisado), nuestro objetivo no es predecir, es encontrar patrones o estructuras en los datos; por ejemplo: los \"temas\" que aparecen en los textos de las noticias."
      ]
    },
    {
      "attachments": {},
      "cell_type": "markdown",
      "id": "9f9c1c13-c4fb-492a-9724-5af9c99d82d1",
      "metadata": {
        "id": "9f9c1c13-c4fb-492a-9724-5af9c99d82d1"
      },
      "source": [
        "# 4. Matriz Tf-idf "
      ]
    },
    {
      "cell_type": "code",
      "execution_count": 6,
      "id": "96d40c5f-0ad1-4087-950d-8ba737e55af5",
      "metadata": {
        "colab": {
          "base_uri": "https://localhost:8080/",
          "height": 49,
          "referenced_widgets": [
            "962fabfb58b748338a00b2d5f0dd295d",
            "ad7dcbd1ddd64e6f9354e97b6661ccec",
            "c430273f7b90435a830770ed926e2fcb",
            "eda6e9c0865147418c5b629756cef058",
            "84691677ef594a39be33fef251bf8bed",
            "5247c6ba24fb492d9ccd12aeed21cceb",
            "66fa5c91dc6c499680d5f3e376c8b3d1",
            "838baa95e8df47deba07fbd851bbf50a",
            "04e1b4e6da4a4ea99d8f0401b0a999be",
            "e3a294764078425ea7fb59ed0f9ed1dd",
            "da6b813cab444055a30c96c1eaae488b"
          ]
        },
        "id": "96d40c5f-0ad1-4087-950d-8ba737e55af5",
        "outputId": "b972d6ba-aded-4553-aaae-bbde515acc6d"
      },
      "outputs": [
        {
          "data": {
            "application/vnd.jupyter.widget-view+json": {
              "model_id": "1e6f257f91a6420589ce1790b29b6efb",
              "version_major": 2,
              "version_minor": 0
            },
            "text/plain": [
              "  0%|          | 0/12384 [00:00<?, ?it/s]"
            ]
          },
          "metadata": {},
          "output_type": "display_data"
        },
        {
          "data": {
            "text/html": [
              "<div>\n",
              "<style scoped>\n",
              "    .dataframe tbody tr th:only-of-type {\n",
              "        vertical-align: middle;\n",
              "    }\n",
              "\n",
              "    .dataframe tbody tr th {\n",
              "        vertical-align: top;\n",
              "    }\n",
              "\n",
              "    .dataframe thead th {\n",
              "        text-align: right;\n",
              "    }\n",
              "</style>\n",
              "<table border=\"1\" class=\"dataframe\">\n",
              "  <thead>\n",
              "    <tr style=\"text-align: right;\">\n",
              "      <th></th>\n",
              "      <th>abad</th>\n",
              "      <th>abadía</th>\n",
              "      <th>abajo</th>\n",
              "      <th>abanderar</th>\n",
              "      <th>abandonado</th>\n",
              "      <th>abandonar</th>\n",
              "      <th>abandono</th>\n",
              "      <th>abanico</th>\n",
              "      <th>abaratar</th>\n",
              "      <th>abarcar</th>\n",
              "      <th>...</th>\n",
              "      <th>órdago</th>\n",
              "      <th>órden</th>\n",
              "      <th>órgano</th>\n",
              "      <th>óscar</th>\n",
              "      <th>últimamente</th>\n",
              "      <th>último</th>\n",
              "      <th>única</th>\n",
              "      <th>únicamente</th>\n",
              "      <th>único</th>\n",
              "      <th>útil</th>\n",
              "    </tr>\n",
              "  </thead>\n",
              "  <tbody>\n",
              "    <tr>\n",
              "      <th>0</th>\n",
              "      <td>0.0</td>\n",
              "      <td>0.0</td>\n",
              "      <td>0.0</td>\n",
              "      <td>0.0</td>\n",
              "      <td>0.0</td>\n",
              "      <td>0.000000</td>\n",
              "      <td>0.0</td>\n",
              "      <td>0.0</td>\n",
              "      <td>0.0</td>\n",
              "      <td>0.0</td>\n",
              "      <td>...</td>\n",
              "      <td>0.0</td>\n",
              "      <td>0.0</td>\n",
              "      <td>0.0</td>\n",
              "      <td>0.0</td>\n",
              "      <td>0.0</td>\n",
              "      <td>0.017003</td>\n",
              "      <td>0.0</td>\n",
              "      <td>0.0</td>\n",
              "      <td>0.0</td>\n",
              "      <td>0.0</td>\n",
              "    </tr>\n",
              "    <tr>\n",
              "      <th>1</th>\n",
              "      <td>0.0</td>\n",
              "      <td>0.0</td>\n",
              "      <td>0.0</td>\n",
              "      <td>0.0</td>\n",
              "      <td>0.0</td>\n",
              "      <td>0.019957</td>\n",
              "      <td>0.0</td>\n",
              "      <td>0.0</td>\n",
              "      <td>0.0</td>\n",
              "      <td>0.0</td>\n",
              "      <td>...</td>\n",
              "      <td>0.0</td>\n",
              "      <td>0.0</td>\n",
              "      <td>0.0</td>\n",
              "      <td>0.0</td>\n",
              "      <td>0.0</td>\n",
              "      <td>0.026999</td>\n",
              "      <td>0.0</td>\n",
              "      <td>0.0</td>\n",
              "      <td>0.0</td>\n",
              "      <td>0.0</td>\n",
              "    </tr>\n",
              "    <tr>\n",
              "      <th>2</th>\n",
              "      <td>0.0</td>\n",
              "      <td>0.0</td>\n",
              "      <td>0.0</td>\n",
              "      <td>0.0</td>\n",
              "      <td>0.0</td>\n",
              "      <td>0.000000</td>\n",
              "      <td>0.0</td>\n",
              "      <td>0.0</td>\n",
              "      <td>0.0</td>\n",
              "      <td>0.0</td>\n",
              "      <td>...</td>\n",
              "      <td>0.0</td>\n",
              "      <td>0.0</td>\n",
              "      <td>0.0</td>\n",
              "      <td>0.0</td>\n",
              "      <td>0.0</td>\n",
              "      <td>0.013087</td>\n",
              "      <td>0.0</td>\n",
              "      <td>0.0</td>\n",
              "      <td>0.0</td>\n",
              "      <td>0.0</td>\n",
              "    </tr>\n",
              "    <tr>\n",
              "      <th>3</th>\n",
              "      <td>0.0</td>\n",
              "      <td>0.0</td>\n",
              "      <td>0.0</td>\n",
              "      <td>0.0</td>\n",
              "      <td>0.0</td>\n",
              "      <td>0.000000</td>\n",
              "      <td>0.0</td>\n",
              "      <td>0.0</td>\n",
              "      <td>0.0</td>\n",
              "      <td>0.0</td>\n",
              "      <td>...</td>\n",
              "      <td>0.0</td>\n",
              "      <td>0.0</td>\n",
              "      <td>0.0</td>\n",
              "      <td>0.0</td>\n",
              "      <td>0.0</td>\n",
              "      <td>0.000000</td>\n",
              "      <td>0.0</td>\n",
              "      <td>0.0</td>\n",
              "      <td>0.0</td>\n",
              "      <td>0.0</td>\n",
              "    </tr>\n",
              "    <tr>\n",
              "      <th>4</th>\n",
              "      <td>0.0</td>\n",
              "      <td>0.0</td>\n",
              "      <td>0.0</td>\n",
              "      <td>0.0</td>\n",
              "      <td>0.0</td>\n",
              "      <td>0.000000</td>\n",
              "      <td>0.0</td>\n",
              "      <td>0.0</td>\n",
              "      <td>0.0</td>\n",
              "      <td>0.0</td>\n",
              "      <td>...</td>\n",
              "      <td>0.0</td>\n",
              "      <td>0.0</td>\n",
              "      <td>0.0</td>\n",
              "      <td>0.0</td>\n",
              "      <td>0.0</td>\n",
              "      <td>0.000000</td>\n",
              "      <td>0.0</td>\n",
              "      <td>0.0</td>\n",
              "      <td>0.0</td>\n",
              "      <td>0.0</td>\n",
              "    </tr>\n",
              "  </tbody>\n",
              "</table>\n",
              "<p>5 rows × 12384 columns</p>\n",
              "</div>"
            ],
            "text/plain": [
              "   abad  abadía  abajo  abanderar  abandonado  abandonar  abandono  abanico  \\\n",
              "0   0.0     0.0    0.0        0.0         0.0   0.000000       0.0      0.0   \n",
              "1   0.0     0.0    0.0        0.0         0.0   0.019957       0.0      0.0   \n",
              "2   0.0     0.0    0.0        0.0         0.0   0.000000       0.0      0.0   \n",
              "3   0.0     0.0    0.0        0.0         0.0   0.000000       0.0      0.0   \n",
              "4   0.0     0.0    0.0        0.0         0.0   0.000000       0.0      0.0   \n",
              "\n",
              "   abaratar  abarcar  ...  órdago  órden  órgano  óscar  últimamente  \\\n",
              "0       0.0      0.0  ...     0.0    0.0     0.0    0.0          0.0   \n",
              "1       0.0      0.0  ...     0.0    0.0     0.0    0.0          0.0   \n",
              "2       0.0      0.0  ...     0.0    0.0     0.0    0.0          0.0   \n",
              "3       0.0      0.0  ...     0.0    0.0     0.0    0.0          0.0   \n",
              "4       0.0      0.0  ...     0.0    0.0     0.0    0.0          0.0   \n",
              "\n",
              "     último  única  únicamente  único  útil  \n",
              "0  0.017003    0.0         0.0    0.0   0.0  \n",
              "1  0.026999    0.0         0.0    0.0   0.0  \n",
              "2  0.013087    0.0         0.0    0.0   0.0  \n",
              "3  0.000000    0.0         0.0    0.0   0.0  \n",
              "4  0.000000    0.0         0.0    0.0   0.0  \n",
              "\n",
              "[5 rows x 12384 columns]"
            ]
          },
          "metadata": {},
          "output_type": "display_data"
        }
      ],
      "source": [
        "# Calcular la matriz Tf-idf\n",
        "vectorizer = TfidfVectorizer(min_df=10)\n",
        "tfidf_matrix = vectorizer.fit_transform(df['noticia'])\n",
        "\n",
        "# Obtener los nombres de las características y eliminar las columnas que no son palabras en español\n",
        "feature_names = vectorizer.get_feature_names_out()\n",
        "keep_columns = []\n",
        "\n",
        "for col in tqdm(range(tfidf_matrix.shape[1])):\n",
        "    token = feature_names[col]\n",
        "    doc = nlp(token)\n",
        "    if doc.has_vector:\n",
        "        keep_columns.append(col)\n",
        "\n",
        "tfidf_matrix = tfidf_matrix[:, keep_columns]\n",
        "feature_names = [feature_names[col] for col in keep_columns]\n",
        "\n",
        "# Crear el DataFrame con los valores de Tf-idf\n",
        "df_tfidf = pd.DataFrame(tfidf_matrix.toarray(), columns=feature_names)\n",
        "display(df_tfidf.head())"
      ]
    },
    {
      "attachments": {},
      "cell_type": "markdown",
      "id": "0c5bd7a5-397e-42ec-9ff6-032f75a7b83c",
      "metadata": {
        "id": "0c5bd7a5-397e-42ec-9ff6-032f75a7b83c"
      },
      "source": [
        "## ¿Cuál es el significado de cada renglón? ¿Y el significado de cada columna?"
      ]
    },
    {
      "attachments": {},
      "cell_type": "markdown",
      "id": "81e4df68-11c2-422a-af7c-086852050c54",
      "metadata": {
        "id": "81e4df68-11c2-422a-af7c-086852050c54"
      },
      "source": [
        "> Cada renglón de la matriz corresponde a un documento (una noticia) y cada columna corresponde a una palabra (una característica). El valor de cada celda es el peso Tf-idf de esa palabra en ese documento. Un valor alto significa que la palabra es relevante para el documento, y un valor bajo significa que la palabra es común o irrelevante."
      ]
    },
    {
      "attachments": {},
      "cell_type": "markdown",
      "id": "14682763-8d2f-480e-a2aa-9ff8ac6a4e54",
      "metadata": {
        "id": "14682763-8d2f-480e-a2aa-9ff8ac6a4e54"
      },
      "source": [
        "# 5.  Descomposición de valores singulares truncado a la matriz Tf-idf"
      ]
    },
    {
      "cell_type": "code",
      "execution_count": 7,
      "id": "d9a213f4-2a5b-4673-a364-c9e4b0cd262c",
      "metadata": {
        "id": "d9a213f4-2a5b-4673-a364-c9e4b0cd262c"
      },
      "outputs": [
        {
          "data": {
            "text/plain": [
              "array([21.17520684,  8.26250446,  7.43695651,  6.28126533,  6.20018397,\n",
              "        6.1208386 ,  5.92187604,  5.39331773,  5.31562696,  5.22545533])"
            ]
          },
          "execution_count": 7,
          "metadata": {},
          "output_type": "execute_result"
        }
      ],
      "source": [
        "# Se define el objeto que aplicará SVD truncada con r valores singulares:\n",
        "\n",
        "r = 10    # Máxima cantidad de valores singulares a considerar --> tópicos a generar:\n",
        "\n",
        "lsi_obj = TruncatedSVD(n_components = r, \n",
        "                       n_iter=100,  # número de iteraciones ... recordemos que es un método iterativo.\n",
        "                       random_state=42) \n",
        "\n",
        "tfidf_lsi = lsi_obj.fit_transform(tfidf_matrix)    # ndarray: se ajusta y aplica la SVD truncada.\n",
        "\n",
        "\n",
        "Sigma = lsi_obj.singular_values_     # ndarray_(r,)\n",
        "\n",
        "V_T = lsi_obj.components_.T         # ndarray_(n_terms X r)  \n",
        "                                    # Las r columnas son los r temas/topics generados\n",
        "                                    # Se ordenan los n_terms/words de mayor a menor para \n",
        "                                    # obtener las keywords principales de cada tópico.\n",
        "sigmas = lsi_obj.singular_values_\n",
        "sigmas"
      ]
    },
    {
      "cell_type": "code",
      "execution_count": 8,
      "id": "90afcae1-82e5-455a-a687-61ac6cc13208",
      "metadata": {
        "id": "90afcae1-82e5-455a-a687-61ac6cc13208"
      },
      "outputs": [
        {
          "data": {
            "image/png": "[encoded data removed]",
            "text/plain": [
              "<Figure size 432x288 with 1 Axes>"
            ]
          },
          "metadata": {
            "needs_background": "light"
          },
          "output_type": "display_data"
        }
      ],
      "source": [
        "chart = sns.barplot(x=list(range(len(Sigma))), y = Sigma )\n",
        "chart.set_xlabel('Componente_Latente', fontdict={'size': 10})\n",
        "chart.set_ylabel('Importancia Relativa de cada componente', fontdict={'size': 9})\n",
        "plt.show()"
      ]
    },
    {
      "attachments": {},
      "cell_type": "markdown",
      "id": "526dce08-ae90-4a77-a892-27051db93ad4",
      "metadata": {
        "id": "526dce08-ae90-4a77-a892-27051db93ad4"
      },
      "source": [
        "# 6. Matriz tokens-temas (term-topic) a partir de la matriz $𝑉^{T}$ de la descomposición SVD"
      ]
    },
    {
      "cell_type": "code",
      "execution_count": 9,
      "id": "47307a16-f991-499f-bc67-3a420eebff2e",
      "metadata": {
        "id": "47307a16-f991-499f-bc67-3a420eebff2e"
      },
      "outputs": [
        {
          "name": "stdout",
          "output_type": "stream",
          "text": [
            "['abad', 'abadía', 'abajo', 'abanderar', 'abandonado', 'abandonar', 'abandono', 'abanico', 'abaratar', 'abarcar', 'abarrotado', 'abascal', 'abastecer', 'abastecimiento', 'abasto', 'abatido', 'abatir', 'abc', 'abdicación']\n"
          ]
        }
      ],
      "source": [
        "lsi_term_topic = V_T \n",
        "\n",
        "# rescatemos los nombres de los términos/tokens:\n",
        "\n",
        "term_names = feature_names\n",
        "\n",
        "print(term_names[:19])"
      ]
    },
    {
      "cell_type": "code",
      "execution_count": 10,
      "id": "db510700-159b-4686-888e-27e13dce2711",
      "metadata": {
        "id": "db510700-159b-4686-888e-27e13dce2711"
      },
      "outputs": [
        {
          "name": "stdout",
          "output_type": "stream",
          "text": [
            "(12384, 10)\n"
          ]
        },
        {
          "data": {
            "text/html": [
              "<div>\n",
              "<style scoped>\n",
              "    .dataframe tbody tr th:only-of-type {\n",
              "        vertical-align: middle;\n",
              "    }\n",
              "\n",
              "    .dataframe tbody tr th {\n",
              "        vertical-align: top;\n",
              "    }\n",
              "\n",
              "    .dataframe thead th {\n",
              "        text-align: right;\n",
              "    }\n",
              "</style>\n",
              "<table border=\"1\" class=\"dataframe\">\n",
              "  <thead>\n",
              "    <tr style=\"text-align: right;\">\n",
              "      <th></th>\n",
              "      <th>Concepto_Latente_0</th>\n",
              "      <th>Concepto_Latente_1</th>\n",
              "      <th>Concepto_Latente_2</th>\n",
              "      <th>Concepto_Latente_3</th>\n",
              "      <th>Concepto_Latente_4</th>\n",
              "      <th>Concepto_Latente_5</th>\n",
              "      <th>Concepto_Latente_6</th>\n",
              "      <th>Concepto_Latente_7</th>\n",
              "      <th>Concepto_Latente_8</th>\n",
              "      <th>Concepto_Latente_9</th>\n",
              "    </tr>\n",
              "  </thead>\n",
              "  <tbody>\n",
              "    <tr>\n",
              "      <th>abad</th>\n",
              "      <td>0.000814</td>\n",
              "      <td>-0.000969</td>\n",
              "      <td>-0.000577</td>\n",
              "      <td>0.001257</td>\n",
              "      <td>0.000369</td>\n",
              "      <td>0.000111</td>\n",
              "      <td>-0.000527</td>\n",
              "      <td>0.000019</td>\n",
              "      <td>0.000630</td>\n",
              "      <td>-0.000382</td>\n",
              "    </tr>\n",
              "    <tr>\n",
              "      <th>abadía</th>\n",
              "      <td>0.000513</td>\n",
              "      <td>-0.001006</td>\n",
              "      <td>-0.000514</td>\n",
              "      <td>0.000280</td>\n",
              "      <td>-0.000060</td>\n",
              "      <td>0.000146</td>\n",
              "      <td>0.000653</td>\n",
              "      <td>-0.000138</td>\n",
              "      <td>-0.000369</td>\n",
              "      <td>-0.000625</td>\n",
              "    </tr>\n",
              "    <tr>\n",
              "      <th>abajo</th>\n",
              "      <td>0.002840</td>\n",
              "      <td>-0.001832</td>\n",
              "      <td>-0.005737</td>\n",
              "      <td>0.000790</td>\n",
              "      <td>-0.000399</td>\n",
              "      <td>0.001048</td>\n",
              "      <td>-0.001765</td>\n",
              "      <td>0.001599</td>\n",
              "      <td>-0.000037</td>\n",
              "      <td>0.001866</td>\n",
              "    </tr>\n",
              "    <tr>\n",
              "      <th>abanderar</th>\n",
              "      <td>0.000567</td>\n",
              "      <td>-0.001264</td>\n",
              "      <td>0.000690</td>\n",
              "      <td>-0.001096</td>\n",
              "      <td>-0.000316</td>\n",
              "      <td>0.000765</td>\n",
              "      <td>-0.000080</td>\n",
              "      <td>-0.000641</td>\n",
              "      <td>0.000280</td>\n",
              "      <td>-0.000526</td>\n",
              "    </tr>\n",
              "    <tr>\n",
              "      <th>abandonado</th>\n",
              "      <td>0.002193</td>\n",
              "      <td>-0.000700</td>\n",
              "      <td>-0.003721</td>\n",
              "      <td>0.000895</td>\n",
              "      <td>-0.001372</td>\n",
              "      <td>-0.000035</td>\n",
              "      <td>-0.000231</td>\n",
              "      <td>0.000267</td>\n",
              "      <td>0.001114</td>\n",
              "      <td>-0.000325</td>\n",
              "    </tr>\n",
              "  </tbody>\n",
              "</table>\n",
              "</div>"
            ],
            "text/plain": [
              "            Concepto_Latente_0  Concepto_Latente_1  Concepto_Latente_2  \\\n",
              "abad                  0.000814           -0.000969           -0.000577   \n",
              "abadía                0.000513           -0.001006           -0.000514   \n",
              "abajo                 0.002840           -0.001832           -0.005737   \n",
              "abanderar             0.000567           -0.001264            0.000690   \n",
              "abandonado            0.002193           -0.000700           -0.003721   \n",
              "\n",
              "            Concepto_Latente_3  Concepto_Latente_4  Concepto_Latente_5  \\\n",
              "abad                  0.001257            0.000369            0.000111   \n",
              "abadía                0.000280           -0.000060            0.000146   \n",
              "abajo                 0.000790           -0.000399            0.001048   \n",
              "abanderar            -0.001096           -0.000316            0.000765   \n",
              "abandonado            0.000895           -0.001372           -0.000035   \n",
              "\n",
              "            Concepto_Latente_6  Concepto_Latente_7  Concepto_Latente_8  \\\n",
              "abad                 -0.000527            0.000019            0.000630   \n",
              "abadía                0.000653           -0.000138           -0.000369   \n",
              "abajo                -0.001765            0.001599           -0.000037   \n",
              "abanderar            -0.000080           -0.000641            0.000280   \n",
              "abandonado           -0.000231            0.000267            0.001114   \n",
              "\n",
              "            Concepto_Latente_9  \n",
              "abad                 -0.000382  \n",
              "abadía               -0.000625  \n",
              "abajo                 0.001866  \n",
              "abanderar            -0.000526  \n",
              "abandonado           -0.000325  "
            ]
          },
          "execution_count": 10,
          "metadata": {},
          "output_type": "execute_result"
        }
      ],
      "source": [
        "# Y generamos un DataFrame con la matriz term-topic:\n",
        "\n",
        "term_topic_matrix = pd.DataFrame(data=lsi_term_topic, \n",
        "                                 index = term_names,   \n",
        "                                 columns = [f'Concepto_Latente_{r}' for r in range(0,V_T.shape[1])]\n",
        "                                )\n",
        "\n",
        "print(term_topic_matrix.shape)   #  words X topics\n",
        "term_topic_matrix.head()"
      ]
    },
    {
      "attachments": {},
      "cell_type": "markdown",
      "id": "6033d196-9565-476e-9a8b-bc93ae2e37d1",
      "metadata": {
        "id": "6033d196-9565-476e-9a8b-bc93ae2e37d1"
      },
      "source": [
        "# 7 y 8. Gráficos de conceptos latentes"
      ]
    },
    {
      "cell_type": "code",
      "execution_count": 11,
      "id": "24cabd0c-3358-4584-8683-5511f0899786",
      "metadata": {
        "id": "24cabd0c-3358-4584-8683-5511f0899786"
      },
      "outputs": [
        {
          "data": {
            "image/png": "[encoded data removed]",
            "text/plain": [
              "<Figure size 1080x432 with 10 Axes>"
            ]
          },
          "metadata": {
            "needs_background": "light"
          },
          "output_type": "display_data"
        }
      ],
      "source": [
        "# Crear una figura y un arreglo de ejes\n",
        "fig, axes = plt.subplots(2, 5, figsize=(15, 6))\n",
        "\n",
        "# Aplanar el arreglo de ejes para iterar sobre él\n",
        "axes = axes.flatten()\n",
        "\n",
        "# Iterar sobre las componentes\n",
        "for i in range(10):\n",
        "    # Seleccionar los 10 términos con mayor peso en la componente i usando iloc\n",
        "    top_terms = term_topic_matrix.iloc[:, i].sort_values(ascending=True).tail(10) #invertido para plotear de forma descendente segun su valor.\n",
        "    \n",
        "    # Obtener los nombres y los pesos de los términos\n",
        "    names = top_terms.index\n",
        "    values = top_terms.values\n",
        "    \n",
        "    # Hacer un gráfico de barras horizontal con los nombres y los pesos de los términos en el eje i\n",
        "    axes[i].barh(names, values)\n",
        "    \n",
        "    # Añadir un título al eje i con el número de la componente\n",
        "    axes[i].set_title(f'Componente {i+1}')\n",
        "\n",
        "# Ajustar el espacio entre los ejes\n",
        "plt.tight_layout()\n",
        "\n",
        "# Mostrar la figura\n",
        "plt.show()"
      ]
    },
    {
      "attachments": {},
      "cell_type": "markdown",
      "id": "0b012183",
      "metadata": {},
      "source": [
        "## ¿Cómo describirías cada uno de dichos conceptos latentes?"
      ]
    },
    {
      "attachments": {},
      "cell_type": "markdown",
      "id": "acbeacb7",
      "metadata": {},
      "source": [
        "Los conceptos latentes dependen de una representación vectorial para representar los términos en una semántica latente, en donde el contexto determina la similitud entre los elementos. Por ejemplo, el primer componente tiene fuerte participación de los verbos haber y ser, el componente 4 de términos relacionados a la ley, el concepto 5 de gentilicios españoles, el 8 de educación, etc. Básicamente estos componentes son las distintas agrupaciones posibles para representar las semánticas disponibles en los textos."
      ]
    },
    {
      "attachments": {},
      "cell_type": "markdown",
      "id": "8e79d2c7-2b8b-440b-b1ae-98a9b47d0433",
      "metadata": {
        "id": "8e79d2c7-2b8b-440b-b1ae-98a9b47d0433"
      },
      "source": [
        "# 9. Con base a los resultados del ejercicio anterior, ¿cuántos tópicos o conceptos latentes identificas con claridad? ¿Cómo os describirías, es decir, de qué temáticas estarían hablando"
      ]
    },
    {
      "attachments": {},
      "cell_type": "markdown",
      "id": "9270d702",
      "metadata": {},
      "source": [
        "Se logran describir seis conceptos latentes claramente marcados. En el primero, se tiene el concepto de 'ser'; en el cuarto, términos relacionados a la policía y la autoridad; en el quinto, gentilicios españoles; en el sexto, conceptos de mapas y geografías; en el séptimo, términos económicos y de monedas; en el octavo, conceptos de educación."
      ]
    },
    {
      "attachments": {},
      "cell_type": "markdown",
      "id": "b1647c20-4e47-43bf-947d-9c73b9960ec4",
      "metadata": {
        "id": "b1647c20-4e47-43bf-947d-9c73b9960ec4"
      },
      "source": [
        "# 10. La librería de código abierto Gensim, incluye la implementación de la técnica LSI"
      ]
    },
    {
      "attachments": {},
      "cell_type": "markdown",
      "id": "7311470b-5cc9-45c6-8d5a-0ad67bad47c9",
      "metadata": {
        "id": "7311470b-5cc9-45c6-8d5a-0ad67bad47c9"
      },
      "source": [
        "Investiga la documentación de este modelo LSI en Gensim y aplica dicha técnica a tu conjunto de\n",
        "datos. En particular, obtener los modelos de 2 a 10 temas/tópicos y para cada uno de ellos obtener\n",
        "su valor (score) de coherencia. Con base a dichos valores, ¿qué cantidad de tópicos sería el\n",
        "adecuado? ¿Coincide con lo que obtuviste previamente, usando la técnica SVD de manera directa?"
      ]
    },
    {
      "cell_type": "code",
      "execution_count": 12,
      "id": "35056846-0b6e-442d-bd36-5333f30cdf0c",
      "metadata": {
        "id": "35056846-0b6e-442d-bd36-5333f30cdf0c"
      },
      "outputs": [
        {
          "name": "stderr",
          "output_type": "stream",
          "text": [
            "c:\\Users\\matth\\anaconda3\\lib\\site-packages\\scipy\\sparse\\sparsetools.py:21: DeprecationWarning: `scipy.sparse.sparsetools` is deprecated!\n",
            "scipy.sparse.sparsetools is a private module for scipy.sparse, and should not be used.\n",
            "  _deprecated()\n"
          ]
        }
      ],
      "source": [
        "from gensim.models import LsiModel, CoherenceModel\n",
        "from gensim.corpora import Dictionary\n",
        "\n",
        "common_dictionary = Dictionary(preprocessed_tokens)\n",
        "common_dictionary.filter_extremes(no_below=10, no_above=0.5)\n",
        "\n",
        "common_corpus = [common_dictionary.doc2bow(text) for text in preprocessed_tokens]"
      ]
    },
    {
      "cell_type": "code",
      "execution_count": 13,
      "id": "29e94ee4-f720-4e4e-9ad9-235ef607c491",
      "metadata": {
        "id": "29e94ee4-f720-4e4e-9ad9-235ef607c491"
      },
      "outputs": [
        {
          "data": {
            "application/vnd.jupyter.widget-view+json": {
              "model_id": "dfb1ed6de6ee4d459542943e6aff37d5",
              "version_major": 2,
              "version_minor": 0
            },
            "text/plain": [
              "  0%|          | 0/9 [00:00<?, ?it/s]"
            ]
          },
          "metadata": {},
          "output_type": "display_data"
        }
      ],
      "source": [
        "# Crear una lista vacía para guardar los modelos y los valores de coherencia\n",
        "models = []\n",
        "coherences = []\n",
        "\n",
        "# Iterar sobre el rango de 2 a 10 temas\n",
        "for num_topics in tqdm(range(2, 11)):\n",
        "    # Crear un objeto LsiModel con el corpus, el diccionario y el número de temas\n",
        "    lsi_model = LsiModel(corpus=common_corpus, id2word=common_dictionary, num_topics=num_topics)\n",
        "    \n",
        "    # Crear un objeto CoherenceModel con el modelo LSI, el corpus, el diccionario y el tipo de coherencia\n",
        "    coherence_model = CoherenceModel(model=lsi_model, corpus=common_corpus, dictionary=common_dictionary, coherence='c_v', texts=preprocessed_tokens)\n",
        "    \n",
        "    # Obtener el valor de coherencia del modelo\n",
        "    coherence = coherence_model.get_coherence()\n",
        "    \n",
        "    # Añadir el modelo y el valor de coherencia a la lista\n",
        "    models.append(lsi_model)\n",
        "    coherences.append(coherence)"
      ]
    },
    {
      "cell_type": "code",
      "execution_count": 14,
      "id": "a78a9eed-4682-4503-8b66-8704c0bfba04",
      "metadata": {
        "id": "a78a9eed-4682-4503-8b66-8704c0bfba04"
      },
      "outputs": [
        {
          "data": {
            "image/png": "[encoded data removed]",
            "text/plain": [
              "<Figure size 432x288 with 1 Axes>"
            ]
          },
          "metadata": {
            "needs_background": "light"
          },
          "output_type": "display_data"
        }
      ],
      "source": [
        "fig, ax = plt.subplots()\n",
        "\n",
        "ax.plot(range(2, 11), coherences)\n",
        "\n",
        "ax.set_xlabel('Número de temas')\n",
        "ax.set_ylabel('Valor de coherencia')\n",
        "\n",
        "plt.show()"
      ]
    },
    {
      "attachments": {},
      "cell_type": "markdown",
      "id": "0eee1c6a-809b-4082-b98e-d8be428c4c30",
      "metadata": {
        "id": "0eee1c6a-809b-4082-b98e-d8be428c4c30"
      },
      "source": [
        "# 11. Gensim para implementar ahora la técnica de LDA"
      ]
    },
    {
      "cell_type": "code",
      "execution_count": 15,
      "id": "7922d043-eb6d-4ddc-a294-ddd8f02af363",
      "metadata": {
        "id": "7922d043-eb6d-4ddc-a294-ddd8f02af363"
      },
      "outputs": [
        {
          "data": {
            "application/vnd.jupyter.widget-view+json": {
              "model_id": "476017fabd01475895be251abf48d485",
              "version_major": 2,
              "version_minor": 0
            },
            "text/plain": [
              "  0%|          | 0/9 [00:00<?, ?it/s]"
            ]
          },
          "metadata": {},
          "output_type": "display_data"
        }
      ],
      "source": [
        "from gensim.models import LdaMulticore, CoherenceModel\n",
        "\n",
        "# Crear una lista vacía para guardar los modelos y los valores de coherencia\n",
        "models = []\n",
        "coherences = []\n",
        "\n",
        "# Iterar sobre el rango de 2 a 10 temas\n",
        "for num_topics in tqdm(range(2, 11)):\n",
        "    # Crear un objeto LdaMulticore con el corpus, el diccionario y el número de temas\n",
        "    lda_model = LdaMulticore(corpus=common_corpus, id2word=common_dictionary, num_topics=num_topics, workers=20)\n",
        "    \n",
        "    # Crear un objeto CoherenceModel con el modelo LDA, el corpus, el diccionario, el tipo de coherencia y los textos\n",
        "    coherence_model = CoherenceModel(model=lda_model, corpus=common_corpus, dictionary=common_dictionary, coherence='c_v', texts=preprocessed_tokens)\n",
        "    \n",
        "    # Obtener el valor de coherencia del modelo\n",
        "    coherence = coherence_model.get_coherence()\n",
        "    \n",
        "    # Añadir el modelo y el valor de coherencia a la lista\n",
        "    models.append(lda_model)\n",
        "    coherences.append(coherence)"
      ]
    },
    {
      "cell_type": "code",
      "execution_count": 16,
      "id": "dc6bd055-922b-4493-97d4-0a7ce5ff10a4",
      "metadata": {
        "id": "dc6bd055-922b-4493-97d4-0a7ce5ff10a4"
      },
      "outputs": [
        {
          "data": {
            "image/png": "[encoded data removed]",
            "text/plain": [
              "<Figure size 432x288 with 1 Axes>"
            ]
          },
          "metadata": {
            "needs_background": "light"
          },
          "output_type": "display_data"
        }
      ],
      "source": [
        "fig, ax = plt.subplots()\n",
        "\n",
        "ax.plot(range(2, 11), coherences)\n",
        "\n",
        "ax.set_xlabel('Número de temas')\n",
        "ax.set_ylabel('Valor de coherencia')\n",
        "\n",
        "plt.show()"
      ]
    },
    {
      "attachments": {},
      "cell_type": "markdown",
      "id": "bac4b2c8",
      "metadata": {},
      "source": [
        "# 12. Con base a esta técnica ¿qué cantidad de tópicos consideras que es la más adecuada? Compara tus resultados con el método LSI. ¿Qué encuentras de coincidencias y diferencias? ¿Cuál consideras puede ser el mejor resultado, es decir, cuál consideras puede ser la mejor cantidad de tópicos a considerar?"
      ]
    },
    {
      "attachments": {},
      "cell_type": "markdown",
      "id": "67319694",
      "metadata": {},
      "source": [
        "La cantidad de temas más adecuada según LDA, basándose exclusivamente en el valor de coherencia es 2. Sin embargo, esto presentaría un problema al ser muy limitado el espacio de representación semántica disponible para los términos, por lo que el siguiente valor, seis temas, es el más adecuado para LDA. Comparando LDA y LSI, vemos que LDA coincide con este resultado. Al realizar tanto el análisis de los componentes latentes y visualizar la composición de estos componentes, así como al analizar los resultados obtenidos con el método LSI, es posible ver cómo seis temas es la cantidad más conveniente. "
      ]
    },
    {
      "attachments": {},
      "cell_type": "markdown",
      "id": "7ef6dcec-cbca-4614-8b29-b78efe0d333c",
      "metadata": {
        "id": "7ef6dcec-cbca-4614-8b29-b78efe0d333c"
      },
      "source": [
        "# 13. Visualizacion con  pyLDAvis"
      ]
    },
    {
      "cell_type": "code",
      "execution_count": 17,
      "id": "LoaMj5EB3-kY",
      "metadata": {
        "id": "LoaMj5EB3-kY"
      },
      "outputs": [
        {
          "name": "stdout",
          "output_type": "stream",
          "text": [
            "Requirement already satisfied: pyLDAvis in c:\\users\\matth\\anaconda3\\lib\\site-packages (3.3.1)\n",
            "Requirement already satisfied: joblib in c:\\users\\matth\\anaconda3\\lib\\site-packages (from pyLDAvis) (1.1.0)\n",
            "Requirement already satisfied: funcy in c:\\users\\matth\\anaconda3\\lib\\site-packages (from pyLDAvis) (1.17)\n",
            "Requirement already satisfied: future in c:\\users\\matth\\anaconda3\\lib\\site-packages (from pyLDAvis) (0.18.2)\n",
            "Requirement already satisfied: numexpr in c:\\users\\matth\\anaconda3\\lib\\site-packages (from pyLDAvis) (2.8.1)"
          ]
        },
        {
          "name": "stderr",
          "output_type": "stream",
          "text": [
            "\n",
            "[notice] A new release of pip available: 22.3.1 -> 23.1.2\n",
            "[notice] To update, run: python.exe -m pip install --upgrade pip\n"
          ]
        },
        {
          "name": "stdout",
          "output_type": "stream",
          "text": [
            "\n",
            "Requirement already satisfied: scikit-learn in c:\\users\\matth\\anaconda3\\lib\\site-packages (from pyLDAvis) (1.1.2)\n",
            "Requirement already satisfied: gensim in c:\\users\\matth\\anaconda3\\lib\\site-packages (from pyLDAvis) (4.1.2)\n",
            "Requirement already satisfied: pandas>=1.2.0 in c:\\users\\matth\\anaconda3\\lib\\site-packages (from pyLDAvis) (1.4.2)\n",
            "Requirement already satisfied: jinja2 in c:\\users\\matth\\anaconda3\\lib\\site-packages (from pyLDAvis) (3.1.2)\n",
            "Requirement already satisfied: sklearn in c:\\users\\matth\\anaconda3\\lib\\site-packages (from pyLDAvis) (0.0.post1)\n",
            "Requirement already satisfied: setuptools in c:\\users\\matth\\anaconda3\\lib\\site-packages (from pyLDAvis) (65.6.3)\n",
            "Requirement already satisfied: scipy in c:\\users\\matth\\anaconda3\\lib\\site-packages (from pyLDAvis) (1.7.3)\n",
            "Requirement already satisfied: numpy>=1.20.0 in c:\\users\\matth\\anaconda3\\lib\\site-packages (from pyLDAvis) (1.21.5)\n",
            "Requirement already satisfied: python-dateutil>=2.8.1 in c:\\users\\matth\\anaconda3\\lib\\site-packages (from pandas>=1.2.0->pyLDAvis) (2.8.2)\n",
            "Requirement already satisfied: pytz>=2020.1 in c:\\users\\matth\\anaconda3\\lib\\site-packages (from pandas>=1.2.0->pyLDAvis) (2021.3)\n",
            "Requirement already satisfied: smart-open>=1.8.1 in c:\\users\\matth\\anaconda3\\lib\\site-packages (from gensim->pyLDAvis) (6.3.0)\n",
            "Requirement already satisfied: MarkupSafe>=2.0 in c:\\users\\matth\\anaconda3\\lib\\site-packages (from jinja2->pyLDAvis) (2.1.1)\n",
            "Requirement already satisfied: packaging in c:\\users\\matth\\anaconda3\\lib\\site-packages (from numexpr->pyLDAvis) (22.0)\n",
            "Requirement already satisfied: threadpoolctl>=2.0.0 in c:\\users\\matth\\anaconda3\\lib\\site-packages (from scikit-learn->pyLDAvis) (2.2.0)\n",
            "Requirement already satisfied: six>=1.5 in c:\\users\\matth\\anaconda3\\lib\\site-packages (from python-dateutil>=2.8.1->pandas>=1.2.0->pyLDAvis) (1.16.0)\n"
          ]
        },
        {
          "name": "stderr",
          "output_type": "stream",
          "text": [
            "ERROR: Could not find a version that satisfies the requirement pyLDAvis.gensim_models (from versions: none)\n",
            "ERROR: No matching distribution found for pyLDAvis.gensim_models\n",
            "\n",
            "[notice] A new release of pip available: 22.3.1 -> 23.1.2\n",
            "[notice] To update, run: python.exe -m pip install --upgrade pip\n"
          ]
        }
      ],
      "source": [
        "!pip install pyLDAvis\n",
        "!pip install pyLDAvis.gensim_models"
      ]
    },
    {
      "cell_type": "code",
      "execution_count": 22,
      "id": "42c539b6-c51f-4101-b63b-fefaef4064bb",
      "metadata": {
        "id": "42c539b6-c51f-4101-b63b-fefaef4064bb"
      },
      "outputs": [
        {
          "name": "stderr",
          "output_type": "stream",
          "text": [
            "c:\\Users\\matth\\anaconda3\\lib\\site-packages\\pyLDAvis\\_prepare.py:246: FutureWarning: In a future version of pandas all arguments of DataFrame.drop except for the argument 'labels' will be keyword-only.\n",
            "  default_term_info = default_term_info.sort_values(\n"
          ]
        },
        {
          "data": {
            "text/html": [
              "\n",
              "<link rel=\"stylesheet\" type=\"text/css\" href=\"https://cdn.jsdelivr.net/gh/bmabey/pyLDAvis@3.3.1/pyLDAvis/js/ldavis.v1.0.0.css\">\n",
              "\n",
              "\n",
              "<div id=\"ldavis_el1472019415013088165975829161\"></div>\n",
              "<script type=\"text/javascript\">\n",
              "\n",
              "var ldavis_el1472019415013088165975829161_data = {\"mdsDat\": {\"x\": [-0.005896469304001615, 0.0036639005423285773, 0.0032933446995072526, -0.002769957470566098, -0.00027506206964897855, 0.0019842436023808753], \"y\": [-0.0004108696252987986, 0.0008758964607787659, 0.0034002480313450752, 0.0023037711918892727, -0.0007932401260264416, -0.005375805932687877], \"topics\": [1, 2, 3, 4, 5, 6], \"cluster\": [1, 1, 1, 1, 1, 1], \"Freq\": [21.66020249079245, 20.143493965789418, 16.83469315156138, 16.16706795170498, 13.846508732772053, 11.348033707379733]}, \"tinfo\": {\"Term\": [\"coronavirus\", \"madrid\", \"tras\", \"pp\", \"espa\\u00f1a\", \"alguno\", \"deber\", \"ahora\", \"pol\\u00edtico\", \"hora\", \"llegar\", \"persona\", \"llevar\", \"acuerdo\", \"situaci\\u00f3n\", \"mayor\", \"polic\\u00eda\", \"as\\u00ed\", \"centro\", \"informe\", \"vez\", \"social\", \"sanidad\", \"partido\", \"s\\u00e1nchez\", \"socio\", \"momento\", \"vox\", \"p\\u00fablico\", \"psoe\", \"az\\u00facar\", \"vip\", \"apag\\u00f3n\", \"taylor\", \"uber\", \"souto\", \"casera\", \"tudela\", \"lives\", \"vacuna\", \"ind\\u00edgena\", \"m\\u00e1ster\", \"oim\", \"mozo\", \"gibraltar\", \"prostituci\\u00f3n\", \"seda\", \"curr\\u00edculum\", \"per\\u00fa\", \"respiratorio\", \"ia\", \"deslocalizaci\\u00f3n\", \"iluminaci\\u00f3n\", \"directiva\", \"perro\", \"santuario\", \"mascarilla\", \"c\\u00e1rnico\", \"fatiga\", \"juguete\", \"poema\", \"inmigrante\", \"persona\", \"humano\", \"universidad\", \"infecci\\u00f3n\", \"agosto\", \"vida\", \"registro\", \"acad\\u00e9mico\", \"gran\", \"profesora\", \"casado\", \"pa\\u00eds\", \"ciudad\", \"explicar\", \"empresa\", \"gente\", \"necesitar\", \"navarra\", \"ver\", \"trabajo\", \"medio\", \"poner\", \"general\", \"pasar\", \"tratar\", \"pandemia\", \"uso\", \"ni\\u00f1o\", \"trabajar\", \"llegar\", \"semana\", \"adem\\u00e1s\", \"recordar\", \"p\\u00fablico\", \"vez\", \"as\\u00ed\", \"comunidad\", \"solo\", \"medida\", \"mujer\", \"dejar\", \"deber\", \"despu\\u00e9s\", \"coronavirus\", \"grupo\", \"alguno\", \"social\", \"espa\\u00f1a\", \"partido\", \"madrid\", \"chamorro\", \"p\\u00eds\", \"rosell\", \"bonifacio\", \"celestetel\", \"tedh\", \"repsol\", \"sorteo\", \"revilla\", \"zu\", \"petrolera\", \"jec\", \"garc\\u00edacastell\\u00f3n\", \"mensualmente\", \"pujol\", \"baltasar\", \"gastado\", \"antifrau\", \"amortizaci\\u00f3n\", \"pendrive\", \"quema\", \"ucao\", \"robado\", \"llar\\u00e9n\", \"dinast\\u00eda\", \"igea\", \"garz\\u00f3n\", \"ferrusola\", \"electoral\", \"exjuez\", \"casta\\u00f1o\", \"euros\", \"cosid\\u00f3\", \"vivienda\", \"fase\", \"gago\", \"t\\u00e1ndem\", \"grandemarlaska\", \"brigado\", \"pasado\", \"villarejo\", \"ministro\", \"le\\u00f3n\", \"peri\\u00f3dico\", \"jefe\", \"operaci\\u00f3n\", \"partido\", \"ley\", \"agente\", \"jos\\u00e9\", \"fondo\", \"nacional\", \"popular\", \"mes\", \"ejercicio\", \"interior\", \"ejemplo\", \"eldiario\", \"decreto\", \"polic\\u00eda\", \"tiempo\", \"despu\\u00e9s\", \"mill\\u00f3n\", \"general\", \"ahora\", \"medio\", \"total\", \"espa\\u00f1ol\", \"cada\", \"pp\", \"pol\\u00edtico\", \"informaci\\u00f3n\", \"solo\", \"socio\", \"social\", \"adem\\u00e1s\", \"pasar\", \"alguno\", \"comunidad\", \"p\\u00fablico\", \"espa\\u00f1a\", \"ver\", \"pandemia\", \"persona\", \"momento\", \"madrid\", \"coronavirus\", \"llegar\", \"as\\u00ed\", \"medida\", \"deber\", \"pompeo\", \"magnar\", \"sinergia\", \"cofinanciar\", \"servizo\", \"maduro\", \"finland\\u00e9s\", \"karpa\", \"tsjm\", \"espinosa\", \"qasem\", \"soplar\", \"eurogrupo\", \"guatemala\", \"sergar\", \"movistar\", \"carpa\", \"arancel\", \"trump\", \"tedro\", \"llodio\", \"m\\u00e9s\", \"kirol\", \"ferer\", \"weinstein\", \"francoalem\\u00e1n\", \"komunikazioa\", \"isidro\", \"ppdeg\", \"cost\", \"montai\", \"clinton\", \"abuso\", \"media\", \"bankia\", \"i\", \"cgpj\", \"mill\\u00f3n\", \"pp\", \"espa\\u00f1a\", \"candidato\", \"comisi\\u00f3n\", \"impuesto\", \"cine\", \"galicia\", \"causa\", \"ejecutivo\", \"madrid\", \"mart\\u00edn\", \"cifra\", \"pel\\u00edcula\", \"momento\", \"democr\\u00e1tico\", \"grupo\", \"tres\", \"pa\\u00eds\", \"portavoz\", \"obra\", \"medida\", \"dato\", \"p\\u00fablico\", \"manera\", \"deber\", \"problema\", \"comunidad\", \"pandemia\", \"persona\", \"pol\\u00edtico\", \"mantener\", \"a\\u00fan\", \"mes\", \"asegurar\", \"coronavirus\", \"presidente\", \"ahora\", \"posible\", \"tras\", \"semana\", \"mundo\", \"empresa\", \"vez\", \"querer\", \"euros\", \"cada\", \"alguno\", \"solo\", \"medio\", \"centro\", \"partido\", \"banksy\", \"memorial\", \"huerto\", \"destacamento\", \"recluso\", \"futbolista\", \"afgano\", \"celaar\", \"busto\", \"hanks\", \"bicicleta\", \"estambul\", \"altitud\", \"pintada\", \"h\\u00eddrico\", \"cisjordania\", \"carrito\", \"almud\\u00e9n\", \"cami\\u00f3n\", \"unificaci\\u00f3n\", \"afganist\\u00e1n\", \"tel\", \"uva\", \"inundaci\\u00f3n\", \"hielo\", \"desdoblar\", \"gaza\", \"el\\u00eda\", \"infraestimar\", \"radiojaputa\", \"israel\", \"chal\\u00e9\", \"paz\", \"palestina\", \"ayuda\", \"colectivo\", \"centro\", \"isla\", \"machista\", \"espacio\", \"mantener\", \"v\\u00edctima\", \"violencia\", \"mujer\", \"agua\", \"sistema\", \"ayudar\", \"social\", \"situaci\\u00f3n\", \"sexual\", \"vox\", \"forma\", \"dato\", \"alguno\", \"c\\u00f3mo\", \"ambos\", \"publicar\", \"explicar\", \"seguridad\", \"vasco\", \"cada\", \"sanidad\", \"solo\", \"ver\", \"presidente\", \"pa\\u00eds\", \"acuerdo\", \"p\\u00fablico\", \"n\\u00famero\", \"tras\", \"coronavirus\", \"pasar\", \"madrid\", \"mes\", \"mayor\", \"persona\", \"querer\", \"as\\u00ed\", \"pol\\u00edtico\", \"ahora\", \"despu\\u00e9s\", \"comunidad\", \"llegar\", \"espa\\u00f1a\", \"adem\\u00e1s\", \"partido\", \"trabajo\", \"ossorio\", \"equivocaci\\u00f3n\", \"apu\\u00f1alamiento\", \"berm\\u00fadez\", \"azpiazu\", \"trillo\", \"hipocres\\u00eda\", \"amb\", \"bielorrusia\", \"empe\\u00f1ar\", \"zamora\", \"\\u00e9s\", \"reyero\", \"renovar \\u00e9l\", \"esguevir\", \"nissar\", \"renave\", \"dun\", \"gabilondo\", \"kike\", \"positividad\", \"lyon\", \"jo\", \"clemente\", \"perla\", \"seu\", \"admiraci\\u00f3n\", \"diagnosticado\", \"com\", \"benidorm\", \"gordo\", \"col\\u00f3n\", \"d\\u00edaz\", \"isabel\", \"desempleado\", \"cribado\", \"gente\", \"per\", \"ahora\", \"madrid\", \"polic\\u00eda\", \"iglesia\", \"proyecto\", \"m\\u00fasica\", \"f\\u00e1cil\", \"mart\\u00ednez\", \"pol\\u00edtico\", \"coronavirus\", \"prueba\", \"suponer\", \"deber\", \"escribir\", \"alto\", \"b\\u00e1rcena\", \"as\\u00ed\", \"consecuencia\", \"situaci\\u00f3n\", \"mapa\", \"casi\", \"llegar\", \"palabra\", \"municipio\", \"informaci\\u00f3n\", \"crisis\", \"trabajo\", \"aunque\", \"tipo\", \"momento\", \"tras\", \"alguno\", \"cada\", \"menos\", \"ver\", \"poner\", \"persona\", \"comunidad\", \"querer\", \"solo\", \"medida\", \"pp\", \"p\\u00fablico\", \"espa\\u00f1a\", \"social\", \"pa\\u00eds\", \"vez\", \"partido\", \"mujer\", \"alterne\", \"playlist\", \"telepizza\", \"yacimiento\", \"torrir\", \"geri\\u00e1trico\", \"echa\", \"sergar\", \"comuns\", \"nicaragua\", \"non\", \"arruti\", \"respiraci\\u00f3n\", \"cobo\", \"dow\", \"rider\", \"falsificar\", \"ferrol\", \"apreciar \\u00e9l\", \"correa\", \"jxcat\", \"espinar\", \"noreste\", \"transformador\", \"suspender \\u00e9l\", \"hurtado\", \"vientre\", \"allanamiento\", \"mezquita\", \"intervalo\", \"glovo\", \"comandancia\", \"estela\", \"ferraz\", \"quim\", \"rajoy\", \"hect\\u00e1rea\", \"men\\u00fa\", \"cospedal\", \"ochandiano\", \"informe\", \"miguel\", \"residencia\", \"civil\", \"tras\", \"hora\", \"s\\u00e1nchez\", \"coronavirus\", \"tribunal\", \"vox\", \"psoe\", \"llevar\", \"acuerdo\", \"universidad\", \"sanidad\", \"defender\", \"socio\", \"mayor\", \"alguno\", \"vez\", \"llegar\", \"pp\", \"actividad\", \"espa\\u00f1a\", \"deber\", \"partido\", \"quedar\", \"p\\u00fablico\", \"mundo\", \"empresa\", \"sociedad\", \"as\\u00ed\", \"persona\", \"dejar\", \"medio\", \"social\", \"adem\\u00e1s\", \"solo\", \"pol\\u00edtico\", \"madrid\", \"ver\", \"momento\", \"trabajo\", \"despu\\u00e9s\", \"aunque\", \"centro\", \"pa\\u00eds\", \"ahora\"], \"Freq\": [6565.0, 5942.0, 4179.0, 4809.0, 5844.0, 5810.0, 4987.0, 5283.0, 5448.0, 3292.0, 5061.0, 8885.0, 3697.0, 2756.0, 3767.0, 3924.0, 2562.0, 4904.0, 4261.0, 1916.0, 4519.0, 4805.0, 2316.0, 4913.0, 2394.0, 3528.0, 4620.0, 1508.0, 6507.0, 1876.0, 62.660214464476795, 25.491360853894925, 9.451129542211477, 8.319322537806432, 10.666136360254093, 14.934084070934947, 32.88034450177046, 17.89403146534752, 5.224602606587686, 298.07387357180374, 58.2981424863244, 314.4517527525495, 9.345847432889482, 21.52971553760591, 12.053174260331042, 104.07553289248855, 6.614978558147527, 31.311477529019122, 38.54846615465121, 84.96430282864848, 22.02028164645287, 6.051441662104701, 11.70962882249812, 18.771251759454554, 55.80950970363583, 9.600147360126657, 432.417844527734, 5.4565795298356194, 9.383075835753893, 26.01725209063798, 36.226377682583795, 116.58527525898593, 2835.758306573203, 328.1013725260438, 521.696067339047, 158.22205566195348, 342.9709347143425, 935.7353789361733, 174.66187309415682, 83.67604920547907, 849.0371495508697, 97.38550587707229, 635.0791970048242, 1615.523438498796, 717.0207891480461, 1163.593956191987, 1136.840048845151, 563.6776626039665, 722.6573216037152, 325.46777736518027, 1411.8707984110588, 1225.1446216346635, 1305.7682449513193, 946.4230963676632, 974.4170364453494, 1118.3439503613872, 710.4682595391191, 921.766298334694, 419.7827719351783, 458.64028171690194, 731.1368680290692, 1210.2290639217006, 972.7063005621543, 1018.3268059934641, 606.2334716207749, 1427.8807685119564, 1070.3995823646007, 1127.823382721951, 1133.917720843121, 1235.0081124923631, 1055.0758247047681, 948.7481715173732, 842.3969831723609, 1066.9493392814045, 994.2152299257172, 1241.5266346252952, 861.5181137108779, 1069.0554878595553, 974.2105664209132, 1048.0857175400488, 956.0194879892664, 950.3549558613032, 10.09234317517322, 15.924495889264541, 27.167257253579276, 7.4587856122494305, 6.610600118212959, 8.16842197516281, 15.666205302851212, 7.660131781351683, 10.398766610975594, 6.809755408924853, 7.476754739489815, 21.4424739991887, 28.135946665427507, 4.50969550901852, 61.202533425592954, 16.386251842082586, 4.4157380213612525, 6.587379850718003, 6.125293123717828, 10.459897364000946, 17.882900097535547, 8.004533379242298, 15.617314796376707, 9.549811045810507, 7.020377671434938, 36.799263681384176, 64.16916617361393, 5.402368929192521, 447.54151139603334, 4.360623273830023, 50.72157623805903, 1292.2174833510405, 37.261437707139436, 336.9189380711139, 440.5764226691868, 40.43813849071157, 20.263264840799664, 33.467907947280835, 36.11637597739281, 973.4090164129559, 326.5742566429937, 501.8759490162149, 225.33609766194743, 193.20558101365486, 305.31511002949424, 368.33485434104307, 1304.1192798365566, 682.7581494351851, 288.099962114173, 523.2519125767091, 395.18937381583714, 705.0560903654002, 498.3036775506792, 1096.1934179794707, 129.71466049279834, 350.30652412839953, 490.0653404853734, 585.421748244941, 240.11859288423557, 670.2475106081141, 860.0596720791386, 1098.622738903502, 968.9585931545665, 909.9306156548477, 1243.7623878270595, 1178.5282985790598, 525.2592265131989, 810.948013029903, 1149.5167918526267, 1106.9505211520047, 1222.0075765020906, 893.0948280838477, 1226.642836053092, 816.2934519580926, 1036.7697288383304, 923.5641118934441, 932.4934578496826, 1156.1089787412168, 1013.6992275636203, 1213.7822077068986, 1121.3281808116058, 1044.4668328438217, 783.2635242678169, 1361.5374490706695, 916.6852903547467, 1043.0880955729733, 1080.408009029715, 945.3491654293506, 922.9790532567623, 882.6704917475968, 894.9844024296192, 14.942020873239876, 6.065810746486971, 5.652738707264945, 4.3605400158608605, 6.70296977860657, 27.02529134579782, 8.83260545283685, 33.558802297244554, 9.914655988275818, 5.212347230390239, 6.085905911431445, 4.667639210105152, 11.108095397842751, 25.796041819498846, 4.253601636427313, 7.9672656955966294, 57.39384196361818, 8.607648307570088, 228.5761223571818, 4.375281066342912, 13.434232896171334, 22.832388526579297, 18.427548718928993, 7.992816715895924, 26.859025308484938, 6.788818342002861, 8.60992743742939, 5.227708097098344, 5.746937386665576, 6.94120879576705, 131.97894961133142, 18.844681022975255, 123.71604697091064, 102.53476051660544, 76.53488617397187, 259.5284863121066, 87.33206341269154, 968.1611057863588, 1168.9317421191756, 1392.635589525546, 189.08739766220677, 451.59029502790804, 195.93031873178597, 246.68795034525778, 268.4447154156665, 291.1257590100206, 406.8595154313106, 1267.6325738136443, 107.52545115660006, 329.13996901582897, 255.9651561350443, 968.9787170168009, 134.8800429649941, 773.5657774967757, 746.7330843376784, 1143.8461649834649, 359.75678079805897, 322.62338989079075, 898.0902897273804, 800.3230752998226, 1206.2773752375529, 487.4271214215967, 937.0486123763678, 424.919958913942, 922.0685832476418, 682.656456114331, 1423.2210008555119, 961.7525861986144, 559.7852869330251, 395.79957359623086, 767.1073084856479, 636.2024642492768, 1052.440262369579, 633.1407702195727, 879.0845769682669, 502.950811041025, 723.1261129459654, 689.6840743870985, 593.7777115910601, 697.4131265007577, 741.8462657940379, 679.15618387142, 668.6097872228927, 763.8815867182636, 828.8616740661015, 771.408870577947, 728.899512335526, 679.2708619215035, 700.4462474040496, 22.00787601465985, 16.052948682552913, 8.527889744299358, 8.091435387388016, 6.688156201502609, 9.2677459144343, 7.143789876760962, 3.6609135361378238, 8.749879249741156, 4.413234945451815, 60.4488763651637, 7.028337926821235, 6.165989826368629, 12.697876076288075, 6.911906344842065, 12.995298534373294, 11.04723337241169, 4.744673583379052, 31.253131531590206, 5.08823806040868, 11.62128746267417, 8.98131281943721, 7.501043811617353, 12.727934838380206, 7.982385757076141, 4.054667442306315, 20.67218758267692, 20.089087966128986, 3.198294840173039, 6.965807962319368, 105.74741669633643, 10.160888143811796, 108.2868697789907, 21.950923653311687, 345.1046308668824, 275.8980754782462, 981.8464089607927, 177.7122662231152, 95.86790214372748, 385.1702545343253, 622.5020730352923, 326.6090339742973, 327.30073133052474, 858.3418065204675, 271.646359293707, 527.6766536542937, 185.32410487566585, 986.6176746687385, 775.5200422142626, 272.70349796883704, 335.7014386097349, 658.6365387481733, 804.1663960298107, 1097.8293297507482, 649.5177020461596, 339.2073796924993, 314.1378912908861, 797.3858818680541, 514.6677984009493, 539.3016205223444, 907.8294642917378, 472.9221237843516, 998.5727852477194, 944.2742856625948, 634.9960275177951, 976.7113886494768, 533.0271621597344, 1066.0983434809264, 557.7877347824847, 735.4817762499684, 1044.888101357027, 747.2362088199876, 952.9850606239584, 739.3047787134356, 689.8427507903783, 1218.648351948142, 694.1795432607996, 773.7802568516161, 811.4424754428901, 781.1712797573233, 712.1379623956936, 748.2427254594417, 746.410376439525, 781.6814906361964, 679.6132736193325, 690.1494039020635, 665.0883490781127, 15.185394432244841, 3.8334639303151965, 3.9302657931366394, 9.434228076509303, 6.412839953842145, 7.81042440101527, 3.143951294281415, 17.963535196722056, 13.200521182018292, 9.459245608921481, 13.204121698324256, 15.233493806651497, 19.83709854040347, 2.974240903146002, 9.213285751673512, 14.31387459586922, 3.2868926174347073, 8.333387282628093, 28.06039811009488, 14.662873632374172, 16.37039812058447, 4.033070443349839, 4.234561722068498, 14.880035415088699, 5.656169981174862, 5.90418499551307, 4.040901566315312, 25.755140568855552, 14.434662558794091, 9.011174017010385, 33.044287834577396, 17.342835914607456, 285.03885705221575, 164.47810322238033, 27.008899804659908, 17.852785737516292, 423.5259275307077, 48.04197314792063, 1043.8156712853972, 1140.244148454083, 516.6557239695516, 291.35709151323687, 371.0795429835548, 102.71303634203055, 106.78107803871181, 94.7633870223457, 985.8934013250686, 1131.920441825694, 364.97232740602163, 360.7694964726092, 869.0248789712962, 190.77303275539597, 342.85752022895844, 99.21942123701797, 824.0095372667305, 233.74733315536207, 640.0510332591095, 193.61819377262898, 340.4524193795869, 811.8247030163444, 203.64640023531615, 222.84356921309015, 627.7460496694858, 591.7284488629908, 745.426866119089, 640.6684105969749, 344.07860395347967, 724.6482887195173, 662.3751328335544, 866.0932350938994, 755.748786626317, 574.6238338977242, 801.4043375666442, 550.2998291927443, 1157.4053498823455, 727.1089894683952, 612.2405131827993, 776.5755646992252, 660.5686646157507, 679.2982201167823, 821.4050801236915, 760.0879042588998, 650.3224980907399, 724.1034237981185, 614.2041973395114, 622.3741410012046, 578.1851166877825, 10.777414266518548, 3.5572189301146016, 15.145287256981227, 11.07260798748858, 34.787136452768856, 18.996321723136838, 2.765958496779678, 3.227060731942989, 7.318967813107028, 31.02867703031826, 52.03862055838435, 14.031518916705345, 11.453089901090232, 20.579850566605323, 7.263486676550393, 18.121331084585556, 8.487834222660206, 6.692689809641658, 2.747983888133449, 34.60430371935961, 35.25245175120757, 9.890711424861175, 4.051294730382812, 3.138426678993425, 3.3073394964605263, 6.240019792204988, 4.421232141842955, 3.065561777845088, 7.034709331927394, 3.778623921603617, 13.869708410244213, 10.92909447079392, 9.262781584753098, 13.690155887813528, 26.480604499193365, 172.20497256463935, 26.0247030001847, 23.435314380075912, 48.71466140149886, 26.732205254014314, 337.4958270914403, 236.34068273962947, 248.60056827958454, 283.0700900699877, 687.9043260722709, 546.8261823915166, 402.68745658194945, 1014.4321816504473, 350.37705227046456, 255.84821203342656, 305.5277192943786, 559.9583170897057, 430.98585744903994, 258.7519648840042, 361.8948069964549, 272.4583991007977, 517.571558965141, 567.448582754012, 792.2410458645876, 631.1795428685377, 682.6167739678567, 647.0910585334234, 338.0930258215416, 741.092235098727, 648.7617480420904, 640.1621556326764, 411.0527435662852, 771.9997599955826, 442.7088387779427, 531.3685504672494, 430.25400673506635, 588.3892619426366, 889.2776240890627, 450.9504180421607, 585.3822749418673, 567.295998348526, 510.8889164372146, 601.5535652683261, 568.9017153151144, 588.4015056572327, 558.3512140422198, 509.4922666726926, 508.8821600642317, 495.1614607648663, 475.6042346955504, 464.1563037947805, 480.78918793685114, 474.408364524394], \"Total\": [6565.0, 5942.0, 4179.0, 4809.0, 5844.0, 5810.0, 4987.0, 5283.0, 5448.0, 3292.0, 5061.0, 8885.0, 3697.0, 2756.0, 3767.0, 3924.0, 2562.0, 4904.0, 4261.0, 1916.0, 4519.0, 4805.0, 2316.0, 4913.0, 2394.0, 3528.0, 4620.0, 1508.0, 6507.0, 1876.0, 117.5036787852829, 51.42697769983735, 20.476951828791204, 18.35874797457308, 24.553757663596357, 35.27727449970214, 78.10269551724213, 43.14330455068796, 12.794289779110638, 731.0949063477158, 144.36240471444412, 779.0621541991225, 23.30833842592297, 54.53766817317736, 30.587731289252805, 264.69406220333104, 16.930434114965255, 80.5649465348399, 99.20087384170597, 219.41910398163841, 57.27187241170974, 15.804317698193554, 30.58809726801686, 49.346231731353704, 147.23552443853566, 25.44917471907136, 1146.4779658886787, 14.500147349566474, 25.021379193948512, 69.69079168849836, 98.07943266443363, 325.5580493496809, 8885.848082418936, 963.952903732072, 1586.1614405358428, 458.01002122409585, 1037.8980517411899, 3053.3659967747885, 518.6086266579399, 238.6446777659954, 2808.2086380454525, 280.67882149846963, 2108.412190310264, 5787.412747977363, 2422.9962602308237, 4172.94192847135, 4107.912459878366, 1903.3955199096051, 2501.22556097334, 1044.1631485667185, 5414.126426844284, 4645.859756504527, 4993.258564303653, 3488.8528540795974, 3643.582480375425, 4305.184607063563, 2556.3057937290723, 3516.8701769551662, 1411.4518828130988, 1571.2425326170196, 2737.9964175653704, 5061.536342046203, 3911.3818845055707, 4166.644488319727, 2216.9802870219646, 6507.443535056608, 4519.047027172772, 4904.168020564056, 4973.360933530474, 5609.761734338674, 4613.7140377402475, 3998.456332291656, 3394.6610146993416, 4987.770157388875, 4490.5105619956275, 6565.615630857757, 3664.51579277421, 5810.189751376109, 4805.795058756894, 5844.911117871023, 4913.270715765817, 5942.706339983195, 23.515512433465688, 39.32312526210756, 68.12842671690065, 19.129578206423272, 17.134250936344454, 21.570927492734143, 41.61038150355914, 20.375387911307428, 27.731970965409463, 18.441328066351584, 20.30812787257979, 58.466232011199935, 77.59120248643455, 12.589305336230666, 171.16519836334652, 46.021675009796816, 12.471051227932172, 18.657018644626547, 17.349864391688385, 29.695504799856696, 50.909746971638675, 22.830272027092338, 44.581518616069864, 27.490027865005846, 20.308476786166374, 106.57009699339858, 186.2038024830664, 15.722740360644831, 1309.2841244329493, 12.777844466757832, 149.1494886528786, 3934.1268315771526, 110.03646505753011, 1052.4058117641293, 1390.2299784902139, 121.16549512787509, 59.45122455636132, 100.14251656965337, 108.43119029497768, 3400.938129667648, 1090.2475750950666, 1713.843540653135, 748.9750702016468, 636.9311275282184, 1037.1874498462278, 1274.114994219665, 4913.270715765817, 2481.761575779184, 988.3734798928272, 1888.695185105321, 1396.7131462975178, 2611.318484221533, 1804.4854118320181, 4296.903281592883, 423.8366828059879, 1250.5003931447457, 1811.351177771575, 2202.224877798854, 827.958426650941, 2562.0594396059614, 3412.9186611890877, 4490.5105619956275, 3904.1949997398515, 3643.582480375425, 5283.898408206043, 4993.258564303653, 1989.0189612065274, 3299.7160167704133, 4945.383855646774, 4809.821571552983, 5448.981634722715, 3787.3960854669394, 5609.761734338674, 3528.264219627586, 4805.795058756894, 4166.644488319727, 4305.184607063563, 5810.189751376109, 4973.360933530474, 6507.443535056608, 5844.911117871023, 5414.126426844284, 3516.8701769551662, 8885.848082418936, 4620.027985279806, 5942.706339983195, 6565.615630857757, 5061.536342046203, 4904.168020564056, 4613.7140377402475, 4987.770157388875, 39.897083051950986, 17.094776048127844, 16.04228727075746, 12.41111665639124, 19.222618890449617, 78.56174360160233, 25.702651266658847, 98.8145415487204, 29.393521124214494, 15.614112850513237, 18.57556603983762, 14.283749702548883, 34.066424515638225, 79.1242368253255, 13.05415857686365, 24.485879307913088, 177.25210757719051, 26.669712445715476, 710.5697107167648, 13.647994832775154, 42.237888898454734, 72.40926964107717, 58.5285013456528, 25.6014083223035, 86.55813249917206, 22.10637063984024, 28.103147481491437, 17.15098711580218, 18.88235069656269, 22.84338295245516, 434.59474342126936, 62.70020705793359, 430.41066466643485, 356.39874197459517, 266.5937304546539, 949.6297638399935, 307.6230679675015, 3904.1949997398515, 4809.821571552983, 5844.911117871023, 709.9386942873488, 1810.0193353837394, 753.7478563644595, 968.5342061038696, 1062.7174314631504, 1176.8781270875302, 1700.601611494807, 5942.706339983195, 401.7970532770436, 1382.7572811552864, 1049.502857501541, 4620.027985279806, 525.2658396369386, 3664.51579277421, 3567.715689966695, 5787.412747977363, 1595.1715059644212, 1414.3217790297417, 4613.7140377402475, 4037.0866380194566, 6507.443535056608, 2277.813651311163, 4987.770157388875, 1960.6630455196805, 4973.360933530474, 3516.8701769551662, 8885.848082418936, 5448.981634722715, 2792.337771150057, 1810.0224173604001, 4296.903281592883, 3370.890072508299, 6565.615630857757, 3364.3080926670273, 5283.898408206043, 2491.238964545488, 4179.346803030378, 3911.3818845055707, 3219.0248157126443, 4107.912459878366, 4519.047027172772, 4005.0976561276552, 3934.1268315771526, 4945.383855646774, 5810.189751376109, 5609.761734338674, 4993.258564303653, 4261.770295386081, 4913.270715765817, 52.9199429929701, 42.179940456980084, 23.06211133055371, 23.36725473101631, 19.73195880027002, 27.42877955318045, 21.30001739646678, 11.202022305448612, 26.99101316540993, 13.860518881805755, 192.29272330578289, 22.436338292565353, 19.908653247106606, 41.509358172646586, 22.987457927789276, 43.347776989651805, 36.8515587181968, 15.854541671749885, 104.78261059831263, 17.12649832498014, 39.18734519066142, 30.396010479462344, 25.414391579784528, 43.23399889259502, 27.13409873866881, 13.835715167650829, 70.98376405930046, 69.01888011814081, 11.0841819977985, 24.34991696901192, 375.84059525462425, 35.66268157488952, 398.96623672078664, 79.53541143586318, 1410.3235458862512, 1115.7346029669504, 4261.770295386081, 715.4551957537581, 372.7216971126265, 1653.434487078272, 2792.337771150057, 1413.1865035572641, 1416.8550265710817, 3998.456332291656, 1161.203481672432, 2398.4374948243712, 774.8210022373424, 4805.795058756894, 3767.7849463374077, 1196.9310678004304, 1508.5606814386094, 3166.946395714909, 4037.0866380194566, 5810.189751376109, 3238.524146037772, 1561.9460542845952, 1436.8892429638527, 4172.94192847135, 2533.862107539091, 2687.390918425089, 4945.383855646774, 2316.903919384933, 5609.761734338674, 5414.126426844284, 3364.3080926670273, 5787.412747977363, 2756.437380915725, 6507.443535056608, 2918.533907129652, 4179.346803030378, 6565.615630857757, 4305.184607063563, 5942.706339983195, 4296.903281592883, 3924.6319255149215, 8885.848082418936, 4005.0976561276552, 4904.168020564056, 5448.981634722715, 5283.898408206043, 4490.5105619956275, 4973.360933530474, 5061.536342046203, 5844.911117871023, 4166.644488319727, 4913.270715765817, 4645.859756504527, 43.91081492496586, 12.430288894527633, 13.501212809555444, 32.78555322205051, 22.301375552440202, 28.261912822522643, 11.57331322625692, 66.77781191354963, 49.86113983767024, 35.94299954253336, 50.711172951747244, 58.592814627277335, 76.51891402627723, 11.548502048831796, 35.841532072498794, 55.947596009184956, 12.84793911008441, 33.262012953167144, 112.71650314895915, 59.194723688411706, 66.50072364064552, 16.385310459188183, 17.207722846437452, 60.50238558186553, 23.047581903846154, 24.07881615683556, 16.48546338888744, 105.14405100047735, 58.96364199122198, 36.84154716191653, 136.64374156835478, 71.40817651515104, 1213.4343373340946, 696.8093145786778, 112.61492235393952, 73.98994405648708, 1903.3955199096051, 203.71031857340662, 5283.898408206043, 5942.706339983195, 2562.0594396059614, 1403.2716987854346, 1877.6890623222698, 473.64204901801435, 495.47803607195834, 437.1216892361668, 5448.981634722715, 6565.615630857757, 1913.627287329853, 1896.1446982530995, 4987.770157388875, 945.1215871409659, 1830.6341789824835, 463.91470186691106, 4904.168020564056, 1214.4588228207022, 3767.7849463374077, 990.643531722842, 1876.135986771902, 5061.536342046203, 1053.1850918463047, 1166.8988468185626, 3787.3960854669394, 3556.2573495220263, 4645.859756504527, 3979.221518599334, 1934.4290128748296, 4620.027985279806, 4179.346803030378, 5810.189751376109, 4945.383855646774, 3585.526461727181, 5414.126426844284, 3488.8528540795974, 8885.848082418936, 4973.360933530474, 4005.0976561276552, 5609.761734338674, 4613.7140377402475, 4809.821571552983, 6507.443535056608, 5844.911117871023, 4805.795058756894, 5787.412747977363, 4519.047027172772, 4913.270715765817, 3998.456332291656, 29.983905036168576, 11.968048119867523, 54.12761983309032, 40.53673916022561, 135.68878866698182, 74.46043310268897, 10.92103111885147, 13.05415857686365, 29.69269553024929, 126.12669823564812, 212.17928573068195, 57.94461851644136, 47.40047342581274, 85.52032931363246, 31.242413208019535, 78.5052736659818, 36.79048747076409, 29.03217887136092, 11.935288770936266, 150.3098257640945, 154.22163249301911, 43.410615435313765, 17.836449160180933, 13.818809849439813, 14.622810151517598, 27.589447577596054, 19.59251959170688, 13.614702096986067, 31.33319609093195, 16.917607177195368, 62.29851104778064, 49.08694397547942, 41.67842809547164, 62.29676741675111, 123.5364661072803, 855.6293557534889, 121.56056010317987, 109.26703496022338, 241.02712157085156, 128.40820361359377, 1916.2681801755625, 1310.7313684079286, 1384.6106192665816, 1603.6805815119906, 4179.346803030378, 3292.341289702671, 2394.4453028410417, 6565.615630857757, 2111.3060814405912, 1508.5606814386094, 1876.5674732216416, 3697.3498073996957, 2756.437380915725, 1586.1614405358428, 2316.903919384933, 1690.731394520899, 3528.264219627586, 3924.6319255149215, 5810.189751376109, 4519.047027172772, 5061.536342046203, 4809.821571552983, 2255.4672007662075, 5844.911117871023, 4987.770157388875, 4913.270715765817, 2931.561041775522, 6507.443535056608, 3219.0248157126443, 4107.912459878366, 3129.7329669892115, 4904.168020564056, 8885.848082418936, 3394.6610146993416, 4993.258564303653, 4805.795058756894, 4166.644488319727, 5609.761734338674, 5448.981634722715, 5942.706339983195, 5414.126426844284, 4620.027985279806, 4645.859756504527, 4490.5105619956275, 3979.221518599334, 4261.770295386081, 5787.412747977363, 5283.898408206043], \"Category\": [\"Default\", \"Default\", \"Default\", \"Default\", \"Default\", \"Default\", \"Default\", \"Default\", \"Default\", \"Default\", \"Default\", \"Default\", \"Default\", \"Default\", \"Default\", \"Default\", \"Default\", \"Default\", \"Default\", \"Default\", \"Default\", \"Default\", \"Default\", \"Default\", \"Default\", \"Default\", \"Default\", \"Default\", \"Default\", \"Default\", \"Topic1\", \"Topic1\", \"Topic1\", \"Topic1\", \"Topic1\", \"Topic1\", \"Topic1\", \"Topic1\", \"Topic1\", \"Topic1\", \"Topic1\", \"Topic1\", \"Topic1\", \"Topic1\", \"Topic1\", \"Topic1\", \"Topic1\", \"Topic1\", \"Topic1\", \"Topic1\", \"Topic1\", \"Topic1\", \"Topic1\", \"Topic1\", \"Topic1\", \"Topic1\", \"Topic1\", \"Topic1\", \"Topic1\", \"Topic1\", \"Topic1\", \"Topic1\", \"Topic1\", \"Topic1\", \"Topic1\", \"Topic1\", \"Topic1\", \"Topic1\", \"Topic1\", \"Topic1\", \"Topic1\", \"Topic1\", \"Topic1\", \"Topic1\", \"Topic1\", \"Topic1\", \"Topic1\", \"Topic1\", \"Topic1\", \"Topic1\", \"Topic1\", \"Topic1\", \"Topic1\", \"Topic1\", \"Topic1\", \"Topic1\", \"Topic1\", \"Topic1\", \"Topic1\", \"Topic1\", \"Topic1\", \"Topic1\", \"Topic1\", \"Topic1\", \"Topic1\", \"Topic1\", \"Topic1\", \"Topic1\", \"Topic1\", \"Topic1\", \"Topic1\", \"Topic1\", \"Topic1\", \"Topic1\", \"Topic1\", \"Topic1\", \"Topic1\", \"Topic1\", \"Topic1\", \"Topic1\", \"Topic1\", \"Topic1\", \"Topic2\", \"Topic2\", \"Topic2\", \"Topic2\", \"Topic2\", \"Topic2\", \"Topic2\", \"Topic2\", \"Topic2\", \"Topic2\", \"Topic2\", \"Topic2\", \"Topic2\", \"Topic2\", \"Topic2\", \"Topic2\", \"Topic2\", \"Topic2\", \"Topic2\", \"Topic2\", \"Topic2\", \"Topic2\", \"Topic2\", \"Topic2\", \"Topic2\", \"Topic2\", \"Topic2\", \"Topic2\", \"Topic2\", \"Topic2\", \"Topic2\", \"Topic2\", \"Topic2\", \"Topic2\", \"Topic2\", \"Topic2\", \"Topic2\", \"Topic2\", \"Topic2\", \"Topic2\", \"Topic2\", \"Topic2\", \"Topic2\", \"Topic2\", \"Topic2\", \"Topic2\", \"Topic2\", \"Topic2\", \"Topic2\", \"Topic2\", \"Topic2\", \"Topic2\", \"Topic2\", \"Topic2\", \"Topic2\", \"Topic2\", \"Topic2\", \"Topic2\", \"Topic2\", \"Topic2\", \"Topic2\", \"Topic2\", \"Topic2\", \"Topic2\", \"Topic2\", \"Topic2\", \"Topic2\", \"Topic2\", \"Topic2\", \"Topic2\", \"Topic2\", \"Topic2\", \"Topic2\", \"Topic2\", \"Topic2\", \"Topic2\", \"Topic2\", \"Topic2\", \"Topic2\", \"Topic2\", \"Topic2\", \"Topic2\", \"Topic2\", \"Topic2\", \"Topic2\", \"Topic2\", \"Topic2\", \"Topic2\", \"Topic2\", \"Topic2\", \"Topic2\", \"Topic3\", \"Topic3\", \"Topic3\", \"Topic3\", \"Topic3\", \"Topic3\", \"Topic3\", \"Topic3\", \"Topic3\", \"Topic3\", \"Topic3\", \"Topic3\", \"Topic3\", \"Topic3\", \"Topic3\", \"Topic3\", \"Topic3\", \"Topic3\", \"Topic3\", \"Topic3\", \"Topic3\", \"Topic3\", \"Topic3\", \"Topic3\", \"Topic3\", \"Topic3\", \"Topic3\", \"Topic3\", \"Topic3\", \"Topic3\", \"Topic3\", \"Topic3\", \"Topic3\", \"Topic3\", \"Topic3\", \"Topic3\", \"Topic3\", \"Topic3\", \"Topic3\", \"Topic3\", \"Topic3\", \"Topic3\", \"Topic3\", \"Topic3\", \"Topic3\", \"Topic3\", \"Topic3\", \"Topic3\", \"Topic3\", \"Topic3\", \"Topic3\", \"Topic3\", \"Topic3\", \"Topic3\", \"Topic3\", \"Topic3\", \"Topic3\", \"Topic3\", \"Topic3\", \"Topic3\", \"Topic3\", \"Topic3\", \"Topic3\", \"Topic3\", \"Topic3\", \"Topic3\", \"Topic3\", \"Topic3\", \"Topic3\", \"Topic3\", \"Topic3\", \"Topic3\", \"Topic3\", \"Topic3\", \"Topic3\", \"Topic3\", \"Topic3\", \"Topic3\", \"Topic3\", \"Topic3\", \"Topic3\", \"Topic3\", \"Topic3\", \"Topic3\", \"Topic3\", \"Topic3\", \"Topic3\", \"Topic3\", \"Topic3\", \"Topic4\", \"Topic4\", \"Topic4\", \"Topic4\", \"Topic4\", \"Topic4\", \"Topic4\", \"Topic4\", \"Topic4\", \"Topic4\", \"Topic4\", \"Topic4\", \"Topic4\", \"Topic4\", \"Topic4\", \"Topic4\", \"Topic4\", \"Topic4\", \"Topic4\", \"Topic4\", \"Topic4\", \"Topic4\", \"Topic4\", \"Topic4\", \"Topic4\", \"Topic4\", \"Topic4\", \"Topic4\", \"Topic4\", \"Topic4\", \"Topic4\", \"Topic4\", \"Topic4\", \"Topic4\", \"Topic4\", \"Topic4\", \"Topic4\", \"Topic4\", \"Topic4\", \"Topic4\", \"Topic4\", \"Topic4\", \"Topic4\", \"Topic4\", \"Topic4\", \"Topic4\", \"Topic4\", \"Topic4\", \"Topic4\", \"Topic4\", \"Topic4\", \"Topic4\", \"Topic4\", \"Topic4\", \"Topic4\", \"Topic4\", \"Topic4\", \"Topic4\", \"Topic4\", \"Topic4\", \"Topic4\", \"Topic4\", \"Topic4\", \"Topic4\", \"Topic4\", \"Topic4\", \"Topic4\", \"Topic4\", \"Topic4\", \"Topic4\", \"Topic4\", \"Topic4\", \"Topic4\", \"Topic4\", \"Topic4\", \"Topic4\", \"Topic4\", \"Topic4\", \"Topic4\", \"Topic4\", \"Topic4\", \"Topic4\", \"Topic4\", \"Topic4\", \"Topic4\", \"Topic4\", \"Topic4\", \"Topic5\", \"Topic5\", \"Topic5\", \"Topic5\", \"Topic5\", \"Topic5\", \"Topic5\", \"Topic5\", \"Topic5\", \"Topic5\", \"Topic5\", \"Topic5\", \"Topic5\", \"Topic5\", \"Topic5\", \"Topic5\", \"Topic5\", \"Topic5\", \"Topic5\", \"Topic5\", \"Topic5\", \"Topic5\", \"Topic5\", \"Topic5\", \"Topic5\", \"Topic5\", \"Topic5\", \"Topic5\", \"Topic5\", \"Topic5\", \"Topic5\", \"Topic5\", \"Topic5\", \"Topic5\", \"Topic5\", \"Topic5\", \"Topic5\", \"Topic5\", \"Topic5\", \"Topic5\", \"Topic5\", \"Topic5\", \"Topic5\", \"Topic5\", \"Topic5\", \"Topic5\", \"Topic5\", \"Topic5\", \"Topic5\", \"Topic5\", \"Topic5\", \"Topic5\", \"Topic5\", \"Topic5\", \"Topic5\", \"Topic5\", \"Topic5\", \"Topic5\", \"Topic5\", \"Topic5\", \"Topic5\", \"Topic5\", \"Topic5\", \"Topic5\", \"Topic5\", \"Topic5\", \"Topic5\", \"Topic5\", \"Topic5\", \"Topic5\", \"Topic5\", \"Topic5\", \"Topic5\", \"Topic5\", \"Topic5\", \"Topic5\", \"Topic5\", \"Topic5\", \"Topic5\", \"Topic5\", \"Topic5\", \"Topic5\", \"Topic5\", \"Topic5\", \"Topic5\", \"Topic5\", \"Topic5\", \"Topic6\", \"Topic6\", \"Topic6\", \"Topic6\", \"Topic6\", \"Topic6\", \"Topic6\", \"Topic6\", \"Topic6\", \"Topic6\", \"Topic6\", \"Topic6\", \"Topic6\", \"Topic6\", \"Topic6\", \"Topic6\", \"Topic6\", \"Topic6\", \"Topic6\", \"Topic6\", \"Topic6\", \"Topic6\", \"Topic6\", \"Topic6\", \"Topic6\", \"Topic6\", \"Topic6\", \"Topic6\", \"Topic6\", \"Topic6\", \"Topic6\", \"Topic6\", \"Topic6\", \"Topic6\", \"Topic6\", \"Topic6\", \"Topic6\", \"Topic6\", \"Topic6\", \"Topic6\", \"Topic6\", \"Topic6\", \"Topic6\", \"Topic6\", \"Topic6\", \"Topic6\", \"Topic6\", \"Topic6\", \"Topic6\", \"Topic6\", \"Topic6\", \"Topic6\", \"Topic6\", \"Topic6\", \"Topic6\", \"Topic6\", \"Topic6\", \"Topic6\", \"Topic6\", \"Topic6\", \"Topic6\", \"Topic6\", \"Topic6\", \"Topic6\", \"Topic6\", \"Topic6\", \"Topic6\", \"Topic6\", \"Topic6\", \"Topic6\", \"Topic6\", \"Topic6\", \"Topic6\", \"Topic6\", \"Topic6\", \"Topic6\", \"Topic6\", \"Topic6\", \"Topic6\", \"Topic6\", \"Topic6\", \"Topic6\", \"Topic6\", \"Topic6\", \"Topic6\", \"Topic6\", \"Topic6\", \"Topic6\"], \"logprob\": [30.0, 29.0, 28.0, 27.0, 26.0, 25.0, 24.0, 23.0, 22.0, 21.0, 20.0, 19.0, 18.0, 17.0, 16.0, 15.0, 14.0, 13.0, 12.0, 11.0, 10.0, 9.0, 8.0, 7.0, 6.0, 5.0, 4.0, 3.0, 2.0, 1.0, -8.9301, -9.8295, -10.8217, -10.9492, -10.7007, -10.3642, -9.5749, -10.1833, -11.4144, -7.3705, -9.0022, -7.317, -10.8329, -9.9984, -10.5785, -8.4227, -11.1785, -9.6238, -9.4159, -8.6256, -9.9758, -11.2675, -10.6074, -10.1355, -9.0459, -10.806, -6.9984, -11.371, -10.8289, -9.8091, -9.478, -8.3092, -5.1177, -7.2745, -6.8107, -8.0038, -7.2302, -6.2265, -7.905, -8.6409, -6.3237, -8.4891, -6.6141, -5.6804, -6.4927, -6.0085, -6.0318, -6.7333, -6.4849, -7.2825, -5.8151, -5.957, -5.8933, -6.2151, -6.186, -6.0482, -6.5019, -6.2415, -7.0281, -6.9395, -6.4732, -5.9692, -6.1877, -6.1419, -6.6605, -5.8039, -6.092, -6.0398, -6.0344, -5.949, -6.1064, -6.2127, -6.3316, -6.0953, -6.1659, -5.9437, -6.3091, -6.0933, -6.1862, -6.1131, -6.205, -6.211, -10.6834, -10.2274, -9.6932, -10.9858, -11.1065, -10.8949, -10.2437, -10.9592, -10.6535, -11.0769, -10.9834, -9.9298, -9.6582, -11.489, -8.881, -10.1988, -11.51, -11.1101, -11.1828, -10.6477, -10.1114, -10.9152, -10.2468, -10.7387, -11.0464, -9.3897, -8.8337, -11.3084, -6.8914, -11.5226, -9.0689, -5.8311, -9.3773, -7.1754, -6.9071, -9.2954, -9.9864, -9.4846, -9.4085, -6.1144, -7.2066, -6.7769, -7.5776, -7.7315, -7.2739, -7.0862, -5.8219, -6.4691, -7.3319, -6.7352, -7.0159, -6.4369, -6.784, -5.9956, -8.1299, -7.1364, -6.8007, -6.6229, -7.5141, -6.4876, -6.2382, -5.9934, -6.119, -6.1818, -5.8693, -5.9232, -6.7313, -6.297, -5.9481, -5.9859, -5.887, -6.2005, -5.8832, -6.2904, -6.0514, -6.167, -6.1574, -5.9424, -6.0739, -5.8937, -5.9729, -6.044, -6.3317, -5.7788, -6.1745, -6.0453, -6.0101, -6.1437, -6.1676, -6.2123, -6.1984, -10.1116, -11.0131, -11.0836, -11.3432, -10.9132, -9.519, -10.6373, -9.3025, -10.5218, -11.1647, -11.0098, -11.2751, -10.4081, -9.5656, -11.368, -10.7404, -8.7658, -10.6631, -7.3839, -11.3398, -10.218, -9.6876, -9.9019, -10.7372, -9.5252, -10.9005, -10.6629, -11.1618, -11.0671, -10.8783, -7.9331, -9.8795, -7.9978, -8.1856, -8.478, -7.2569, -8.3461, -5.9404, -5.7519, -5.5768, -7.5736, -6.703, -7.538, -7.3077, -7.2231, -7.142, -6.8073, -5.6709, -8.1381, -7.0193, -7.2707, -5.9395, -7.9114, -6.1648, -6.2001, -5.7736, -6.9304, -7.0393, -6.0155, -6.1308, -5.7205, -6.6266, -5.973, -6.7639, -5.9892, -6.2898, -5.5551, -5.947, -6.4882, -6.8349, -6.1732, -6.3603, -5.8569, -6.3651, -6.0369, -6.5953, -6.2322, -6.2795, -6.4293, -6.2684, -6.2066, -6.2949, -6.3106, -6.1774, -6.0957, -6.1676, -6.2242, -6.2948, -6.2641, -9.6839, -9.9994, -10.632, -10.6845, -10.875, -10.5488, -10.8091, -11.4776, -10.6063, -11.2907, -8.6735, -10.8254, -10.9563, -10.2339, -10.8421, -10.2107, -10.3731, -11.2183, -9.3332, -11.1484, -10.3225, -10.5802, -10.7603, -10.2315, -10.6981, -11.3754, -9.7465, -9.7751, -11.6127, -10.8343, -8.1143, -10.4568, -8.0905, -9.6865, -6.9315, -7.1553, -5.8859, -7.5951, -8.2123, -6.8216, -6.3416, -6.9865, -6.9844, -6.0203, -7.1708, -6.5068, -7.5532, -5.881, -6.1218, -7.1669, -6.9591, -6.2851, -6.0855, -5.7742, -6.2991, -6.9487, -7.0255, -6.094, -6.5318, -6.485, -5.9643, -6.6164, -5.869, -5.9249, -6.3217, -5.8911, -6.4967, -5.8036, -6.4513, -6.1748, -5.8236, -6.1589, -5.9157, -6.1696, -6.2388, -5.6698, -6.2326, -6.124, -6.0765, -6.1145, -6.207, -6.1576, -6.16, -6.1139, -6.2538, -6.2384, -6.2754, -9.9, -11.2766, -11.2517, -10.376, -10.7621, -10.5649, -11.4749, -9.732, -10.0401, -10.3734, -10.0398, -9.8969, -9.6328, -11.5304, -10.3997, -9.9591, -11.4304, -10.5001, -9.286, -9.9351, -9.8249, -11.2258, -11.1771, -9.9203, -10.8876, -10.8447, -11.2239, -9.3717, -9.9507, -10.4219, -9.1225, -9.7672, -6.9677, -7.5176, -9.3242, -9.7382, -6.5718, -8.7483, -5.6697, -5.5814, -6.373, -6.9458, -6.704, -7.9884, -7.9496, -8.069, -5.7268, -5.5887, -6.7205, -6.7321, -5.853, -7.3693, -6.7831, -8.023, -5.9062, -7.1661, -6.1588, -7.3545, -6.7901, -5.9211, -7.304, -7.2139, -6.1782, -6.2373, -6.0064, -6.1579, -6.7795, -6.0347, -6.1245, -5.8564, -5.9927, -6.2667, -5.934, -6.3099, -5.5664, -6.0313, -6.2032, -5.9655, -6.1273, -6.0993, -5.9094, -5.9869, -6.1429, -6.0354, -6.2, -6.1868, -6.2605, -10.0439, -11.1524, -9.7037, -10.0169, -8.8721, -9.4771, -11.404, -11.2498, -10.4309, -8.9865, -8.4694, -9.7801, -9.9831, -9.3971, -10.4385, -9.5243, -10.2827, -10.5204, -11.4105, -8.8774, -8.8588, -10.1298, -11.0223, -11.2777, -11.2252, -10.5904, -10.935, -11.3012, -10.4705, -11.092, -9.7917, -10.03, -10.1954, -9.8047, -9.145, -7.2727, -9.1623, -9.2671, -8.5354, -9.1355, -6.5998, -6.9561, -6.9055, -6.7757, -5.8877, -6.1172, -6.4232, -5.4993, -6.5624, -6.8768, -6.6993, -6.0935, -6.3553, -6.8655, -6.53, -6.8139, -6.1722, -6.0802, -5.7465, -5.9738, -5.8954, -5.9489, -6.5981, -5.8133, -5.9463, -5.9597, -6.4027, -5.7724, -6.3285, -6.1459, -6.357, -6.044, -5.631, -6.31, -6.0491, -6.0805, -6.1852, -6.0219, -6.0777, -6.044, -6.0964, -6.188, -6.1892, -6.2165, -6.2568, -6.2812, -6.246, -6.2593], \"loglift\": [30.0, 29.0, 28.0, 27.0, 26.0, 25.0, 24.0, 23.0, 22.0, 21.0, 20.0, 19.0, 18.0, 17.0, 16.0, 15.0, 14.0, 13.0, 12.0, 11.0, 10.0, 9.0, 8.0, 7.0, 6.0, 5.0, 4.0, 3.0, 2.0, 1.0, 0.901, 0.8279, 0.7565, 0.7382, 0.6959, 0.6701, 0.6645, 0.6496, 0.6341, 0.6325, 0.6229, 0.6224, 0.6158, 0.6002, 0.5984, 0.5962, 0.5899, 0.5846, 0.5845, 0.5809, 0.5738, 0.5697, 0.5695, 0.5632, 0.5596, 0.5548, 0.5546, 0.5524, 0.5489, 0.5444, 0.5337, 0.5028, 0.3875, 0.452, 0.4177, 0.4668, 0.4224, 0.347, 0.4414, 0.4817, 0.3335, 0.4712, 0.3298, 0.2537, 0.312, 0.2526, 0.245, 0.3128, 0.2881, 0.364, 0.1856, 0.1968, 0.1884, 0.2251, 0.2108, 0.1817, 0.2493, 0.1907, 0.3171, 0.2983, 0.2093, 0.0988, 0.1381, 0.1207, 0.2331, 0.0129, 0.0894, 0.0599, 0.0513, 0.0163, 0.0543, 0.0912, 0.136, -0.0125, 0.0219, -0.1358, 0.0819, -0.1631, -0.0663, -0.1889, -0.1072, -0.3034, 0.7564, 0.6983, 0.6829, 0.6604, 0.6499, 0.6312, 0.6254, 0.624, 0.6214, 0.6061, 0.6031, 0.5992, 0.5879, 0.5757, 0.5738, 0.5696, 0.5641, 0.5612, 0.5611, 0.5588, 0.5561, 0.5542, 0.5533, 0.545, 0.5401, 0.539, 0.537, 0.534, 0.5288, 0.5272, 0.5237, 0.489, 0.5194, 0.4633, 0.4531, 0.5049, 0.5259, 0.5063, 0.5029, 0.3513, 0.3968, 0.3741, 0.4012, 0.4094, 0.3794, 0.3613, 0.2759, 0.3117, 0.3695, 0.3187, 0.3398, 0.293, 0.3155, 0.2362, 0.4183, 0.3298, 0.295, 0.2774, 0.3645, 0.2614, 0.224, 0.1944, 0.2087, 0.2149, 0.1558, 0.1585, 0.2708, 0.1989, 0.1432, 0.1332, 0.1074, 0.1575, 0.0821, 0.1385, 0.0686, 0.0957, 0.0726, -0.0123, 0.0118, -0.0769, -0.0488, -0.0432, 0.1004, -0.2736, -0.0151, -0.1377, -0.2022, -0.0756, -0.0679, -0.0515, -0.1156, 0.7996, 0.7456, 0.7386, 0.7357, 0.7282, 0.7146, 0.7136, 0.7018, 0.695, 0.6846, 0.6659, 0.6633, 0.6611, 0.6609, 0.6604, 0.659, 0.6541, 0.6509, 0.6475, 0.6441, 0.6362, 0.6276, 0.6261, 0.6176, 0.6115, 0.6011, 0.5988, 0.5936, 0.5922, 0.5905, 0.59, 0.5796, 0.535, 0.5359, 0.5337, 0.4845, 0.5226, 0.3873, 0.3672, 0.3474, 0.4588, 0.3934, 0.4344, 0.4141, 0.4058, 0.3849, 0.3515, 0.2367, 0.4635, 0.3464, 0.3707, 0.2198, 0.4222, 0.2263, 0.2178, 0.1604, 0.2924, 0.3038, 0.1452, 0.1635, 0.0963, 0.2399, 0.1097, 0.2526, 0.0965, 0.1424, -0.0498, 0.0473, 0.1746, 0.2615, 0.0587, 0.1143, -0.049, 0.1114, -0.0118, 0.1817, 0.0274, 0.0463, 0.0914, 0.0084, -0.0252, 0.0073, 0.0095, -0.0861, -0.1656, -0.2023, -0.1426, -0.0547, -0.1662, 0.9448, 0.8561, 0.8273, 0.7617, 0.7403, 0.7371, 0.7297, 0.7038, 0.6957, 0.6778, 0.665, 0.6615, 0.6501, 0.6377, 0.6205, 0.6175, 0.6175, 0.6158, 0.6124, 0.6085, 0.6067, 0.603, 0.6019, 0.5994, 0.5986, 0.5948, 0.5885, 0.588, 0.5793, 0.5707, 0.5541, 0.5666, 0.5181, 0.5348, 0.4145, 0.425, 0.3542, 0.4294, 0.4643, 0.3653, 0.3213, 0.3574, 0.3569, 0.2835, 0.3695, 0.3081, 0.3917, 0.2389, 0.2415, 0.3431, 0.3195, 0.2518, 0.2087, 0.1559, 0.2156, 0.2951, 0.3018, 0.1672, 0.2282, 0.2161, 0.127, 0.2331, 0.0963, 0.0758, 0.1548, 0.0429, 0.1791, 0.0133, 0.1673, 0.0848, -0.0157, 0.071, -0.0081, 0.0623, 0.0836, -0.1645, 0.0696, -0.0244, -0.0822, -0.0894, -0.0193, -0.0719, -0.092, -0.1897, 0.0089, -0.1406, -0.1216, 0.9153, 0.8008, 0.7431, 0.7315, 0.7308, 0.6911, 0.6739, 0.6641, 0.6482, 0.6422, 0.6315, 0.63, 0.6272, 0.6206, 0.6187, 0.614, 0.6139, 0.593, 0.5866, 0.5816, 0.5754, 0.5753, 0.5751, 0.5745, 0.5723, 0.5715, 0.5711, 0.5704, 0.5698, 0.569, 0.5576, 0.5619, 0.5286, 0.5334, 0.5493, 0.5554, 0.4744, 0.5325, 0.3554, 0.3262, 0.3759, 0.4051, 0.3558, 0.4486, 0.4424, 0.4483, 0.2675, 0.2192, 0.3202, 0.3178, 0.2298, 0.3769, 0.302, 0.4348, 0.1935, 0.3293, 0.2044, 0.3447, 0.2704, 0.147, 0.3339, 0.3215, 0.1798, 0.1837, 0.1474, 0.1508, 0.2504, 0.1247, 0.1351, 0.0738, 0.0986, 0.1462, 0.0667, 0.1303, -0.0611, 0.0544, 0.0989, -0.0002, 0.0334, 0.0198, -0.0925, -0.0628, -0.023, -0.1014, -0.0186, -0.089, 0.0434, 1.1529, 0.9629, 0.9025, 0.8784, 0.815, 0.8101, 0.8028, 0.7786, 0.7757, 0.7738, 0.7707, 0.7579, 0.7558, 0.7517, 0.7172, 0.71, 0.7095, 0.7087, 0.7075, 0.7074, 0.7003, 0.697, 0.6939, 0.6938, 0.6897, 0.6897, 0.6874, 0.6852, 0.6823, 0.6771, 0.6739, 0.674, 0.6721, 0.6609, 0.636, 0.573, 0.6348, 0.6366, 0.5772, 0.6068, 0.4395, 0.4631, 0.4588, 0.4418, 0.3719, 0.3809, 0.3934, 0.3086, 0.3801, 0.4018, 0.361, 0.2886, 0.3205, 0.3629, 0.3195, 0.3507, 0.2567, 0.2422, 0.1836, 0.2077, 0.1726, 0.1702, 0.2783, 0.1109, 0.1364, 0.1382, 0.2116, 0.0444, 0.1922, 0.1309, 0.1918, 0.0557, -0.1257, 0.1575, 0.0325, 0.0394, 0.0774, -0.0566, -0.0834, -0.1364, -0.0957, -0.0286, -0.0354, -0.0287, 0.0519, -0.0411, -0.3119, -0.2342]}, \"token.table\": {\"Topic\": [1, 2, 3, 4, 5, 6, 1, 2, 3, 4, 5, 6, 1, 2, 3, 4, 5, 6, 1, 2, 3, 4, 5, 6, 1, 2, 3, 4, 5, 6, 1, 2, 3, 4, 5, 6, 1, 2, 3, 4, 5, 6, 1, 2, 3, 4, 5, 6, 1, 2, 3, 4, 5, 6, 1, 2, 3, 4, 5, 6, 1, 2, 3, 4, 5, 6, 1, 2, 3, 4, 5, 6, 1, 2, 3, 4, 5, 6, 1, 2, 3, 4, 5, 6, 1, 2, 3, 4, 5, 6, 1, 2, 3, 4, 5, 6, 1, 2, 3, 4, 5, 6, 1, 2, 3, 4, 5, 6, 1, 2, 3, 4, 5, 6, 1, 2, 3, 4, 5, 6, 1, 2, 3, 4, 5, 6, 1, 2, 3, 4, 5, 6, 1, 2, 3, 4, 5, 6, 1, 2, 3, 4, 5, 6, 1, 2, 3, 4, 5, 6, 1, 2, 3, 4, 5, 6, 1, 2, 3, 4, 5, 6, 1, 2, 3, 4, 5, 6, 1, 2, 3, 4, 5, 6, 1, 2, 3, 4, 5, 6, 1, 2, 3, 4, 5, 6, 1, 2, 3, 4, 5, 6, 1, 2, 3, 4, 5, 6, 1, 2, 3, 4, 5, 6, 1, 2, 3, 4, 5, 6, 1, 2, 3, 4, 5, 6, 1, 2, 3, 4, 5, 6, 1, 2, 3, 4, 5, 6, 1, 2, 3, 4, 5, 6, 1, 2, 3, 4, 5, 6, 1, 2, 3, 4, 5, 6, 1, 2, 3, 4, 5, 6, 1, 2, 3, 4, 5, 6, 1, 2, 3, 4, 5, 6, 1, 2, 3, 4, 5, 6, 1, 2, 3, 4, 5, 6, 1, 2, 3, 4, 5, 6, 1, 2, 3, 4, 5, 6, 1, 2, 3, 4, 5, 6, 1, 2, 3, 4, 5, 6, 1, 2, 3, 4, 5, 6, 1, 2, 3, 4, 5, 6, 1, 2, 3, 4, 5, 6, 1, 2, 3, 4, 5, 6, 1, 2, 3, 4, 5, 6, 1, 2, 3, 4, 5, 6, 1, 2, 3, 4, 5, 6, 1, 2, 3, 4, 5, 6, 1, 2, 3, 4, 5, 6, 1, 2, 3, 4, 5, 6, 1, 2, 3, 4, 5, 6, 1, 2, 3, 4, 5, 6, 1, 2, 3, 4, 5, 6, 1, 2, 3, 4, 5, 6, 1, 2, 3, 4, 5, 6, 1, 2, 3, 4, 5, 6, 1, 2, 3, 4, 5, 6, 1, 2, 3, 4, 5, 6, 1, 2, 3, 4, 5, 6, 1, 2, 3, 4, 5, 6, 1, 2, 3, 4, 5, 6, 1, 2, 3, 4, 5, 6, 1, 2, 3, 4, 5, 6, 1, 2, 3, 4, 5, 6, 1, 2, 3, 4, 5, 6, 1, 2, 3, 4, 5, 6, 1, 2, 3, 4, 5, 6, 1, 2, 3, 4, 5, 6, 1, 2, 3, 4, 5, 6, 1, 2, 3, 4, 5, 6, 1, 2, 3, 4, 5, 6, 1, 2, 3, 4, 5, 6, 1, 2, 3, 4, 5, 6, 1, 2, 3, 4, 5, 6, 1, 2, 3, 4, 5, 6, 1, 2, 3, 4, 5, 6, 1, 2, 3, 4, 5, 6, 1, 2, 3, 4, 5, 6, 1, 2, 3, 4, 5, 6, 1, 2, 3, 4, 5, 6, 1, 2, 3, 4, 5, 6, 1, 2, 3, 4, 5, 6, 1, 2, 3, 4, 5, 6, 1, 2, 3, 4, 5, 6, 1, 2, 3, 4, 5, 6, 1, 2, 3, 4, 5, 6, 1, 2, 3, 4, 5, 6, 1, 2, 3, 4, 5, 6, 1, 2, 3, 4, 5, 6, 1, 2, 3, 4, 5, 6, 1, 2, 3, 4, 5, 6, 1, 2, 3, 4, 5, 6, 1, 2, 3, 4, 5, 6, 1, 2, 3, 4, 5, 6, 1, 2, 3, 4, 5, 6, 1, 2, 3, 4, 5, 6, 1, 2, 3, 4, 5, 6, 1, 2, 3, 4, 5, 6, 1, 2, 3, 4, 5, 6, 1, 2, 3, 4, 5, 6, 1, 2, 3, 4, 5, 6, 1, 2, 3, 4, 5, 6, 1, 2, 3, 4, 5, 6, 1, 2, 3, 4, 5, 6, 1, 2, 3, 4, 5, 6, 1, 2, 3, 4, 5, 6, 1, 2, 3, 4, 5, 6, 1, 2, 3, 4, 5, 6, 1, 2, 3, 4, 5, 6, 1, 2, 3, 4, 5, 6, 1, 2, 3, 4, 5, 6, 1, 2, 3, 4, 5, 6, 1, 2, 3, 4, 5, 6, 1, 2, 3, 4, 5, 6, 1, 2, 3, 4, 5, 6, 1, 2, 3, 4, 5, 6, 1, 2, 3, 4, 5, 6, 1, 2, 3, 4, 5, 6, 1, 2, 3, 4, 5, 6, 1, 2, 3, 4, 5, 6, 1, 2, 3, 4, 5, 6, 1, 2, 3, 4, 5, 6, 1, 2, 3, 4, 5, 6, 1, 2, 3, 4, 5, 6, 1, 2, 3, 4, 5, 6, 1, 2, 3, 4, 5, 6, 1, 2, 3, 4, 5, 6, 1, 2, 3, 4, 5, 6, 1, 2, 3, 4, 5, 6, 1, 2, 3, 4, 5, 6, 1, 2, 3, 4, 5, 6, 1, 2, 3, 4, 5, 6, 1, 2, 3, 4, 5, 6, 1, 2, 3, 4, 5, 6, 1, 2, 3, 4, 5, 6, 1, 2, 3, 4, 5, 6, 1, 2, 3, 4, 5, 6, 1, 2, 3, 4, 5, 6, 1, 2, 3, 4, 5, 6, 1, 2, 3, 4, 5, 6, 1, 2, 3, 4, 5, 6, 1, 2, 3, 4, 5, 6, 1, 2, 3, 4, 5, 6, 1, 2, 3, 4, 5, 6, 1, 2, 3, 4, 5, 6, 1, 2, 3, 4, 5, 6, 1, 2, 3, 4, 5, 6, 1, 2, 3, 4, 5, 6, 1, 2, 3, 4, 5, 6, 1, 2, 3, 4, 5, 6, 1, 2, 3, 4, 5, 6, 1, 2, 3, 4, 5, 6, 1, 2, 3, 4, 5, 6, 1, 2, 3, 4, 5, 6, 1, 2, 3, 4, 5, 6, 1, 2, 3, 4, 5, 6, 1, 2, 3, 4, 5, 6, 1, 2, 3, 4, 5, 6, 1, 2, 3, 4, 5, 6, 1, 2, 3, 4, 5, 6, 1, 2, 3, 4, 5, 6, 1, 2, 3, 4, 5, 6, 1, 2, 3, 4, 5, 6, 1, 2, 3, 4, 5, 6, 1, 2, 3, 4, 5, 6, 1, 2, 3, 4, 5, 6, 1, 2, 3, 4, 5, 6, 1, 2, 3, 4, 5, 6, 1, 2, 3, 4, 5, 6, 1, 2, 3, 4, 5, 6, 1, 2, 3, 4, 5, 6, 1, 2, 3, 4, 5, 6, 1, 2, 3, 4, 5, 6, 1, 2, 3, 4, 5, 6, 1, 2, 3, 4, 5, 6, 1, 2, 3, 4, 5, 6, 1, 2, 3, 4, 5, 6, 1, 2, 3, 4, 5, 6, 1, 2, 3, 4, 5, 6, 1, 2, 3, 4, 5, 6, 1, 2, 3, 4, 5, 6, 1, 2, 3, 4, 5, 6, 1, 2, 3, 4, 5, 6, 1, 2, 3, 4, 5, 6, 1, 2, 3, 4, 5, 6, 1, 2, 3, 4, 5, 6, 1, 2, 3, 4, 5, 6, 1, 2, 3, 4, 5, 6, 1, 2, 3, 4, 5, 6, 1, 2, 3, 4, 5, 6, 1, 2, 3, 4, 5, 6, 1, 2, 3, 4, 5, 6, 1, 2, 3, 4, 5, 6, 1, 2, 3, 4, 5, 6, 1, 2, 3, 4, 5, 6, 1, 2, 3, 4, 5, 6, 1, 2, 3, 4, 5, 6, 1, 2, 3, 4, 5, 6, 1, 2, 3, 4, 5, 6, 1, 2, 3, 4, 5, 6, 1, 2, 3, 4, 5, 6, 1, 2, 3, 4, 5, 6, 1, 2, 3, 4, 5, 6, 1, 2, 3, 4, 5, 6, 1, 2, 3, 4, 5, 6, 1, 2, 3, 4, 5, 6, 1, 2, 3, 4, 5, 6, 1, 2, 3, 4, 5, 6, 1, 2, 3, 4, 5, 6, 1, 2, 3, 4, 5, 6, 1, 2, 3, 4, 5, 6, 1, 2, 3, 4, 5, 6, 1, 2, 3, 4, 5, 6, 1, 2, 3, 4, 5, 6, 1, 2, 3, 4, 5, 6, 1, 2, 3, 4, 5, 6, 1, 2, 3, 4, 5, 6, 1, 2, 3, 4, 5, 6, 1, 2, 3, 4, 5, 6, 1, 2, 3, 4, 5, 6, 1, 2, 3, 4, 5, 6, 1, 2, 3, 4, 5, 6, 1, 2, 3, 4, 5, 6, 1, 2, 3, 4, 5, 6, 1, 2, 3, 4, 5, 6, 1, 2, 3, 4, 5, 6, 1, 2, 3, 4, 5, 6, 1, 2, 3, 4, 5, 6, 1, 2, 3, 4, 5, 6, 1, 2, 3, 4, 5, 6, 1, 2, 3, 4, 5, 6, 1, 2, 3, 4, 5, 6, 1, 2, 3, 4, 5, 6, 1, 2, 3, 4, 5, 6, 1, 2, 3, 4, 5, 6, 1, 2, 3, 4, 5, 6, 1, 2, 3, 4, 5, 6, 1, 2, 3, 4, 5, 6, 1, 2, 3, 4, 5, 6, 1, 2, 3, 4, 5, 6, 1, 2, 3, 4, 5, 6, 1, 2, 3, 4, 5, 6, 1, 2, 3, 4, 5, 6, 1, 2, 3, 4, 5, 6, 1, 2, 3, 4, 5, 6, 1, 2, 3, 4, 5, 6, 1, 2, 3, 4, 5, 6, 1, 2, 3, 4, 5, 6, 1, 2, 3, 4, 5, 6, 1, 2, 3, 4, 5, 6, 1, 2, 3, 4, 5, 6, 1, 2, 3, 4, 5, 6, 1, 2, 3, 4, 5, 6, 1, 2, 3, 4, 5, 6, 1, 2, 3, 4, 5, 6, 1, 2, 3, 4, 5, 6, 1, 2, 3, 4, 5, 6, 1, 2, 3, 4, 5, 6, 1, 2, 3, 4, 5, 6, 1, 2, 3, 4, 5, 6, 1, 2, 3, 4, 5, 6, 1, 2, 3, 4, 5, 6, 1, 2, 3, 4, 5, 6, 1, 2, 3, 4, 5, 6, 1, 2, 3, 4, 5, 6, 1, 2, 3, 4, 5, 6, 1, 2, 3, 4, 5, 6, 1, 2, 3, 4, 5, 6, 1, 2, 3, 4, 5, 6, 1, 2, 3, 4, 5, 6, 1, 2, 3, 4, 5, 6, 1, 2, 3, 4, 5, 6, 1, 2, 3, 4, 5, 6, 1, 2, 3, 4, 5, 6, 1, 2, 3, 4, 5, 6, 1, 2, 3, 4, 5, 6, 1, 2, 3, 4, 5, 6, 1, 2, 3, 4, 5, 6, 1, 2, 3, 4, 5, 6, 1, 2, 3, 4, 5, 6, 1, 2, 3, 4, 5, 6, 1, 2, 3, 4, 5, 6, 1, 2, 3, 4, 5, 6, 1, 2, 3, 4, 5, 6, 1, 2, 3, 4, 5, 6, 1, 2, 3, 4, 5, 6, 1, 2, 3, 4, 5, 6, 1, 2, 3, 4, 5, 6, 1, 2, 3, 4, 5, 6, 1, 2, 3, 4, 5, 6, 1, 2, 3, 4, 5, 6, 1, 2, 3, 4, 5, 6, 1, 2, 3, 4, 5, 6, 1, 2, 3, 4, 5, 6, 1, 2, 3, 4, 5, 6, 1, 2, 3, 4, 5, 6, 1, 2, 3, 4, 5, 6, 1, 2, 3, 4, 5, 6, 1, 2, 3, 4, 5, 6, 1, 2, 3, 4, 5, 6, 1, 2, 3, 4, 5, 6, 1, 2, 3, 4, 5, 6, 1, 2, 3, 4, 5, 6, 1, 2, 3, 4, 5, 6, 1, 2, 3, 4, 5, 6, 1, 2, 3, 4, 5, 6, 1, 2, 3, 4, 5, 6, 1, 2, 3, 4, 5, 6, 1, 2, 3, 4, 5, 6, 1, 2, 3, 4, 5, 6, 1, 2, 3, 4, 5, 6, 1, 2, 3, 4, 5, 6, 1, 2, 3, 4, 5, 6, 1, 2, 3, 4, 5, 6, 1, 2, 3, 4, 5, 6, 1, 2, 3, 4, 5, 6, 1, 2, 3, 4, 5, 6, 1, 2, 3, 4, 5, 6, 1, 2, 3, 4, 5, 6, 1, 2, 3, 4, 5, 6, 1, 2, 3, 4, 5, 6, 1, 2, 3, 4, 5, 6, 1, 2, 3, 4, 5, 6, 1, 2, 3, 4, 5, 6, 1, 2, 3, 4, 5, 6, 1, 2, 3, 4, 5, 6, 1, 2, 3, 4, 5, 6, 1, 2, 3, 4, 5, 6, 1, 2, 3, 4, 5, 6, 1, 2, 3, 4, 5, 6, 1, 2, 3, 4, 5, 6, 1, 2, 3, 4, 5, 6, 1, 2, 3, 4, 5, 6, 1, 2, 3, 4, 5, 6, 1, 2, 3, 4, 5, 6, 1, 2, 3, 4, 5, 6, 1, 2, 3, 4, 5, 6, 1, 2, 3, 4, 5, 6, 1, 2, 3, 4, 5, 6, 1, 2, 3, 4, 5, 6, 1, 2, 3, 4, 5, 6, 1, 2, 3, 4, 5, 6, 1, 2, 3, 4, 5, 6, 1, 2, 3, 4, 5, 6, 1, 2, 3, 4, 5, 6, 1, 2, 3, 4, 5, 6, 1, 2, 3, 4, 5, 6, 1, 2, 3, 4, 5, 6, 1, 2, 3, 4, 5, 6, 1, 2, 3, 4, 5, 6, 1, 2, 3, 4, 5, 6, 1, 2, 3, 4, 5, 6, 1, 2, 3, 4, 5, 6, 1, 2, 3, 4, 5, 6, 1, 2, 3, 4, 5, 6, 1, 2, 3, 4, 5, 6, 1, 2, 3, 4, 5, 6, 1, 2, 3, 4, 5, 6, 1, 2, 3, 4, 5, 6, 1, 2, 3, 4, 5, 6, 1, 2, 3, 4, 5, 6, 1, 2, 3, 4, 5, 6, 1, 2, 3, 4, 5, 6, 1, 2, 3, 4, 5, 6, 1, 2, 3, 4, 5, 6, 1, 2, 3, 4, 5, 6, 1, 2, 3, 4, 5, 6, 1, 2, 3, 4, 5, 6, 1, 2, 3, 4, 5, 6, 1, 2, 3, 4, 5, 6], \"Freq\": [0.1858690003929141, 0.1324316627799513, 0.28809695060901686, 0.1672821003536227, 0.14869520031433128, 0.0789943251669885, 0.35198773669013794, 0.15085188715291625, 0.15085188715291625, 0.1592325475503005, 0.12990023615945567, 0.05866462278168966, 0.2655769056612807, 0.18089378549215782, 0.13966064321085714, 0.15473512533520362, 0.10951167896216417, 0.14985808700085623, 0.1589007619155457, 0.18030520244754844, 0.17921684106456526, 0.19336553904334672, 0.13169172734096596, 0.15636125202191828, 0.244321300474216, 0.22176118039113513, 0.12576066939930175, 0.16320086868611677, 0.12240065151458758, 0.12264065279206716, 0.18197850610752303, 0.18197850610752303, 0.12131900407168202, 0.12131900407168202, 0.24263800814336403, 0.12131900407168202, 0.15311065270708454, 0.2041475369427794, 0.17862909482493197, 0.3062213054141691, 0.07655532635354227, 0.07655532635354227, 0.14084495538945596, 0.23474159231575994, 0.09389663692630398, 0.32863822924206393, 0.09389663692630398, 0.04694831846315199, 0.21247029010002477, 0.2913878264228911, 0.1375998069219208, 0.15378801950097032, 0.13051746391858665, 0.07385871989191338, 0.3304756179323963, 0.14355937921844622, 0.1503037795844135, 0.144522864985013, 0.12139920658741091, 0.10983737738860987, 0.2678255834645621, 0.16103982028255018, 0.15070571416816195, 0.23423973859280026, 0.0990351835962207, 0.0878399019723001, 0.16313712592605673, 0.2354322327749589, 0.1663544474350393, 0.1478075352067869, 0.19758139149281118, 0.08970649383869013, 0.18398710640161342, 0.19896079981315729, 0.14268036595597525, 0.1889783375387947, 0.14904848844134447, 0.13631224347060603, 0.22035002886064767, 0.22035002886064767, 0.07345000962021589, 0.07345000962021589, 0.14690001924043178, 0.22035002886064767, 0.1261468190886692, 0.1261468190886692, 0.1261468190886692, 0.31536704772167307, 0.18922022863300383, 0.1261468190886692, 0.23345858358196292, 0.1334049049039788, 0.0667024524519894, 0.1000536786779841, 0.1000536786779841, 0.3668634884859417, 0.1506882440898407, 0.10045882939322713, 0.20091765878645426, 0.3013764881796814, 0.1506882440898407, 0.10045882939322713, 0.2124946668570434, 0.18845928037449866, 0.17207151686367267, 0.15732252970392932, 0.18736676280711026, 0.08248507633782405, 0.13477530548097885, 0.19467544125030278, 0.2695506109619577, 0.014975033942330985, 0.2695506109619577, 0.11980027153864788, 0.20103127066306956, 0.14917288555571723, 0.21127490228921322, 0.21703694507891905, 0.11844199067728621, 0.1030765432380707, 0.11527467620773559, 0.34582402862320677, 0.17291201431160338, 0.11527467620773559, 0.17291201431160338, 0.05763733810386779, 0.16079739518639743, 0.375193922101594, 0.1071982634575983, 0.1071982634575983, 0.16079739518639743, 0.1071982634575983, 0.4395185413947076, 0.14650618046490252, 0.14650618046490252, 0.09767078697660168, 0.04883539348830084, 0.04883539348830084, 0.25135546006271153, 0.08378515335423718, 0.16757030670847436, 0.16757030670847436, 0.16757030670847436, 0.25135546006271153, 0.14813484004818483, 0.14813484004818483, 0.14813484004818483, 0.14813484004818483, 0.29626968009636967, 0.07406742002409242, 0.22497430417416847, 0.11248715208708424, 0.33746145626125273, 0.14998286944944564, 0.11248715208708424, 0.07499143472472282, 0.15532072227632868, 0.20709429636843824, 0.15532072227632868, 0.17257858030703185, 0.08628929015351593, 0.2416100124298446, 0.22308647977963647, 0.18452099790283763, 0.18867420364341597, 0.15426192750719545, 0.138242419650679, 0.1112465823369198, 0.23000843267810028, 0.18820725475344555, 0.13600675939387669, 0.15782493518869647, 0.16802034443861227, 0.11989801277900973, 0.20833220672062605, 0.2093374284659608, 0.148270207436875, 0.15329631616354872, 0.16108678468989301, 0.11962138769483474, 0.18151863148475544, 0.16237408832034764, 0.17797334571356882, 0.24462471821187745, 0.15457445962373706, 0.07870534412034318, 0.2323117203589463, 0.16907130759456648, 0.18972123829313947, 0.23876482370225036, 0.09550592948090014, 0.07485599878232714, 0.17936113360336298, 0.13452085020252225, 0.13452085020252225, 0.13452085020252225, 0.2690417004050445, 0.08968056680168149, 0.5361534264397059, 0.11914520587549018, 0.1446763214202381, 0.04255185924124649, 0.05957260293774509, 0.09361409033074229, 0.1740309937483383, 0.19944504362904802, 0.21878182071219673, 0.16740124160554448, 0.13646239827250656, 0.10441859624900299, 0.17383113496623076, 0.3476622699324615, 0.17383113496623076, 0.08691556748311538, 0.10864445935389423, 0.08691556748311538, 0.13503693405919537, 0.187551297304438, 0.28882899784883453, 0.1500410378435504, 0.16129411568181667, 0.07877154486786396, 0.13227527476607226, 0.17006821041352146, 0.11337880694234764, 0.4157222921219414, 0.09448233911862304, 0.05668940347117382, 0.16285960992979848, 0.21714614657306464, 0.1357163416081654, 0.1357163416081654, 0.24428941489469772, 0.10857307328653232, 0.18300743499318453, 0.15250619582765376, 0.09150371749659227, 0.12200495666212302, 0.27451115248977676, 0.18300743499318453, 0.1352105246263268, 0.14041092941964706, 0.14041092941964706, 0.3120242875992157, 0.14041092941964706, 0.1352105246263268, 0.14038989126180143, 0.2206126862685451, 0.12033419251011551, 0.16044559001348735, 0.26072408377191697, 0.1002784937584296, 0.1045501358377283, 0.36592547543204906, 0.15682520375659245, 0.1045501358377283, 0.15682520375659245, 0.05227506791886415, 0.18444877295538054, 0.33200779131968494, 0.1383365797165354, 0.08300194782992124, 0.15678145701207347, 0.1014468251254593, 0.14819747504425512, 0.14819747504425512, 0.14819747504425512, 0.33344431884957404, 0.11114810628319134, 0.11114810628319134, 0.13795639530811954, 0.21986800502231552, 0.19184561222535373, 0.08191160971419598, 0.2134012989922474, 0.15520094472163448, 0.18279673052432285, 0.2325400886094815, 0.15448750234577727, 0.18360556561513844, 0.1528698321641461, 0.09382487053460818, 0.15269709266298484, 0.15269709266298484, 0.12406638778867518, 0.29585061703453314, 0.14315352437154827, 0.13360995608011172, 0.1845229750880117, 0.18311440275909557, 0.26622017016514665, 0.10986864165545734, 0.11127721398437346, 0.14508294987836035, 0.12411700092434357, 0.2651590474292794, 0.32157586603125377, 0.129758682784541, 0.09026690976315896, 0.07334186418256665, 0.13567947120595114, 0.24422304817071203, 0.13567947120595114, 0.2984948366530925, 0.08140768272357068, 0.10854357696476091, 0.30117450606589236, 0.1968305827044808, 0.19113909597567655, 0.10766395728654735, 0.12805845139809596, 0.0754121991566565, 0.42252062853214645, 0.12803655410065043, 0.12803655410065043, 0.12803655410065043, 0.08962558787045531, 0.10242924328052035, 0.20680803669652784, 0.18868568296538882, 0.17162935004196384, 0.13378561136811468, 0.18122353731139038, 0.11779529925240374, 0.18102643357254913, 0.3419388189703706, 0.16091238539782146, 0.08716087542381995, 0.147503019948003, 0.08045619269891073, 0.15549613489111044, 0.21837435337166874, 0.24726434564651986, 0.1232073199956886, 0.13510319916768612, 0.11980849737511788, 0.17853919100189697, 0.17853919100189697, 0.08926959550094848, 0.35707838200379394, 0.17853919100189697, 0.08926959550094848, 0.05836263305090519, 0.40853843135633633, 0.23345053220362075, 0.11672526610181037, 0.11672526610181037, 0.05836263305090519, 0.2057830289327105, 0.1633124152077155, 0.1593234625374121, 0.23042067777870207, 0.13233937094418327, 0.10887494347181034, 0.13653072338657335, 0.18529169602463524, 0.28281364130075903, 0.12677852885896096, 0.15928584395100223, 0.1072741398037362, 0.1402025809388533, 0.16824309712662397, 0.1402025809388533, 0.2804051618777066, 0.11216206475108265, 0.1402025809388533, 0.1701004820251108, 0.425251205062777, 0.0850502410125554, 0.0850502410125554, 0.0850502410125554, 0.1275753615188331, 0.16199516940012001, 0.1988779981474688, 0.2379304050564263, 0.13812980962242377, 0.15114727859207627, 0.11209487168311877, 0.11770363842758712, 0.1941077545998805, 0.25502454992643875, 0.20959507544561565, 0.1197686145403518, 0.10428129369461665, 0.1384154025114679, 0.1845538700152905, 0.23069233751911314, 0.29990003877484706, 0.11534616875955657, 0.046138467503822625, 0.2959146127331191, 0.1898475897590443, 0.1258772062532794, 0.17168825508644006, 0.11927381182687784, 0.09740006778942273, 0.2737452863500409, 0.1515264341299771, 0.14778504069466902, 0.1434200816868096, 0.10662971290628018, 0.17646905703203095, 0.09916964335036714, 0.24792410837591786, 0.16528273891727857, 0.13222619113382286, 0.24792410837591786, 0.09916964335036714, 0.1754380171318453, 0.1754380171318453, 0.3030293023186419, 0.14354019583514616, 0.1594891064834957, 0.06379564259339829, 0.17539689241595224, 0.2104762708991427, 0.17539689241595224, 0.09354500928850787, 0.10523813544957135, 0.24555564938233315, 0.16114585458916608, 0.16114585458916608, 0.32229170917833216, 0.16114585458916608, 0.08057292729458304, 0.08057292729458304, 0.18911307352027165, 0.17835782763286284, 0.17477274567039322, 0.24737065541040273, 0.10844872936470555, 0.10217483593038373, 0.18205198108149034, 0.16804798253676032, 0.2100599781709504, 0.12603598690257023, 0.23806797526041043, 0.07001999272365013, 0.13567682948063103, 0.1695960368507888, 0.27135365896126207, 0.05087881105523664, 0.23743445159110432, 0.13567682948063103, 0.20372015835810303, 0.14260411085067212, 0.16297612668648243, 0.12223209501486183, 0.14260411085067212, 0.22409217419391336, 0.1375675912032232, 0.264085576687312, 0.24972108925243727, 0.12541302491217535, 0.10276133318794986, 0.1209931826245216, 0.22801482039128812, 0.20388626796892959, 0.18538771111178806, 0.1504013100993682, 0.14617881342545544, 0.08605850363974543, 0.1347132662955783, 0.23574821601726204, 0.16839158286947287, 0.06735663314778916, 0.1347132662955783, 0.23574821601726204, 0.20914665464742524, 0.19185500209783496, 0.14492051660608993, 0.13009910013501255, 0.19267841412400594, 0.13174592418735448, 0.18916733324484003, 0.16449333325638263, 0.16022869128306902, 0.1591625307897406, 0.17241338263539366, 0.1544409628907148, 0.21954652553314932, 0.21289360051699327, 0.14636435035543288, 0.11975265029080871, 0.07318217517771644, 0.2328523755654614, 0.11814265383028472, 0.3362521685938873, 0.1544942396242185, 0.0908789644848344, 0.21810951476360255, 0.0908789644848344, 0.15350969533577405, 0.1908498914985299, 0.1576586060205247, 0.12031840985776886, 0.17840315944427795, 0.20329662355278186, 0.13132905954621604, 0.17510541272828806, 0.3064344722745041, 0.13132905954621604, 0.13132905954621604, 0.08755270636414403, 0.28382235272360395, 0.13515350129695428, 0.13515350129695428, 0.10812280103756342, 0.2432763023345177, 0.09460745090786798, 0.2207376808951992, 0.20021048254443546, 0.17237222724682436, 0.13075544154938554, 0.16646714278975533, 0.10938465970475478, 0.3847827291313873, 0.1737728454141749, 0.09929876880809994, 0.1489481532121499, 0.1365358071111374, 0.06206173050506246, 0.34482408209110305, 0.13792963283644122, 0.13792963283644122, 0.06896481641822061, 0.13792963283644122, 0.13792963283644122, 0.2294254933714285, 0.1713743591132474, 0.12968870419380885, 0.20070870887137082, 0.15346496662934048, 0.11548470325829645, 0.19667648262052814, 0.17908954273884362, 0.1981627028922198, 0.19915351640668089, 0.12013613862840825, 0.10676015618318341, 0.21392324953453354, 0.179438901905724, 0.18785949841973565, 0.11448001451192001, 0.17422615168276442, 0.13011826518079875, 0.16788282542427824, 0.28986962663184734, 0.1425192330939916, 0.13648028253916145, 0.16305166498041412, 0.0990387890992145, 0.20582808193409838, 0.17507216164509518, 0.17684654166176844, 0.1401760213171877, 0.14076748132274544, 0.16087712151170908, 0.2480365480836013, 0.18853134296140717, 0.1355069027535114, 0.14051476655092376, 0.15436003704965212, 0.1328556807431166, 0.15611142741869152, 0.19989877901173914, 0.25701271587223606, 0.14468864004659213, 0.13136205477914287, 0.110420277930294, 0.14455342392969925, 0.14455342392969925, 0.21683013589454886, 0.2891068478593985, 0.14455342392969925, 0.07227671196484962, 0.1775963574093816, 0.18647617527985066, 0.20423581102078883, 0.11543763231609803, 0.23975508250266517, 0.07991836083422171, 0.37964308960239423, 0.1265476965341314, 0.0632738482670657, 0.1265476965341314, 0.18982154480119712, 0.1265476965341314, 0.22135567576936208, 0.24473831757598483, 0.13651008978533094, 0.15855658063157524, 0.12871587584979002, 0.11023245423122155, 0.1711797147779896, 0.12838478608349221, 0.12838478608349221, 0.3423594295559792, 0.0855898573889948, 0.12838478608349221, 0.17119370833370573, 0.11412913888913716, 0.1521721851855162, 0.19972599305599004, 0.24727980092646384, 0.11412913888913716, 0.1477215662990306, 0.3446836546977381, 0.1969620883987075, 0.09848104419935375, 0.09848104419935375, 0.09848104419935375, 0.38503446632841354, 0.16211977529617413, 0.1215898314721306, 0.1215898314721306, 0.1215898314721306, 0.08105988764808707, 0.19204662456931706, 0.19204662456931706, 0.09602331228465853, 0.09602331228465853, 0.1600388538077642, 0.2240543953308699, 0.09019297792421628, 0.2104502818231713, 0.2104502818231713, 0.030064325974738758, 0.24051460779791006, 0.18038595584843256, 0.1623491226009043, 0.1887205536832847, 0.19366519701123103, 0.117023225428063, 0.2348705580774504, 0.1038375098868728, 0.18313289086299514, 0.18313289086299514, 0.09156644543149757, 0.18313289086299514, 0.09156644543149757, 0.2746993362944927, 0.1381863914579253, 0.19463700243648202, 0.23932706946117274, 0.16935183293567016, 0.17170394172644335, 0.08702802525860827, 0.21144436523412755, 0.270516289725124, 0.1324977745592444, 0.1446434038938418, 0.14022681140853366, 0.09992540498009683, 0.16043915677569404, 0.3067219173652974, 0.12740756567481587, 0.13920456249655808, 0.1533609586826487, 0.11089177012437677, 0.18799170065402096, 0.26564044657633396, 0.14666985340881344, 0.1384963012064647, 0.15166480197691545, 0.10898069603131649, 0.12525929012621945, 0.34217171936918483, 0.21080221996851567, 0.11914908085176971, 0.08859803447952107, 0.11456642389593243, 0.1159103130376248, 0.2318206260752496, 0.144887891297031, 0.289775782594062, 0.1014215239079217, 0.1303991021673279, 0.16693097616685734, 0.16693097616685734, 0.11128731744457156, 0.19475280552800023, 0.250396464250286, 0.08346548808342867, 0.2767829186003799, 0.1667513625692702, 0.16967255432230852, 0.13121019624063743, 0.1260981106728204, 0.12926273507194522, 0.16089730632732832, 0.16089730632732832, 0.16089730632732832, 0.16089730632732832, 0.32179461265465664, 0.08044865316366416, 0.20843878997191634, 0.2042065302770551, 0.13014198561698329, 0.1587097385572967, 0.20209040042962445, 0.09734197298180865, 0.11160237212820487, 0.25110533728846096, 0.11160237212820487, 0.055801186064102434, 0.25110533728846096, 0.1953041512243585, 0.18385971889166777, 0.18990773596047264, 0.13849959087563132, 0.23284865714898717, 0.14212840111691424, 0.11309791918665091, 0.17930127231459567, 0.1917907693365093, 0.23832697741816009, 0.133791598234746, 0.1300276402281419, 0.12677694922243835, 0.18031854771016156, 0.24577872637469078, 0.1754696455868631, 0.15274041688390155, 0.12667756797117233, 0.11910115840351847, 0.1382150411790547, 0.1382150411790547, 0.18428672157207293, 0.18428672157207293, 0.1382150411790547, 0.2303584019650912, 0.1921338745736931, 0.0640446248578977, 0.3202231242894885, 0.1921338745736931, 0.1280892497157954, 0.1280892497157954, 0.17828221110953144, 0.17828221110953144, 0.08914110555476572, 0.31199386944168, 0.08914110555476572, 0.08914110555476572, 0.11996613664379656, 0.21593904595883381, 0.16795259130131518, 0.16795259130131518, 0.09597290931503724, 0.21593904595883381, 0.1174176643681463, 0.17612649655221946, 0.3228985770124023, 0.1174176643681463, 0.1174176643681463, 0.1174176643681463, 0.1598829999458457, 0.32840832421308847, 0.17005044032395988, 0.1344643990005602, 0.1255678886697103, 0.08184789504381926, 0.15652092222620917, 0.31304184445241834, 0.15652092222620917, 0.07826046111310458, 0.15652092222620917, 0.07826046111310458, 0.2789398989854626, 0.18164642906441636, 0.13635464134255001, 0.19099235351496022, 0.10759795072549203, 0.10448264257531073, 0.24462845204625067, 0.13590469558125037, 0.1087237564650003, 0.1087237564650003, 0.16308563469750045, 0.2174475129300006, 0.18630011149757633, 0.3172137033607381, 0.1711946970518269, 0.13882595181093527, 0.0999834575218653, 0.08703595942550864, 0.3596924026544738, 0.11989746755149125, 0.159863290068655, 0.11989746755149125, 0.11989746755149125, 0.0799316450343275, 0.11718105356674666, 0.19530175594457777, 0.3124828095113244, 0.1562414047556622, 0.11718105356674666, 0.0781207023778311, 0.1444697754506596, 0.22473076181213714, 0.1605219727229551, 0.1444697754506596, 0.09631318363377306, 0.22473076181213714, 0.17222269200512194, 0.10333361520307316, 0.2411117688071707, 0.13777815360409754, 0.10333361520307316, 0.2411117688071707, 0.19080643266928324, 0.3180107211154721, 0.12720428844618883, 0.12720428844618883, 0.12720428844618883, 0.06360214422309442, 0.15562596864039271, 0.15562596864039271, 0.3501584294408836, 0.11671947648029454, 0.11671947648029454, 0.11671947648029454, 0.1911630893628931, 0.28280681759678944, 0.181855523214138, 0.13173785933622598, 0.14104542548498106, 0.0715966626827315, 0.20966568960511506, 0.226085291803106, 0.17019549201379067, 0.20808688170146208, 0.10830622219059408, 0.07736158727899577, 0.13570748671848382, 0.1809433156246451, 0.3166508023431289, 0.1809433156246451, 0.13570748671848382, 0.09047165781232255, 0.18229028347053214, 0.18229028347053214, 0.10937417008231928, 0.3281225102469578, 0.10937417008231928, 0.07291611338821286, 0.22402607566620664, 0.153387222978664, 0.1574237288465236, 0.14531421124294486, 0.21595306393048747, 0.10494915256434906, 0.14194904519753768, 0.15969267584722988, 0.168564491172076, 0.13307722987269158, 0.24841082909569093, 0.15082086052238378, 0.10729127121776805, 0.33012698836236326, 0.16506349418118163, 0.09903809650870897, 0.2145825424355361, 0.08253174709059082, 0.14302955376456586, 0.13267873079476175, 0.2521836869006819, 0.16937710314224905, 0.13926561813918253, 0.16279021579782824, 0.14176864963425662, 0.36086565361447137, 0.21909700398021476, 0.07732835434595815, 0.11599253151893722, 0.09021641340361784, 0.11815011136521075, 0.3437094148806131, 0.17722516704781613, 0.13963194979524907, 0.102038732542682, 0.12352057097272033, 0.08018570220930848, 0.32074280883723394, 0.16037140441861697, 0.16037140441861697, 0.16037140441861697, 0.08018570220930848, 0.1972281997937483, 0.183140471237052, 0.14087728556696308, 0.2958422996906224, 0.11270182845357046, 0.09861409989687416, 0.26731932246519136, 0.24975419244694472, 0.14546123296360516, 0.10319513885719914, 0.11362443480553308, 0.12048581371891069, 0.29631256042190596, 0.15866381781456668, 0.11348140611902782, 0.12136205932173809, 0.22275979719661015, 0.0872125621099936, 0.16115941715582968, 0.1477294657261772, 0.1477294657261772, 0.12086956286687225, 0.17458936858548216, 0.255169077163397, 0.39231415650026574, 0.09807853912506644, 0.16346423187511072, 0.13077138550008857, 0.09807853912506644, 0.09807853912506644, 0.1765692279798374, 0.14446573198350335, 0.09631048798900223, 0.20867272397617148, 0.16051747998167037, 0.22472447197433854, 0.14636601552655218, 0.2561405271714663, 0.13172941397389695, 0.09513791009225891, 0.2415039256188111, 0.13172941397389695, 0.3023279639902092, 0.17520065757736505, 0.15134203144386207, 0.1395907678258681, 0.1395907678258681, 0.09222961445637713, 0.19971537250203966, 0.32953036462836544, 0.08987191762591784, 0.15977229800163173, 0.11982922350122378, 0.08987191762591784, 0.2352288948241715, 0.21530811834834257, 0.21121480811358323, 0.15963909915561522, 0.10014965707711246, 0.07886444385636376, 0.1895752882029557, 0.16429858310922826, 0.3285971662184565, 0.16429858310922826, 0.07583011528118228, 0.07583011528118228, 0.14429474228597128, 0.07214737114298564, 0.14429474228597128, 0.28858948457194256, 0.2164421134289569, 0.07214737114298564, 0.15630069476376973, 0.22211151361167275, 0.1233952853398182, 0.17275339947574547, 0.11516893298383032, 0.21388516125568488, 0.18426998619543233, 0.18426998619543233, 0.1105619917172594, 0.2948319779126917, 0.14741598895634586, 0.1105619917172594, 0.17281136014382692, 0.17281136014382692, 0.17281136014382692, 0.17281136014382692, 0.2592170402157404, 0.08640568007191346, 0.2302312953917528, 0.15186760909746227, 0.1546012260612166, 0.16189087129789478, 0.13576964253313126, 0.16614316435262372, 0.13008349309395045, 0.0867223287293003, 0.1734446574586006, 0.39025047928185136, 0.13008349309395045, 0.13008349309395045, 0.34026558634773996, 0.1524970768082859, 0.1348613604427018, 0.13071178012138793, 0.13278657028204485, 0.10996387851481841, 0.21747445225660428, 0.1812287102138369, 0.1812287102138369, 0.10873722612830214, 0.10873722612830214, 0.21747445225660428, 0.17400793130607303, 0.13050594847955477, 0.21750991413259127, 0.3045138797856278, 0.08700396565303652, 0.04350198282651826, 0.1590093379017578, 0.20429014273470872, 0.27379091294342406, 0.08319031585588653, 0.16427454776605444, 0.11583461701452556, 0.38413271774753266, 0.19206635887376633, 0.10476346847659983, 0.15714520271489973, 0.10476346847659983, 0.06984231231773322, 0.24397087676114768, 0.34718932462163327, 0.10321844786048556, 0.10321844786048556, 0.12198543838057384, 0.08445145734039727, 0.1482250373751776, 0.22447541717875452, 0.14252407439920922, 0.1824308152309878, 0.20737252825084942, 0.09477850947547413, 0.39230946256167715, 0.19615473128083857, 0.13076982085389238, 0.13076982085389238, 0.06538491042694619, 0.09807736564041929, 0.17777828337226742, 0.1127698066167368, 0.2600339070221225, 0.22023279880445068, 0.12603684268929408, 0.10215617775869099, 0.40176665188368693, 0.1593212585056, 0.09697815735123479, 0.15239424726622608, 0.09697815735123479, 0.08312413487248696, 0.3449706178430832, 0.1746686672623206, 0.1397349338098565, 0.10916791703895039, 0.12008470874284542, 0.10916791703895039, 0.18640775458079897, 0.23578204651650636, 0.16132455814287278, 0.1555158179151425, 0.16581313013702798, 0.09505211281740458, 0.1476828780688058, 0.23952806018933523, 0.1612509163366113, 0.12628712541572792, 0.1492484209458603, 0.17586264985578642, 0.1804373115126793, 0.09021865575633965, 0.09021865575633965, 0.2706559672690189, 0.1804373115126793, 0.09021865575633965, 0.35938291261332217, 0.14436749481047984, 0.10750770890142115, 0.1566540901134994, 0.14129584598472494, 0.08600616712113693, 0.16713309419632322, 0.2798879567881011, 0.1383446186409757, 0.14314269790020026, 0.1639343746901735, 0.10795678333255328, 0.17733004251593845, 0.11822002834395896, 0.11822002834395896, 0.23644005668791793, 0.11822002834395896, 0.23644005668791793, 0.1850395569439267, 0.11564972308995419, 0.1850395569439267, 0.3006892800338809, 0.11564972308995419, 0.09251977847196335, 0.15642730043858025, 0.20378602442457242, 0.15642730043858025, 0.1305952691734936, 0.23535850708190054, 0.1162441406928899, 0.11661136391136846, 0.1749170458670527, 0.29152840977842115, 0.11661136391136846, 0.11661136391136846, 0.11661136391136846, 0.20546359977878162, 0.2026681766525397, 0.11321463661279803, 0.24879265823553148, 0.13837344474897537, 0.09224896316598358, 0.19423128028664388, 0.14367793336272286, 0.15166004077176304, 0.28203446178608566, 0.15432074324144307, 0.07449966915104149, 0.13683111985851082, 0.35918168962859087, 0.15393500984082467, 0.13683111985851082, 0.08551944991156926, 0.11972722987619697, 0.15137090216746898, 0.29406449147183467, 0.13594456818861866, 0.15715577740953787, 0.16486894439896305, 0.09641458736781465, 0.17434032537437663, 0.17434032537437663, 0.23245376716583552, 0.11622688358291776, 0.23245376716583552, 0.11622688358291776, 0.1895488498214372, 0.2769107498788035, 0.1445442346403697, 0.1355433116041562, 0.14772103100609213, 0.10536374612979331, 0.3730765481358564, 0.1865382740679282, 0.10044368603657672, 0.14349098005225244, 0.11479278404180196, 0.07174549002612622, 0.21397776347292755, 0.19452523952084322, 0.11023096906181115, 0.13616766766459026, 0.11671514371250592, 0.2269461127743171, 0.1416795522255934, 0.2226392963545039, 0.34407891254786965, 0.1517995202417072, 0.09107971214502432, 0.060719808096682884, 0.16893397547791336, 0.2365075656690787, 0.13514718038233067, 0.13514718038233067, 0.25340096321687006, 0.06757359019116534, 0.18794262192085026, 0.2391997006265367, 0.3075424722341186, 0.13668554321516382, 0.05125707870568644, 0.06834277160758191, 0.17791601468458185, 0.2490824205584146, 0.32024882643224734, 0.1423328117476655, 0.07116640587383274, 0.07116640587383274, 0.18696397128895054, 0.2752077422205888, 0.1132260257159377, 0.1845463337291796, 0.1200759988019553, 0.11967305920866014, 0.13618610826731323, 0.3004105329426027, 0.1615541088269108, 0.1295103186463665, 0.1789111618413723, 0.09346105469325418, 0.3907993398870447, 0.07815986797740894, 0.07815986797740894, 0.15631973595481788, 0.07815986797740894, 0.07815986797740894, 0.14550730976493134, 0.3637682744123284, 0.10913048232369851, 0.14550730976493134, 0.10913048232369851, 0.10913048232369851, 0.23905785086407957, 0.18670220584012825, 0.1313830337393495, 0.14738607995421765, 0.16042559909225837, 0.13493926623154243, 0.2263783638553401, 0.17417881281103828, 0.16931046090017074, 0.1303636456132305, 0.14821426928641146, 0.1514598372269898, 0.1420525541516709, 0.21307883122750634, 0.30778053399528693, 0.1420525541516709, 0.0947017027677806, 0.0947017027677806, 0.18309082439861418, 0.18309082439861418, 0.18309082439861418, 0.18309082439861418, 0.24412109919815225, 0.06103027479953806, 0.19853955531233586, 0.2065884562033765, 0.112684612474569, 0.2575648285133006, 0.12341648032928985, 0.09926977765616793, 0.1598598257511554, 0.17550926132468955, 0.21337079900259479, 0.16036464625352748, 0.19183179090138647, 0.09894481846492566, 0.19093262588553422, 0.15274610070842737, 0.3436787265939616, 0.1272884172570228, 0.10183073380561826, 0.07637305035421368, 0.11699480556921554, 0.17549220835382331, 0.35098441670764663, 0.11699480556921554, 0.11699480556921554, 0.11699480556921554, 0.208972318576633, 0.1857043923485625, 0.21380151081264762, 0.16419253602449735, 0.13916853989242156, 0.08780349520026597, 0.2130831041099094, 0.1439653913482077, 0.20054880386815002, 0.22311054430331692, 0.14074228557175528, 0.07878703009105895, 0.17362451224091918, 0.1695867328864792, 0.21097397126948902, 0.1504072809528893, 0.19583229869033908, 0.10094448386099952, 0.19661667340683212, 0.17421730555035758, 0.2687924142776945, 0.1617732122967606, 0.09955274602877576, 0.09955274602877576, 0.13497385614312005, 0.24935847999322178, 0.14870001100513225, 0.14183693357412613, 0.2173307853151933, 0.10980923889609766, 0.3768061950193176, 0.18753086094711408, 0.09769049500500826, 0.12996324781916277, 0.1151352262559026, 0.09245707562973997, 0.2122492034436346, 0.1788702770917545, 0.15440938449801028, 0.17581266551753646, 0.13428010830107495, 0.1444721468818017, 0.16835076259690313, 0.17115660864018484, 0.28900214245801703, 0.11223384173126874, 0.17676830072674826, 0.08417538129845156, 0.2286661009698661, 0.19138594043259882, 0.19463711722363958, 0.14326852392519573, 0.14326852392519573, 0.0988357744476388, 0.26155264807163686, 0.23611835534185288, 0.14599684566938995, 0.1315774041217959, 0.1077452715639668, 0.1171579625742018, 0.1185397595593946, 0.18966361529503137, 0.09483180764751568, 0.37932723059006274, 0.1185397595593946, 0.09483180764751568, 0.22953393561166283, 0.1929981572822244, 0.1489321040299246, 0.17263852508337701, 0.1603669659498252, 0.09594128049867802, 0.1588650006163736, 0.39716250154093397, 0.1588650006163736, 0.0794325003081868, 0.1588650006163736, 0.0794325003081868, 0.1738859300695456, 0.20134160323842124, 0.1098226926755025, 0.11897458373179437, 0.1830378211258375, 0.21049349429471312, 0.20130776592191302, 0.25506741208140654, 0.17850064330879456, 0.17198432256218926, 0.09634845675337803, 0.0965811824943282, 0.1914902004438814, 0.15957516703656782, 0.12766013362925427, 0.15957516703656782, 0.15957516703656782, 0.22340523385119496, 0.24719023883097, 0.19988840300529057, 0.16479349255398001, 0.10681059702572777, 0.10147006717444139, 0.1800521492719411, 0.190308117307027, 0.2481945702160285, 0.24793843546864355, 0.13575141611403005, 0.10885726763860899, 0.06890024704655487, 0.21938992158917187, 0.292908884674905, 0.13011689498506737, 0.16104153818779637, 0.116696766802751, 0.07993728525988443, 0.1980507483754093, 0.19848364618606593, 0.2097389892631384, 0.12662260961706495, 0.15692545636302924, 0.11017249281211293, 0.13345766574028342, 0.278420302665074, 0.30373123927098983, 0.17027357353070643, 0.055223861685634514, 0.059825850159437394, 0.16335945912742134, 0.122519594345566, 0.32671891825484267, 0.20419932390927667, 0.08167972956371067, 0.08167972956371067, 0.40339091745070266, 0.09167975396606878, 0.11001570475928253, 0.12835165555249628, 0.20169545872535133, 0.09167975396606878, 0.2373415941386797, 0.20032730969977075, 0.11779545926166295, 0.21458281113908026, 0.1445557865249282, 0.08528291211937805, 0.22273826424083246, 0.16806332071728083, 0.18452793439198673, 0.146006951454939, 0.141347155131909, 0.13761931807348504, 0.17310840656903, 0.18424904659574975, 0.1996745481712079, 0.10883548333795451, 0.19110482507373114, 0.14225740341811377, 0.4030487148009297, 0.14119540964363778, 0.1014039760167944, 0.11167273308178624, 0.1334938418448939, 0.10910554381553829, 0.12429347850919871, 0.1933454110143091, 0.31763888952350783, 0.04143115950306624, 0.20715579751533117, 0.12429347850919871, 0.19212821198765428, 0.17101522165934063, 0.18579431488916018, 0.13301183906837605, 0.21746380038163066, 0.10134235357590556, 0.23589615886460416, 0.2699785584408213, 0.1474350992903776, 0.13364896013595268, 0.11143795816493475, 0.10186425041880634, 0.3112540415222608, 0.21548356720771902, 0.10534752174599597, 0.12737473083834058, 0.1446134162149581, 0.09481276957139638, 0.2890582965730799, 0.2082978872954006, 0.11114551375839035, 0.1435296382707271, 0.12833708603037158, 0.11994120189754354, 0.22199899301007908, 0.15857070929291361, 0.13478510289897658, 0.15857070929291361, 0.07928535464645681, 0.24578459940401612, 0.23236029655082555, 0.10724321379268871, 0.1966125586199293, 0.12511708275813682, 0.25023416551627364, 0.0893693448272406, 0.29212549334156696, 0.1603826237953701, 0.11901408987989766, 0.1654741356618898, 0.14065301531260632, 0.12219628479647246, 0.10368589904635876, 0.21208479350391565, 0.1649548393919344, 0.07069493116797189, 0.2026588026815194, 0.24507576138230253, 0.22425988289921625, 0.22425988289921625, 0.16819491217441218, 0.11212994144960813, 0.05606497072480406, 0.22425988289921625, 0.2538946003641828, 0.15350172869521442, 0.14287995728996522, 0.19119188529448583, 0.1339713748210465, 0.12506279235212783, 0.20645938168350836, 0.19868180223652687, 0.22837801467045615, 0.1392893773686683, 0.12232011312070872, 0.10535084887274912, 0.2414175973778534, 0.2414175973778534, 0.11681496647315487, 0.10123963761006755, 0.08566430874698024, 0.21026693965167875, 0.3861279099152953, 0.17161240440679792, 0.12870930330509844, 0.12870930330509844, 0.12870930330509844, 0.08580620220339896, 0.1656051462836975, 0.2888279328549795, 0.18130231654755505, 0.13421080575598232, 0.12793193765043928, 0.1012467482018814, 0.18218746369590907, 0.0683202988859659, 0.11386716480994316, 0.2049608966578977, 0.3416014944298295, 0.0683202988859659, 0.23547617785325772, 0.16711212621844096, 0.13577860255248328, 0.16711212621844096, 0.19369814629864748, 0.10064707601792466, 0.15087619191706475, 0.22631428787559713, 0.11315714393779856, 0.27660635184795207, 0.15087619191706475, 0.0880111119516211, 0.26216492324383966, 0.22264114414308728, 0.19420677068930856, 0.11914002477133277, 0.11146274393881253, 0.09042130758301628, 0.19457507133331062, 0.2654036537851852, 0.14247128654112703, 0.14043598244768235, 0.12659591461225858, 0.13025946198045898, 0.19788657550961328, 0.2860975304173161, 0.14290174695047855, 0.1637783396119682, 0.11614442396180868, 0.09291553916944695, 0.2596868896552509, 0.21648316740491397, 0.13146939136392843, 0.17351172323119177, 0.12426877098887228, 0.0943048991055741, 0.200518220934037, 0.17044048779393145, 0.15540162122387868, 0.27069959826094997, 0.10276558822869396, 0.09775263270534304, 0.27922667180853383, 0.1461793096225369, 0.19767036667633828, 0.16881464007236233, 0.12509907821124905, 0.08311140417073315, 0.18961358568736228, 0.17341544017638158, 0.24392501475359166, 0.16579278346533183, 0.1467361416877075, 0.08099072755490348, 0.20205078312152333, 0.3367513052025389, 0.13470052208101554, 0.10102539156076167, 0.10102539156076167, 0.10102539156076167, 0.14726794504123047, 0.17181260254810224, 0.27490016407696355, 0.049089315013743494, 0.23562871206596878, 0.11781435603298439, 0.1805532733912507, 0.30301549360444685, 0.20567372881959864, 0.10519190710620693, 0.11618210635610916, 0.08949162246348949, 0.13016549903221575, 0.17355399870962102, 0.17355399870962102, 0.17355399870962102, 0.2603309980644315, 0.08677699935481051, 0.380342992722368, 0.10187758733634857, 0.1154612656478617, 0.1833796572054274, 0.12904494395937485, 0.08829390902483542, 0.3191591813966703, 0.15327743478923306, 0.16014228319021925, 0.13718442952134735, 0.13020704262198432, 0.10004672505699573, 0.3931416981490706, 0.19153057089313694, 0.10080556362796682, 0.15120834544195022, 0.07056389453957677, 0.09072500726517013, 0.14772410430065422, 0.34468957670152656, 0.09848273620043616, 0.09848273620043616, 0.1969654724008723, 0.09848273620043616, 0.1686366715400767, 0.1927276246172305, 0.07227285923146144, 0.3131823900029996, 0.14454571846292288, 0.09636381230861525, 0.16711162755770556, 0.08355581377885278, 0.08355581377885278, 0.2506674413365584, 0.08355581377885278, 0.3342232551154111, 0.36704943148651203, 0.163133080660672, 0.081566540330336, 0.163133080660672, 0.15293726311938002, 0.06117490524775201, 0.2213063409985536, 0.2615083747249222, 0.10694521593228162, 0.0944552637066137, 0.20179079064594746, 0.11397081405921984, 0.1649849568718078, 0.22426208820617258, 0.17654675028996564, 0.14883515019247623, 0.18095124302069243, 0.1044231818243144, 0.17545142312497194, 0.1503869341071188, 0.3759673352677971, 0.2005159121428251, 0.0751934670535594, 0.050128978035706276, 0.27114929736684656, 0.2086645755634929, 0.12984210539871194, 0.15678505883685523, 0.15764494032956194, 0.07566957135818973, 0.1457479225243429, 0.2759789559586417, 0.2000570343394973, 0.11914754122712444, 0.13854365258967957, 0.12025589044784188, 0.19120201110638615, 0.24448781748029708, 0.225681062289505, 0.11973634138137626, 0.13854309657216834, 0.08086904732040595, 0.17702035263423951, 0.21997086903302324, 0.20190756774381513, 0.16618237186071463, 0.15173173082934815, 0.08309118593035732, 0.22556145525658516, 0.10526201245307308, 0.21052402490614616, 0.1353368731539511, 0.2405988856070242, 0.07518715175219506, 0.15073324222418374, 0.2301540677823054, 0.243044358841477, 0.10041952550935276, 0.14116947788995968, 0.13451642444006467, 0.10591901570624238, 0.15887852355936355, 0.3177570471187271, 0.10591901570624238, 0.15887852355936355, 0.15887852355936355, 0.19796046665632042, 0.1860709491394243, 0.18815161470488112, 0.18874609058072592, 0.14297144814067586, 0.09571061601101377, 0.2341044786093474, 0.14076870609189518, 0.21676340611976613, 0.16014990475672133, 0.13515835910997182, 0.11271697118227839, 0.3455907342140842, 0.1318232697517641, 0.12826047867739207, 0.11757210545427607, 0.15676280727236808, 0.12113489652864808, 0.3929064336929097, 0.1624516985461069, 0.05289125068943015, 0.17000759150173977, 0.1057825013788603, 0.11333839433449318, 0.20184385562286022, 0.14006578899422753, 0.16988968322873987, 0.1549777361114837, 0.19758329930364416, 0.1352726631351095, 0.25135511140790384, 0.12071316161169601, 0.16513142454240667, 0.1656539923415915, 0.1907372467024634, 0.10660383103370558, 0.13162329813590817, 0.2525888393377347, 0.14867570923043877, 0.15773480262440817, 0.14601126999691838, 0.16306368109144898, 0.20391272426511645, 0.1558923216224781, 0.1691153310458133, 0.21852762941722376, 0.13083819850457984, 0.12109492840317496, 0.15190003720737466, 0.3563808565249944, 0.11100387334385071, 0.11684618246721128, 0.1460577280840141, 0.11684618246721128, 0.10172131470573802, 0.40688525882295207, 0.10172131470573802, 0.10172131470573802, 0.15258197205860702, 0.12715164338217252, 0.21944101278899192, 0.18655559490604776, 0.18532623348986293, 0.16381240870662842, 0.12616321533596805, 0.11863337666183597, 0.16150248092392583, 0.10766832061595055, 0.32300496184785166, 0.2153366412319011, 0.053834160307975276, 0.10766832061595055, 0.19614123390442756, 0.21115030223798376, 0.16885201875250722, 0.15384295041895102, 0.1296237719716217, 0.14019834284299082, 0.1571408320779265, 0.3535668721753346, 0.11785562405844487, 0.13749822806818568, 0.1571408320779265, 0.07857041603896325, 0.2099823954887343, 0.20498875944857414, 0.16953394356343707, 0.17327917059355719, 0.15280526282890058, 0.08938608511886667, 0.16999029243529915, 0.21046417158656083, 0.12951641328403743, 0.14570596494454213, 0.12951641328403743, 0.21046417158656083, 0.20533950922145142, 0.08213580368858057, 0.08213580368858057, 0.287475312910032, 0.20533950922145142, 0.12320370553287086, 0.16595971029412754, 0.20452781198219944, 0.13791018179371162, 0.11102938364747969, 0.1799844745443355, 0.20102162091964743, 0.2533960287780237, 0.10135841151120947, 0.10135841151120947, 0.35475444028923314, 0.10135841151120947, 0.1520376172668142, 0.2733447850427351, 0.22327668085173905, 0.1700511286486982, 0.13712345652308822, 0.10915748841640575, 0.08660428833037151, 0.33744135944623466, 0.1446177254769577, 0.18125421593112032, 0.13690478011818663, 0.09834005332433124, 0.10412476234340955, 0.23350048395273648, 0.07783349465091216, 0.15566698930182432, 0.23350048395273648, 0.23350048395273648, 0.07783349465091216, 0.17318263369077486, 0.17318263369077486, 0.17318263369077486, 0.08659131684538743, 0.2597739505361623, 0.08659131684538743, 0.1922597128631402, 0.3845194257262804, 0.14419478464735513, 0.12016232053946262, 0.0961298564315701, 0.07209739232367757, 0.17550060401003956, 0.2029451429087289, 0.17333392988645885, 0.0960558861454126, 0.17261170517859858, 0.17983395225720103, 0.31645253551057345, 0.16877468560563919, 0.10548417850352448, 0.10548417850352448, 0.06329050710211469, 0.23206519270775386, 0.3873865058126982, 0.15495460232507927, 0.16862706723611567, 0.09114976607357604, 0.10482223098461245, 0.09114976607357604, 0.07211892737427976, 0.3605946368713988, 0.14423785474855952, 0.1802973184356994, 0.1802973184356994, 0.07211892737427976, 0.11761797869882636, 0.20909862879791352, 0.15682397159843514, 0.09148065009908717, 0.2613732859973919, 0.15682397159843514, 0.17833196862119255, 0.20380796413850577, 0.08916598431059627, 0.17833196862119255, 0.1146419798279095, 0.229283959655819, 0.15701573695331184, 0.3588931130361413, 0.11215409782379417, 0.08972327825903532, 0.15701573695331184, 0.134584917388553, 0.17613792917697238, 0.3963103406481879, 0.1027471253532339, 0.19081608994172009, 0.05871264305899079, 0.08806896458848619, 0.18904538782785416, 0.1506320555979934, 0.15710621271538563, 0.20415175443510278, 0.14286306705712265, 0.1562429917664, 0.3929400505276935, 0.11788201515830804, 0.11788201515830804, 0.15717602021107738, 0.11788201515830804, 0.11788201515830804, 0.4134566162017379, 0.11813046177192513, 0.11813046177192513, 0.11813046177192513, 0.11813046177192513, 0.11813046177192513, 0.18903948978707802, 0.21705995695802277, 0.15115266093622315, 0.20324705060614862, 0.13931302692033098, 0.10024223466788688, 0.24876118689775922, 0.17461859265279503, 0.1764082414793976, 0.14470589083672325, 0.1406152649473459, 0.11479318902065148, 0.07660394150354015, 0.07660394150354015, 0.3064157660141606, 0.07660394150354015, 0.1532078830070803, 0.22981182451062046, 0.20808819145799753, 0.10404409572899877, 0.3641543350514957, 0.10404409572899877, 0.10404409572899877, 0.15606614359349816, 0.16612112381050215, 0.16612112381050215, 0.16612112381050215, 0.08306056190525107, 0.24918168571575325, 0.16612112381050215, 0.20218374015866863, 0.16458759012916413, 0.19633545015407905, 0.22808331017899394, 0.1445363101134284, 0.06516666005114113, 0.12467050154660192, 0.18700575231990288, 0.37401150463980576, 0.12467050154660192, 0.12467050154660192, 0.12467050154660192, 0.23473615685833266, 0.17678175933913506, 0.15426710131009427, 0.22014332295062103, 0.13508794817424472, 0.07880130310164275, 0.21763450188342262, 0.14915925616888234, 0.1454435451611166, 0.20595655300187313, 0.1698610746407201, 0.11200214609122482, 0.20267197999324232, 0.2157811532371584, 0.12297652995483184, 0.20537704748801866, 0.13525337473881674, 0.11798255919524475, 0.192987710571693, 0.19075109803195486, 0.1703020690972059, 0.17797045494773678, 0.13068207553612987, 0.13739191315534435, 0.18167573631083064, 0.23127519630208707, 0.173172971740901, 0.14653097608845467, 0.12045583140733701, 0.14681440157411899, 0.22015195270064217, 0.21872586717707523, 0.13743899233376122, 0.17808242975541824, 0.1385085564764364, 0.10731293564841018, 0.1400192555630618, 0.1400192555630618, 0.3500481389076545, 0.1400192555630618, 0.2100288833445927, 0.0700096277815309, 0.0981576404192084, 0.3926305616768336, 0.0981576404192084, 0.1963152808384168, 0.1472364606288126, 0.0490788202096042, 0.4252029164023613, 0.08504058328047226, 0.08504058328047226, 0.14173430546745378, 0.11338744437396302, 0.17008116656094452, 0.2072626632145043, 0.20462573365706785, 0.16401701847254666, 0.15135975659685172, 0.19038631404691106, 0.08227220219201696, 0.20515892423650534, 0.13677261615767022, 0.13677261615767022, 0.13677261615767022, 0.13677261615767022, 0.20515892423650534, 0.19336419982141345, 0.205057931128108, 0.12737814459077992, 0.18083520199281214, 0.12487234502505966, 0.16830620416421083, 0.4357595632926615, 0.10893989082316538, 0.10893989082316538, 0.10893989082316538, 0.10893989082316538, 0.10893989082316538, 0.1854347710058987, 0.3708695420117974, 0.09271738550294935, 0.09271738550294935, 0.139076078254424, 0.139076078254424, 0.21981250995168983, 0.21981250995168983, 0.2930833466022531, 0.14654167330112655, 0.07327083665056328, 0.07327083665056328, 0.19739432594465042, 0.16449527162054203, 0.13159621729643362, 0.2960914889169756, 0.16449527162054203, 0.06579810864821681, 0.16627370698642746, 0.18474856331825273, 0.09237428165912637, 0.09237428165912637, 0.18474856331825273, 0.2771228449773791, 0.22326931159106886, 0.2519837374912326, 0.13654002519873765, 0.14884620772737925, 0.14591616426817886, 0.09376139069441213, 0.22177086734366466, 0.11734728878091347, 0.2078132603080494, 0.14836419330450293, 0.1778302526019129, 0.1271693085467168, 0.1695055297195439, 0.1473961127996034, 0.13265650151964306, 0.17687533535952407, 0.11791689023968271, 0.25794319739930593, 0.17144130179289563, 0.2639492183028452, 0.1900434371780485, 0.14982260391285307, 0.11513213522162198, 0.10960177064765761, 0.2669835487403618, 0.16581468006583344, 0.12819593106411353, 0.18517190042594175, 0.15120545715254416, 0.10226456039302503, 0.2636756303900295, 0.18016041031547322, 0.14313819935458744, 0.14313819935458744, 0.1603578323596506, 0.1095599149947143, 0.21709539625234905, 0.21709539625234905, 0.1447302641682327, 0.1447302641682327, 0.1447302641682327, 0.21709539625234905, 0.18304295768068604, 0.144998735103916, 0.1729935403962562, 0.17586480247752187, 0.1583979581498224, 0.1646190259925647, 0.2777445490839617, 0.2370608404857476, 0.13965465355348497, 0.14434892762250967, 0.09153834434598174, 0.10914187210482439, 0.20489300816647302, 0.21806670362998085, 0.2093776704519225, 0.14463035870574567, 0.10314723256533799, 0.12024500752861413, 0.162932320909757, 0.2197691770410676, 0.17950973728138928, 0.13972393798947186, 0.13214569050529712, 0.16577416371632256, 0.14153323680243957, 0.14153323680243957, 0.21229985520365932, 0.07076661840121978, 0.28306647360487913, 0.14153323680243957, 0.2547251835677346, 0.13510285979283163, 0.32227661346415043, 0.14213946707370828, 0.06895875135259114, 0.07740268008964311, 0.13608441068003876, 0.13608441068003876, 0.3402110267000969, 0.10206330801002908, 0.13608441068003876, 0.17010551335004845, 0.41721421637631545, 0.11589283788230985, 0.11589283788230985, 0.09271427030584788, 0.18542854061169575, 0.0695357027293859, 0.21866664811379385, 0.3364102278673751, 0.15138460254031882, 0.10092306836021255, 0.10092306836021255, 0.10092306836021255, 0.4479966020153692, 0.12218089145873706, 0.08145392763915804, 0.12218089145873706, 0.12218089145873706, 0.12218089145873706, 0.1314044789497009, 0.350411943865869, 0.21900746491616813, 0.08760298596646725, 0.1752059719329345, 0.08760298596646725, 0.17516715577663064, 0.17516715577663064, 0.17516715577663064, 0.2919452596277177, 0.05838905192554355, 0.1167781038510871, 0.3290963874545179, 0.13428645694983202, 0.12861238130406447, 0.15509140098431304, 0.09015475748275108, 0.1632872880281995, 0.2975659355548966, 0.16932918713719114, 0.16011881294144434, 0.16436975487794286, 0.1275282580949557, 0.08147638711622168, 0.11804335313642929, 0.15739113751523906, 0.15739113751523906, 0.3147822750304781, 0.19673892189404882, 0.07869556875761953, 0.4076078186465552, 0.18739017165965793, 0.09711461450974973, 0.10395367186959126, 0.12310303247714754, 0.08206868831809837, 0.1875424957882059, 0.23256757910243786, 0.16000649442247725, 0.20056628021794243, 0.10939978920978677, 0.10977189733635068, 0.2607992294008931, 0.1928288919932949, 0.1207951105015468, 0.1743586916107954, 0.1479463050638211, 0.10306371813434727, 0.23677558422520303, 0.17724975977980154, 0.1641939098085053, 0.14604849120433083, 0.13586935393857444, 0.13963120901504963, 0.30654693901375685, 0.21517237065388703, 0.13067545797701816, 0.13362302469830428, 0.12903792090963698, 0.08482442009034512, 0.15311966314275577, 0.20415955085700768, 0.15311966314275577, 0.15311966314275577, 0.15311966314275577, 0.20415955085700768, 0.17977568075114436, 0.29993187553889905, 0.194451246526748, 0.08255005748777038, 0.12290786337068034, 0.12107341764872989, 0.20538445680236356, 0.16727187718955383, 0.15386189547393558, 0.23079284321090338, 0.12280720097460913, 0.1192782584178675, 0.48612617575773015, 0.15556037624247365, 0.11667028218185523, 0.09722523515154602, 0.07778018812123683, 0.07778018812123683, 0.22139748507225193, 0.32021868012596094, 0.13872975459462997, 0.13397873560166318, 0.07791671148465519, 0.10832323303964257, 0.12859940099658151, 0.17897854777874747, 0.20217947063895547, 0.22272885945799686, 0.09810675952316528, 0.16969817863466427, 0.16558324001182906, 0.23139196360627395, 0.16982896411469647, 0.23139196360627395, 0.10968120599074148, 0.0919906888954606, 0.15018808313735682, 0.1617410126094612, 0.311929095746818, 0.09242343577683496, 0.13863515366525245, 0.13863515366525245, 0.09867591924919246, 0.1480138788737887, 0.1480138788737887, 0.19735183849838492, 0.1480138788737887, 0.2713587779352793, 0.17747568190867308, 0.11831712127244871, 0.21691472233282266, 0.11831712127244871, 0.25635376275697225, 0.11831712127244871, 0.16267808854145704, 0.37958220659673314, 0.16267808854145704, 0.10845205902763803, 0.10845205902763803, 0.10845205902763803, 0.08533469559034115, 0.1706693911806823, 0.2730710258890917, 0.017066939118068232, 0.2560040867710235, 0.18773633029875053], \"Term\": [\"abuso\", \"abuso\", \"abuso\", \"abuso\", \"abuso\", \"abuso\", \"acad\\u00e9mico\", \"acad\\u00e9mico\", \"acad\\u00e9mico\", \"acad\\u00e9mico\", \"acad\\u00e9mico\", \"acad\\u00e9mico\", \"actividad\", \"actividad\", \"actividad\", \"actividad\", \"actividad\", \"actividad\", \"acuerdo\", \"acuerdo\", \"acuerdo\", \"acuerdo\", \"acuerdo\", \"acuerdo\", \"adem\\u00e1s\", \"adem\\u00e1s\", \"adem\\u00e1s\", \"adem\\u00e1s\", \"adem\\u00e1s\", \"adem\\u00e1s\", \"admiraci\\u00f3n\", \"admiraci\\u00f3n\", \"admiraci\\u00f3n\", \"admiraci\\u00f3n\", \"admiraci\\u00f3n\", \"admiraci\\u00f3n\", \"afganist\\u00e1n\", \"afganist\\u00e1n\", \"afganist\\u00e1n\", \"afganist\\u00e1n\", \"afganist\\u00e1n\", \"afganist\\u00e1n\", \"afgano\", \"afgano\", \"afgano\", \"afgano\", \"afgano\", \"afgano\", \"agente\", \"agente\", \"agente\", \"agente\", \"agente\", \"agente\", \"agosto\", \"agosto\", \"agosto\", \"agosto\", \"agosto\", \"agosto\", \"agua\", \"agua\", \"agua\", \"agua\", \"agua\", \"agua\", \"ahora\", \"ahora\", \"ahora\", \"ahora\", \"ahora\", \"ahora\", \"alguno\", \"alguno\", \"alguno\", \"alguno\", \"alguno\", \"alguno\", \"allanamiento\", \"allanamiento\", \"allanamiento\", \"allanamiento\", \"allanamiento\", \"allanamiento\", \"almud\\u00e9n\", \"almud\\u00e9n\", \"almud\\u00e9n\", \"almud\\u00e9n\", \"almud\\u00e9n\", \"almud\\u00e9n\", \"alterne\", \"alterne\", \"alterne\", \"alterne\", \"alterne\", \"alterne\", \"altitud\", \"altitud\", \"altitud\", \"altitud\", \"altitud\", \"altitud\", \"alto\", \"alto\", \"alto\", \"alto\", \"alto\", \"alto\", \"amb\", \"amb\", \"amb\", \"amb\", \"amb\", \"amb\", \"ambos\", \"ambos\", \"ambos\", \"ambos\", \"ambos\", \"ambos\", \"amortizaci\\u00f3n\", \"amortizaci\\u00f3n\", \"amortizaci\\u00f3n\", \"amortizaci\\u00f3n\", \"amortizaci\\u00f3n\", \"amortizaci\\u00f3n\", \"antifrau\", \"antifrau\", \"antifrau\", \"antifrau\", \"antifrau\", \"antifrau\", \"apag\\u00f3n\", \"apag\\u00f3n\", \"apag\\u00f3n\", \"apag\\u00f3n\", \"apag\\u00f3n\", \"apag\\u00f3n\", \"apreciar \\u00e9l\", \"apreciar \\u00e9l\", \"apreciar \\u00e9l\", \"apreciar \\u00e9l\", \"apreciar \\u00e9l\", \"apreciar \\u00e9l\", \"apu\\u00f1alamiento\", \"apu\\u00f1alamiento\", \"apu\\u00f1alamiento\", \"apu\\u00f1alamiento\", \"apu\\u00f1alamiento\", \"apu\\u00f1alamiento\", \"arancel\", \"arancel\", \"arancel\", \"arancel\", \"arancel\", \"arancel\", \"arruti\", \"arruti\", \"arruti\", \"arruti\", \"arruti\", \"arruti\", \"asegurar\", \"asegurar\", \"asegurar\", \"asegurar\", \"asegurar\", \"asegurar\", \"as\\u00ed\", \"as\\u00ed\", \"as\\u00ed\", \"as\\u00ed\", \"as\\u00ed\", \"as\\u00ed\", \"aunque\", \"aunque\", \"aunque\", \"aunque\", \"aunque\", \"aunque\", \"ayuda\", \"ayuda\", \"ayuda\", \"ayuda\", \"ayuda\", \"ayuda\", \"ayudar\", \"ayudar\", \"ayudar\", \"ayudar\", \"ayudar\", \"ayudar\", \"azpiazu\", \"azpiazu\", \"azpiazu\", \"azpiazu\", \"azpiazu\", \"azpiazu\", \"az\\u00facar\", \"az\\u00facar\", \"az\\u00facar\", \"az\\u00facar\", \"az\\u00facar\", \"az\\u00facar\", \"a\\u00fan\", \"a\\u00fan\", \"a\\u00fan\", \"a\\u00fan\", \"a\\u00fan\", \"a\\u00fan\", \"baltasar\", \"baltasar\", \"baltasar\", \"baltasar\", \"baltasar\", \"baltasar\", \"bankia\", \"bankia\", \"bankia\", \"bankia\", \"bankia\", \"bankia\", \"banksy\", \"banksy\", \"banksy\", \"banksy\", \"banksy\", \"banksy\", \"benidorm\", \"benidorm\", \"benidorm\", \"benidorm\", \"benidorm\", \"benidorm\", \"berm\\u00fadez\", \"berm\\u00fadez\", \"berm\\u00fadez\", \"berm\\u00fadez\", \"berm\\u00fadez\", \"berm\\u00fadez\", \"bicicleta\", \"bicicleta\", \"bicicleta\", \"bicicleta\", \"bicicleta\", \"bicicleta\", \"bielorrusia\", \"bielorrusia\", \"bielorrusia\", \"bielorrusia\", \"bielorrusia\", \"bielorrusia\", \"bonifacio\", \"bonifacio\", \"bonifacio\", \"bonifacio\", \"bonifacio\", \"bonifacio\", \"brigado\", \"brigado\", \"brigado\", \"brigado\", \"brigado\", \"brigado\", \"busto\", \"busto\", \"busto\", \"busto\", \"busto\", \"busto\", \"b\\u00e1rcena\", \"b\\u00e1rcena\", \"b\\u00e1rcena\", \"b\\u00e1rcena\", \"b\\u00e1rcena\", \"b\\u00e1rcena\", \"cada\", \"cada\", \"cada\", \"cada\", \"cada\", \"cada\", \"cami\\u00f3n\", \"cami\\u00f3n\", \"cami\\u00f3n\", \"cami\\u00f3n\", \"cami\\u00f3n\", \"cami\\u00f3n\", \"candidato\", \"candidato\", \"candidato\", \"candidato\", \"candidato\", \"candidato\", \"carpa\", \"carpa\", \"carpa\", \"carpa\", \"carpa\", \"carpa\", \"carrito\", \"carrito\", \"carrito\", \"carrito\", \"carrito\", \"carrito\", \"casado\", \"casado\", \"casado\", \"casado\", \"casado\", \"casado\", \"casera\", \"casera\", \"casera\", \"casera\", \"casera\", \"casera\", \"casi\", \"casi\", \"casi\", \"casi\", \"casi\", \"casi\", \"casta\\u00f1o\", \"casta\\u00f1o\", \"casta\\u00f1o\", \"casta\\u00f1o\", \"casta\\u00f1o\", \"casta\\u00f1o\", \"causa\", \"causa\", \"causa\", \"causa\", \"causa\", \"causa\", \"celaar\", \"celaar\", \"celaar\", \"celaar\", \"celaar\", \"celaar\", \"celestetel\", \"celestetel\", \"celestetel\", \"celestetel\", \"celestetel\", \"celestetel\", \"centro\", \"centro\", \"centro\", \"centro\", \"centro\", \"centro\", \"cgpj\", \"cgpj\", \"cgpj\", \"cgpj\", \"cgpj\", \"cgpj\", \"chal\\u00e9\", \"chal\\u00e9\", \"chal\\u00e9\", \"chal\\u00e9\", \"chal\\u00e9\", \"chal\\u00e9\", \"chamorro\", \"chamorro\", \"chamorro\", \"chamorro\", \"chamorro\", \"chamorro\", \"cifra\", \"cifra\", \"cifra\", \"cifra\", \"cifra\", \"cifra\", \"cine\", \"cine\", \"cine\", \"cine\", \"cine\", \"cine\", \"cisjordania\", \"cisjordania\", \"cisjordania\", \"cisjordania\", \"cisjordania\", \"cisjordania\", \"ciudad\", \"ciudad\", \"ciudad\", \"ciudad\", \"ciudad\", \"ciudad\", \"civil\", \"civil\", \"civil\", \"civil\", \"civil\", \"civil\", \"clemente\", \"clemente\", \"clemente\", \"clemente\", \"clemente\", \"clemente\", \"clinton\", \"clinton\", \"clinton\", \"clinton\", \"clinton\", \"clinton\", \"cobo\", \"cobo\", \"cobo\", \"cobo\", \"cobo\", \"cobo\", \"cofinanciar\", \"cofinanciar\", \"cofinanciar\", \"cofinanciar\", \"cofinanciar\", \"cofinanciar\", \"colectivo\", \"colectivo\", \"colectivo\", \"colectivo\", \"colectivo\", \"colectivo\", \"col\\u00f3n\", \"col\\u00f3n\", \"col\\u00f3n\", \"col\\u00f3n\", \"col\\u00f3n\", \"col\\u00f3n\", \"com\", \"com\", \"com\", \"com\", \"com\", \"com\", \"comandancia\", \"comandancia\", \"comandancia\", \"comandancia\", \"comandancia\", \"comandancia\", \"comisi\\u00f3n\", \"comisi\\u00f3n\", \"comisi\\u00f3n\", \"comisi\\u00f3n\", \"comisi\\u00f3n\", \"comisi\\u00f3n\", \"comunidad\", \"comunidad\", \"comunidad\", \"comunidad\", \"comunidad\", \"comunidad\", \"comuns\", \"comuns\", \"comuns\", \"comuns\", \"comuns\", \"comuns\", \"consecuencia\", \"consecuencia\", \"consecuencia\", \"consecuencia\", \"consecuencia\", \"consecuencia\", \"coronavirus\", \"coronavirus\", \"coronavirus\", \"coronavirus\", \"coronavirus\", \"coronavirus\", \"correa\", \"correa\", \"correa\", \"correa\", \"correa\", \"correa\", \"cosid\\u00f3\", \"cosid\\u00f3\", \"cosid\\u00f3\", \"cosid\\u00f3\", \"cosid\\u00f3\", \"cosid\\u00f3\", \"cospedal\", \"cospedal\", \"cospedal\", \"cospedal\", \"cospedal\", \"cospedal\", \"cost\", \"cost\", \"cost\", \"cost\", \"cost\", \"cost\", \"cribado\", \"cribado\", \"cribado\", \"cribado\", \"cribado\", \"cribado\", \"crisis\", \"crisis\", \"crisis\", \"crisis\", \"crisis\", \"crisis\", \"curr\\u00edculum\", \"curr\\u00edculum\", \"curr\\u00edculum\", \"curr\\u00edculum\", \"curr\\u00edculum\", \"curr\\u00edculum\", \"c\\u00e1rnico\", \"c\\u00e1rnico\", \"c\\u00e1rnico\", \"c\\u00e1rnico\", \"c\\u00e1rnico\", \"c\\u00e1rnico\", \"c\\u00f3mo\", \"c\\u00f3mo\", \"c\\u00f3mo\", \"c\\u00f3mo\", \"c\\u00f3mo\", \"c\\u00f3mo\", \"dato\", \"dato\", \"dato\", \"dato\", \"dato\", \"dato\", \"deber\", \"deber\", \"deber\", \"deber\", \"deber\", \"deber\", \"decreto\", \"decreto\", \"decreto\", \"decreto\", \"decreto\", \"decreto\", \"defender\", \"defender\", \"defender\", \"defender\", \"defender\", \"defender\", \"dejar\", \"dejar\", \"dejar\", \"dejar\", \"dejar\", \"dejar\", \"democr\\u00e1tico\", \"democr\\u00e1tico\", \"democr\\u00e1tico\", \"democr\\u00e1tico\", \"democr\\u00e1tico\", \"democr\\u00e1tico\", \"desdoblar\", \"desdoblar\", \"desdoblar\", \"desdoblar\", \"desdoblar\", \"desdoblar\", \"desempleado\", \"desempleado\", \"desempleado\", \"desempleado\", \"desempleado\", \"desempleado\", \"deslocalizaci\\u00f3n\", \"deslocalizaci\\u00f3n\", \"deslocalizaci\\u00f3n\", \"deslocalizaci\\u00f3n\", \"deslocalizaci\\u00f3n\", \"deslocalizaci\\u00f3n\", \"despu\\u00e9s\", \"despu\\u00e9s\", \"despu\\u00e9s\", \"despu\\u00e9s\", \"despu\\u00e9s\", \"despu\\u00e9s\", \"destacamento\", \"destacamento\", \"destacamento\", \"destacamento\", \"destacamento\", \"destacamento\", \"diagnosticado\", \"diagnosticado\", \"diagnosticado\", \"diagnosticado\", \"diagnosticado\", \"diagnosticado\", \"dinast\\u00eda\", \"dinast\\u00eda\", \"dinast\\u00eda\", \"dinast\\u00eda\", \"dinast\\u00eda\", \"dinast\\u00eda\", \"directiva\", \"directiva\", \"directiva\", \"directiva\", \"directiva\", \"directiva\", \"dow\", \"dow\", \"dow\", \"dow\", \"dow\", \"dow\", \"dun\", \"dun\", \"dun\", \"dun\", \"dun\", \"dun\", \"d\\u00edaz\", \"d\\u00edaz\", \"d\\u00edaz\", \"d\\u00edaz\", \"d\\u00edaz\", \"d\\u00edaz\", \"echa\", \"echa\", \"echa\", \"echa\", \"echa\", \"echa\", \"ejecutivo\", \"ejecutivo\", \"ejecutivo\", \"ejecutivo\", \"ejecutivo\", \"ejecutivo\", \"ejemplo\", \"ejemplo\", \"ejemplo\", \"ejemplo\", \"ejemplo\", \"ejemplo\", \"ejercicio\", \"ejercicio\", \"ejercicio\", \"ejercicio\", \"ejercicio\", \"ejercicio\", \"eldiario\", \"eldiario\", \"eldiario\", \"eldiario\", \"eldiario\", \"eldiario\", \"electoral\", \"electoral\", \"electoral\", \"electoral\", \"electoral\", \"electoral\", \"el\\u00eda\", \"el\\u00eda\", \"el\\u00eda\", \"el\\u00eda\", \"el\\u00eda\", \"el\\u00eda\", \"empe\\u00f1ar\", \"empe\\u00f1ar\", \"empe\\u00f1ar\", \"empe\\u00f1ar\", \"empe\\u00f1ar\", \"empe\\u00f1ar\", \"empresa\", \"empresa\", \"empresa\", \"empresa\", \"empresa\", \"empresa\", \"equivocaci\\u00f3n\", \"equivocaci\\u00f3n\", \"equivocaci\\u00f3n\", \"equivocaci\\u00f3n\", \"equivocaci\\u00f3n\", \"equivocaci\\u00f3n\", \"escribir\", \"escribir\", \"escribir\", \"escribir\", \"escribir\", \"escribir\", \"esguevir\", \"esguevir\", \"esguevir\", \"esguevir\", \"esguevir\", \"esguevir\", \"espacio\", \"espacio\", \"espacio\", \"espacio\", \"espacio\", \"espacio\", \"espa\\u00f1a\", \"espa\\u00f1a\", \"espa\\u00f1a\", \"espa\\u00f1a\", \"espa\\u00f1a\", \"espa\\u00f1a\", \"espa\\u00f1ol\", \"espa\\u00f1ol\", \"espa\\u00f1ol\", \"espa\\u00f1ol\", \"espa\\u00f1ol\", \"espa\\u00f1ol\", \"espinar\", \"espinar\", \"espinar\", \"espinar\", \"espinar\", \"espinar\", \"espinosa\", \"espinosa\", \"espinosa\", \"espinosa\", \"espinosa\", \"espinosa\", \"estambul\", \"estambul\", \"estambul\", \"estambul\", \"estambul\", \"estambul\", \"estela\", \"estela\", \"estela\", \"estela\", \"estela\", \"estela\", \"eurogrupo\", \"eurogrupo\", \"eurogrupo\", \"eurogrupo\", \"eurogrupo\", \"eurogrupo\", \"euros\", \"euros\", \"euros\", \"euros\", \"euros\", \"euros\", \"exjuez\", \"exjuez\", \"exjuez\", \"exjuez\", \"exjuez\", \"exjuez\", \"explicar\", \"explicar\", \"explicar\", \"explicar\", \"explicar\", \"explicar\", \"falsificar\", \"falsificar\", \"falsificar\", \"falsificar\", \"falsificar\", \"falsificar\", \"fase\", \"fase\", \"fase\", \"fase\", \"fase\", \"fase\", \"fatiga\", \"fatiga\", \"fatiga\", \"fatiga\", \"fatiga\", \"fatiga\", \"ferer\", \"ferer\", \"ferer\", \"ferer\", \"ferer\", \"ferer\", \"ferraz\", \"ferraz\", \"ferraz\", \"ferraz\", \"ferraz\", \"ferraz\", \"ferrol\", \"ferrol\", \"ferrol\", \"ferrol\", \"ferrol\", \"ferrol\", \"ferrusola\", \"ferrusola\", \"ferrusola\", \"ferrusola\", \"ferrusola\", \"ferrusola\", \"finland\\u00e9s\", \"finland\\u00e9s\", \"finland\\u00e9s\", \"finland\\u00e9s\", \"finland\\u00e9s\", \"finland\\u00e9s\", \"fondo\", \"fondo\", \"fondo\", \"fondo\", \"fondo\", \"fondo\", \"forma\", \"forma\", \"forma\", \"forma\", \"forma\", \"forma\", \"francoalem\\u00e1n\", \"francoalem\\u00e1n\", \"francoalem\\u00e1n\", \"francoalem\\u00e1n\", \"francoalem\\u00e1n\", \"francoalem\\u00e1n\", \"futbolista\", \"futbolista\", \"futbolista\", \"futbolista\", \"futbolista\", \"futbolista\", \"f\\u00e1cil\", \"f\\u00e1cil\", \"f\\u00e1cil\", \"f\\u00e1cil\", \"f\\u00e1cil\", \"f\\u00e1cil\", \"gabilondo\", \"gabilondo\", \"gabilondo\", \"gabilondo\", \"gabilondo\", \"gabilondo\", \"gago\", \"gago\", \"gago\", \"gago\", \"gago\", \"gago\", \"galicia\", \"galicia\", \"galicia\", \"galicia\", \"galicia\", \"galicia\", \"garc\\u00edacastell\\u00f3n\", \"garc\\u00edacastell\\u00f3n\", \"garc\\u00edacastell\\u00f3n\", \"garc\\u00edacastell\\u00f3n\", \"garc\\u00edacastell\\u00f3n\", \"garc\\u00edacastell\\u00f3n\", \"garz\\u00f3n\", \"garz\\u00f3n\", \"garz\\u00f3n\", \"garz\\u00f3n\", \"garz\\u00f3n\", \"garz\\u00f3n\", \"gastado\", \"gastado\", \"gastado\", \"gastado\", \"gastado\", \"gastado\", \"gaza\", \"gaza\", \"gaza\", \"gaza\", \"gaza\", \"gaza\", \"general\", \"general\", \"general\", \"general\", \"general\", \"general\", \"gente\", \"gente\", \"gente\", \"gente\", \"gente\", \"gente\", \"geri\\u00e1trico\", \"geri\\u00e1trico\", \"geri\\u00e1trico\", \"geri\\u00e1trico\", \"geri\\u00e1trico\", \"geri\\u00e1trico\", \"gibraltar\", \"gibraltar\", \"gibraltar\", \"gibraltar\", \"gibraltar\", \"gibraltar\", \"glovo\", \"glovo\", \"glovo\", \"glovo\", \"glovo\", \"glovo\", \"gordo\", \"gordo\", \"gordo\", \"gordo\", \"gordo\", \"gordo\", \"gran\", \"gran\", \"gran\", \"gran\", \"gran\", \"gran\", \"grandemarlaska\", \"grandemarlaska\", \"grandemarlaska\", \"grandemarlaska\", \"grandemarlaska\", \"grandemarlaska\", \"grupo\", \"grupo\", \"grupo\", \"grupo\", \"grupo\", \"grupo\", \"guatemala\", \"guatemala\", \"guatemala\", \"guatemala\", \"guatemala\", \"guatemala\", \"hanks\", \"hanks\", \"hanks\", \"hanks\", \"hanks\", \"hanks\", \"hect\\u00e1rea\", \"hect\\u00e1rea\", \"hect\\u00e1rea\", \"hect\\u00e1rea\", \"hect\\u00e1rea\", \"hect\\u00e1rea\", \"hielo\", \"hielo\", \"hielo\", \"hielo\", \"hielo\", \"hielo\", \"hipocres\\u00eda\", \"hipocres\\u00eda\", \"hipocres\\u00eda\", \"hipocres\\u00eda\", \"hipocres\\u00eda\", \"hipocres\\u00eda\", \"hora\", \"hora\", \"hora\", \"hora\", \"hora\", \"hora\", \"huerto\", \"huerto\", \"huerto\", \"huerto\", \"huerto\", \"huerto\", \"humano\", \"humano\", \"humano\", \"humano\", \"humano\", \"humano\", \"hurtado\", \"hurtado\", \"hurtado\", \"hurtado\", \"hurtado\", \"hurtado\", \"h\\u00eddrico\", \"h\\u00eddrico\", \"h\\u00eddrico\", \"h\\u00eddrico\", \"h\\u00eddrico\", \"h\\u00eddrico\", \"i\", \"i\", \"i\", \"i\", \"i\", \"i\", \"ia\", \"ia\", \"ia\", \"ia\", \"ia\", \"ia\", \"igea\", \"igea\", \"igea\", \"igea\", \"igea\", \"igea\", \"iglesia\", \"iglesia\", \"iglesia\", \"iglesia\", \"iglesia\", \"iglesia\", \"iluminaci\\u00f3n\", \"iluminaci\\u00f3n\", \"iluminaci\\u00f3n\", \"iluminaci\\u00f3n\", \"iluminaci\\u00f3n\", \"iluminaci\\u00f3n\", \"impuesto\", \"impuesto\", \"impuesto\", \"impuesto\", \"impuesto\", \"impuesto\", \"ind\\u00edgena\", \"ind\\u00edgena\", \"ind\\u00edgena\", \"ind\\u00edgena\", \"ind\\u00edgena\", \"ind\\u00edgena\", \"infecci\\u00f3n\", \"infecci\\u00f3n\", \"infecci\\u00f3n\", \"infecci\\u00f3n\", \"infecci\\u00f3n\", \"infecci\\u00f3n\", \"informaci\\u00f3n\", \"informaci\\u00f3n\", \"informaci\\u00f3n\", \"informaci\\u00f3n\", \"informaci\\u00f3n\", \"informaci\\u00f3n\", \"informe\", \"informe\", \"informe\", \"informe\", \"informe\", \"informe\", \"infraestimar\", \"infraestimar\", \"infraestimar\", \"infraestimar\", \"infraestimar\", \"infraestimar\", \"inmigrante\", \"inmigrante\", \"inmigrante\", \"inmigrante\", \"inmigrante\", \"inmigrante\", \"interior\", \"interior\", \"interior\", \"interior\", \"interior\", \"interior\", \"intervalo\", \"intervalo\", \"intervalo\", \"intervalo\", \"intervalo\", \"intervalo\", \"inundaci\\u00f3n\", \"inundaci\\u00f3n\", \"inundaci\\u00f3n\", \"inundaci\\u00f3n\", \"inundaci\\u00f3n\", \"inundaci\\u00f3n\", \"isabel\", \"isabel\", \"isabel\", \"isabel\", \"isabel\", \"isabel\", \"isidro\", \"isidro\", \"isidro\", \"isidro\", \"isidro\", \"isidro\", \"isla\", \"isla\", \"isla\", \"isla\", \"isla\", \"isla\", \"israel\", \"israel\", \"israel\", \"israel\", \"israel\", \"israel\", \"jec\", \"jec\", \"jec\", \"jec\", \"jec\", \"jec\", \"jefe\", \"jefe\", \"jefe\", \"jefe\", \"jefe\", \"jefe\", \"jo\", \"jo\", \"jo\", \"jo\", \"jo\", \"jo\", \"jos\\u00e9\", \"jos\\u00e9\", \"jos\\u00e9\", \"jos\\u00e9\", \"jos\\u00e9\", \"jos\\u00e9\", \"juguete\", \"juguete\", \"juguete\", \"juguete\", \"juguete\", \"juguete\", \"jxcat\", \"jxcat\", \"jxcat\", \"jxcat\", \"jxcat\", \"jxcat\", \"karpa\", \"karpa\", \"karpa\", \"karpa\", \"karpa\", \"karpa\", \"kike\", \"kike\", \"kike\", \"kike\", \"kike\", \"kike\", \"kirol\", \"kirol\", \"kirol\", \"kirol\", \"kirol\", \"kirol\", \"komunikazioa\", \"komunikazioa\", \"komunikazioa\", \"komunikazioa\", \"komunikazioa\", \"komunikazioa\", \"ley\", \"ley\", \"ley\", \"ley\", \"ley\", \"ley\", \"le\\u00f3n\", \"le\\u00f3n\", \"le\\u00f3n\", \"le\\u00f3n\", \"le\\u00f3n\", \"le\\u00f3n\", \"lives\", \"lives\", \"lives\", \"lives\", \"lives\", \"lives\", \"llar\\u00e9n\", \"llar\\u00e9n\", \"llar\\u00e9n\", \"llar\\u00e9n\", \"llar\\u00e9n\", \"llar\\u00e9n\", \"llegar\", \"llegar\", \"llegar\", \"llegar\", \"llegar\", \"llegar\", \"llevar\", \"llevar\", \"llevar\", \"llevar\", \"llevar\", \"llevar\", \"llodio\", \"llodio\", \"llodio\", \"llodio\", \"llodio\", \"llodio\", \"lyon\", \"lyon\", \"lyon\", \"lyon\", \"lyon\", \"lyon\", \"machista\", \"machista\", \"machista\", \"machista\", \"machista\", \"machista\", \"madrid\", \"madrid\", \"madrid\", \"madrid\", \"madrid\", \"madrid\", \"maduro\", \"maduro\", \"maduro\", \"maduro\", \"maduro\", \"maduro\", \"magnar\", \"magnar\", \"magnar\", \"magnar\", \"magnar\", \"magnar\", \"manera\", \"manera\", \"manera\", \"manera\", \"manera\", \"manera\", \"mantener\", \"mantener\", \"mantener\", \"mantener\", \"mantener\", \"mantener\", \"mapa\", \"mapa\", \"mapa\", \"mapa\", \"mapa\", \"mapa\", \"mart\\u00edn\", \"mart\\u00edn\", \"mart\\u00edn\", \"mart\\u00edn\", \"mart\\u00edn\", \"mart\\u00edn\", \"mart\\u00ednez\", \"mart\\u00ednez\", \"mart\\u00ednez\", \"mart\\u00ednez\", \"mart\\u00ednez\", \"mart\\u00ednez\", \"mascarilla\", \"mascarilla\", \"mascarilla\", \"mascarilla\", \"mascarilla\", \"mascarilla\", \"mayor\", \"mayor\", \"mayor\", \"mayor\", \"mayor\", \"mayor\", \"media\", \"media\", \"media\", \"media\", \"media\", \"media\", \"medida\", \"medida\", \"medida\", \"medida\", \"medida\", \"medida\", \"medio\", \"medio\", \"medio\", \"medio\", \"medio\", \"medio\", \"memorial\", \"memorial\", \"memorial\", \"memorial\", \"memorial\", \"memorial\", \"menos\", \"menos\", \"menos\", \"menos\", \"menos\", \"menos\", \"mensualmente\", \"mensualmente\", \"mensualmente\", \"mensualmente\", \"mensualmente\", \"mensualmente\", \"men\\u00fa\", \"men\\u00fa\", \"men\\u00fa\", \"men\\u00fa\", \"men\\u00fa\", \"men\\u00fa\", \"mes\", \"mes\", \"mes\", \"mes\", \"mes\", \"mes\", \"mezquita\", \"mezquita\", \"mezquita\", \"mezquita\", \"mezquita\", \"mezquita\", \"miguel\", \"miguel\", \"miguel\", \"miguel\", \"miguel\", \"miguel\", \"mill\\u00f3n\", \"mill\\u00f3n\", \"mill\\u00f3n\", \"mill\\u00f3n\", \"mill\\u00f3n\", \"mill\\u00f3n\", \"ministro\", \"ministro\", \"ministro\", \"ministro\", \"ministro\", \"ministro\", \"momento\", \"momento\", \"momento\", \"momento\", \"momento\", \"momento\", \"montai\", \"montai\", \"montai\", \"montai\", \"montai\", \"montai\", \"movistar\", \"movistar\", \"movistar\", \"movistar\", \"movistar\", \"movistar\", \"mozo\", \"mozo\", \"mozo\", \"mozo\", \"mozo\", \"mozo\", \"mujer\", \"mujer\", \"mujer\", \"mujer\", \"mujer\", \"mujer\", \"mundo\", \"mundo\", \"mundo\", \"mundo\", \"mundo\", \"mundo\", \"municipio\", \"municipio\", \"municipio\", \"municipio\", \"municipio\", \"municipio\", \"m\\u00e1ster\", \"m\\u00e1ster\", \"m\\u00e1ster\", \"m\\u00e1ster\", \"m\\u00e1ster\", \"m\\u00e1ster\", \"m\\u00e9s\", \"m\\u00e9s\", \"m\\u00e9s\", \"m\\u00e9s\", \"m\\u00e9s\", \"m\\u00e9s\", \"m\\u00fasica\", \"m\\u00fasica\", \"m\\u00fasica\", \"m\\u00fasica\", \"m\\u00fasica\", \"m\\u00fasica\", \"nacional\", \"nacional\", \"nacional\", \"nacional\", \"nacional\", \"nacional\", \"navarra\", \"navarra\", \"navarra\", \"navarra\", \"navarra\", \"navarra\", \"necesitar\", \"necesitar\", \"necesitar\", \"necesitar\", \"necesitar\", \"necesitar\", \"nicaragua\", \"nicaragua\", \"nicaragua\", \"nicaragua\", \"nicaragua\", \"nicaragua\", \"nissar\", \"nissar\", \"nissar\", \"nissar\", \"nissar\", \"nissar\", \"ni\\u00f1o\", \"ni\\u00f1o\", \"ni\\u00f1o\", \"ni\\u00f1o\", \"ni\\u00f1o\", \"ni\\u00f1o\", \"non\", \"non\", \"non\", \"non\", \"non\", \"non\", \"noreste\", \"noreste\", \"noreste\", \"noreste\", \"noreste\", \"noreste\", \"n\\u00famero\", \"n\\u00famero\", \"n\\u00famero\", \"n\\u00famero\", \"n\\u00famero\", \"n\\u00famero\", \"obra\", \"obra\", \"obra\", \"obra\", \"obra\", \"obra\", \"ochandiano\", \"ochandiano\", \"ochandiano\", \"ochandiano\", \"ochandiano\", \"ochandiano\", \"oim\", \"oim\", \"oim\", \"oim\", \"oim\", \"oim\", \"operaci\\u00f3n\", \"operaci\\u00f3n\", \"operaci\\u00f3n\", \"operaci\\u00f3n\", \"operaci\\u00f3n\", \"operaci\\u00f3n\", \"ossorio\", \"ossorio\", \"ossorio\", \"ossorio\", \"ossorio\", \"ossorio\", \"palabra\", \"palabra\", \"palabra\", \"palabra\", \"palabra\", \"palabra\", \"palestina\", \"palestina\", \"palestina\", \"palestina\", \"palestina\", \"palestina\", \"pandemia\", \"pandemia\", \"pandemia\", \"pandemia\", \"pandemia\", \"pandemia\", \"partido\", \"partido\", \"partido\", \"partido\", \"partido\", \"partido\", \"pasado\", \"pasado\", \"pasado\", \"pasado\", \"pasado\", \"pasado\", \"pasar\", \"pasar\", \"pasar\", \"pasar\", \"pasar\", \"pasar\", \"paz\", \"paz\", \"paz\", \"paz\", \"paz\", \"paz\", \"pa\\u00eds\", \"pa\\u00eds\", \"pa\\u00eds\", \"pa\\u00eds\", \"pa\\u00eds\", \"pa\\u00eds\", \"pel\\u00edcula\", \"pel\\u00edcula\", \"pel\\u00edcula\", \"pel\\u00edcula\", \"pel\\u00edcula\", \"pel\\u00edcula\", \"pendrive\", \"pendrive\", \"pendrive\", \"pendrive\", \"pendrive\", \"pendrive\", \"per\", \"per\", \"per\", \"per\", \"per\", \"per\", \"peri\\u00f3dico\", \"peri\\u00f3dico\", \"peri\\u00f3dico\", \"peri\\u00f3dico\", \"peri\\u00f3dico\", \"peri\\u00f3dico\", \"perla\", \"perla\", \"perla\", \"perla\", \"perla\", \"perla\", \"perro\", \"perro\", \"perro\", \"perro\", \"perro\", \"perro\", \"persona\", \"persona\", \"persona\", \"persona\", \"persona\", \"persona\", \"per\\u00fa\", \"per\\u00fa\", \"per\\u00fa\", \"per\\u00fa\", \"per\\u00fa\", \"per\\u00fa\", \"petrolera\", \"petrolera\", \"petrolera\", \"petrolera\", \"petrolera\", \"petrolera\", \"pintada\", \"pintada\", \"pintada\", \"pintada\", \"pintada\", \"pintada\", \"playlist\", \"playlist\", \"playlist\", \"playlist\", \"playlist\", \"playlist\", \"poema\", \"poema\", \"poema\", \"poema\", \"poema\", \"poema\", \"polic\\u00eda\", \"polic\\u00eda\", \"polic\\u00eda\", \"polic\\u00eda\", \"polic\\u00eda\", \"polic\\u00eda\", \"pol\\u00edtico\", \"pol\\u00edtico\", \"pol\\u00edtico\", \"pol\\u00edtico\", \"pol\\u00edtico\", \"pol\\u00edtico\", \"pompeo\", \"pompeo\", \"pompeo\", \"pompeo\", \"pompeo\", \"pompeo\", \"poner\", \"poner\", \"poner\", \"poner\", \"poner\", \"poner\", \"popular\", \"popular\", \"popular\", \"popular\", \"popular\", \"popular\", \"portavoz\", \"portavoz\", \"portavoz\", \"portavoz\", \"portavoz\", \"portavoz\", \"posible\", \"posible\", \"posible\", \"posible\", \"posible\", \"posible\", \"positividad\", \"positividad\", \"positividad\", \"positividad\", \"positividad\", \"positividad\", \"pp\", \"pp\", \"pp\", \"pp\", \"pp\", \"pp\", \"ppdeg\", \"ppdeg\", \"ppdeg\", \"ppdeg\", \"ppdeg\", \"ppdeg\", \"presidente\", \"presidente\", \"presidente\", \"presidente\", \"presidente\", \"presidente\", \"problema\", \"problema\", \"problema\", \"problema\", \"problema\", \"problema\", \"profesora\", \"profesora\", \"profesora\", \"profesora\", \"profesora\", \"profesora\", \"prostituci\\u00f3n\", \"prostituci\\u00f3n\", \"prostituci\\u00f3n\", \"prostituci\\u00f3n\", \"prostituci\\u00f3n\", \"prostituci\\u00f3n\", \"proyecto\", \"proyecto\", \"proyecto\", \"proyecto\", \"proyecto\", \"proyecto\", \"prueba\", \"prueba\", \"prueba\", \"prueba\", \"prueba\", \"prueba\", \"psoe\", \"psoe\", \"psoe\", \"psoe\", \"psoe\", \"psoe\", \"publicar\", \"publicar\", \"publicar\", \"publicar\", \"publicar\", \"publicar\", \"pujol\", \"pujol\", \"pujol\", \"pujol\", \"pujol\", \"pujol\", \"p\\u00eds\", \"p\\u00eds\", \"p\\u00eds\", \"p\\u00eds\", \"p\\u00eds\", \"p\\u00eds\", \"p\\u00fablico\", \"p\\u00fablico\", \"p\\u00fablico\", \"p\\u00fablico\", \"p\\u00fablico\", \"p\\u00fablico\", \"qasem\", \"qasem\", \"qasem\", \"qasem\", \"qasem\", \"qasem\", \"quedar\", \"quedar\", \"quedar\", \"quedar\", \"quedar\", \"quedar\", \"quema\", \"quema\", \"quema\", \"quema\", \"quema\", \"quema\", \"querer\", \"querer\", \"querer\", \"querer\", \"querer\", \"querer\", \"quim\", \"quim\", \"quim\", \"quim\", \"quim\", \"quim\", \"radiojaputa\", \"radiojaputa\", \"radiojaputa\", \"radiojaputa\", \"radiojaputa\", \"radiojaputa\", \"rajoy\", \"rajoy\", \"rajoy\", \"rajoy\", \"rajoy\", \"rajoy\", \"recluso\", \"recluso\", \"recluso\", \"recluso\", \"recluso\", \"recluso\", \"recordar\", \"recordar\", \"recordar\", \"recordar\", \"recordar\", \"recordar\", \"registro\", \"registro\", \"registro\", \"registro\", \"registro\", \"registro\", \"renave\", \"renave\", \"renave\", \"renave\", \"renave\", \"renave\", \"renovar \\u00e9l\", \"renovar \\u00e9l\", \"renovar \\u00e9l\", \"renovar \\u00e9l\", \"renovar \\u00e9l\", \"renovar \\u00e9l\", \"repsol\", \"repsol\", \"repsol\", \"repsol\", \"repsol\", \"repsol\", \"residencia\", \"residencia\", \"residencia\", \"residencia\", \"residencia\", \"residencia\", \"respiraci\\u00f3n\", \"respiraci\\u00f3n\", \"respiraci\\u00f3n\", \"respiraci\\u00f3n\", \"respiraci\\u00f3n\", \"respiraci\\u00f3n\", \"respiratorio\", \"respiratorio\", \"respiratorio\", \"respiratorio\", \"respiratorio\", \"respiratorio\", \"revilla\", \"revilla\", \"revilla\", \"revilla\", \"revilla\", \"revilla\", \"reyero\", \"reyero\", \"reyero\", \"reyero\", \"reyero\", \"reyero\", \"rider\", \"rider\", \"rider\", \"rider\", \"rider\", \"rider\", \"robado\", \"robado\", \"robado\", \"robado\", \"robado\", \"robado\", \"rosell\", \"rosell\", \"rosell\", \"rosell\", \"rosell\", \"rosell\", \"sanidad\", \"sanidad\", \"sanidad\", \"sanidad\", \"sanidad\", \"sanidad\", \"santuario\", \"santuario\", \"santuario\", \"santuario\", \"santuario\", \"santuario\", \"seda\", \"seda\", \"seda\", \"seda\", \"seda\", \"seda\", \"seguridad\", \"seguridad\", \"seguridad\", \"seguridad\", \"seguridad\", \"seguridad\", \"semana\", \"semana\", \"semana\", \"semana\", \"semana\", \"semana\", \"sergar\", \"sergar\", \"sergar\", \"sergar\", \"sergar\", \"sergar\", \"servizo\", \"servizo\", \"servizo\", \"servizo\", \"servizo\", \"servizo\", \"seu\", \"seu\", \"seu\", \"seu\", \"seu\", \"seu\", \"sexual\", \"sexual\", \"sexual\", \"sexual\", \"sexual\", \"sexual\", \"sinergia\", \"sinergia\", \"sinergia\", \"sinergia\", \"sinergia\", \"sinergia\", \"sistema\", \"sistema\", \"sistema\", \"sistema\", \"sistema\", \"sistema\", \"situaci\\u00f3n\", \"situaci\\u00f3n\", \"situaci\\u00f3n\", \"situaci\\u00f3n\", \"situaci\\u00f3n\", \"situaci\\u00f3n\", \"social\", \"social\", \"social\", \"social\", \"social\", \"social\", \"sociedad\", \"sociedad\", \"sociedad\", \"sociedad\", \"sociedad\", \"sociedad\", \"socio\", \"socio\", \"socio\", \"socio\", \"socio\", \"socio\", \"solo\", \"solo\", \"solo\", \"solo\", \"solo\", \"solo\", \"soplar\", \"soplar\", \"soplar\", \"soplar\", \"soplar\", \"soplar\", \"sorteo\", \"sorteo\", \"sorteo\", \"sorteo\", \"sorteo\", \"sorteo\", \"souto\", \"souto\", \"souto\", \"souto\", \"souto\", \"souto\", \"suponer\", \"suponer\", \"suponer\", \"suponer\", \"suponer\", \"suponer\", \"suspender \\u00e9l\", \"suspender \\u00e9l\", \"suspender \\u00e9l\", \"suspender \\u00e9l\", \"suspender \\u00e9l\", \"suspender \\u00e9l\", \"s\\u00e1nchez\", \"s\\u00e1nchez\", \"s\\u00e1nchez\", \"s\\u00e1nchez\", \"s\\u00e1nchez\", \"s\\u00e1nchez\", \"taylor\", \"taylor\", \"taylor\", \"taylor\", \"taylor\", \"taylor\", \"tedh\", \"tedh\", \"tedh\", \"tedh\", \"tedh\", \"tedh\", \"tedro\", \"tedro\", \"tedro\", \"tedro\", \"tedro\", \"tedro\", \"tel\", \"tel\", \"tel\", \"tel\", \"tel\", \"tel\", \"telepizza\", \"telepizza\", \"telepizza\", \"telepizza\", \"telepizza\", \"telepizza\", \"tiempo\", \"tiempo\", \"tiempo\", \"tiempo\", \"tiempo\", \"tiempo\", \"tipo\", \"tipo\", \"tipo\", \"tipo\", \"tipo\", \"tipo\", \"torrir\", \"torrir\", \"torrir\", \"torrir\", \"torrir\", \"torrir\", \"total\", \"total\", \"total\", \"total\", \"total\", \"total\", \"trabajar\", \"trabajar\", \"trabajar\", \"trabajar\", \"trabajar\", \"trabajar\", \"trabajo\", \"trabajo\", \"trabajo\", \"trabajo\", \"trabajo\", \"trabajo\", \"transformador\", \"transformador\", \"transformador\", \"transformador\", \"transformador\", \"transformador\", \"tras\", \"tras\", \"tras\", \"tras\", \"tras\", \"tras\", \"tratar\", \"tratar\", \"tratar\", \"tratar\", \"tratar\", \"tratar\", \"tres\", \"tres\", \"tres\", \"tres\", \"tres\", \"tres\", \"tribunal\", \"tribunal\", \"tribunal\", \"tribunal\", \"tribunal\", \"tribunal\", \"trillo\", \"trillo\", \"trillo\", \"trillo\", \"trillo\", \"trillo\", \"trump\", \"trump\", \"trump\", \"trump\", \"trump\", \"trump\", \"tsjm\", \"tsjm\", \"tsjm\", \"tsjm\", \"tsjm\", \"tsjm\", \"tudela\", \"tudela\", \"tudela\", \"tudela\", \"tudela\", \"tudela\", \"t\\u00e1ndem\", \"t\\u00e1ndem\", \"t\\u00e1ndem\", \"t\\u00e1ndem\", \"t\\u00e1ndem\", \"t\\u00e1ndem\", \"uber\", \"uber\", \"uber\", \"uber\", \"uber\", \"uber\", \"ucao\", \"ucao\", \"ucao\", \"ucao\", \"ucao\", \"ucao\", \"unificaci\\u00f3n\", \"unificaci\\u00f3n\", \"unificaci\\u00f3n\", \"unificaci\\u00f3n\", \"unificaci\\u00f3n\", \"unificaci\\u00f3n\", \"universidad\", \"universidad\", \"universidad\", \"universidad\", \"universidad\", \"universidad\", \"uso\", \"uso\", \"uso\", \"uso\", \"uso\", \"uso\", \"uva\", \"uva\", \"uva\", \"uva\", \"uva\", \"uva\", \"vacuna\", \"vacuna\", \"vacuna\", \"vacuna\", \"vacuna\", \"vacuna\", \"vasco\", \"vasco\", \"vasco\", \"vasco\", \"vasco\", \"vasco\", \"ver\", \"ver\", \"ver\", \"ver\", \"ver\", \"ver\", \"vez\", \"vez\", \"vez\", \"vez\", \"vez\", \"vez\", \"vida\", \"vida\", \"vida\", \"vida\", \"vida\", \"vida\", \"vientre\", \"vientre\", \"vientre\", \"vientre\", \"vientre\", \"vientre\", \"villarejo\", \"villarejo\", \"villarejo\", \"villarejo\", \"villarejo\", \"villarejo\", \"violencia\", \"violencia\", \"violencia\", \"violencia\", \"violencia\", \"violencia\", \"vip\", \"vip\", \"vip\", \"vip\", \"vip\", \"vip\", \"vivienda\", \"vivienda\", \"vivienda\", \"vivienda\", \"vivienda\", \"vivienda\", \"vox\", \"vox\", \"vox\", \"vox\", \"vox\", \"vox\", \"v\\u00edctima\", \"v\\u00edctima\", \"v\\u00edctima\", \"v\\u00edctima\", \"v\\u00edctima\", \"v\\u00edctima\", \"weinstein\", \"weinstein\", \"weinstein\", \"weinstein\", \"weinstein\", \"weinstein\", \"yacimiento\", \"yacimiento\", \"yacimiento\", \"yacimiento\", \"yacimiento\", \"yacimiento\", \"zamora\", \"zamora\", \"zamora\", \"zamora\", \"zamora\", \"zamora\", \"zu\", \"zu\", \"zu\", \"zu\", \"zu\", \"zu\", \"\\u00e9s\", \"\\u00e9s\", \"\\u00e9s\", \"\\u00e9s\", \"\\u00e9s\", \"\\u00e9s\"]}, \"R\": 30, \"lambda.step\": 0.01, \"plot.opts\": {\"xlab\": \"PC1\", \"ylab\": \"PC2\"}, \"topic.order\": [2, 5, 1, 4, 3, 6]};\n",
              "\n",
              "function LDAvis_load_lib(url, callback){\n",
              "  var s = document.createElement('script');\n",
              "  s.src = url;\n",
              "  s.async = true;\n",
              "  s.onreadystatechange = s.onload = callback;\n",
              "  s.onerror = function(){console.warn(\"failed to load library \" + url);};\n",
              "  document.getElementsByTagName(\"head\")[0].appendChild(s);\n",
              "}\n",
              "\n",
              "if(typeof(LDAvis) !== \"undefined\"){\n",
              "   // already loaded: just create the visualization\n",
              "   !function(LDAvis){\n",
              "       new LDAvis(\"#\" + \"ldavis_el1472019415013088165975829161\", ldavis_el1472019415013088165975829161_data);\n",
              "   }(LDAvis);\n",
              "}else if(typeof define === \"function\" && define.amd){\n",
              "   // require.js is available: use it to load d3/LDAvis\n",
              "   require.config({paths: {d3: \"https://d3js.org/d3.v5\"}});\n",
              "   require([\"d3\"], function(d3){\n",
              "      window.d3 = d3;\n",
              "      LDAvis_load_lib(\"https://cdn.jsdelivr.net/gh/bmabey/pyLDAvis@3.3.1/pyLDAvis/js/ldavis.v3.0.0.js\", function(){\n",
              "        new LDAvis(\"#\" + \"ldavis_el1472019415013088165975829161\", ldavis_el1472019415013088165975829161_data);\n",
              "      });\n",
              "    });\n",
              "}else{\n",
              "    // require.js not available: dynamically load d3 & LDAvis\n",
              "    LDAvis_load_lib(\"https://d3js.org/d3.v5.js\", function(){\n",
              "         LDAvis_load_lib(\"https://cdn.jsdelivr.net/gh/bmabey/pyLDAvis@3.3.1/pyLDAvis/js/ldavis.v3.0.0.js\", function(){\n",
              "                 new LDAvis(\"#\" + \"ldavis_el1472019415013088165975829161\", ldavis_el1472019415013088165975829161_data);\n",
              "            })\n",
              "         });\n",
              "}\n",
              "</script>"
            ],
            "text/plain": [
              "<IPython.core.display.HTML object>"
            ]
          },
          "execution_count": 22,
          "metadata": {},
          "output_type": "execute_result"
        }
      ],
      "source": [
        "import pyLDAvis\n",
        "import pyLDAvis.gensim_models\n",
        "\n",
        "# Crear una variable con el mejor modelo de LDA (por ejemplo, el que tiene 3 temas)\n",
        "best_model = models[4]\n",
        "\n",
        "# Preparar los datos para la visualización\n",
        "vis_data = pyLDAvis.gensim_models.prepare(best_model, common_corpus, common_dictionary)\n",
        "\n",
        "# Mostrar la visualización\n",
        "pyLDAvis.display(vis_data)"
      ]
    },
    {
      "attachments": {},
      "cell_type": "markdown",
      "id": "4f4cf898-b98c-40b8-ae52-f1206040b604",
      "metadata": {
        "id": "4f4cf898-b98c-40b8-ae52-f1206040b604"
      },
      "source": [
        "# 14. Conclusiones"
      ]
    },
    {
      "attachments": {},
      "cell_type": "markdown",
      "id": "mZKKJ-Ou1gIP",
      "metadata": {
        "id": "mZKKJ-Ou1gIP"
      },
      "source": [
        "Esta actividad destaca la utilidad del modelado de temas como una forma de analizar y entender grandes conjuntos de datos de texto. Utilizamos varias técnicas, incluyendo la Indexación Semántica Latente (LSI), la Descomposición de Valores Singulares Truncada (SVD) y la Asignación de Dirichlet Latente (LDA), cada una de las cuales aportó diferentes perspectivas sobre nuestros datos. Además, utilizando la librería pyLDAvis para visualizar nuestros modelos de temas, pudimos explorar de manera más profunda e interactiva las relaciones entre los distintos temas y los términos que los componen.\n",
        "\n",
        "En cuanto a los hallazgos, se encontró lo siguiente: \n",
        "\n",
        "* Este ejercicio se trata de una clasificación no supervisada, pues no se tiene una clasificación previa de los datos a utilizar con respecto a la distribución y demarcación de los temas. \n",
        "\n",
        "* La utilización de componentes principales permitió visualizar los términos incluidos en cada componente semántico.\n",
        "\n",
        "* Con la técnica LSI, evaluando el valor de coherencia, se encontró que el número óptimo de temas a utilizar es seis.\n",
        "\n",
        "* Con la técnica LDA, evaluando el valor de coherencia, se encontró que el número óptimo de temas a utilizar es dos, seguido de seis. Al considerar que dos componentes semánticos serían muy generales para representar los temas, se considera seis como el número de temas más óptimo para esta solución.\n",
        "\n",
        "- A través de la exploración de la composición y las relaciones entre los tópicos identificados, apoyada por la librería PyLDAvis, se encontró que el modelo con seis temas semánticos cuenta con alta distribución marginal de términos en cada uno de los temas. Esto es conveniente, pues indica que existe alta separabilidad y definición entre ellos.\n",
        "\n",
        "\n",
        "\n",
        "En resumen, esta actividad demostró que la combinación de diferentes técnicas y herramientas en el modelado de temas puede proporcionar una visión rica y matizada de los patrones en un conjunto de datos de texto. Al estar dispuestos a experimentar y adaptar nuestras técnicas a los datos específicos con los que estamos trabajando, podemos obtener una comprensión más profunda y valiosa de nuestros datos."
      ]
    },
    {
      "attachments": {},
      "cell_type": "markdown",
      "id": "b7f38594",
      "metadata": {},
      "source": []
    }
  ],
  "metadata": {
    "colab": {
      "provenance": []
    },
    "kernelspec": {
      "display_name": "Python 3 (ipykernel)",
      "language": "python",
      "name": "python3"
    },
    "language_info": {
      "codemirror_mode": {
        "name": "ipython",
        "version": 3
      },
      "file_extension": ".py",
      "mimetype": "text/x-python",
      "name": "python",
      "nbconvert_exporter": "python",
      "pygments_lexer": "ipython3",
      "version": "3.9.12"
    },
    "widgets": {
      "application/vnd.jupyter.widget-state+json": {
        "04e1b4e6da4a4ea99d8f0401b0a999be": {
          "model_module": "@jupyter-widgets/controls",
          "model_module_version": "1.5.0",
          "model_name": "ProgressStyleModel",
          "state": {
            "_model_module": "@jupyter-widgets/controls",
            "_model_module_version": "1.5.0",
            "_model_name": "ProgressStyleModel",
            "_view_count": null,
            "_view_module": "@jupyter-widgets/base",
            "_view_module_version": "1.2.0",
            "_view_name": "StyleView",
            "bar_color": null,
            "description_width": ""
          }
        },
        "0ec1d6c7bbab4bb099a751ecd0f423de": {
          "model_module": "@jupyter-widgets/base",
          "model_module_version": "1.2.0",
          "model_name": "LayoutModel",
          "state": {
            "_model_module": "@jupyter-widgets/base",
            "_model_module_version": "1.2.0",
            "_model_name": "LayoutModel",
            "_view_count": null,
            "_view_module": "@jupyter-widgets/base",
            "_view_module_version": "1.2.0",
            "_view_name": "LayoutView",
            "align_content": null,
            "align_items": null,
            "align_self": null,
            "border": null,
            "bottom": null,
            "display": null,
            "flex": null,
            "flex_flow": null,
            "grid_area": null,
            "grid_auto_columns": null,
            "grid_auto_flow": null,
            "grid_auto_rows": null,
            "grid_column": null,
            "grid_gap": null,
            "grid_row": null,
            "grid_template_areas": null,
            "grid_template_columns": null,
            "grid_template_rows": null,
            "height": null,
            "justify_content": null,
            "justify_items": null,
            "left": null,
            "margin": null,
            "max_height": null,
            "max_width": null,
            "min_height": null,
            "min_width": null,
            "object_fit": null,
            "object_position": null,
            "order": null,
            "overflow": null,
            "overflow_x": null,
            "overflow_y": null,
            "padding": null,
            "right": null,
            "top": null,
            "visibility": null,
            "width": null
          }
        },
        "18864d8092c843ea8a6dd2a4c8cf03b3": {
          "model_module": "@jupyter-widgets/controls",
          "model_module_version": "1.5.0",
          "model_name": "ProgressStyleModel",
          "state": {
            "_model_module": "@jupyter-widgets/controls",
            "_model_module_version": "1.5.0",
            "_model_name": "ProgressStyleModel",
            "_view_count": null,
            "_view_module": "@jupyter-widgets/base",
            "_view_module_version": "1.2.0",
            "_view_name": "StyleView",
            "bar_color": null,
            "description_width": ""
          }
        },
        "48112ba5251e4e799d5bc7bea2022119": {
          "model_module": "@jupyter-widgets/controls",
          "model_module_version": "1.5.0",
          "model_name": "HTMLModel",
          "state": {
            "_dom_classes": [],
            "_model_module": "@jupyter-widgets/controls",
            "_model_module_version": "1.5.0",
            "_model_name": "HTMLModel",
            "_view_count": null,
            "_view_module": "@jupyter-widgets/controls",
            "_view_module_version": "1.5.0",
            "_view_name": "HTMLView",
            "description": "",
            "description_tooltip": null,
            "layout": "IPY_MODEL_0ec1d6c7bbab4bb099a751ecd0f423de",
            "placeholder": "​",
            "style": "IPY_MODEL_f74725152402405f873075c7392bf2ee",
            "value": "100%"
          }
        },
        "5247c6ba24fb492d9ccd12aeed21cceb": {
          "model_module": "@jupyter-widgets/base",
          "model_module_version": "1.2.0",
          "model_name": "LayoutModel",
          "state": {
            "_model_module": "@jupyter-widgets/base",
            "_model_module_version": "1.2.0",
            "_model_name": "LayoutModel",
            "_view_count": null,
            "_view_module": "@jupyter-widgets/base",
            "_view_module_version": "1.2.0",
            "_view_name": "LayoutView",
            "align_content": null,
            "align_items": null,
            "align_self": null,
            "border": null,
            "bottom": null,
            "display": null,
            "flex": null,
            "flex_flow": null,
            "grid_area": null,
            "grid_auto_columns": null,
            "grid_auto_flow": null,
            "grid_auto_rows": null,
            "grid_column": null,
            "grid_gap": null,
            "grid_row": null,
            "grid_template_areas": null,
            "grid_template_columns": null,
            "grid_template_rows": null,
            "height": null,
            "justify_content": null,
            "justify_items": null,
            "left": null,
            "margin": null,
            "max_height": null,
            "max_width": null,
            "min_height": null,
            "min_width": null,
            "object_fit": null,
            "object_position": null,
            "order": null,
            "overflow": null,
            "overflow_x": null,
            "overflow_y": null,
            "padding": null,
            "right": null,
            "top": null,
            "visibility": null,
            "width": null
          }
        },
        "66fa5c91dc6c499680d5f3e376c8b3d1": {
          "model_module": "@jupyter-widgets/controls",
          "model_module_version": "1.5.0",
          "model_name": "DescriptionStyleModel",
          "state": {
            "_model_module": "@jupyter-widgets/controls",
            "_model_module_version": "1.5.0",
            "_model_name": "DescriptionStyleModel",
            "_view_count": null,
            "_view_module": "@jupyter-widgets/base",
            "_view_module_version": "1.2.0",
            "_view_name": "StyleView",
            "description_width": ""
          }
        },
        "6795989f732c4cf1ab177245839832e0": {
          "model_module": "@jupyter-widgets/controls",
          "model_module_version": "1.5.0",
          "model_name": "DescriptionStyleModel",
          "state": {
            "_model_module": "@jupyter-widgets/controls",
            "_model_module_version": "1.5.0",
            "_model_name": "DescriptionStyleModel",
            "_view_count": null,
            "_view_module": "@jupyter-widgets/base",
            "_view_module_version": "1.2.0",
            "_view_name": "StyleView",
            "description_width": ""
          }
        },
        "7df956d3eb834490916b8887cb787607": {
          "model_module": "@jupyter-widgets/controls",
          "model_module_version": "1.5.0",
          "model_name": "HBoxModel",
          "state": {
            "_dom_classes": [],
            "_model_module": "@jupyter-widgets/controls",
            "_model_module_version": "1.5.0",
            "_model_name": "HBoxModel",
            "_view_count": null,
            "_view_module": "@jupyter-widgets/controls",
            "_view_module_version": "1.5.0",
            "_view_name": "HBoxView",
            "box_style": "",
            "children": [
              "IPY_MODEL_48112ba5251e4e799d5bc7bea2022119",
              "IPY_MODEL_c80c5955024a4f7a8343a6e6a7d823cf",
              "IPY_MODEL_ead25e7920064335aad369fbee321212"
            ],
            "layout": "IPY_MODEL_bcee810fcbeb493f83887d2492a75edf"
          }
        },
        "7fef456769d546abbfb306e0b6b1d9bc": {
          "model_module": "@jupyter-widgets/base",
          "model_module_version": "1.2.0",
          "model_name": "LayoutModel",
          "state": {
            "_model_module": "@jupyter-widgets/base",
            "_model_module_version": "1.2.0",
            "_model_name": "LayoutModel",
            "_view_count": null,
            "_view_module": "@jupyter-widgets/base",
            "_view_module_version": "1.2.0",
            "_view_name": "LayoutView",
            "align_content": null,
            "align_items": null,
            "align_self": null,
            "border": null,
            "bottom": null,
            "display": null,
            "flex": null,
            "flex_flow": null,
            "grid_area": null,
            "grid_auto_columns": null,
            "grid_auto_flow": null,
            "grid_auto_rows": null,
            "grid_column": null,
            "grid_gap": null,
            "grid_row": null,
            "grid_template_areas": null,
            "grid_template_columns": null,
            "grid_template_rows": null,
            "height": null,
            "justify_content": null,
            "justify_items": null,
            "left": null,
            "margin": null,
            "max_height": null,
            "max_width": null,
            "min_height": null,
            "min_width": null,
            "object_fit": null,
            "object_position": null,
            "order": null,
            "overflow": null,
            "overflow_x": null,
            "overflow_y": null,
            "padding": null,
            "right": null,
            "top": null,
            "visibility": null,
            "width": null
          }
        },
        "838baa95e8df47deba07fbd851bbf50a": {
          "model_module": "@jupyter-widgets/base",
          "model_module_version": "1.2.0",
          "model_name": "LayoutModel",
          "state": {
            "_model_module": "@jupyter-widgets/base",
            "_model_module_version": "1.2.0",
            "_model_name": "LayoutModel",
            "_view_count": null,
            "_view_module": "@jupyter-widgets/base",
            "_view_module_version": "1.2.0",
            "_view_name": "LayoutView",
            "align_content": null,
            "align_items": null,
            "align_self": null,
            "border": null,
            "bottom": null,
            "display": null,
            "flex": null,
            "flex_flow": null,
            "grid_area": null,
            "grid_auto_columns": null,
            "grid_auto_flow": null,
            "grid_auto_rows": null,
            "grid_column": null,
            "grid_gap": null,
            "grid_row": null,
            "grid_template_areas": null,
            "grid_template_columns": null,
            "grid_template_rows": null,
            "height": null,
            "justify_content": null,
            "justify_items": null,
            "left": null,
            "margin": null,
            "max_height": null,
            "max_width": null,
            "min_height": null,
            "min_width": null,
            "object_fit": null,
            "object_position": null,
            "order": null,
            "overflow": null,
            "overflow_x": null,
            "overflow_y": null,
            "padding": null,
            "right": null,
            "top": null,
            "visibility": null,
            "width": null
          }
        },
        "84691677ef594a39be33fef251bf8bed": {
          "model_module": "@jupyter-widgets/base",
          "model_module_version": "1.2.0",
          "model_name": "LayoutModel",
          "state": {
            "_model_module": "@jupyter-widgets/base",
            "_model_module_version": "1.2.0",
            "_model_name": "LayoutModel",
            "_view_count": null,
            "_view_module": "@jupyter-widgets/base",
            "_view_module_version": "1.2.0",
            "_view_name": "LayoutView",
            "align_content": null,
            "align_items": null,
            "align_self": null,
            "border": null,
            "bottom": null,
            "display": null,
            "flex": null,
            "flex_flow": null,
            "grid_area": null,
            "grid_auto_columns": null,
            "grid_auto_flow": null,
            "grid_auto_rows": null,
            "grid_column": null,
            "grid_gap": null,
            "grid_row": null,
            "grid_template_areas": null,
            "grid_template_columns": null,
            "grid_template_rows": null,
            "height": null,
            "justify_content": null,
            "justify_items": null,
            "left": null,
            "margin": null,
            "max_height": null,
            "max_width": null,
            "min_height": null,
            "min_width": null,
            "object_fit": null,
            "object_position": null,
            "order": null,
            "overflow": null,
            "overflow_x": null,
            "overflow_y": null,
            "padding": null,
            "right": null,
            "top": null,
            "visibility": null,
            "width": null
          }
        },
        "962fabfb58b748338a00b2d5f0dd295d": {
          "model_module": "@jupyter-widgets/controls",
          "model_module_version": "1.5.0",
          "model_name": "HBoxModel",
          "state": {
            "_dom_classes": [],
            "_model_module": "@jupyter-widgets/controls",
            "_model_module_version": "1.5.0",
            "_model_name": "HBoxModel",
            "_view_count": null,
            "_view_module": "@jupyter-widgets/controls",
            "_view_module_version": "1.5.0",
            "_view_name": "HBoxView",
            "box_style": "",
            "children": [
              "IPY_MODEL_ad7dcbd1ddd64e6f9354e97b6661ccec",
              "IPY_MODEL_c430273f7b90435a830770ed926e2fcb",
              "IPY_MODEL_eda6e9c0865147418c5b629756cef058"
            ],
            "layout": "IPY_MODEL_84691677ef594a39be33fef251bf8bed"
          }
        },
        "ad7dcbd1ddd64e6f9354e97b6661ccec": {
          "model_module": "@jupyter-widgets/controls",
          "model_module_version": "1.5.0",
          "model_name": "HTMLModel",
          "state": {
            "_dom_classes": [],
            "_model_module": "@jupyter-widgets/controls",
            "_model_module_version": "1.5.0",
            "_model_name": "HTMLModel",
            "_view_count": null,
            "_view_module": "@jupyter-widgets/controls",
            "_view_module_version": "1.5.0",
            "_view_name": "HTMLView",
            "description": "",
            "description_tooltip": null,
            "layout": "IPY_MODEL_5247c6ba24fb492d9ccd12aeed21cceb",
            "placeholder": "​",
            "style": "IPY_MODEL_66fa5c91dc6c499680d5f3e376c8b3d1",
            "value": " 17%"
          }
        },
        "bcee810fcbeb493f83887d2492a75edf": {
          "model_module": "@jupyter-widgets/base",
          "model_module_version": "1.2.0",
          "model_name": "LayoutModel",
          "state": {
            "_model_module": "@jupyter-widgets/base",
            "_model_module_version": "1.2.0",
            "_model_name": "LayoutModel",
            "_view_count": null,
            "_view_module": "@jupyter-widgets/base",
            "_view_module_version": "1.2.0",
            "_view_name": "LayoutView",
            "align_content": null,
            "align_items": null,
            "align_self": null,
            "border": null,
            "bottom": null,
            "display": null,
            "flex": null,
            "flex_flow": null,
            "grid_area": null,
            "grid_auto_columns": null,
            "grid_auto_flow": null,
            "grid_auto_rows": null,
            "grid_column": null,
            "grid_gap": null,
            "grid_row": null,
            "grid_template_areas": null,
            "grid_template_columns": null,
            "grid_template_rows": null,
            "height": null,
            "justify_content": null,
            "justify_items": null,
            "left": null,
            "margin": null,
            "max_height": null,
            "max_width": null,
            "min_height": null,
            "min_width": null,
            "object_fit": null,
            "object_position": null,
            "order": null,
            "overflow": null,
            "overflow_x": null,
            "overflow_y": null,
            "padding": null,
            "right": null,
            "top": null,
            "visibility": null,
            "width": null
          }
        },
        "c430273f7b90435a830770ed926e2fcb": {
          "model_module": "@jupyter-widgets/controls",
          "model_module_version": "1.5.0",
          "model_name": "FloatProgressModel",
          "state": {
            "_dom_classes": [],
            "_model_module": "@jupyter-widgets/controls",
            "_model_module_version": "1.5.0",
            "_model_name": "FloatProgressModel",
            "_view_count": null,
            "_view_module": "@jupyter-widgets/controls",
            "_view_module_version": "1.5.0",
            "_view_name": "ProgressView",
            "bar_style": "",
            "description": "",
            "description_tooltip": null,
            "layout": "IPY_MODEL_838baa95e8df47deba07fbd851bbf50a",
            "max": 12384,
            "min": 0,
            "orientation": "horizontal",
            "style": "IPY_MODEL_04e1b4e6da4a4ea99d8f0401b0a999be",
            "value": 2054
          }
        },
        "c80c5955024a4f7a8343a6e6a7d823cf": {
          "model_module": "@jupyter-widgets/controls",
          "model_module_version": "1.5.0",
          "model_name": "FloatProgressModel",
          "state": {
            "_dom_classes": [],
            "_model_module": "@jupyter-widgets/controls",
            "_model_module_version": "1.5.0",
            "_model_name": "FloatProgressModel",
            "_view_count": null,
            "_view_module": "@jupyter-widgets/controls",
            "_view_module_version": "1.5.0",
            "_view_name": "ProgressView",
            "bar_style": "success",
            "description": "",
            "description_tooltip": null,
            "layout": "IPY_MODEL_7fef456769d546abbfb306e0b6b1d9bc",
            "max": 5658,
            "min": 0,
            "orientation": "horizontal",
            "style": "IPY_MODEL_18864d8092c843ea8a6dd2a4c8cf03b3",
            "value": 5658
          }
        },
        "da6b813cab444055a30c96c1eaae488b": {
          "model_module": "@jupyter-widgets/controls",
          "model_module_version": "1.5.0",
          "model_name": "DescriptionStyleModel",
          "state": {
            "_model_module": "@jupyter-widgets/controls",
            "_model_module_version": "1.5.0",
            "_model_name": "DescriptionStyleModel",
            "_view_count": null,
            "_view_module": "@jupyter-widgets/base",
            "_view_module_version": "1.2.0",
            "_view_name": "StyleView",
            "description_width": ""
          }
        },
        "e26058f1b6b0445b90a2cddb3c1a6e60": {
          "model_module": "@jupyter-widgets/base",
          "model_module_version": "1.2.0",
          "model_name": "LayoutModel",
          "state": {
            "_model_module": "@jupyter-widgets/base",
            "_model_module_version": "1.2.0",
            "_model_name": "LayoutModel",
            "_view_count": null,
            "_view_module": "@jupyter-widgets/base",
            "_view_module_version": "1.2.0",
            "_view_name": "LayoutView",
            "align_content": null,
            "align_items": null,
            "align_self": null,
            "border": null,
            "bottom": null,
            "display": null,
            "flex": null,
            "flex_flow": null,
            "grid_area": null,
            "grid_auto_columns": null,
            "grid_auto_flow": null,
            "grid_auto_rows": null,
            "grid_column": null,
            "grid_gap": null,
            "grid_row": null,
            "grid_template_areas": null,
            "grid_template_columns": null,
            "grid_template_rows": null,
            "height": null,
            "justify_content": null,
            "justify_items": null,
            "left": null,
            "margin": null,
            "max_height": null,
            "max_width": null,
            "min_height": null,
            "min_width": null,
            "object_fit": null,
            "object_position": null,
            "order": null,
            "overflow": null,
            "overflow_x": null,
            "overflow_y": null,
            "padding": null,
            "right": null,
            "top": null,
            "visibility": null,
            "width": null
          }
        },
        "e3a294764078425ea7fb59ed0f9ed1dd": {
          "model_module": "@jupyter-widgets/base",
          "model_module_version": "1.2.0",
          "model_name": "LayoutModel",
          "state": {
            "_model_module": "@jupyter-widgets/base",
            "_model_module_version": "1.2.0",
            "_model_name": "LayoutModel",
            "_view_count": null,
            "_view_module": "@jupyter-widgets/base",
            "_view_module_version": "1.2.0",
            "_view_name": "LayoutView",
            "align_content": null,
            "align_items": null,
            "align_self": null,
            "border": null,
            "bottom": null,
            "display": null,
            "flex": null,
            "flex_flow": null,
            "grid_area": null,
            "grid_auto_columns": null,
            "grid_auto_flow": null,
            "grid_auto_rows": null,
            "grid_column": null,
            "grid_gap": null,
            "grid_row": null,
            "grid_template_areas": null,
            "grid_template_columns": null,
            "grid_template_rows": null,
            "height": null,
            "justify_content": null,
            "justify_items": null,
            "left": null,
            "margin": null,
            "max_height": null,
            "max_width": null,
            "min_height": null,
            "min_width": null,
            "object_fit": null,
            "object_position": null,
            "order": null,
            "overflow": null,
            "overflow_x": null,
            "overflow_y": null,
            "padding": null,
            "right": null,
            "top": null,
            "visibility": null,
            "width": null
          }
        },
        "ead25e7920064335aad369fbee321212": {
          "model_module": "@jupyter-widgets/controls",
          "model_module_version": "1.5.0",
          "model_name": "HTMLModel",
          "state": {
            "_dom_classes": [],
            "_model_module": "@jupyter-widgets/controls",
            "_model_module_version": "1.5.0",
            "_model_name": "HTMLModel",
            "_view_count": null,
            "_view_module": "@jupyter-widgets/controls",
            "_view_module_version": "1.5.0",
            "_view_name": "HTMLView",
            "description": "",
            "description_tooltip": null,
            "layout": "IPY_MODEL_e26058f1b6b0445b90a2cddb3c1a6e60",
            "placeholder": "​",
            "style": "IPY_MODEL_6795989f732c4cf1ab177245839832e0",
            "value": " 5658/5658 [13:54&lt;00:00,  3.45it/s]"
          }
        },
        "eda6e9c0865147418c5b629756cef058": {
          "model_module": "@jupyter-widgets/controls",
          "model_module_version": "1.5.0",
          "model_name": "HTMLModel",
          "state": {
            "_dom_classes": [],
            "_model_module": "@jupyter-widgets/controls",
            "_model_module_version": "1.5.0",
            "_model_name": "HTMLModel",
            "_view_count": null,
            "_view_module": "@jupyter-widgets/controls",
            "_view_module_version": "1.5.0",
            "_view_name": "HTMLView",
            "description": "",
            "description_tooltip": null,
            "layout": "IPY_MODEL_e3a294764078425ea7fb59ed0f9ed1dd",
            "placeholder": "​",
            "style": "IPY_MODEL_da6b813cab444055a30c96c1eaae488b",
            "value": " 2054/12384 [00:21&lt;02:07, 81.21it/s]"
          }
        },
        "f74725152402405f873075c7392bf2ee": {
          "model_module": "@jupyter-widgets/controls",
          "model_module_version": "1.5.0",
          "model_name": "DescriptionStyleModel",
          "state": {
            "_model_module": "@jupyter-widgets/controls",
            "_model_module_version": "1.5.0",
            "_model_name": "DescriptionStyleModel",
            "_view_count": null,
            "_view_module": "@jupyter-widgets/base",
            "_view_module_version": "1.2.0",
            "_view_name": "StyleView",
            "description_width": ""
          }
        }
      }
    }
  },
  "nbformat": 4,
  "nbformat_minor": 5
}
