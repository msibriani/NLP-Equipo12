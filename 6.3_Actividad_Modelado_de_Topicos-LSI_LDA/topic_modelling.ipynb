{
 "cells": [
  {
   "cell_type": "code",
   "execution_count": null,
   "metadata": {
    "colab": {
     "base_uri": "https://localhost:8080/"
    },
    "id": "9mHKp1pGgvld",
    "outputId": "6acd7d52-b407-47a1-c3bc-0356c662cc27"
   },
   "outputs": [
    {
     "name": "stdout",
     "output_type": "stream",
     "text": [
      "Looking in indexes: https://pypi.org/simple, https://us-python.pkg.dev/colab-wheels/public/simple/\n",
      "Requirement already satisfied: pandas in /usr/local/lib/python3.10/dist-packages (1.5.3)\n",
      "Requirement already satisfied: python-dateutil>=2.8.1 in /usr/local/lib/python3.10/dist-packages (from pandas) (2.8.2)\n",
      "Requirement already satisfied: pytz>=2020.1 in /usr/local/lib/python3.10/dist-packages (from pandas) (2022.7.1)\n",
      "Requirement already satisfied: numpy>=1.21.0 in /usr/local/lib/python3.10/dist-packages (from pandas) (1.22.4)\n",
      "Requirement already satisfied: six>=1.5 in /usr/local/lib/python3.10/dist-packages (from python-dateutil>=2.8.1->pandas) (1.16.0)\n",
      "Looking in indexes: https://pypi.org/simple, https://us-python.pkg.dev/colab-wheels/public/simple/\n",
      "Requirement already satisfied: scikit-learn in /usr/local/lib/python3.10/dist-packages (1.2.2)\n",
      "Requirement already satisfied: numpy>=1.17.3 in /usr/local/lib/python3.10/dist-packages (from scikit-learn) (1.22.4)\n",
      "Requirement already satisfied: scipy>=1.3.2 in /usr/local/lib/python3.10/dist-packages (from scikit-learn) (1.10.1)\n",
      "Requirement already satisfied: joblib>=1.1.1 in /usr/local/lib/python3.10/dist-packages (from scikit-learn) (1.2.0)\n",
      "Requirement already satisfied: threadpoolctl>=2.0.0 in /usr/local/lib/python3.10/dist-packages (from scikit-learn) (3.1.0)\n",
      "Looking in indexes: https://pypi.org/simple, https://us-python.pkg.dev/colab-wheels/public/simple/\n",
      "Requirement already satisfied: matplotlib in /usr/local/lib/python3.10/dist-packages (3.7.1)\n",
      "Requirement already satisfied: contourpy>=1.0.1 in /usr/local/lib/python3.10/dist-packages (from matplotlib) (1.0.7)\n",
      "Requirement already satisfied: cycler>=0.10 in /usr/local/lib/python3.10/dist-packages (from matplotlib) (0.11.0)\n",
      "Requirement already satisfied: fonttools>=4.22.0 in /usr/local/lib/python3.10/dist-packages (from matplotlib) (4.39.3)\n",
      "Requirement already satisfied: kiwisolver>=1.0.1 in /usr/local/lib/python3.10/dist-packages (from matplotlib) (1.4.4)\n",
      "Requirement already satisfied: numpy>=1.20 in /usr/local/lib/python3.10/dist-packages (from matplotlib) (1.22.4)\n",
      "Requirement already satisfied: packaging>=20.0 in /usr/local/lib/python3.10/dist-packages (from matplotlib) (23.1)\n",
      "Requirement already satisfied: pillow>=6.2.0 in /usr/local/lib/python3.10/dist-packages (from matplotlib) (8.4.0)\n",
      "Requirement already satisfied: pyparsing>=2.3.1 in /usr/local/lib/python3.10/dist-packages (from matplotlib) (3.0.9)\n",
      "Requirement already satisfied: python-dateutil>=2.7 in /usr/local/lib/python3.10/dist-packages (from matplotlib) (2.8.2)\n",
      "Requirement already satisfied: six>=1.5 in /usr/local/lib/python3.10/dist-packages (from python-dateutil>=2.7->matplotlib) (1.16.0)\n",
      "Looking in indexes: https://pypi.org/simple, https://us-python.pkg.dev/colab-wheels/public/simple/\n",
      "Requirement already satisfied: nltk in /usr/local/lib/python3.10/dist-packages (3.8.1)\n",
      "Requirement already satisfied: click in /usr/local/lib/python3.10/dist-packages (from nltk) (8.1.3)\n",
      "Requirement already satisfied: joblib in /usr/local/lib/python3.10/dist-packages (from nltk) (1.2.0)\n",
      "Requirement already satisfied: regex>=2021.8.3 in /usr/local/lib/python3.10/dist-packages (from nltk) (2022.10.31)\n",
      "Requirement already satisfied: tqdm in /usr/local/lib/python3.10/dist-packages (from nltk) (4.65.0)\n"
     ]
    }
   ],
   "source": [
    "!pip install pandas\n",
    "!pip install scikit-learn\n",
    "!pip install matplotlib\n",
    "!pip install nltk"
   ]
  },
  {
   "cell_type": "code",
   "execution_count": null,
   "metadata": {
    "colab": {
     "base_uri": "https://localhost:8080/"
    },
    "id": "ETCyaj4q9CNo",
    "outputId": "f198a7d7-3bac-4a0c-c00a-2852eece5e3e"
   },
   "outputs": [
    {
     "name": "stdout",
     "output_type": "stream",
     "text": [
      "Looking in indexes: https://pypi.org/simple, https://us-python.pkg.dev/colab-wheels/public/simple/\n",
      "Collecting langdetect\n",
      "  Downloading langdetect-1.0.9.tar.gz (981 kB)\n",
      "\u001b[2K     \u001b[90m━━━━━━━━━━━━━━━━━━━━━━━━━━━━━━━━━━━━━━\u001b[0m \u001b[32m981.5/981.5 kB\u001b[0m \u001b[31m32.6 MB/s\u001b[0m eta \u001b[36m0:00:00\u001b[0m\n",
      "\u001b[?25h  Preparing metadata (setup.py) ... \u001b[?25l\u001b[?25hdone\n",
      "Requirement already satisfied: six in /usr/local/lib/python3.10/dist-packages (from langdetect) (1.16.0)\n",
      "Building wheels for collected packages: langdetect\n",
      "  Building wheel for langdetect (setup.py) ... \u001b[?25l\u001b[?25hdone\n",
      "  Created wheel for langdetect: filename=langdetect-1.0.9-py3-none-any.whl size=993224 sha256=8ddfb6a846e5b53e076818050dd61c6c5f88ac901e57b4ebd1600043a0da09de\n",
      "  Stored in directory: /root/.cache/pip/wheels/95/03/7d/59ea870c70ce4e5a370638b5462a7711ab78fba2f655d05106\n",
      "Successfully built langdetect\n",
      "Installing collected packages: langdetect\n",
      "Successfully installed langdetect-1.0.9\n"
     ]
    }
   ],
   "source": [
    "!pip install langdetect"
   ]
  },
  {
   "cell_type": "code",
   "execution_count": null,
   "metadata": {
    "colab": {
     "base_uri": "https://localhost:8080/"
    },
    "id": "6i_NaWARkCs8",
    "outputId": "9dca867f-e726-4f6d-bff1-331b348c1edc"
   },
   "outputs": [
    {
     "name": "stdout",
     "output_type": "stream",
     "text": [
      "Looking in indexes: https://pypi.org/simple, https://us-python.pkg.dev/colab-wheels/public/simple/\n",
      "Requirement already satisfied: spacy in /usr/local/lib/python3.10/dist-packages (3.5.2)\n",
      "Requirement already satisfied: spacy-legacy<3.1.0,>=3.0.11 in /usr/local/lib/python3.10/dist-packages (from spacy) (3.0.12)\n",
      "Requirement already satisfied: spacy-loggers<2.0.0,>=1.0.0 in /usr/local/lib/python3.10/dist-packages (from spacy) (1.0.4)\n",
      "Requirement already satisfied: murmurhash<1.1.0,>=0.28.0 in /usr/local/lib/python3.10/dist-packages (from spacy) (1.0.9)\n",
      "Requirement already satisfied: cymem<2.1.0,>=2.0.2 in /usr/local/lib/python3.10/dist-packages (from spacy) (2.0.7)\n",
      "Requirement already satisfied: preshed<3.1.0,>=3.0.2 in /usr/local/lib/python3.10/dist-packages (from spacy) (3.0.8)\n",
      "Requirement already satisfied: thinc<8.2.0,>=8.1.8 in /usr/local/lib/python3.10/dist-packages (from spacy) (8.1.9)\n",
      "Requirement already satisfied: wasabi<1.2.0,>=0.9.1 in /usr/local/lib/python3.10/dist-packages (from spacy) (1.1.1)\n",
      "Requirement already satisfied: srsly<3.0.0,>=2.4.3 in /usr/local/lib/python3.10/dist-packages (from spacy) (2.4.6)\n",
      "Requirement already satisfied: catalogue<2.1.0,>=2.0.6 in /usr/local/lib/python3.10/dist-packages (from spacy) (2.0.8)\n",
      "Requirement already satisfied: typer<0.8.0,>=0.3.0 in /usr/local/lib/python3.10/dist-packages (from spacy) (0.7.0)\n",
      "Requirement already satisfied: pathy>=0.10.0 in /usr/local/lib/python3.10/dist-packages (from spacy) (0.10.1)\n",
      "Requirement already satisfied: smart-open<7.0.0,>=5.2.1 in /usr/local/lib/python3.10/dist-packages (from spacy) (6.3.0)\n",
      "Requirement already satisfied: tqdm<5.0.0,>=4.38.0 in /usr/local/lib/python3.10/dist-packages (from spacy) (4.65.0)\n",
      "Requirement already satisfied: numpy>=1.15.0 in /usr/local/lib/python3.10/dist-packages (from spacy) (1.22.4)\n",
      "Requirement already satisfied: requests<3.0.0,>=2.13.0 in /usr/local/lib/python3.10/dist-packages (from spacy) (2.27.1)\n",
      "Requirement already satisfied: pydantic!=1.8,!=1.8.1,<1.11.0,>=1.7.4 in /usr/local/lib/python3.10/dist-packages (from spacy) (1.10.7)\n",
      "Requirement already satisfied: jinja2 in /usr/local/lib/python3.10/dist-packages (from spacy) (3.1.2)\n",
      "Requirement already satisfied: setuptools in /usr/local/lib/python3.10/dist-packages (from spacy) (67.7.2)\n",
      "Requirement already satisfied: packaging>=20.0 in /usr/local/lib/python3.10/dist-packages (from spacy) (23.1)\n",
      "Requirement already satisfied: langcodes<4.0.0,>=3.2.0 in /usr/local/lib/python3.10/dist-packages (from spacy) (3.3.0)\n",
      "Requirement already satisfied: typing-extensions>=4.2.0 in /usr/local/lib/python3.10/dist-packages (from pydantic!=1.8,!=1.8.1,<1.11.0,>=1.7.4->spacy) (4.5.0)\n",
      "Requirement already satisfied: urllib3<1.27,>=1.21.1 in /usr/local/lib/python3.10/dist-packages (from requests<3.0.0,>=2.13.0->spacy) (1.26.15)\n",
      "Requirement already satisfied: certifi>=2017.4.17 in /usr/local/lib/python3.10/dist-packages (from requests<3.0.0,>=2.13.0->spacy) (2022.12.7)\n",
      "Requirement already satisfied: charset-normalizer~=2.0.0 in /usr/local/lib/python3.10/dist-packages (from requests<3.0.0,>=2.13.0->spacy) (2.0.12)\n",
      "Requirement already satisfied: idna<4,>=2.5 in /usr/local/lib/python3.10/dist-packages (from requests<3.0.0,>=2.13.0->spacy) (3.4)\n",
      "Requirement already satisfied: blis<0.8.0,>=0.7.8 in /usr/local/lib/python3.10/dist-packages (from thinc<8.2.0,>=8.1.8->spacy) (0.7.9)\n",
      "Requirement already satisfied: confection<1.0.0,>=0.0.1 in /usr/local/lib/python3.10/dist-packages (from thinc<8.2.0,>=8.1.8->spacy) (0.0.4)\n",
      "Requirement already satisfied: click<9.0.0,>=7.1.1 in /usr/local/lib/python3.10/dist-packages (from typer<0.8.0,>=0.3.0->spacy) (8.1.3)\n",
      "Requirement already satisfied: MarkupSafe>=2.0 in /usr/local/lib/python3.10/dist-packages (from jinja2->spacy) (2.1.2)\n"
     ]
    }
   ],
   "source": [
    "!pip install spacy"
   ]
  },
  {
   "cell_type": "code",
   "execution_count": null,
   "metadata": {
    "colab": {
     "base_uri": "https://localhost:8080/"
    },
    "id": "ca9VeR-wkpPb",
    "outputId": "7f697e54-abfe-4248-f1c2-82da3ff0e4cd"
   },
   "outputs": [
    {
     "name": "stdout",
     "output_type": "stream",
     "text": [
      "2023-06-07 01:57:24.821404: W tensorflow/compiler/tf2tensorrt/utils/py_utils.cc:38] TF-TRT Warning: Could not find TensorRT\n",
      "Looking in indexes: https://pypi.org/simple, https://us-python.pkg.dev/colab-wheels/public/simple/\n",
      "Collecting es-core-news-sm==3.5.0\n",
      "  Downloading https://github.com/explosion/spacy-models/releases/download/es_core_news_sm-3.5.0/es_core_news_sm-3.5.0-py3-none-any.whl (12.9 MB)\n",
      "\u001b[2K     \u001b[90m━━━━━━━━━━━━━━━━━━━━━━━━━━━━━━━━━━━━━━━━\u001b[0m \u001b[32m12.9/12.9 MB\u001b[0m \u001b[31m50.2 MB/s\u001b[0m eta \u001b[36m0:00:00\u001b[0m\n",
      "\u001b[?25hRequirement already satisfied: spacy<3.6.0,>=3.5.0 in /usr/local/lib/python3.10/dist-packages (from es-core-news-sm==3.5.0) (3.5.2)\n",
      "Requirement already satisfied: spacy-legacy<3.1.0,>=3.0.11 in /usr/local/lib/python3.10/dist-packages (from spacy<3.6.0,>=3.5.0->es-core-news-sm==3.5.0) (3.0.12)\n",
      "Requirement already satisfied: spacy-loggers<2.0.0,>=1.0.0 in /usr/local/lib/python3.10/dist-packages (from spacy<3.6.0,>=3.5.0->es-core-news-sm==3.5.0) (1.0.4)\n",
      "Requirement already satisfied: murmurhash<1.1.0,>=0.28.0 in /usr/local/lib/python3.10/dist-packages (from spacy<3.6.0,>=3.5.0->es-core-news-sm==3.5.0) (1.0.9)\n",
      "Requirement already satisfied: cymem<2.1.0,>=2.0.2 in /usr/local/lib/python3.10/dist-packages (from spacy<3.6.0,>=3.5.0->es-core-news-sm==3.5.0) (2.0.7)\n",
      "Requirement already satisfied: preshed<3.1.0,>=3.0.2 in /usr/local/lib/python3.10/dist-packages (from spacy<3.6.0,>=3.5.0->es-core-news-sm==3.5.0) (3.0.8)\n",
      "Requirement already satisfied: thinc<8.2.0,>=8.1.8 in /usr/local/lib/python3.10/dist-packages (from spacy<3.6.0,>=3.5.0->es-core-news-sm==3.5.0) (8.1.9)\n",
      "Requirement already satisfied: wasabi<1.2.0,>=0.9.1 in /usr/local/lib/python3.10/dist-packages (from spacy<3.6.0,>=3.5.0->es-core-news-sm==3.5.0) (1.1.1)\n",
      "Requirement already satisfied: srsly<3.0.0,>=2.4.3 in /usr/local/lib/python3.10/dist-packages (from spacy<3.6.0,>=3.5.0->es-core-news-sm==3.5.0) (2.4.6)\n",
      "Requirement already satisfied: catalogue<2.1.0,>=2.0.6 in /usr/local/lib/python3.10/dist-packages (from spacy<3.6.0,>=3.5.0->es-core-news-sm==3.5.0) (2.0.8)\n",
      "Requirement already satisfied: typer<0.8.0,>=0.3.0 in /usr/local/lib/python3.10/dist-packages (from spacy<3.6.0,>=3.5.0->es-core-news-sm==3.5.0) (0.7.0)\n",
      "Requirement already satisfied: pathy>=0.10.0 in /usr/local/lib/python3.10/dist-packages (from spacy<3.6.0,>=3.5.0->es-core-news-sm==3.5.0) (0.10.1)\n",
      "Requirement already satisfied: smart-open<7.0.0,>=5.2.1 in /usr/local/lib/python3.10/dist-packages (from spacy<3.6.0,>=3.5.0->es-core-news-sm==3.5.0) (6.3.0)\n",
      "Requirement already satisfied: tqdm<5.0.0,>=4.38.0 in /usr/local/lib/python3.10/dist-packages (from spacy<3.6.0,>=3.5.0->es-core-news-sm==3.5.0) (4.65.0)\n",
      "Requirement already satisfied: numpy>=1.15.0 in /usr/local/lib/python3.10/dist-packages (from spacy<3.6.0,>=3.5.0->es-core-news-sm==3.5.0) (1.22.4)\n",
      "Requirement already satisfied: requests<3.0.0,>=2.13.0 in /usr/local/lib/python3.10/dist-packages (from spacy<3.6.0,>=3.5.0->es-core-news-sm==3.5.0) (2.27.1)\n",
      "Requirement already satisfied: pydantic!=1.8,!=1.8.1,<1.11.0,>=1.7.4 in /usr/local/lib/python3.10/dist-packages (from spacy<3.6.0,>=3.5.0->es-core-news-sm==3.5.0) (1.10.7)\n",
      "Requirement already satisfied: jinja2 in /usr/local/lib/python3.10/dist-packages (from spacy<3.6.0,>=3.5.0->es-core-news-sm==3.5.0) (3.1.2)\n",
      "Requirement already satisfied: setuptools in /usr/local/lib/python3.10/dist-packages (from spacy<3.6.0,>=3.5.0->es-core-news-sm==3.5.0) (67.7.2)\n",
      "Requirement already satisfied: packaging>=20.0 in /usr/local/lib/python3.10/dist-packages (from spacy<3.6.0,>=3.5.0->es-core-news-sm==3.5.0) (23.1)\n",
      "Requirement already satisfied: langcodes<4.0.0,>=3.2.0 in /usr/local/lib/python3.10/dist-packages (from spacy<3.6.0,>=3.5.0->es-core-news-sm==3.5.0) (3.3.0)\n",
      "Requirement already satisfied: typing-extensions>=4.2.0 in /usr/local/lib/python3.10/dist-packages (from pydantic!=1.8,!=1.8.1,<1.11.0,>=1.7.4->spacy<3.6.0,>=3.5.0->es-core-news-sm==3.5.0) (4.5.0)\n",
      "Requirement already satisfied: urllib3<1.27,>=1.21.1 in /usr/local/lib/python3.10/dist-packages (from requests<3.0.0,>=2.13.0->spacy<3.6.0,>=3.5.0->es-core-news-sm==3.5.0) (1.26.15)\n",
      "Requirement already satisfied: certifi>=2017.4.17 in /usr/local/lib/python3.10/dist-packages (from requests<3.0.0,>=2.13.0->spacy<3.6.0,>=3.5.0->es-core-news-sm==3.5.0) (2022.12.7)\n",
      "Requirement already satisfied: charset-normalizer~=2.0.0 in /usr/local/lib/python3.10/dist-packages (from requests<3.0.0,>=2.13.0->spacy<3.6.0,>=3.5.0->es-core-news-sm==3.5.0) (2.0.12)\n",
      "Requirement already satisfied: idna<4,>=2.5 in /usr/local/lib/python3.10/dist-packages (from requests<3.0.0,>=2.13.0->spacy<3.6.0,>=3.5.0->es-core-news-sm==3.5.0) (3.4)\n",
      "Requirement already satisfied: blis<0.8.0,>=0.7.8 in /usr/local/lib/python3.10/dist-packages (from thinc<8.2.0,>=8.1.8->spacy<3.6.0,>=3.5.0->es-core-news-sm==3.5.0) (0.7.9)\n",
      "Requirement already satisfied: confection<1.0.0,>=0.0.1 in /usr/local/lib/python3.10/dist-packages (from thinc<8.2.0,>=8.1.8->spacy<3.6.0,>=3.5.0->es-core-news-sm==3.5.0) (0.0.4)\n",
      "Requirement already satisfied: click<9.0.0,>=7.1.1 in /usr/local/lib/python3.10/dist-packages (from typer<0.8.0,>=0.3.0->spacy<3.6.0,>=3.5.0->es-core-news-sm==3.5.0) (8.1.3)\n",
      "Requirement already satisfied: MarkupSafe>=2.0 in /usr/local/lib/python3.10/dist-packages (from jinja2->spacy<3.6.0,>=3.5.0->es-core-news-sm==3.5.0) (2.1.2)\n",
      "Installing collected packages: es-core-news-sm\n",
      "Successfully installed es-core-news-sm-3.5.0\n",
      "\u001b[38;5;2m✔ Download and installation successful\u001b[0m\n",
      "You can now load the package via spacy.load('es_core_news_sm')\n"
     ]
    }
   ],
   "source": [
    "!python -m spacy download es_core_news_sm"
   ]
  },
  {
   "cell_type": "code",
   "execution_count": null,
   "metadata": {
    "colab": {
     "base_uri": "https://localhost:8080/"
    },
    "id": "_MNH5cADg6iw",
    "outputId": "3e43eba9-c2e0-4470-8f1b-f2133c96f2bd"
   },
   "outputs": [
    {
     "name": "stderr",
     "output_type": "stream",
     "text": [
      "[nltk_data] Downloading package stopwords to /root/nltk_data...\n",
      "[nltk_data]   Unzipping corpora/stopwords.zip.\n"
     ]
    },
    {
     "data": {
      "text/plain": [
       "True"
      ]
     },
     "execution_count": 2,
     "metadata": {},
     "output_type": "execute_result"
    }
   ],
   "source": [
    "import nltk\n",
    "nltk.download('stopwords')"
   ]
  },
  {
   "cell_type": "code",
   "execution_count": null,
   "metadata": {
    "colab": {
     "base_uri": "https://localhost:8080/"
    },
    "id": "YADUI4uVi4kS",
    "outputId": "a3ad3c12-2a54-4785-f073-98992596d7d7"
   },
   "outputs": [
    {
     "name": "stderr",
     "output_type": "stream",
     "text": [
      "[nltk_data] Downloading package punkt to /root/nltk_data...\n",
      "[nltk_data]   Unzipping tokenizers/punkt.zip.\n"
     ]
    },
    {
     "data": {
      "text/plain": [
       "True"
      ]
     },
     "execution_count": 6,
     "metadata": {},
     "output_type": "execute_result"
    }
   ],
   "source": [
    "nltk.download('punkt')"
   ]
  },
  {
   "cell_type": "code",
   "execution_count": null,
   "metadata": {
    "colab": {
     "base_uri": "https://localhost:8080/",
     "height": 560
    },
    "id": "CU1t1koYw6qh",
    "outputId": "ccc0fe29-2e75-4e00-f21e-02566b09892a"
   },
   "outputs": [
    {
     "name": "stdout",
     "output_type": "stream",
     "text": [
      "500\n",
      "1000\n",
      "1500\n",
      "2000\n",
      "2500\n",
      "3000\n",
      "3500\n",
      "4000\n",
      "4500\n",
      "5000\n",
      "5500\n"
     ]
    },
    {
     "data": {
      "text/html": [
       "\n",
       "  <div id=\"df-334ce649-57b0-4ff1-af33-f8f3b3255f8c\">\n",
       "    <div class=\"colab-df-container\">\n",
       "      <div>\n",
       "<style scoped>\n",
       "    .dataframe tbody tr th:only-of-type {\n",
       "        vertical-align: middle;\n",
       "    }\n",
       "\n",
       "    .dataframe tbody tr th {\n",
       "        vertical-align: top;\n",
       "    }\n",
       "\n",
       "    .dataframe thead th {\n",
       "        text-align: right;\n",
       "    }\n",
       "</style>\n",
       "<table border=\"1\" class=\"dataframe\">\n",
       "  <thead>\n",
       "    <tr style=\"text-align: right;\">\n",
       "      <th></th>\n",
       "      <th>abad</th>\n",
       "      <th>abadía</th>\n",
       "      <th>abajo</th>\n",
       "      <th>abanderar</th>\n",
       "      <th>abandonado</th>\n",
       "      <th>abandonar</th>\n",
       "      <th>abandono</th>\n",
       "      <th>abanico</th>\n",
       "      <th>abaratar</th>\n",
       "      <th>abarcar</th>\n",
       "      <th>...</th>\n",
       "      <th>órdago</th>\n",
       "      <th>órden</th>\n",
       "      <th>órgano</th>\n",
       "      <th>óscar</th>\n",
       "      <th>últimamente</th>\n",
       "      <th>último</th>\n",
       "      <th>única</th>\n",
       "      <th>únicamente</th>\n",
       "      <th>único</th>\n",
       "      <th>útil</th>\n",
       "    </tr>\n",
       "  </thead>\n",
       "  <tbody>\n",
       "    <tr>\n",
       "      <th>0</th>\n",
       "      <td>0.0</td>\n",
       "      <td>0.0</td>\n",
       "      <td>0.0</td>\n",
       "      <td>0.0</td>\n",
       "      <td>0.0</td>\n",
       "      <td>0.000000</td>\n",
       "      <td>0.0</td>\n",
       "      <td>0.0</td>\n",
       "      <td>0.0</td>\n",
       "      <td>0.0</td>\n",
       "      <td>...</td>\n",
       "      <td>0.0</td>\n",
       "      <td>0.0</td>\n",
       "      <td>0.0</td>\n",
       "      <td>0.0</td>\n",
       "      <td>0.0</td>\n",
       "      <td>0.017003</td>\n",
       "      <td>0.0</td>\n",
       "      <td>0.0</td>\n",
       "      <td>0.0</td>\n",
       "      <td>0.0</td>\n",
       "    </tr>\n",
       "    <tr>\n",
       "      <th>1</th>\n",
       "      <td>0.0</td>\n",
       "      <td>0.0</td>\n",
       "      <td>0.0</td>\n",
       "      <td>0.0</td>\n",
       "      <td>0.0</td>\n",
       "      <td>0.019957</td>\n",
       "      <td>0.0</td>\n",
       "      <td>0.0</td>\n",
       "      <td>0.0</td>\n",
       "      <td>0.0</td>\n",
       "      <td>...</td>\n",
       "      <td>0.0</td>\n",
       "      <td>0.0</td>\n",
       "      <td>0.0</td>\n",
       "      <td>0.0</td>\n",
       "      <td>0.0</td>\n",
       "      <td>0.026999</td>\n",
       "      <td>0.0</td>\n",
       "      <td>0.0</td>\n",
       "      <td>0.0</td>\n",
       "      <td>0.0</td>\n",
       "    </tr>\n",
       "    <tr>\n",
       "      <th>2</th>\n",
       "      <td>0.0</td>\n",
       "      <td>0.0</td>\n",
       "      <td>0.0</td>\n",
       "      <td>0.0</td>\n",
       "      <td>0.0</td>\n",
       "      <td>0.000000</td>\n",
       "      <td>0.0</td>\n",
       "      <td>0.0</td>\n",
       "      <td>0.0</td>\n",
       "      <td>0.0</td>\n",
       "      <td>...</td>\n",
       "      <td>0.0</td>\n",
       "      <td>0.0</td>\n",
       "      <td>0.0</td>\n",
       "      <td>0.0</td>\n",
       "      <td>0.0</td>\n",
       "      <td>0.013087</td>\n",
       "      <td>0.0</td>\n",
       "      <td>0.0</td>\n",
       "      <td>0.0</td>\n",
       "      <td>0.0</td>\n",
       "    </tr>\n",
       "    <tr>\n",
       "      <th>3</th>\n",
       "      <td>0.0</td>\n",
       "      <td>0.0</td>\n",
       "      <td>0.0</td>\n",
       "      <td>0.0</td>\n",
       "      <td>0.0</td>\n",
       "      <td>0.000000</td>\n",
       "      <td>0.0</td>\n",
       "      <td>0.0</td>\n",
       "      <td>0.0</td>\n",
       "      <td>0.0</td>\n",
       "      <td>...</td>\n",
       "      <td>0.0</td>\n",
       "      <td>0.0</td>\n",
       "      <td>0.0</td>\n",
       "      <td>0.0</td>\n",
       "      <td>0.0</td>\n",
       "      <td>0.000000</td>\n",
       "      <td>0.0</td>\n",
       "      <td>0.0</td>\n",
       "      <td>0.0</td>\n",
       "      <td>0.0</td>\n",
       "    </tr>\n",
       "    <tr>\n",
       "      <th>4</th>\n",
       "      <td>0.0</td>\n",
       "      <td>0.0</td>\n",
       "      <td>0.0</td>\n",
       "      <td>0.0</td>\n",
       "      <td>0.0</td>\n",
       "      <td>0.000000</td>\n",
       "      <td>0.0</td>\n",
       "      <td>0.0</td>\n",
       "      <td>0.0</td>\n",
       "      <td>0.0</td>\n",
       "      <td>...</td>\n",
       "      <td>0.0</td>\n",
       "      <td>0.0</td>\n",
       "      <td>0.0</td>\n",
       "      <td>0.0</td>\n",
       "      <td>0.0</td>\n",
       "      <td>0.000000</td>\n",
       "      <td>0.0</td>\n",
       "      <td>0.0</td>\n",
       "      <td>0.0</td>\n",
       "      <td>0.0</td>\n",
       "    </tr>\n",
       "  </tbody>\n",
       "</table>\n",
       "<p>5 rows × 12384 columns</p>\n",
       "</div>\n",
       "      <button class=\"colab-df-convert\" onclick=\"convertToInteractive('df-334ce649-57b0-4ff1-af33-f8f3b3255f8c')\"\n",
       "              title=\"Convert this dataframe to an interactive table.\"\n",
       "              style=\"display:none;\">\n",
       "        \n",
       "  <svg xmlns=\"http://www.w3.org/2000/svg\" height=\"24px\"viewBox=\"0 0 24 24\"\n",
       "       width=\"24px\">\n",
       "    <path d=\"M0 0h24v24H0V0z\" fill=\"none\"/>\n",
       "    <path d=\"M18.56 5.44l.94 2.06.94-2.06 2.06-.94-2.06-.94-.94-2.06-.94 2.06-2.06.94zm-11 1L8.5 8.5l.94-2.06 2.06-.94-2.06-.94L8.5 2.5l-.94 2.06-2.06.94zm10 10l.94 2.06.94-2.06 2.06-.94-2.06-.94-.94-2.06-.94 2.06-2.06.94z\"/><path d=\"M17.41 7.96l-1.37-1.37c-.4-.4-.92-.59-1.43-.59-.52 0-1.04.2-1.43.59L10.3 9.45l-7.72 7.72c-.78.78-.78 2.05 0 2.83L4 21.41c.39.39.9.59 1.41.59.51 0 1.02-.2 1.41-.59l7.78-7.78 2.81-2.81c.8-.78.8-2.07 0-2.86zM5.41 20L4 18.59l7.72-7.72 1.47 1.35L5.41 20z\"/>\n",
       "  </svg>\n",
       "      </button>\n",
       "      \n",
       "  <style>\n",
       "    .colab-df-container {\n",
       "      display:flex;\n",
       "      flex-wrap:wrap;\n",
       "      gap: 12px;\n",
       "    }\n",
       "\n",
       "    .colab-df-convert {\n",
       "      background-color: #E8F0FE;\n",
       "      border: none;\n",
       "      border-radius: 50%;\n",
       "      cursor: pointer;\n",
       "      display: none;\n",
       "      fill: #1967D2;\n",
       "      height: 32px;\n",
       "      padding: 0 0 0 0;\n",
       "      width: 32px;\n",
       "    }\n",
       "\n",
       "    .colab-df-convert:hover {\n",
       "      background-color: #E2EBFA;\n",
       "      box-shadow: 0px 1px 2px rgba(60, 64, 67, 0.3), 0px 1px 3px 1px rgba(60, 64, 67, 0.15);\n",
       "      fill: #174EA6;\n",
       "    }\n",
       "\n",
       "    [theme=dark] .colab-df-convert {\n",
       "      background-color: #3B4455;\n",
       "      fill: #D2E3FC;\n",
       "    }\n",
       "\n",
       "    [theme=dark] .colab-df-convert:hover {\n",
       "      background-color: #434B5C;\n",
       "      box-shadow: 0px 1px 3px 1px rgba(0, 0, 0, 0.15);\n",
       "      filter: drop-shadow(0px 1px 2px rgba(0, 0, 0, 0.3));\n",
       "      fill: #FFFFFF;\n",
       "    }\n",
       "  </style>\n",
       "\n",
       "      <script>\n",
       "        const buttonEl =\n",
       "          document.querySelector('#df-334ce649-57b0-4ff1-af33-f8f3b3255f8c button.colab-df-convert');\n",
       "        buttonEl.style.display =\n",
       "          google.colab.kernel.accessAllowed ? 'block' : 'none';\n",
       "\n",
       "        async function convertToInteractive(key) {\n",
       "          const element = document.querySelector('#df-334ce649-57b0-4ff1-af33-f8f3b3255f8c');\n",
       "          const dataTable =\n",
       "            await google.colab.kernel.invokeFunction('convertToInteractive',\n",
       "                                                     [key], {});\n",
       "          if (!dataTable) return;\n",
       "\n",
       "          const docLinkHtml = 'Like what you see? Visit the ' +\n",
       "            '<a target=\"_blank\" href=https://colab.research.google.com/notebooks/data_table.ipynb>data table notebook</a>'\n",
       "            + ' to learn more about interactive tables.';\n",
       "          element.innerHTML = '';\n",
       "          dataTable['output_type'] = 'display_data';\n",
       "          await google.colab.output.renderOutput(dataTable, element);\n",
       "          const docLink = document.createElement('div');\n",
       "          docLink.innerHTML = docLinkHtml;\n",
       "          element.appendChild(docLink);\n",
       "        }\n",
       "      </script>\n",
       "    </div>\n",
       "  </div>\n",
       "  "
      ],
      "text/plain": [
       "   abad  abadía  abajo  abanderar  abandonado  abandonar  abandono  abanico  \\\n",
       "0   0.0     0.0    0.0        0.0         0.0   0.000000       0.0      0.0   \n",
       "1   0.0     0.0    0.0        0.0         0.0   0.019957       0.0      0.0   \n",
       "2   0.0     0.0    0.0        0.0         0.0   0.000000       0.0      0.0   \n",
       "3   0.0     0.0    0.0        0.0         0.0   0.000000       0.0      0.0   \n",
       "4   0.0     0.0    0.0        0.0         0.0   0.000000       0.0      0.0   \n",
       "\n",
       "   abaratar  abarcar  ...  órdago  órden  órgano  óscar  últimamente  \\\n",
       "0       0.0      0.0  ...     0.0    0.0     0.0    0.0          0.0   \n",
       "1       0.0      0.0  ...     0.0    0.0     0.0    0.0          0.0   \n",
       "2       0.0      0.0  ...     0.0    0.0     0.0    0.0          0.0   \n",
       "3       0.0      0.0  ...     0.0    0.0     0.0    0.0          0.0   \n",
       "4       0.0      0.0  ...     0.0    0.0     0.0    0.0          0.0   \n",
       "\n",
       "     último  única  únicamente  único  útil  \n",
       "0  0.017003    0.0         0.0    0.0   0.0  \n",
       "1  0.026999    0.0         0.0    0.0   0.0  \n",
       "2  0.013087    0.0         0.0    0.0   0.0  \n",
       "3  0.000000    0.0         0.0    0.0   0.0  \n",
       "4  0.000000    0.0         0.0    0.0   0.0  \n",
       "\n",
       "[5 rows x 12384 columns]"
      ]
     },
     "metadata": {},
     "output_type": "display_data"
    },
    {
     "data": {
      "application/vnd.google.colaboratory.intrinsic+json": {
       "type": "string"
      },
      "text/plain": [
       "\"\\n# Aplicar la descomposición de valores singulares truncados\\nsvd = TruncatedSVD(n_components=10)\\nsvd.fit(tfidf_matrix)\\ncomponents = svd.components_\\n\\n# Generar el gráfico de importancia relativa\\nplt.figure(figsize=(10, 6))\\nplt.bar(range(len(components[0])), components[0])\\nplt.xlabel('Token')\\nplt.ylabel('Importancia relativa')\\nplt.title('Importancia relativa de los tokens (Componente 1)')\\nplt.show()\\n\\n# Escribir el DataFrame en un archivo con codificación utf-8-sig\\ndf.to_csv('output.csv', index=False, encoding='utf-8-sig')\\n\""
      ]
     },
     "execution_count": 53,
     "metadata": {},
     "output_type": "execute_result"
    }
   ],
   "source": [
    "import pandas as pd\n",
    "from sklearn.feature_extraction.text import TfidfVectorizer\n",
    "from sklearn.decomposition import TruncatedSVD\n",
    "import matplotlib.pyplot as plt\n",
    "import nltk\n",
    "from nltk.corpus import stopwords\n",
    "import re\n",
    "import spacy\n",
    "\n",
    "\n",
    "# Descargar y cargar el modelo de spaCy para español\n",
    "nlp = spacy.load('es_core_news_sm')\n",
    "\n",
    "# Cargar el archivo y crear el DataFrame\n",
    "with open('noticias.txt', 'r', encoding='utf-8') as file:\n",
    "    noticias = eval(file.read())  # Cargar el contenido del archivo como una lista de diccionarios\n",
    "\n",
    "df = pd.DataFrame(noticias)\n",
    "#df=df[0:1000]\n",
    "\n",
    "df['texto'] = df['texto'].apply(lambda x: re.sub(r'[^\\w\\s]', '', x))  # Eliminar signos de puntuación\n",
    "\n",
    "# Realizar el preprocesamiento de texto\n",
    "stop_words = set(stopwords.words('spanish'))\n",
    "\n",
    "index=0\n",
    "preprocessed_text = []\n",
    "for text in df['texto']:\n",
    "    index+=1\n",
    "    if(index%500==0):\n",
    "      print(index)\n",
    "    text = text.lower()\n",
    "    doc = nlp(text)\n",
    "    filtered_tokens = [token.lemma_ for token in doc if token.is_alpha and token.lemma_ not in stop_words]\n",
    "    preprocessed_text.append(' '.join(filtered_tokens))\n",
    "\n",
    "df['noticia'] = preprocessed_text\n",
    "\n",
    "#display(df)\n",
    "\n",
    "# Calcular la matriz Tf-idf\n",
    "vectorizer = TfidfVectorizer(min_df=10)\n",
    "tfidf_matrix = vectorizer.fit_transform(df['noticia'])\n",
    "\n",
    "# Obtener los nombres de las características y eliminar las columnas que no son palabras en español\n",
    "feature_names = vectorizer.get_feature_names_out()\n",
    "keep_columns = []\n",
    "\n",
    "for col in range(tfidf_matrix.shape[1]):\n",
    "    token = feature_names[col]\n",
    "    doc = nlp(token)\n",
    "    if doc.has_vector:\n",
    "        keep_columns.append(col)\n",
    "\n",
    "tfidf_matrix = tfidf_matrix[:, keep_columns]\n",
    "feature_names = [feature_names[col] for col in keep_columns]\n",
    "\n",
    "# Crear el DataFrame con los valores de Tf-idf\n",
    "df_tfidf = pd.DataFrame(tfidf_matrix.toarray(), columns=feature_names)\n",
    "display(df_tfidf.head())\n",
    "\n",
    "\"\"\"\n",
    "# Aplicar la descomposición de valores singulares truncados\n",
    "svd = TruncatedSVD(n_components=10)\n",
    "svd.fit(tfidf_matrix)\n",
    "components = svd.components_\n",
    "\n",
    "# Generar el gráfico de importancia relativa\n",
    "plt.figure(figsize=(10, 6))\n",
    "plt.bar(range(len(components[0])), components[0])\n",
    "plt.xlabel('Token')\n",
    "plt.ylabel('Importancia relativa')\n",
    "plt.title('Importancia relativa de los tokens (Componente 1)')\n",
    "plt.show()\n",
    "\n",
    "# Escribir el DataFrame en un archivo con codificación utf-8-sig\n",
    "df.to_csv('output.csv', index=False, encoding='utf-8-sig')\n",
    "\"\"\"\n"
   ]
  },
  {
   "cell_type": "code",
   "execution_count": null,
   "metadata": {
    "id": "E9Sm9HffI-7o"
   },
   "outputs": [],
   "source": [
    "#df_tfidf.to_csv(\"tfidfclean.csv\")"
   ]
  },
  {
   "cell_type": "code",
   "execution_count": null,
   "metadata": {
    "id": "CrPetve9JN0r"
   },
   "outputs": [],
   "source": [
    "#df.to_csv(\"lemmasclean.csv\")"
   ]
  },
  {
   "cell_type": "code",
   "execution_count": null,
   "metadata": {
    "id": "cofbwBX8Jnic"
   },
   "outputs": [],
   "source": [
    "# Se define el objeto que aplicará SVD truncada con r valores singulares:\n",
    "\n",
    "r = 10    # Máxima cantidad de valores singulares a considerar --> tópicos a generar:\n",
    "\n",
    "lsi_obj = TruncatedSVD(n_components = r, \n",
    "                       n_iter=100,  # número de iteraciones ... recordemos que es un método iterativo.\n",
    "                       random_state=42) \n",
    "\n",
    "tfidf_lsi = lsi_obj.fit_transform(tfidf_matrix)    # ndarray: se ajusta y aplica la SVD truncada.\n",
    "\n",
    "\n",
    "Sigma = lsi_obj.singular_values_     # ndarray_(r,)\n",
    "\n",
    "V_T = lsi_obj.components_.T         # ndarray_(n_terms X r)  \n",
    "                                    # Las r columnas son los r temas/topics generados\n",
    "                                    # Se ordenan los n_terms/words de mayor a menor para \n",
    "                                    # obtener las keywords principales de cada tópico.\n",
    "sigmas = lsi_obj.singular_values_"
   ]
  },
  {
   "cell_type": "code",
   "execution_count": null,
   "metadata": {
    "colab": {
     "base_uri": "https://localhost:8080/"
    },
    "id": "BwpKp_l7K7P2",
    "outputId": "cd33543a-6277-4f05-aed9-4d29ac992ae8"
   },
   "outputs": [
    {
     "data": {
      "text/plain": [
       "array([21.17520684,  8.26250446,  7.43695651,  6.28126533,  6.20018397,\n",
       "        6.1208386 ,  5.92187604,  5.39331773,  5.31562696,  5.22545533])"
      ]
     },
     "execution_count": 58,
     "metadata": {},
     "output_type": "execute_result"
    }
   ],
   "source": [
    "sigmas = lsi_obj.singular_values_\n",
    "\n",
    "sigmas"
   ]
  },
  {
   "cell_type": "code",
   "execution_count": null,
   "metadata": {
    "id": "geaG9IGhLUJq"
   },
   "outputs": [],
   "source": [
    "import seaborn as sns"
   ]
  },
  {
   "cell_type": "code",
   "execution_count": null,
   "metadata": {
    "colab": {
     "base_uri": "https://localhost:8080/",
     "height": 449
    },
    "id": "ybCfKvSZK74M",
    "outputId": "cb1af2a6-fcb7-48d5-c253-c137dd957da4"
   },
   "outputs": [
    {
     "data": {
      "image/png": "[encoded data removed]",
      "text/plain": [
       "<Figure size 640x480 with 1 Axes>"
      ]
     },
     "metadata": {},
     "output_type": "display_data"
    }
   ],
   "source": [
    "#sns.set(rc={'figure.figsize':(3,3)}) \n",
    "chart = sns.barplot(x=list(range(len(Sigma))), y = Sigma )\n",
    "chart.set_xlabel('Componente_Latente', fontdict={'size': 10})\n",
    "chart.set_ylabel('Importancia Relativa de cada componente', fontdict={'size': 9})\n",
    "plt.show()"
   ]
  },
  {
   "cell_type": "code",
   "execution_count": null,
   "metadata": {
    "colab": {
     "base_uri": "https://localhost:8080/"
    },
    "id": "giEwc0LGLguM",
    "outputId": "195f0a52-55c4-4ced-a70c-658e1b0d9048"
   },
   "outputs": [
    {
     "name": "stdout",
     "output_type": "stream",
     "text": [
      "(12384, 10)\n"
     ]
    }
   ],
   "source": [
    "lsi_term_topic = V_T \n",
    "\n",
    "print(lsi_term_topic.shape)"
   ]
  },
  {
   "cell_type": "code",
   "execution_count": null,
   "metadata": {
    "colab": {
     "base_uri": "https://localhost:8080/"
    },
    "id": "8TnGy8I0LoZo",
    "outputId": "9c3ac914-dd02-44dd-fde3-fa23820b06b5"
   },
   "outputs": [
    {
     "name": "stdout",
     "output_type": "stream",
     "text": [
      "['abad', 'abadía', 'abajo', 'abanderar', 'abandonado', 'abandonar', 'abandono', 'abanico', 'abaratar', 'abarcar', 'abarrotado', 'abascal', 'abastecer', 'abastecimiento', 'abasto', 'abatido', 'abatir', 'abc', 'abdicación', 'abdicar', 'abel', 'aber', 'aberración', 'abertzale', 'abiertamente', 'abierto', 'abismo', 'abocado', 'abocar', 'abogacía', 'abogada', 'abogado', 'abogar', 'abolicionista', 'abolición', 'abolir', 'abonado', 'abonar', 'abono', 'abordaje', 'abordar', 'abordir', 'abordo', 'abortar', 'aborto', 'about', 'abran', 'abrazar', 'abrazo', 'abrigo', 'abril', 'abrir', 'abrumador', 'abrupto', 'absolución', 'absolutamente', 'absoluto', 'absolver', 'absorber', 'absorción', 'abstención', 'abstener', 'abstracto', 'absuelto', 'absurdo', 'abu', 'abuela', 'abuelo', 'abultado', 'abundancia', 'abundante', 'abundar', 'aburrido', 'aburrir', 'abusar', 'abusivo', 'abuso', 'acabado', 'acabar', 'academia', 'académico', 'acaecido', 'acallar', 'acampada', 'acaparar', 'acarrear', 'acaso', 'acatar', 'accede', 'acceder', 'accesibilidad', 'accesibl', 'accesible', 'acceso', 'accesorio', 'accidental', 'accidente', 'accionar', 'accionariado', 'accionista', 'acción', 'acebes', 'acechar', 'aceite', 'aceleración', 'acelerado', 'acelerador', 'acelerar', 'acento', 'acentuar', 'aceptable', 'aceptación', 'aceptado', 'aceptar', 'acera', 'acerca', 'acercamiento', 'acercar', 'acero', 'acertado', 'acertar', 'achacar', 'acierto', 'aclar', 'aclaración', 'aclarar', 'acnur', 'acoger', 'acogida', 'acogido', 'acometer', 'acometido', 'acomodado', 'acomodar', 'acompañado', 'acompañamiento', 'acompañante', 'acompañar', 'acompañarte', 'acondicionado', 'acondicionamiento', 'acondicionar', 'aconsejable', 'aconsejar', 'acontecer', 'acontecimiento', 'acopio', 'acordado', 'acordar', 'acorde', 'acortar', 'acosado', 'acosar', 'acoso', 'acostar', 'acostumbrado', 'acostumbrar', 'acotado', 'acotar', 'acrecentar', 'acreditación', 'acreditado', 'acreditar', 'acreditir', 'acreedor', 'acrítico', 'acrónimo', 'acta', 'actitud', 'activación', 'activado', 'activamente', 'activar', 'actividad', 'activismo', 'activista', 'activo', 'acto', 'actor', 'actriz', 'actuación', 'actual', 'actualidad', 'actualización', 'actualizada', 'actualizado', 'actualizar', 'actualmente', 'actuar', 'actúar', 'acuciante', 'acudar', 'acudir', 'acuerdo', 'acumulación', 'acumulado', 'acumular', 'acusación', 'acusado', 'acusador', 'acusar', 'acuático', 'acá', 'ad', 'ada', 'adalid', 'adam', 'adaptación', 'adaptado', 'adaptar', 'ade', 'adecuación', 'adecuadamente', 'adecuado', 'adecuar', 'adelantado', 'adelantar', 'adelante', 'adelanto', 'además', 'adentrar', 'adentro', 'adepto', 'adherir', 'adhesión', 'adicción', 'adicional', 'adictivo', 'adicto', 'adinerado', 'adivinar', 'adiós', 'adjetivo', 'adjudicación', 'adjudicado', 'adjudicar', 'adjudicataria', 'adjudicatario', 'adjuntar', 'adjunto', 'administración', 'administrado', 'administrador', 'administradora', 'administrar', 'administrativo', 'admiración', 'admirar', 'admisible', 'admisión', 'admitido', 'admitir', 'adn', 'ado', 'adoctrinamiento', 'adolecir', 'adolescencia', 'adolescente', 'adolfo', 'adonde', 'adopción', 'adoptado', 'adoptar', 'adorar', 'adornado', 'adquirido', 'adquirir', 'adquisición', 'adquisitivo', 'adriana', 'adrián', 'adscripción', 'adscrito', 'aduana', 'aducir', 'adulto', 'adversario', 'adversidad', 'adverso', 'advertencia', 'advertido', 'advertir', 'adán', 'aemet', 'aerolínea', 'aeronave', 'aeronáutico', 'aeropuerto', 'aerosol', 'afear', 'afección', 'afectación', 'afectado', 'afectar', 'afectivo', 'afecto', 'aferrar', 'aferrir', 'afganistán', 'afgano', 'afianzar', 'aficionado', 'afición', 'afilado', 'afiliación', 'afiliado', 'afiliar', 'afinar', 'afincado', 'afinidad', 'afirmación', 'afirmar', 'afirmativo', 'afloja', 'aflorar', 'afluencia', 'aforado', 'aforamiento', 'aforo', 'afortunadamente', 'afortunado', 'africano', 'afroamericano', 'afrontar', 'afuera', 'afuero', 'afán', 'afín', 'agarrar', 'age', 'agencia', 'agenda', 'agent', 'agente', 'agilidad', 'agilizar', 'agitación', 'agitado', 'agitar', 'aglomeración', 'aglutinar', 'ago', 'agobiado', 'agolpar', 'agonía', 'agosto', 'agotado', 'agotamiento', 'agotar', 'agradable', 'agradecer', 'agradecido', 'agradecimiento', 'agrado', 'agrandar', 'agrario', 'agravado', 'agravar', 'agravio', 'agredido', 'agredir', 'agregado', 'agregar', 'agresividad', 'agresivo', 'agresión', 'agresor', 'agricultor', 'agricultura', 'agridulce', 'agroalimentario', 'agrupación', 'agrupado', 'agrupar', 'agrícola', 'agua', 'aguado', 'aguantar', 'aguardar', 'agudizar', 'agudo', 'aguilar', 'aguirre', 'aguirregabirio', 'aguja', 'agujero', 'agustín', 'ah', 'ahogado', 'ahogar', 'ahondar', 'ahondir', 'ahora', 'ahorrar', 'ahorro', 'ahí', 'ainhoa', 'aintzane', 'air', 'aire', 'airear', 'airef', 'aires', 'aislado', 'aislamiento', 'aislar', 'aitor', 'aizpurua', 'ajena', 'ajeno', 'ajo', 'ajuria', 'ajustado', 'ajustar', 'ajuste', 'ala', 'alabanza', 'alabar', 'alarcón', 'alarde', 'alargar', 'alarguir', 'alarma', 'alarmado', 'alarmante', 'alarmar', 'alarmismo', 'alarmismos', 'alavés', 'alba', 'albacete', 'albar', 'alberdi', 'albergar', 'albergue', 'albert', 'alberto', 'alboer', 'alcalde', 'alcaldesa', 'alcaldía', 'alcalá', 'alcance', 'alcanzado', 'alcanzar', 'alcoa', 'alcobenda', 'alcocer', 'alcohol', 'alcohólico', 'alcorcón', 'alcázar', 'aldea', 'aleatorio', 'aledaño', 'alegación', 'alegar', 'alegato', 'alegoría', 'alegrar', 'alegre', 'alegría', 'alejado', 'alejamiento', 'alejandro', 'alejar', 'alemana', 'alemania', 'alemán', 'alentador', 'alentar', 'alerta', 'alertar', 'alex', 'alexander', 'alfombra', 'alfonso', 'alfred', 'alfredo', 'algecira', 'algodón', 'algoritmo', 'alguien', 'alguno', 'aliado', 'alianza', 'aliar', 'alias', 'alicante', 'alicia', 'aliciar', 'aliento', 'aligerar', 'alimenta', 'alimentación', 'alimentado', 'alimentar', 'alimentario', 'alimento', 'alineado', 'alinear', 'alistar', 'aliviar', 'alivio', 'all', 'allanamiento', 'allanar', 'allegado', 'allir', 'allá', 'allí', 'alma', 'almacenado', 'almacenaje', 'almacenamiento', 'almacenar', 'almacén', 'almeer', 'almeido', 'almería', 'almirante', 'almodóvar', 'almorzar', 'almudén', 'almuerzo', 'alocución', 'alojado', 'alojamiento', 'alojar', 'alonso', 'alpha', 'alquilado', 'alquilar', 'alquiler', 'alrededor', 'alsasua', 'alt', 'alta', 'altamente', 'altamira', 'altar', 'altavoz', 'alteración', 'alterado', 'alterar', 'altercado', 'alternar', 'alternativa', 'alternativo', 'alterne', 'altibajo', 'altitud', 'alto', 'altruista', 'altura', 'altísimo', 'alucinante', 'aludar', 'aludido', 'aludir', 'alumbrar', 'alumna', 'alumnado', 'alumno', 'alusión', 'aluvión', 'alza', 'alzamiento', 'alzar', 'am', 'ama', 'amabilidad', 'amable', 'amado', 'amagar', 'amago', 'amanecer', 'amante', 'amar', 'amargo', 'amarillo', 'amasar', 'amaya', 'amazon', 'amazona', 'amazonía', 'amazónico', 'amaño', 'amb', 'ambicioso', 'ambición', 'ambientación', 'ambientado', 'ambiental', 'ambientar', 'ambiente', 'ambiguo', 'ambigüedad', 'ambos', 'ambulancia', 'ambulante', 'ambulatorio', 'amedrentar', 'amenaza', 'amenazado', 'amenazante', 'amenazar', 'americana', 'americano', 'americar', 'americo', 'ametrallador', 'ametralladora', 'amianto', 'amiga', 'amigo', 'amistad', 'amistoso', 'amnistir', 'amnistía', 'amo', 'amor', 'amoroso', 'amortiguar', 'amortización', 'ampa', 'amparada', 'amparado', 'amparar', 'amparo', 'ampliación', 'ampliado', 'ampliamente', 'ampliar', 'amplificar', 'amplio', 'amplir', 'amplitud', 'amplíar', 'amplísimo', 'américa', 'an', 'ana', 'anagrama', 'anagramar', 'analista', 'analizado', 'analizar', 'analizarer', 'analítico', 'anarquista', 'anc', 'ancestral', 'ancho', 'anciana', 'anciano', 'anclado', 'and', 'andadura', 'andaluceír', 'andalucir', 'andalucía', 'andalucíar', 'andaluz', 'andaluza', 'andanza', 'andar', 'ander', 'andino', 'andoni', 'andorra', 'andrea', 'andreo', 'andreu', 'andrew', 'android', 'andré', 'andrés', 'anecdótico', 'anestesia', 'anestesista', 'anexo', 'anfibio', 'anfitrión', 'angel', 'angela', 'angelar', 'angiología', 'anglosajón', 'angular', 'angustia', 'anhelar', 'anhelo', 'anillo', 'animación', 'animado', 'animadversión', 'animal', 'animan', 'animar', 'aniversario', 'anna', 'anoche', 'anomalía', 'anonimato', 'anormal', 'anotación', 'anotado', 'anotar', 'anova', 'anpe', 'ansia', 'ansiado', 'ansiedad', 'antagonista', 'antagónico', 'antaño', 'antecedente', 'antecesor', 'antelación', 'antemano', 'antena', 'anteponer', 'anteproyecto', 'anterior', 'anterioridad', 'anteriormente', 'antesala', 'anthony', 'anti', 'antibiótico', 'anticapitalista', 'anticipación', 'anticipado', 'anticipar', 'anticipo', 'anticorrupción', 'anticrisi', 'anticuerpo', 'antidemocrático', 'antidisturbios', 'antifascista', 'antifrau', 'antifraude', 'antiguo', 'antigüedad', 'antirracista', 'antiterrorista', 'antivacuna', 'antojar', 'antología', 'antoni', 'antonio', 'antropología', 'antropólogo', 'antígeno', 'antón', 'antónio', 'anual', 'anualmente', 'anulación', 'anulado', 'anular', 'anunciado', 'anunciar', 'anuncio', 'análisis', 'análogo', 'anécdota', 'anómalo', 'anónimo', 'ap', 'apacible', 'apagado', 'apagar', 'apagón', 'aparato', 'aparcado', 'aparcamiento', 'aparcar', 'aparecer', 'aparecido', 'aparejado', 'aparentar', 'aparente', 'aparentemente', 'aparezcar', 'aparicio', 'aparición', 'apariencia', 'apartado', 'apartahotel', 'apartamento', 'apartar', 'aparte', 'apasionado', 'apasionante', 'apasionar', 'apego', 'apelación', 'apelar', 'apelativo', 'apellido', 'apenas', 'aperitivo', 'apertura', 'apetecer', 'aplacar', 'aplanar', 'aplastar', 'aplaudar', 'aplaudido', 'aplaudir', 'aplauso', 'aplazado', 'aplazamiento', 'aplazar', 'aplicable', 'aplicación', 'aplicado', 'aplicar', 'apocalíptico', 'apoderado', 'apoderar', 'apodo', 'apología', 'aportación', 'aportado', 'aportar', 'aporte', 'apostar', 'apostilla', 'apostillar', 'apoya', 'apoyado', 'apoyar', 'apoyo', 'app', 'apple', 'apps', 'apreciable', 'apreciación', 'apreciar', 'aprendar', 'aprender', 'aprendido', 'aprendiz', 'aprendizaje', 'apresurado', 'apresurar', 'apretar', 'aprieto', 'aprobación', 'aprobada', 'aprobado', 'aprobar', 'apropiación', 'apropiado', 'apropiar', 'aprovechamiento', 'aprovechar', 'aproximación', 'aproximadamente', 'aproximado', 'aproximar', 'apruebir', 'apruer', 'aptitud', 'apto', 'apuesta', 'apuntado', 'apuntalar', 'apuntar', 'apuntarte', 'apunte', 'apurar', 'apuro', 'apuñalamiento', 'apuñalar', 'apócrifo', 'apóyano', 'apóyanos', 'apúntatir', 'aquel', 'aquella', 'aquél', 'aquí', 'aquíaquí', 'ar', 'ara', 'araba', 'arabia', 'araceli', 'aragonès', 'aragonés', 'aragón', 'arana', 'arancel', 'arancha', 'aranda', 'arantxa', 'arar', 'aras', 'aravaca', 'arañar', 'arbitraje', 'arbitrariedad', 'arbitrario', 'arca', 'archipiélago', 'archivado', 'archivar', 'archivo', 'arcir', 'arco', 'arder', 'ardoz', 'ardua', 'arduo', 'are', 'arena', 'arenas', 'argelia', 'argentina', 'argentino', 'arguineguín', 'arguir', 'argumentación', 'argumental', 'argumentar', 'argumentario', 'argumento', 'arias', 'ariete', 'aristócrata', 'arizona', 'arkaute', 'arm', 'arma', 'armada', 'armado', 'armamento', 'armar', 'armario', 'armonía', 'arms', 'arn', 'arnaldo', 'arqueología', 'arqueológico', 'arquetipo', 'arqueólogo', 'arquitecto', 'arquitectura', 'arquitectónico', 'arraigado', 'arraigo', 'arrancar', 'arranco', 'arranque', 'arrasar', 'arrastrado', 'arrastran', 'arrastrar', 'arrebatar', 'arreciar', 'arreglar', 'arreglo', 'arremeter', 'arremetir', 'arrendamiento', 'arrendatario', 'arrepentir', 'arrese', 'arrestado', 'arrestar', 'arresto', 'arriba', 'arriesgado', 'arriesgar', 'arrimada', 'arrimar', 'arriola', 'arrogancia', 'arroir', 'arrojadizo', 'arrojado', 'arrojar', 'arrollador', 'arropar', 'arroyo', 'arroz', 'arruinar', 'arruti', 'arsenal', 'art', 'arte', 'artefacto', 'arteixo', 'arterial', 'artesanal', 'artesano', 'arthur', 'articulación', 'articulado', 'articular', 'articulista', 'artificial', 'artificialmente', 'artificiero', 'artificio', 'artillero', 'artillería', 'artista', 'arts', 'artur', 'arturo', 'artículo', 'artífice', 'artístico', 'arzobispado', 'arzobispo', 'arán', 'as', 'asalariado', 'asaltar', 'asalto', 'asamblea', 'ascendente', 'ascender', 'ascenso', 'ascensor', 'asco', 'asedio', 'asegura', 'asegurado', 'aseguradora', 'asegurar', 'asemejar', 'asens', 'asentado', 'asentamiento', 'asentar', 'aseo', 'asequible', 'asesinado', 'asesinar', 'asesinato', 'asesino', 'asesor', 'asesora', 'asesoramiento', 'asesorar', 'asesoría', 'asevera', 'aseveración', 'aseverar', 'asfalto', 'asfixiar', 'asia', 'asiento', 'asier', 'asignación', 'asignado', 'asignar', 'asignatura', 'asilo', 'asimilar', 'asimismo', 'asimétrico', 'asintomática', 'asintomático', 'asistencia', 'asistencial', 'asistente', 'asistido', 'asistir', 'asiático', 'asko', 'asociación', 'asociado', 'asociar', 'asociativo', 'asolar', 'asomar', 'asombro', 'aspecto', 'aspiración', 'aspirante', 'aspirar', 'associated', 'astillero', 'astrazeneca', 'asturia', 'asturiano', 'asturias', 'asumible', 'asumido', 'asumir', 'asumo', 'asunción', 'asunto', 'asuntos', 'asustado', 'asustar', 'así', 'at', 'ata', 'atacado', 'atacante', 'atacar', 'atado', 'atajar', 'atajo', 'ataque', 'atar', 'atardecer', 'atascado', 'atasco', 'ataviado', 'atañer', 'ataúd', 'atena', 'atención', 'atendemos', 'atender', 'atendido', 'atener', 'atentado', 'atentar', 'atento', 'atenuante', 'aterrador', 'aterrizaje', 'aterrizar', 'atesorar', 'atestado', 'atisbo', 'atizar', 'atlántico', 'atlético', 'atmosférico', 'atmósfera', 'atocha', 'atracción', 'atractivo', 'atraer', 'atrapado', 'atrapar', 'atrasado', 'atravesado', 'atravesar', 'atraído', 'atreveer', 'atrever', 'atreveír', 'atrevimiento', 'atrevir', 'atribución', 'atribuible', 'atribuido', 'atribuir', 'atributo', 'atrocidad', 'atropello', 'atroz', 'atrás', 'atwood', 'atípico', 'atómico', 'audaz', 'audiencia', 'audio', 'audiovisual', 'auditor', 'auditorio', 'auditoría', 'auge', 'augurar', 'august', 'augusto', 'aula', 'aumentar', 'aumento', 'aun', 'aunar', 'aunque', 'aupar', 'auricular', 'aurora', 'ausencia', 'ausentar', 'ausente', 'auspiciado', 'austeridad', 'austero', 'australia', 'australiano', 'austria', 'austriaco', 'autenticidad', 'autismo', 'auto', 'autobiografía', 'autobiográfico', 'autobús', 'autoconsumo', 'autocrítica', 'autocrítico', 'autodenominado', 'autodeterminación', 'autoestima', 'autogobierno', 'automoción', 'automovilístico', 'automáticamente', 'automático', 'automóvil', 'autonomía', 'autonómico', 'autopista', 'autopsia', 'autor', 'autora', 'autoridad', 'autoritario', 'autoritarismo', 'autorización', 'autorizado', 'autorizar', 'autoro', 'autoría', 'autovía', 'auténtico', 'autóctono', 'autónoma', 'autónomo', 'autónomos', 'auxiliar', 'auxilio', 'aval', 'avalado', 'avalancha', 'avalar', 'avance', 'avanzado', 'avanzar', 'avatar', 'ave', 'avecinar', 'avenida', 'aventura', 'aventurar', 'averiguación', 'averiguar', 'avería', 'aviación', 'aviador', 'avisar', 'aviso', 'aviv', 'avivar', 'avión', 'ayala', 'ayer', 'ayuda', 'ayudante', 'ayudar', 'ayudarte', 'ayuntamiento', 'ayuso', 'ayúdano', 'azar', 'aznar', 'aznarismo', 'aznarista', 'azotado', 'azotar', 'azote', 'azpiazu', 'aztiria', 'azul', 'azules', 'azuzar', 'azúcar', 'aéreo', 'aíslar', 'añadido', 'añadir', 'año', 'años', 'aún', 'baby', 'bache', 'bachillerato', 'bacteria', 'bad', 'badajoz', 'badalona', 'bagaje', 'bagdad', 'bahama', 'bahía', 'bai', 'bailar', 'baile', 'baja', 'bajada', 'bajar', 'bajo', 'bakartxo', 'bal', 'bala', 'balance', 'balanza', 'balboa', 'balcón', 'baldoví', 'balear', 'ballena', 'balneario', 'baloncesto', 'baltasar', 'balón', 'banal', 'banca', 'bancada', 'bancario', 'banco', 'banda', 'bandeja', 'bandera', 'bando', 'bank', 'bankia', 'bankinter', 'banksy', 'banquero', 'banquillo', 'bar', 'barack', 'baraja', 'barajar', 'barajas', 'barakaldo', 'barato', 'barba', 'barbaridad', 'barbarie', 'barbijaputa', 'barca', 'barcelona', 'barcelonés', 'barceló', 'barco', 'baremo', 'barkos', 'barra', 'barracón', 'barrado', 'barranco', 'barreiro', 'barrer', 'barrera', 'barricada', 'barril', 'barrio', 'barro', 'barroco', 'bartolomé', 'barómetro', 'barón', 'basado', 'basar', 'basauri', 'base', 'basqu', 'basque', 'basques', 'bastante', 'bastar', 'bastión', 'bastón', 'basura', 'basurto', 'basílica', 'bata', 'batacazo', 'batalla', 'batallar', 'batallón', 'batería', 'batet', 'batir', 'batzar', 'bautizado', 'bautizar', 'bautizo', 'bay', 'baza', 'bañar', 'bañista', 'baño', 'bbc', 'bbva', 'bce', 'be', 'beatriz', 'beber', 'bebida', 'bebido', 'bebé', 'beca', 'becerra', 'begoña', 'beiras', 'belga', 'beligerante', 'belleza', 'bello', 'belter', 'belza', 'belén', 'ben', 'bendición', 'bendodo', 'beneficiado', 'beneficiar', 'beneficiario', 'beneficio', 'beneficioso', 'beneplácito', 'benidorm', 'benito', 'benjamin', 'benjamín', 'benéfico', 'beramendi', 'berlín', 'bermejo', 'bermúdez', 'bernard', 'bernardo', 'bernie', 'bertossa', 'besar', 'beso', 'bestia', 'beurko', 'biblia', 'bibliografía', 'biblioteca', 'bicho', 'bici', 'bicicleta', 'bicioso', 'bicis', 'bidir', 'bielorrusia', 'bielorruso', 'bien', 'bienestar', 'bienvenida', 'bienvenido', 'bienvenir', 'big', 'bigote', 'bilateral', 'bilbao', 'bilbaíno', 'bildarratz', 'bildu', 'bilingüe', 'bill', 'billete', 'billy', 'billón', 'bin', 'binario', 'bingo', 'biodiversidad', 'biografía', 'biográfico', 'biología', 'biológico', 'biopic', 'biotecnología', 'bipartidismo', 'bipartito', 'bisexual', 'bizio', 'bizkaia', 'bizkaiir', 'bién', 'biógrafo', 'bla', 'black', 'blackstone', 'bladir', 'blanca', 'blanco', 'blando', 'blanquear', 'blanqueo', 'blasco', 'blesa', 'blindado', 'blindaje', 'blindar', 'blockbuster', 'blog', 'blogs', 'bloque', 'bloqueado', 'bloquear', 'bloqueo', 'bloqueó', 'blues', 'bng', 'boadilla', 'bob', 'boca', 'bocadillo', 'boda', 'bodega', 'boe', 'boeing', 'bogotá', 'boicot', 'boicotear', 'bola', 'boletín', 'bolivia', 'boliviano', 'bolsa', 'bolsillo', 'bolso', 'bolsonaro', 'bolígrafo', 'bomba', 'bombardear', 'bombardeo', 'bombardero', 'bombero', 'bombo', 'bondad', 'bonifacio', 'bonificación', 'bonificar', 'bonilla', 'bonito', 'bono', 'books', 'boom', 'borbón', 'borde', 'bordear', 'bordo', 'boris', 'borja', 'borracho', 'borrado', 'borrador', 'borrar', 'borrell', 'borroso', 'borràs', 'bosch', 'bosque', 'bosques', 'boston', 'bot', 'bota', 'bote', 'botella', 'botellar', 'botello', 'botellón', 'botsuana', 'botín', 'botón', 'brasil', 'brasileño', 'bravo', 'brazo', 'brecha', 'bretaña', 'breve', 'brevedad', 'brevemente', 'brexit', 'brigada', 'brigado', 'brillante', 'brillar', 'brillo', 'brindar', 'británico', 'bro', 'broma', 'bromear', 'bronca', 'bronce', 'bronco', 'brooklyn', 'brotar', 'brote', 'brothers', 'brown', 'brucir', 'bruja', 'bruno', 'brusco', 'brusela', 'bruselas', 'bruta', 'brutal', 'brutalidad', 'bruto', 'bucear', 'buen', 'buena', 'bueno', 'buenos', 'bufete', 'buitre', 'bulo', 'bulto', 'buque', 'burbuja', 'burdeo', 'burdo', 'burgo', 'burguesía', 'burgués', 'burla', 'burlar', 'burocracia', 'burocrático', 'bursátil', 'buru', 'bus', 'busca', 'buscado', 'buscador', 'buscar', 'bush', 'business', 'busto', 'but', 'butaca', 'buzón', 'buñuel', 'by', 'bárbara', 'bárbaro', 'bárcena', 'bárcenas', 'básicamente', 'básico', 'bélgica', 'bélico', 'bíblico', 'búnker', 'búsqueda', 'caballero', 'caballo', 'cabaña', 'cabecera', 'cabecilla', 'cabello', 'caber', 'cabero', 'cabeza', 'cabida', 'cabildo', 'cabina', 'cable', 'cabo', 'cabra', 'cabrera', 'cacerola', 'cacerolada', 'cacería', 'cada', 'cadena', 'caducado', 'caducar', 'caducidad', 'cadáver', 'caer', 'cafetería', 'café', 'caixa', 'caixabank', 'caja', 'cajar', 'cajero', 'cajón', 'cal', 'cala', 'calabozo', 'calado', 'calar', 'calcado', 'calcar', 'calculado', 'calcular', 'caldera', 'caldo', 'calendario', 'calentamiento', 'calentar', 'calibre', 'calidad', 'caliente', 'calificación', 'calificado', 'calificar', 'calificativo', 'california', 'californiano', 'californio', 'call', 'callado', 'callar', 'calle', 'calleja', 'callejero', 'callejón', 'calma', 'calmar', 'calonge', 'calor', 'calumnia', 'caluroso', 'calviño', 'calvo', 'calzada', 'calzado', 'cama', 'camacho', 'camarera', 'camarero', 'camargo', 'cambiado', 'cambiante', 'cambiar', 'cambio', 'cambridge', 'cameron', 'caminar', 'camino', 'camisa', 'camiseta', 'camión', 'camp', 'campamento', 'campaña', 'campeonato', 'campesino', 'campeón', 'campo', 'camps', 'campus', 'camuflado', 'camuflar', 'can', 'canadiense', 'canadá', 'canal', 'canalización', 'canalizar', 'canaria', 'canarias', 'canario', 'cancelación', 'cancelado', 'cancelar', 'canciller', 'cancillería', 'canción', 'candel', 'candidata', 'candidato', 'candidatura', 'cann', 'canon', 'cansado', 'cansancio', 'cansar', 'cantabria', 'cantabrio', 'cantante', 'cantar', 'cantera', 'cantidad', 'canto', 'cantábrico', 'cantón', 'canónico', 'cao', 'caos', 'cap', 'capa', 'capacidad', 'capacitación', 'capacitado', 'capaz', 'capilla', 'capital', 'capitalino', 'capitalismo', 'capitalista', 'capitalización', 'capitalizar', 'capitán', 'capricho', 'caprichoso', 'captación', 'captado', 'captar', 'captura', 'capturado', 'capturar', 'capítulo', 'car', 'cara', 'carabanchel', 'caracter', 'caracterización', 'caracterizado', 'caracterizar', 'característica', 'característico', 'caramelo', 'caravana', 'carbono', 'carbón', 'carcajada', 'cardenal', 'cardiaco', 'cardiología', 'cardiovascular', 'carecer', 'carencia', 'carente', 'carga', 'cargado', 'cargamento', 'cargar', 'cargo', 'carguir', 'caribe', 'caribeño', 'caricatura', 'caridad', 'carisma', 'cariz', 'cariño', 'carl', 'carles', 'carlos', 'carmar', 'carme', 'carmelo', 'carmen', 'carmena', 'carmona', 'carmén', 'carnaval', 'carne', 'carnet', 'carné', 'caro', 'carol', 'carolina', 'carolín', 'carpa', 'carpenter', 'carpeta', 'carpetazo', 'carrera', 'carretera', 'carril', 'carrito', 'carro', 'carta', 'cartagena', 'cartel', 'cartelera', 'cartelería', 'cartera', 'cartón', 'carácter', 'casa', 'casación', 'casado', 'casar', 'cascada', 'casco', 'cascos', 'casera', 'casero', 'caserío', 'caseta', 'casi', 'casilla', 'casino', 'caso', 'castaño', 'castellana', 'castellano', 'castellanomanchego', 'castells', 'castellón', 'castigado', 'castigar', 'castigo', 'castilla', 'castillala', 'castillalar', 'castillo', 'castro', 'casual', 'casualidad', 'casualmente', 'casuística', 'catalana', 'catalina', 'catalizador', 'catalogado', 'catalogar', 'catalunya', 'cataluña', 'catalá', 'catalán', 'catarro', 'catastrófico', 'catedral', 'catedrática', 'catedrático', 'categoría', 'catering', 'catorce', 'catálogo', 'catástrofe', 'católico', 'cauce', 'caudal', 'caudillo', 'causa', 'causado', 'causante', 'causar', 'cautela', 'cautelar', 'cautelarmente', 'cauteloso', 'cauto', 'cavar', 'cayetana', 'cayetán', 'cayuco', 'caza', 'cazador', 'cazamos', 'cazar', 'caída', 'caído', 'caña', 'cañón', 'caótico', 'cc', 'ccaa', 'ccaes', 'ccaser', 'ccoo', 'cd', 'cdc', 'cdr', 'ce', 'cear', 'cebar', 'cecilia', 'ceder', 'cedido', 'cegar', 'ceip', 'celaar', 'celaá', 'celda', 'celebración', 'celebrado', 'celebrar', 'celebridad', 'celebrir', 'celeridad', 'celestetel', 'celia', 'celo', 'celular', 'cementerio', 'cemento', 'cena', 'cenar', 'ceniza', 'censal', 'censo', 'censura', 'censurado', 'censurar', 'centavo', 'centenar', 'centenares', 'centenario', 'center', 'centrado', 'central', 'centralidad', 'centralizado', 'centralizar', 'centrar', 'centrista', 'centro', 'centroamericano', 'centroamérico', 'centímetro', 'ceo', 'ceoe', 'cepa', 'cerca', 'cercano', 'cercanía', 'cercar', 'cerco', 'cerdo', 'cerebro', 'ceremonia', 'cerner', 'cero', 'cerrada', 'cerrado', 'cerrar', 'cerro', 'certamen', 'certero', 'certeza', 'certidumbre', 'certificación', 'certificado', 'certificar', 'cervantes', 'cerveza', 'cesado', 'cesar', 'cese', 'cesión', 'cesta', 'ceuta', 'ceñir', 'cgpj', 'cgt', 'chabola', 'chacón', 'chaleco', 'chalet', 'chalé', 'chamartín', 'chamberí', 'chamorro', 'chantaje', 'chantajear', 'chapa', 'chapuza', 'chaqueta', 'char', 'charco', 'charl', 'charla', 'charlar', 'chat', 'chats', 'chaval', 'checo', 'cheque', 'chica', 'chicago', 'chico', 'childrir', 'chile', 'chileno', 'chimenea', 'china', 'chinar', 'chino', 'chip', 'chipre', 'chiringuito', 'chiste', 'chivitar', 'chivite', 'chivitir', 'chivo', 'chií', 'chocante', 'chocar', 'choco', 'choque', 'chris', 'christian', 'christopher', 'chávez', 'chófer', 'cia', 'cibel', 'cibernético', 'ciberseguridad', 'cicatriz', 'ciclista', 'ciclo', 'cid', 'cie', 'ciego', 'cielo', 'cien', 'ciencia', 'ciento', 'científico', 'cierne', 'cierre', 'ciertamente', 'cierto', 'cif', 'cifra', 'cifrar', 'cifro', 'cifuent', 'cifuentes', 'cig', 'cigarrillo', 'cima', 'cimentar', 'cimiento', 'cinco', 'cincuenta', 'cine', 'cineasta', 'cinematografía', 'cinematográfico', 'cinismo', 'cinta', 'cinturón', 'cinéfilo', 'circo', 'circuito', 'circulación', 'circular', 'circunscribir', 'circunscripción', 'circunstancia', 'cirugía', 'cis', 'cisjordania', 'cisma', 'cita', 'citación', 'citado', 'citar', 'city', 'ciu', 'ciuca', 'ciucar', 'ciudad', 'ciudadana', 'ciudadanir', 'ciudadano', 'ciudadanos', 'ciudadanía', 'ciutat', 'civil', 'civilización', 'civismo', 'clamar', 'clan', 'clandestinidad', 'clandestino', 'clar', 'clara', 'claramente', 'claridad', 'clarificar', 'claro', 'clarísimo', 'clase', 'clasificación', 'clasificado', 'clasificar', 'clasista', 'claudia', 'claudio', 'claustro', 'clausura', 'clausurado', 'clausurar', 'clavar', 'clave', 'clavo', 'clemente', 'clic', 'cliché', 'clichés', 'click', 'cliente', 'clientela', 'clientelar', 'clientelismo', 'clima', 'climático', 'clinton', 'cloaca', 'club', 'clásico', 'cláusula', 'clérigo', 'clínic', 'clínica', 'clínico', 'cni', 'cnmc', 'cnmv', 'cnn', 'cnt', 'co', 'coaccionar', 'coacción', 'coalición', 'coartada', 'coartar', 'coautor', 'cobarde', 'cobardía', 'cobertura', 'cobo', 'cobrar', 'cobre', 'cobro', 'cocaína', 'coche', 'cocina', 'cocinar', 'cocinero', 'codiciado', 'codo', 'cofinanciar', 'cofundador', 'coger', 'cognitivo', 'cogobernanza', 'cohecho', 'coherencia', 'coherente', 'cohesión', 'cohete', 'coincidencia', 'coincident', 'coincidir', 'coincido', 'cojo', 'cojón', 'cola', 'colabora', 'colaboración', 'colaborador', 'colaboradora', 'colaborar', 'colaborativo', 'colapsado', 'colapsar', 'colapso', 'colar', 'colateral', 'colau', 'colchón', 'cole', 'coleccionista', 'colección', 'colectivamente', 'colectivo', 'colega', 'colegiado', 'colegio', 'colgado', 'colgar', 'colindant', 'colisionar', 'collado', 'college', 'colmar', 'colmo', 'colocación', 'colocado', 'colocar', 'colombia', 'colombiano', 'colonia', 'colonial', 'colonización', 'colonizar', 'colono', 'coloquio', 'color', 'colosal', 'columbia', 'columna', 'columnista', 'colón', 'com', 'coma', 'comandado', 'comandancia', 'comandante', 'comando', 'comar', 'comarca', 'comarcal', 'combate', 'combatiente', 'combatir', 'combativo', 'combinación', 'combinado', 'combinar', 'combustible', 'comedia', 'comedor', 'comentado', 'comentar', 'comentario', 'comenzar', 'comer', 'comercial', 'comercialización', 'comercializar', 'comerciante', 'comerciar', 'comercio', 'cometer', 'cometido', 'comicio', 'comics', 'comida', 'comience', 'comiencir', 'comienzo', 'comienzos', 'comilla', 'comisaria', 'comisario', 'comisaría', 'comisionado', 'comisionista', 'comisión', 'comitiva', 'comité', 'comités', 'community', 'comodidad', 'compaginar', 'compar', 'comparable', 'comparación', 'comparado', 'comparamos', 'comparar', 'comparativo', 'comparecencia', 'comparecer', 'compartar', 'compartido', 'compartir', 'compasión', 'compatibilidad', 'compatibilizar', 'compatible', 'compatriota', 'compañera', 'compañero', 'compañía', 'compendio', 'compensación', 'compensar', 'compensatorio', 'competencia', 'competencial', 'competente', 'competición', 'competidor', 'competir', 'competitividad', 'competitivo', 'complacencia', 'complaciente', 'complejidad', 'complejo', 'complementar', 'complementario', 'complemento', 'completa', 'completamente', 'completar', 'completir', 'completo', 'complicación', 'complicado', 'complicar', 'complicidad', 'complot', 'complutense', 'componente', 'componer', 'comportamiento', 'comportar', 'composición', 'compositor', 'compostela', 'compostelar', 'compra', 'comprado', 'comprador', 'comprar', 'compraventa', 'comprender', 'comprendido', 'comprendo', 'comprensible', 'comprensivo', 'comprensión', 'comprir', 'comprobación', 'comprobar', 'comprometedor', 'comprometedorar', 'comprometer', 'comprometido', 'compromisario', 'compromiso', 'compromís', 'compuesto', 'compulsivo', 'computar', 'compás', 'comunicación', 'comunicado', 'comunicar', 'comunicativo', 'comunidad', 'comunismo', 'comunista', 'comunitario', 'comunitat', 'comunión', 'comuns', 'comín', 'comú', 'común', 'comúnmente', 'concebido', 'concebir', 'conceder', 'concedido', 'concejal', 'concejala', 'concejalo', 'concejalía', 'concejo', 'concentración', 'concentrado', 'concentrar', 'concepción', 'concepto', 'conceptual', 'concertado', 'concertar', 'concesionaria', 'concesionario', 'concesión', 'concha', 'conciencia', 'concienciación', 'concienciado', 'concienciar', 'concierto', 'conciliación', 'conciliador', 'conciliar', 'concluido', 'concluir', 'conclusión', 'concluyent', 'concluyente', 'concluía', 'concordia', 'concreción', 'concretamente', 'concretar', 'concreto', 'concurrar', 'concurrencia', 'concurrido', 'concurrir', 'concurso', 'condado', 'conde', 'condecoración', 'condecorado', 'condecorar', 'condena', 'condenado', 'condenar', 'condenatorio', 'condicionado', 'condicionalidad', 'condicionante', 'condicionar', 'condición', 'conducción', 'conducir', 'conducta', 'conductor', 'condén', 'conectado', 'conectar', 'conectividad', 'conexión', 'confeccionar', 'confección', 'confederación', 'confederal', 'conferencia', 'conferir', 'confesar', 'confesión', 'confeso', 'confeír', 'confiable', 'confianza', 'confiar', 'confidencial', 'confidencialidad', 'confidente', 'configuración', 'configurar', 'confinada', 'confinado', 'confinamiento', 'confinar', 'confirmación', 'confirmado', 'confirmar', 'confiscar', 'conflictividad', 'conflictivo', 'conflicto', 'confluencia', 'confluir', 'conformación', 'conformado', 'conformar', 'conforme', 'conformidad', 'confrontación', 'confrontar', 'confundir', 'confusión', 'confuso', 'confíar', 'congelación', 'congelado', 'congelar', 'congestión', 'conglomerado', 'congratular', 'congregación', 'congregado', 'congregar', 'congresista', 'congreso', 'conjetura', 'conjugar', 'conjuntamente', 'conjunto', 'conjurar', 'conllevar', 'conmemoración', 'conmemorar', 'conmemorativo', 'conmigo', 'conminar', 'conmocionar', 'connivencia', 'connotación', 'conocedor', 'conocer', 'conocido', 'conocimiento', 'conoz', 'conquista', 'conquistado', 'conquistar', 'consagrado', 'consagrar', 'consciencia', 'consciente', 'conscientemente', 'consecución', 'consecuencia', 'consecuente', 'consecutivo', 'conseguido', 'conseguir', 'consejera', 'consejero', 'consejería', 'consejo', 'consell', 'conselleira', 'conselleiro', 'conseller', 'consellera', 'conselleria', 'consellería', 'consello', 'consenso', 'consensuado', 'consensuar', 'consentimiento', 'consentir', 'conservación', 'conservador', 'conservadora', 'conservadurismo', 'conservar', 'considerable', 'considerablemente', 'consideración', 'considerado', 'considerar', 'consigna', 'consignar', 'consigo', 'consiguiente', 'consistar', 'consistencia', 'consistente', 'consistir', 'consistorio', 'consola', 'consolidación', 'consolidado', 'consolidar', 'consonancia', 'consorcio', 'conspiración', 'conspirador', 'conspirar', 'constancia', 'constante', 'constantemente', 'constar', 'constatación', 'constatado', 'constatar', 'constitucional', 'constitucionalismo', 'constitucionalista', 'constitucionalmente', 'constitución', 'constituido', 'constituir', 'constitutiva', 'constitutivo', 'constituyente', 'construcciones', 'construcción', 'constructivo', 'constructor', 'constructora', 'construido', 'construir', 'consuelo', 'consulado', 'consulta', 'consultado', 'consultar', 'consulting', 'consultivo', 'consultor', 'consultora', 'consultoría', 'consumado', 'consumar', 'consumido', 'consumidor', 'consumir', 'consumo', 'contabilidad', 'contabilizado', 'contabilizar', 'contable', 'contactado', 'contactar', 'contacto', 'contado', 'contador', 'contagiada', 'contagiado', 'contagiar', 'contagio', 'contagiosa', 'contagioso', 'contaminación', 'contaminado', 'contaminante', 'contaminar', 'contar', 'contarno', 'contemplación', 'contemplado', 'contemplar', 'contemplir', 'contemporáneo', 'contencioso', 'contenciosoadministrativo', 'contención', 'contenedor', 'contener', 'contenido', 'contentar', 'contento', 'contesta', 'contestación', 'contestar', 'contexto', 'contextualizar', 'contienda', 'contigo', 'contiguo', 'continental', 'continente', 'contingencia', 'contingente', 'continuación', 'continuado', 'continuamente', 'continuar', 'continuidad', 'continuista', 'continuo', 'continúar', 'contracción', 'contracorriente', 'contractual', 'contradecir', 'contradicción', 'contradictorio', 'contradizar', 'contraer', 'contrapartida', 'contrapeso', 'contraposición', 'contraprestación', 'contraproducente', 'contrario', 'contrarreloj', 'contrarrestar', 'contrastado', 'contrastar', 'contraste', 'contrata', 'contratación', 'contratado', 'contratar', 'contratista', 'contrato', 'contravenir', 'contrera', 'contribución', 'contribuir', 'contributivo', 'contribuyente', 'contrincante', 'control', 'controlado', 'controlador', 'controlar', 'controversia', 'controvertido', 'contundencia', 'contundente', 'convalidación', 'convalidar', 'convencer', 'convencido', 'convencimiento', 'convencional', 'convención', 'conveniencia', 'conveniente', 'convenientemente', 'convenio', 'convenir', 'convento', 'convergencia', 'convergència', 'conversación', 'conversar', 'conversión', 'convertido', 'convertir', 'convicción', 'convivencia', 'convivient', 'convivir', 'convocado', 'convocante', 'convocar', 'convocatoria', 'convoy', 'convulso', 'cook', 'cooperación', 'cooperar', 'cooperativa', 'cooperativo', 'coordinación', 'coordinado', 'coordinador', 'coordinadora', 'coordinar', 'coordín', 'copa', 'copar', 'cope', 'copia', 'copiar', 'coproducción', 'coquetear', 'coraje', 'coral', 'corazón', 'corbata', 'cordero', 'cordial', 'cordobés', 'cordón', 'corea', 'corear', 'corinna', 'corinno', 'coro', 'corona', 'coronar', 'coronaviru', 'coronavirus', 'coronel', 'corporación', 'corporal', 'corporativo', 'corral', 'correa', 'corrección', 'correctamente', 'correcto', 'corredor', 'corregida', 'corregido', 'corregir', 'correlación', 'correo', 'correos', 'correr', 'correspondencia', 'corresponder', 'correspondiente', 'corresponsabilidad', 'corresponsable', 'corresponsal', 'corrida', 'corriente', 'corroborar', 'corrupción', 'corrupto', 'cortado', 'cortafuego', 'cortapisa', 'cortar', 'corte', 'cortejo', 'cortes', 'cortesía', 'cortina', 'corto', 'cortometraj', 'cortometraje', 'cortés', 'coruña', 'coruñés', 'cosa', 'cosecha', 'cosechar', 'coser', 'cosidar', 'cosidó', 'cospedal', 'cost', 'costa', 'costado', 'costar', 'coste', 'costear', 'costera', 'costero', 'costo', 'costoso', 'costumbre', 'costura', 'cota', 'cotidianidad', 'cotidiano', 'cotización', 'cotizado', 'cotizar', 'coto', 'covid', 'coyuntura', 'coyuntural', 'coño', 'creación', 'creado', 'creador', 'creadora', 'crear', 'creatividad', 'creativo', 'crecer', 'creces', 'creciente', 'crecimiento', 'credencial', 'credibilidad', 'creencia', 'creer', 'crees', 'crespo', 'creíar', 'creíble', 'criada', 'criado', 'crianza', 'criar', 'criatura', 'cribado', 'crimen', 'criminal', 'criminalidad', 'criminalización', 'criminalizar', 'crisis', 'crispación', 'crispado', 'cristal', 'cristalizar', 'cristianismo', 'cristiano', 'cristina', 'cristinar', 'cristo', 'cristín', 'cristóbal', 'criterio', 'criticado', 'criticar', 'cronograma', 'cronología', 'cronológico', 'cruce', 'crucero', 'crucial', 'crudo', 'cruel', 'crueldad', 'cruento', 'cruz', 'cruzada', 'cruzado', 'cruzar', 'crédito', 'cría', 'crío', 'crítica', 'crítico', 'crónica', 'crónico', 'cs', 'csic', 'csif', 'cuaderno', 'cuadrado', 'cuadrados', 'cuadrar', 'cuadrilla', 'cuadro', 'cuajar', 'cualidad', 'cualificación', 'cualificado', 'cualitativo', 'cualquiera', 'cuanta', 'cuantar', 'cuantificar', 'cuantioso', 'cuantitativo', 'cuanto', 'cuantía', 'cuarenta', 'cuarentena', 'cuartel', 'cuarto', 'cuatro', 'cuba', 'cubano', 'cubierta', 'cubierto', 'cubo', 'cubrir', 'cuca', 'cuchillo', 'cuello', 'cuenca', 'cuenco', 'cuenta', 'cuentagotas', 'cuento', 'cuerda', 'cuero', 'cuerpo', 'cuervo', 'cuesta', 'cuestionable', 'cuestionado', 'cuestionamiento', 'cuestionar', 'cuestionario', 'cuestionir', 'cuestión', 'cueva', 'cuidado', 'cuidador', 'cuidadora', 'cuidadosamente', 'cuidadoso', 'cuidar', 'cuidir', 'cuixart', 'culminación', 'culminar', 'culo', 'culpa', 'culpabilidad', 'culpabilizar', 'culpable', 'culpar', 'cultivar', 'cultivo', 'culto', 'cultura', 'cultural', 'culturalmente', 'cumbre', 'cumpleaños', 'cumplido', 'cumplimentar', 'cumplimiento', 'cumplir', 'cuna', 'cundir', 'cuneta', 'cuota', 'cup', 'cupo', 'cura', 'curado', 'curar', 'curiosamente', 'curiosidad', 'curioso', 'currículo', 'currículum', 'cursado', 'cursar', 'curso', 'curtido', 'curva', 'custodia', 'custodiar', 'cuyo', 'cuál', 'cuándo', 'cuánta', 'cuánto', 'cuántos', 'cuñado', 'cácer', 'cádiz', 'cálculo', 'cálido', 'cámara', 'cáncer', 'cántabrar', 'cántabro', 'cántico', 'cápita', 'cárcel', 'cárita', 'cárnico', 'cátedra', 'célebre', 'célula', 'céntimo', 'céntrico', 'césar', 'círculo', 'cívico', 'cóctel', 'código', 'cólera', 'cómic', 'cómico', 'cómics', 'cómo', 'cómodo', 'cómplice', 'cómputo', 'cónclave', 'cónyuge', 'córdoba', 'córdobar', 'cós', 'cúbicos', 'cúmulo', 'cúpula', 'cúspide', 'da', 'dado', 'daily', 'dama', 'damnificado', 'daniel', 'dano', 'dante', 'danza', 'danés', 'dao', 'dar', 'dardo', 'darer', 'daria', 'darir', 'darno', 'darpón', 'darte', 'darás', 'darío', 'data', 'datar', 'dato', 'david', 'davis', 'day', 'dañado', 'dañar', 'dañino', 'daño', 'dc', 'deal', 'deambular', 'death', 'debacle', 'debajo', 'debatar', 'debate', 'debatir', 'debeer', 'deber', 'debería', 'debidamente', 'debido', 'debilidad', 'debilitado', 'debilitar', 'debo', 'debut', 'debutar', 'decadencia', 'decaer', 'decair', 'decano', 'decantar', 'decena', 'decencia', 'decenio', 'decente', 'decepcionado', 'decepcionar', 'decepción', 'deceso', 'decididamente', 'decidido', 'decidir', 'decir', 'decirno', 'decirte', 'decisivo', 'decisión', 'declaración', 'declarado', 'declarar', 'declinar', 'declive', 'decoración', 'decorado', 'decorar', 'decorativo', 'decretado', 'decretar', 'decreto', 'decretoley', 'dedicación', 'dedicado', 'dedicar', 'dedo', 'deducción', 'deducir', 'defecto', 'defectuoso', 'defender', 'defendido', 'defensa', 'defensivo', 'defensor', 'defensora', 'deficiencia', 'deficiente', 'deficitario', 'defiendar', 'define', 'definición', 'definido', 'definir', 'definitiva', 'definitivamente', 'definitivo', 'deforestación', 'defraudado', 'defraudar', 'defunción', 'degradación', 'degradante', 'degradar', 'degustación', 'dei', 'dejadez', 'dejado', 'dejar', 'dejarir', 'deje', 'delante', 'delatar', 'delegación', 'delegada', 'delegado', 'delegar', 'delgado', 'deliberación', 'deliberadamente', 'deliberado', 'delicado', 'delicia', 'delictivo', 'delimitación', 'delimitado', 'delimitar', 'delincuencia', 'delincuente', 'delirante', 'delirio', 'delito', 'deliveroo', 'dels', 'demanda', 'demandado', 'demandante', 'demandar', 'demarcación', 'demasiado', 'democracia', 'democratización', 'democrática', 'democráticamente', 'democrático', 'demográfico', 'demoledor', 'demolición', 'demonio', 'demonizar', 'demora', 'demorar', 'demoscópico', 'demostración', 'demostrado', 'demostrar', 'demá', 'demás', 'demócrata', 'denegación', 'denegar', 'denok', 'denominación', 'denominado', 'denominador', 'denominar', 'densamente', 'densidad', 'denso', 'dentro', 'denuncia', 'denunciado', 'denunciant', 'denunciante', 'denunciar', 'denuncien', 'departamento', 'dependencia', 'depender', 'dependient', 'dependiente', 'deplorabl', 'deportación', 'deportado', 'deportar', 'deporte', 'deportista', 'deportivo', 'depositado', 'depositar', 'depredador', 'depresivo', 'depresión', 'deprimido', 'depuradora', 'depurar', 'depósito', 'der', 'derecha', 'derechista', 'derecho', 'derechos', 'deriva', 'derivación', 'derivada', 'derivado', 'derivar', 'derivo', 'derogación', 'derogar', 'derribar', 'derribo', 'derrocar', 'derrota', 'derrotado', 'derrotar', 'derrumbar', 'derrumbe', 'des', 'desabastecimiento', 'desaconsejar', 'desacreditar', 'desactivar', 'desacuerdo', 'desafiar', 'desafortunadamente', 'desafortunado', 'desafío', 'desagradable', 'desahuciar', 'desahucio', 'desalambre', 'desalojar', 'desalojo', 'desamparado', 'desaparecer', 'desaparecido', 'desaparición', 'desapercibido', 'desarrollado', 'desarrollador', 'desarrollar', 'desarrollo', 'desarticular', 'desasosiego', 'desastre', 'desastroso', 'desatado', 'desatar', 'desautorizar', 'desavenencia', 'desayunar', 'desayuno', 'desbancar', 'desbloquear', 'desbocado', 'desbordado', 'desbordar', 'desborde', 'descabellado', 'descalabro', 'descalificación', 'descalificar', 'descansar', 'descanso', 'descarado', 'descarbonización', 'descarga', 'descargar', 'descarguir', 'descartado', 'descartar', 'descendente', 'descender', 'descendiente', 'descenso', 'descentralizado', 'descolgar', 'descomposición', 'desconcertante', 'desconcierto', 'desconectar', 'desconexión', 'desconfianza', 'desconfiar', 'desconfinamiento', 'descongestionar', 'desconocer', 'desconocido', 'desconocimiento', 'descontado', 'descontar', 'descontento', 'descontrol', 'descontrolado', 'descontrolar', 'desconvocar', 'descoordinación', 'describir', 'descripción', 'descrito', 'descrédito', 'descubierto', 'descubrimiento', 'descubrir', 'descubrí', 'descuento', 'descuidar', 'desdeñable', 'desdoblar', 'desdén', 'deseable', 'deseado', 'desear', 'desechabl', 'desechar', 'desecho', 'desembarcar', 'desembarco', 'desembocar', 'desembolsar', 'desembolso', 'desempeñar', 'desempeño', 'desempleado', 'desempleo', 'desencadenar', 'desencuentro', 'desenlace', 'desentiendir', 'desentrañar', 'desenvolver', 'deseo', 'desequilibrio', 'desescalada', 'desescalado', 'desescalar', 'desesperación', 'desesperado', 'desesperanza', 'desestabilizar', 'desestimar', 'desfase', 'desfavorable', 'desfavorecido', 'desfilar', 'desfile', 'desg', 'desgajar', 'desgastar', 'desgaste', 'desglosado', 'desglosar', 'desgracia', 'desgraciadamente', 'desgranar', 'deshacer', 'deshielo', 'desidia', 'desierto', 'designación', 'designado', 'designar', 'desigual', 'desigualdad', 'desincentivar', 'desinfección', 'desinfectant', 'desinfectante', 'desinfectar', 'desinformación', 'desleal', 'deslealtad', 'deslegitimar', 'desligar', 'deslizar', 'deslocalización', 'desmantelamiento', 'desmantelar', 'desmarcar', 'desmemoriado', 'desmemoriadosorg', 'desmentido', 'desmentir', 'desmesurado', 'desmontaje', 'desmontar', 'desmoronar', 'desmovilización', 'desmán', 'desnudo', 'desobedecer', 'desobediencia', 'desoir', 'desolador', 'desorden', 'despachar', 'despacho', 'despacio', 'despectivo', 'despedida', 'despedido', 'despedir', 'despegar', 'despegue', 'despejar', 'despertar', 'despiadado', 'despido', 'despilfarro', 'despistado', 'desplazado', 'desplazamiento', 'desplazar', 'desplegado', 'desplegar', 'despliegue', 'desplomar', 'desplome', 'despoblación', 'despojado', 'despojar', 'despreciable', 'despreciar', 'desprecio', 'desprendar', 'desprender', 'desprestigiar', 'desprestigio', 'desproporcionado', 'despropósito', 'desprotección', 'desprotegido', 'después', 'desquadra', 'desquadro', 'desregulación', 'destacable', 'destacado', 'destacamento', 'destacar', 'destapar', 'desterrar', 'destilar', 'destinado', 'destinar', 'destinatario', 'destino', 'destitución', 'destituido', 'destituir', 'destreza', 'destrozado', 'destrozar', 'destrozo', 'destrucción', 'destructivo', 'destruido', 'destruir', 'desvelado', 'desvelar', 'desventaja', 'desviación', 'desviar', 'desvincular', 'desvíar', 'desvío', 'detall', 'detalla', 'detallado', 'detallar', 'detalle', 'detallo', 'detección', 'detectado', 'detectamos', 'detectar', 'detective', 'detector', 'detención', 'detener', 'detenido', 'deteriorado', 'deteriorar', 'deterioro', 'determinación', 'determinado', 'determinant', 'determinante', 'determinar', 'determín', 'detonante', 'detractor', 'detrimento', 'detrás', 'deuda', 'deudor', 'deusto', 'devastación', 'devastado', 'devastador', 'devenir', 'devoción', 'devolución', 'devolver', 'devorar', 'dgt', 'di', 'dia', 'diabet', 'diabetes', 'diablo', 'diagnosticado', 'diagnosticar', 'diagnostico', 'diagnóstico', 'diagonal', 'dialogado', 'dialogante', 'dialogar', 'diana', 'diariamente', 'diario', 'diarioes', 'diarrea', 'diasporar', 'dibuja', 'dibujado', 'dibujante', 'dibujar', 'dibujo', 'diccionario', 'dicho', 'diciembre', 'dicotomía', 'dictado', 'dictador', 'dictadura', 'dictamen', 'dictaminar', 'dictar', 'dictatorial', 'dictámen', 'didáctico', 'die', 'dieciocho', 'dieciséis', 'diego', 'diente', 'dieta', 'diez', 'diferencia', 'diferenciación', 'diferenciado', 'diferencial', 'diferenciar', 'diferente', 'diferir', 'dificultad', 'dificultar', 'difuminar', 'difundar', 'difundido', 'difundir', 'difunto', 'difusión', 'difícil', 'difícilmente', 'diga', 'digerir', 'digestivo', 'digital', 'digitalización', 'digna', 'dignidad', 'digno', 'dilación', 'dilatado', 'dilatar', 'dilema', 'diligencia', 'dilucidar', 'diluido', 'diluir', 'dimensionar', 'dimensión', 'diminuto', 'dimisión', 'dimitir', 'dinamarca', 'dinamitar', 'dinamizar', 'dinastía', 'dinero', 'dinámica', 'dinámico', 'dio', 'dios', 'diplomacia', 'diplomático', 'diputación', 'diputada', 'diputado', 'dirección', 'directamente', 'directiva', 'directivo', 'directo', 'director', 'directora', 'directriz', 'dirigente', 'dirigido', 'dirigir', 'dirimir', 'discapacidad', 'discapacitado', 'discernir', 'disciplina', 'disciplinario', 'disco', 'disconformidad', 'discontinuo', 'discordia', 'discoteca', 'discrecional', 'discreción', 'discrepancia', 'discrepar', 'discreto', 'discriminación', 'discriminado', 'discriminar', 'discriminatorio', 'disculpa', 'disculpar', 'discursivo', 'discurso', 'discusión', 'discutible', 'discutir', 'discípulo', 'diseñado', 'diseñador', 'diseñadora', 'diseñar', 'diseño', 'disfraz', 'disfrazado', 'disfrazar', 'disfrutar', 'disfrute', 'disfunción', 'disgusto', 'disidencia', 'disidente', 'disimular', 'disipar', 'disminución', 'disminuir', 'disney', 'disolución', 'disolver', 'dispar', 'disparado', 'disparar', 'disparatado', 'disparate', 'disparidad', 'disparo', 'dispensar', 'dispersar', 'dispersión', 'disperso', 'disponer', 'disponibilidad', 'disponible', 'disposición', 'dispositivo', 'dispuesto', 'disputa', 'disputar', 'distancia', 'distanciado', 'distanciamiento', 'distanciar', 'distante', 'distar', 'distensión', 'distinción', 'distinguir', 'distintivo', 'distinto', 'distopía', 'distorsionar', 'distorsión', 'distracción', 'distraer', 'distribución', 'distribuido', 'distribuidor', 'distribuidora', 'distribuir', 'distrito', 'disturbio', 'distópico', 'disuadir', 'disuasorio', 'disuelto', 'diurno', 'divergencia', 'diversidad', 'diversificación', 'diversificar', 'diverso', 'divertido', 'divertir', 'dividendo', 'dividido', 'dividir', 'divino', 'divisa', 'división', 'divorcio', 'divulgación', 'divulgado', 'divulgar', 'divulgativo', 'diz', 'diálogo', 'diáspora', 'diésel', 'diócesis', 'dióxido', 'dj', 'dni', 'do', 'doblar', 'doble', 'doblegar', 'doce', 'docena', 'docencia', 'docente', 'doctor', 'doctora', 'doctorado', 'doctoral', 'doctrina', 'documentación', 'documentado', 'documental', 'documentar', 'documento', 'dogma', 'dolencia', 'doler', 'dolor', 'dolores', 'doloroso', 'dolors', 'domiciliado', 'domiciliario', 'domicilio', 'dominación', 'dominado', 'dominante', 'dominar', 'domingo', 'dominicano', 'dominio', 'domusvi', 'doméstico', 'domínguez', 'don', 'donación', 'donado', 'donald', 'donante', 'donar', 'donativo', 'donostia', 'donostiar', 'donostiarra', 'donostio', 'dorado', 'dormido', 'dormir', 'dormitorio', 'dos', 'doscientos', 'dosier', 'dosis', 'dossier', 'dotación', 'dotado', 'dotar', 'dougla', 'dow', 'doña', 'dpz', 'dragón', 'drama', 'dramático', 'droga', 'drásticamente', 'drástico', 'drón', 'du', 'dublín', 'ducar', 'ducha', 'duda', 'dudar', 'dudo', 'dudoso', 'duelo', 'duer', 'duermar', 'duero', 'dueña', 'dueño', 'dulce', 'dun', 'duplicar', 'duque', 'duración', 'duradero', 'duramente', 'duran', 'durango', 'durar', 'dureza', 'duro', 'durísima', 'durísimo', 'dádiva', 'débil', 'década', 'décado', 'décima', 'décimo', 'déficit', 'día', 'díaz', 'díez', 'dígito', 'díscolo', 'dólar', 'dólares', 'dónde', 'dúo', 'ea', 'eajpnv', 'ebau', 'ebrio', 'ebro', 'ecdc', 'echa', 'echaburu', 'echar', 'echenicar', 'echenique', 'eclesiástico', 'eclosión', 'eco', 'ecologismo', 'ecologista', 'ecología', 'ecológico', 'economista', 'economía', 'económicamente', 'económico', 'ecosistema', 'ecuación', 'ecuador', 'ecuatoriano', 'ed', 'edad', 'edgar', 'edición', 'edificación', 'edificio', 'edil', 'editado', 'editamos', 'editar', 'editor', 'editora', 'editorial', 'edmundo', 'eduard', 'eduardo', 'educación', 'educado', 'educador', 'educar', 'educativo', 'edward', 'ee', 'eeuu', 'efe', 'efectivamente', 'efectividad', 'efectivo', 'efecto', 'efectos', 'efectuado', 'efectuar', 'efervescencia', 'effect', 'eficacia', 'eficaz', 'eficazmente', 'eficiencia', 'eficiente', 'efímero', 'egea', 'egi', 'egibar', 'egipcio', 'egipto', 'ego', 'egoísta', 'egún', 'eh', 'ehbildu', 'eibar', 'eitb', 'ejar', 'eje', 'ejecución', 'ejecutado', 'ejecutar', 'ejecutiva', 'ejecutivo', 'ejemplar', 'ejemplaridad', 'ejemplificar', 'ejemplifico', 'ejemplo', 'ejercer', 'ejercicio', 'ejercido', 'ejercitar', 'ejército', 'ela', 'elaboración', 'elaborado', 'elaborar', 'elconfidencialcom', 'eldiario', 'eldiarioe', 'eldiarioes', 'eldiarioesaragon', 'eldiarioesel', 'eldiarioeseuskadi', 'eldiarioesla', 'eldiarioesmapa', 'eldiarioesmurcia', 'eldiarionortees', 'elección', 'electo', 'elector', 'electorado', 'electoral', 'electoralmente', 'electricidad', 'electrónico', 'elefante', 'elegante', 'elegido', 'elegir', 'elemental', 'elemento', 'elena', 'elenco', 'elevación', 'elevado', 'elevar', 'eliminación', 'eliminar', 'eliminir', 'elisa', 'elitista', 'elkarrekin', 'elocuente', 'elogiar', 'elogio', 'elorza', 'eloy', 'eludir', 'eléctrico', 'elén', 'elía', 'email', 'emanar', 'embajada', 'embajador', 'embajadora', 'embalse', 'embarazado', 'embarazo', 'embarcación', 'embarcar', 'embargo', 'emblema', 'emblemático', 'embolsar', 'emergencia', 'emergencias', 'emergente', 'emerger', 'emigración', 'emigrante', 'emigrar', 'emilia', 'emiliano', 'emilio', 'eminentemente', 'emirato', 'emisión', 'emisor', 'emisora', 'emitido', 'emitir', 'emma', 'emmanuel', 'emocionado', 'emocional', 'emocionalmente', 'emocionante', 'emocionar', 'emoción', 'emotivo', 'empadronado', 'empate', 'empatir', 'empatizar', 'empatía', 'empañar', 'empeoramiento', 'empeorar', 'emperador', 'empezar', 'empeñado', 'empeñar', 'empeño', 'empiezo', 'emplazamiento', 'emplazar', 'empleada', 'empleado', 'empleador', 'emplear', 'empleo', 'empobrecido', 'empoderamiento', 'emprendedor', 'emprender', 'emprendido', 'emprendimiento', 'empresa', 'empresaria', 'empresarial', 'empresario', 'empujado', 'empujar', 'empuje', 'empujón', 'emt', 'emular', 'emán', 'emérito', 'enaltecimiento', 'enamorado', 'enamorar', 'enarbolar', 'encabezado', 'encabezar', 'encadenado', 'encadenar', 'encajar', 'encaje', 'encaminado', 'encaminar', 'encantado', 'encantar', 'encanto', 'encapuchado', 'encarar', 'encarcelado', 'encarcelamiento', 'encarcelar', 'encarecer', 'encargada', 'encargado', 'encargar', 'encargo', 'encarguir', 'encarnación', 'encarnado', 'encarnar', 'encausado', 'encender', 'encendido', 'encerrado', 'encerrar', 'encierro', 'encima', 'enclave', 'encoger', 'encomendar', 'encomienda', 'encontrado', 'encontrar', 'encontrarás', 'encontronazo', 'encrucijada', 'encuadrar', 'encubiertar', 'encubierto', 'encubrimiento', 'encubrir', 'encuentro', 'encuesta', 'encuestado', 'encumbrar', 'end', 'ende', 'endeble', 'endesa', 'endeudamiento', 'endeudar', 'endurecer', 'endurecimiento', 'endémico', 'enea', 'eneko', 'enemigo', 'enemistad', 'energy', 'energético', 'energía', 'enero', 'enfadado', 'enfadar', 'enfado', 'enfatizar', 'enferma', 'enfermar', 'enfermedad', 'enfermera', 'enfermero', 'enfermería', 'enfermo', 'enfocado', 'enfocar', 'enfoque', 'enfrentado', 'enfrentamiento', 'enfrentar', 'enfrente', 'enfriar', 'enganchar', 'engañado', 'engañar', 'engaño', 'engañoso', 'england', 'englobar', 'engordar', 'engranaje', 'engrosar', 'enhorabuena', 'enjuiciamiento', 'enjuiciar', 'enlace', 'enlazar', 'enmarcado', 'enmarcar', 'enmarcir', 'enmascarado', 'enmendar', 'enmienda', 'enorme', 'enormemente', 'enric', 'enrique', 'enriquecer', 'enriquecimiento', 'ensalzar', 'ensanchar', 'ensayar', 'ensayista', 'ensayo', 'enseguida', 'enseña', 'enseñanza', 'enseñar', 'ensoñación', 'entablar', 'ente', 'entender', 'entendido', 'entendimiento', 'enterar', 'entero', 'enterrado', 'enterramiento', 'enterrar', 'enteré', 'entidad', 'entierro', 'entonar', 'entonces', 'entorno', 'entorpecer', 'entrada', 'entramado', 'entrar', 'entrañar', 'entredicho', 'entrega', 'entregado', 'entregar', 'entremezclar', 'entrenado', 'entrenador', 'entrenamiento', 'entrenar', 'entretanto', 'entretener', 'entretenido', 'entretenimiento', 'entrever', 'entrevista', 'entrevistado', 'entrevistar', 'entro', 'entusiasmo', 'entusiasta', 'enumera', 'enumerar', 'enumero', 'envase', 'envejecer', 'envejecido', 'envejecimiento', 'envenenamiento', 'envergadura', 'enviado', 'enviar', 'envir', 'envoltorio', 'envolver', 'envuelto', 'envíano', 'envíar', 'envío', 'enérgico', 'enésimo', 'epa', 'epi', 'epicentro', 'epidemia', 'epidemiología', 'epidemiológico', 'epidemiólogo', 'epidémico', 'epis', 'episcopal', 'episodio', 'epígrafe', 'epílogo', 'equidad', 'equidistancia', 'equilibrado', 'equilibrar', 'equilibrio', 'equipado', 'equipaje', 'equipamiento', 'equipar', 'equiparación', 'equiparar', 'equipo', 'equitativo', 'equivalente', 'equivaler', 'equivocación', 'equivocado', 'equivocar', 'equo', 'erandio', 'erar', 'erario', 'erc', 'ere', 'eric', 'erigir', 'erkoreka', 'ermua', 'ernest', 'ernesto', 'erosionar', 'erosión', 'erradicación', 'erradicar', 'errata', 'errejón', 'errexal', 'error', 'errático', 'erróneo', 'ert', 'erte', 'ertzaina', 'ertzaintza', 'erótico', 'esbozar', 'escala', 'escalada', 'escalafón', 'escalar', 'escalera', 'escalonada', 'escalonado', 'escalonar', 'escalón', 'escandalizar', 'escandaloso', 'escapada', 'escapar', 'escaparate', 'escape', 'escarnio', 'escasamente', 'escasear', 'escasez', 'escaso', 'escatimar', 'escaño', 'escena', 'escenario', 'escenificación', 'escenificar', 'escepticismo', 'escisión', 'esclarecer', 'esclarecimiento', 'esclavitud', 'esclavo', 'escobar', 'escocia', 'escocés', 'escoger', 'escogido', 'escolar', 'escolarización', 'escolarnet', 'escollo', 'escolta', 'escoltado', 'escombro', 'escondar', 'esconder', 'escondido', 'escorial', 'escribir', 'escrita', 'escrito', 'escritor', 'escritora', 'escritorio', 'escritoro', 'escritura', 'escrivá', 'escrupulosamente', 'escrupuloso', 'escrutinio', 'escríbeno', 'escrúpulo', 'escuadrón', 'escucha', 'escuchar', 'escucher', 'escuchir', 'escudar', 'escudero', 'escudo', 'escuela', 'escueto', 'escultura', 'escándalo', 'escénico', 'escéptico', 'esencia', 'esencial', 'esencialmente', 'esfera', 'esforzar', 'esfuerzo', 'esfumar', 'esgrimido', 'esgrimir', 'esguevir', 'esk', 'eskalmelo', 'eskerrik', 'eslabón', 'eslogan', 'eslovenia', 'espacial', 'espacio', 'espada', 'espalda', 'espaldarazo', 'esparza', 'españa', 'español', 'española', 'especial', 'especialidad', 'especialista', 'especialización', 'especializado', 'especializar', 'especialmente', 'especie', 'especificar', 'especificidad', 'espectacular', 'espectador', 'espectro', 'espectáculo', 'especulación', 'especulador', 'especular', 'especulativo', 'específicamente', 'específico', 'espejel', 'espejismo', 'espejo', 'espera', 'esperable', 'esperado', 'esperanza', 'esperanzador', 'esperanzo', 'esperar', 'esperer', 'esperábar', 'espetar', 'espiar', 'espina', 'espinar', 'espinosa', 'espinoso', 'espionaje', 'espiral', 'espiritual', 'espontáneo', 'esporádico', 'esposa', 'esposo', 'espía', 'espíritu', 'espós', 'esqueleto', 'esquema', 'esquerda', 'esquerra', 'esquina', 'esquivar', 'estabilidad', 'estabilización', 'estabilizado', 'estabilizar', 'estable', 'establecer', 'establecido', 'establecimiento', 'establishment', 'estacer', 'estacional', 'estación', 'estadio', 'estadista', 'estadounidense', 'estadística', 'estadísticamente', 'estadístico', 'estafa', 'estali', 'estallar', 'estallido', 'estambul', 'estamento', 'estampa', 'estampado', 'estampar', 'estancado', 'estancar', 'estancia', 'estanco', 'estantería', 'estar', 'estarer', 'estaríar', 'estatal', 'estatu', 'estatua', 'estatus', 'estatut', 'estatutario', 'estatuto', 'estefanía', 'estela', 'estella', 'estellalizarra', 'estepona', 'ester', 'estereotipo', 'esther', 'estigma', 'estigmatización', 'estigmatizado', 'estigmatizar', 'estilo', 'estimación', 'estimado', 'estimar', 'estimulante', 'estimular', 'estipulado', 'estipular', 'estirar', 'estival', 'estocolmo', 'estornudar', 'estrago', 'estrasburgo', 'estratega', 'estrategia', 'estratégico', 'estrechamente', 'estrechar', 'estrecho', 'estrella', 'estrellar', 'estrenado', 'estrenar', 'estreno', 'estrictamente', 'estricto', 'estructura', 'estructurado', 'estructural', 'estructurar', 'estrés', 'estudiado', 'estudiante', 'estudiantil', 'estudiar', 'estudio', 'estupendo', 'estupidez', 'estupor', 'estuviser', 'estándar', 'estár', 'estéril', 'estética', 'estético', 'estévez', 'estímulo', 'estómago', 'estúpido', 'et', 'eta', 'etapa', 'etarra', 'etc', 'etcétera', 'eternamente', 'eterno', 'etienne', 'etiqueta', 'etiquetado', 'etiquetar', 'etnia', 'etxea', 'eu', 'eufemismo', 'euforia', 'eugenia', 'eugenio', 'euro', 'eurocámara', 'eurodiputada', 'eurodiputado', 'eurogrupo', 'europa', 'europe', 'europea', 'europeo', 'euros', 'eurostat', 'eurozona', 'euskadi', 'euskal', 'euskalkulturaeus', 'euskar', 'euskara', 'euskera', 'eusko', 'eutanasia', 'euzkadi', 'eva', 'evacuación', 'evacuado', 'evacuar', 'evadir', 'evaluación', 'evaluador', 'evaluar', 'evalúa', 'evalúar', 'evangélico', 'evasión', 'evento', 'eventual', 'eventualmente', 'evidencia', 'evidenciar', 'evidente', 'evidentemente', 'evitar', 'evo', 'evocador', 'evocar', 'evolucionar', 'evolución', 'ex', 'exactamente', 'exactitud', 'exacto', 'exageración', 'exagerado', 'exalcalde', 'exalcaldesa', 'exaltación', 'exalto', 'examen', 'examinar', 'excarcelación', 'excargo', 'excavación', 'excedencia', 'exceder', 'excelencia', 'excelente', 'excepcional', 'excepcionalidad', 'excepcionalmente', 'excepción', 'excepto', 'exceptuar', 'excesivamente', 'excesivo', 'exceso', 'exclamar', 'excluido', 'excluir', 'exclusiva', 'exclusivamente', 'exclusividad', 'exclusivo', 'exclusión', 'excluyente', 'excomisario', 'excompañero', 'exconcejal', 'exconsejera', 'exconsejero', 'exconseller', 'exculpar', 'excursión', 'excusa', 'excusar', 'excéntrico', 'exdelegado', 'exdiputada', 'exdiputado', 'exdirectivo', 'exdirector', 'exdirectora', 'exdirigent', 'exdirigente', 'exención', 'exento', 'exgerente', 'exhaustivo', 'exhibición', 'exhibir', 'exhumación', 'exhumar', 'exigencia', 'exigente', 'exigible', 'exigido', 'exigir', 'exiliado', 'exiliar', 'exilio', 'eximir', 'existencia', 'existencial', 'existente', 'existierar', 'existir', 'exitoso', 'exjefe', 'exjuez', 'exlíder', 'exmiembro', 'exministra', 'exministro', 'exmujer', 'exnúmero', 'exoneración', 'exonerar', 'expandeir', 'expandeír', 'expandir', 'expansivo', 'expansión', 'expareja', 'expectación', 'expectativa', 'expedición', 'expediente', 'expedir', 'expensas', 'experiencia', 'experimentación', 'experimentado', 'experimental', 'experimentar', 'experimento', 'experta', 'expertar', 'experto', 'expiatorio', 'expirar', 'explanada', 'explicación', 'explicado', 'explicar', 'explicativo', 'explicitar', 'explico', 'exploración', 'explorador', 'explorar', 'explosivo', 'explosión', 'explotación', 'explotado', 'explotar', 'explícitamente', 'explícito', 'expolicía', 'expolio', 'expolítico', 'exponencial', 'exponencialmente', 'exponente', 'exponer', 'exportación', 'exportador', 'exportar', 'exportavoz', 'exposición', 'expresado', 'expresamente', 'expresar', 'expresident', 'expresidenta', 'expresidente', 'expresivo', 'expresión', 'expreso', 'exprimir', 'expropiación', 'exprés', 'expuesto', 'expulsado', 'expulsar', 'expulsión', 'exrector', 'exsecretaria', 'exsecretario', 'extender', 'extendido', 'extensivo', 'extensión', 'extenso', 'exterior', 'exteriores', 'exterminio', 'externalización', 'externalizar', 'externo', 'extesorero', 'extiendar', 'extinción', 'extinguido', 'extinguir', 'extinto', 'extorsión', 'extra', 'extracción', 'extracto', 'extradición', 'extraer', 'extraescolar', 'extrajudicial', 'extramatrimonial', 'extranjero', 'extranjería', 'extraordinaria', 'extraordinariamente', 'extraordinario', 'extrapolar', 'extraído', 'extrañar', 'extrañeza', 'extraño', 'extremadamente', 'extremadura', 'extremar', 'extremeño', 'extremis', 'extremista', 'extremo', 'exvicepresidenta', 'exvicepresidente', 'exótico', 'ezenarro', 'eólico', 'fa', 'fabricación', 'fabricado', 'fabricante', 'fabricar', 'facción', 'facebook', 'faceta', 'fachada', 'facial', 'facilidad', 'facilitado', 'facilitar', 'factchecking', 'factible', 'facto', 'factor', 'factoría', 'factura', 'facturación', 'facturar', 'facultad', 'facultativo', 'faes', 'fair', 'fake', 'falange', 'falangista', 'falda', 'falla', 'fallar', 'fallecer', 'fallecido', 'fallecimiento', 'fallido', 'fallo', 'falsamente', 'falsear', 'falsedad', 'falsificación', 'falsificado', 'falsificar', 'falso', 'falta', 'faltar', 'fama', 'familia', 'familiar', 'familiarizado', 'famoso', 'fan', 'fanatismo', 'fanjul', 'fantasma', 'fantasía', 'fantástico', 'fanático', 'farc', 'farmacia', 'farmacéutica', 'farmacéutico', 'faro', 'farsa', 'fascinación', 'fascinante', 'fascinar', 'fascismo', 'fascista', 'fase', 'fastidiar', 'fasán', 'fatal', 'fatiga', 'fauna', 'favor', 'favorable', 'favorablemente', 'favorecer', 'favorecido', 'favorita', 'favorito', 'faún', 'fbi', 'fe', 'febrero', 'fecha', 'fechado', 'federación', 'federado', 'federal', 'federico', 'fehaciente', 'feijóo', 'feito', 'felgtb', 'felicidad', 'felicitación', 'felicitar', 'felipe', 'feliu', 'feliz', 'felizmente', 'femenino', 'feminicidio', 'feminismo', 'feminista', 'femp', 'fenómeno', 'feo', 'ferer', 'feria', 'ferial', 'fermín', 'fernando', 'fernández', 'fernándezlasquetty', 'feroz', 'ferran', 'ferraz', 'ferrer', 'ferrocarril', 'ferrol', 'ferroviario', 'ferrusola', 'fest', 'festejar', 'festejo', 'festival', 'festividad', 'festivo', 'feudo', 'feír', 'fiabilidad', 'fiable', 'fianza', 'fiar', 'fiasco', 'fibra', 'ficción', 'ficha', 'fichaje', 'fichar', 'ficticia', 'ficticio', 'fidel', 'fidelidad', 'fiebre', 'fiel', 'fiesta', 'fighting', 'figura', 'figurar', 'fijación', 'fijado', 'fijar', 'fijo', 'fila', 'filadelfia', 'filiación', 'filial', 'filipina', 'filipino', 'film', 'filmar', 'filme', 'filmin', 'filmografía', 'filo', 'filología', 'filosofía', 'filosófico', 'filtración', 'filtrado', 'filtrar', 'filtro', 'filósofo', 'fin', 'final', 'finales', 'finalidad', 'finalista', 'finalización', 'finalizado', 'finalizar', 'finalmente', 'financiación', 'financiado', 'financial', 'financiar', 'financieramente', 'financiero', 'finanza', 'finca', 'fines', 'fingir', 'finlandia', 'finlandés', 'fino', 'firma', 'firmado', 'firmante', 'firmar', 'firme', 'firmemente', 'firmeza', 'fiscal', 'fiscala', 'fiscalidad', 'fiscalización', 'fiscalizador', 'fiscalizar', 'fiscalía', 'fisco', 'fisura', 'flaco', 'flagrante', 'flamenco', 'flanco', 'fleco', 'flexibilidad', 'flexibilización', 'flexibilizar', 'flexibl', 'flexible', 'flojo', 'flor', 'flora', 'florecer', 'flores', 'florida', 'florido', 'flota', 'flotar', 'flote', 'floyd', 'fluido', 'fluir', 'flujo', 'fmi', 'focalizar', 'foco', 'folio', 'folleto', 'fomentar', 'fomento', 'fondo', 'fonseca', 'font', 'fontanero', 'food', 'for', 'foral', 'forcadell', 'ford', 'forense', 'forestal', 'forjar', 'forma', 'formación', 'formado', 'formal', 'formalización', 'formalizar', 'formalmente', 'formar', 'formativo', 'formato', 'formir', 'formulación', 'formulado', 'formular', 'formulario', 'forn', 'foro', 'fortalecer', 'fortalecido', 'fortalecimiento', 'fortaleza', 'fortuna', 'forzado', 'forzar', 'forzosamente', 'forzoso', 'fosa', 'foto', 'fotocopia', 'fotografiar', 'fotografía', 'fotograma', 'fotográfico', 'fotovoltaica', 'fotovoltaico', 'fotógrafa', 'fotógrafo', 'foundation', 'four', 'fox', 'fp', 'fracasada', 'fracasado', 'fracasar', 'fracaso', 'fraccionamiento', 'fraccionar', 'fracción', 'fractura', 'fraga', 'fragar', 'fragilidad', 'fragmentación', 'fragmentado', 'fragmento', 'fraguar', 'francamente', 'france', 'francesc', 'francia', 'francis', 'francisco', 'franco', 'francoalemán', 'francotirador', 'francés', 'franja', 'frank', 'frankenstein', 'franklin', 'franquicia', 'franquismo', 'franquista', 'franz', 'françois', 'frap', 'frase', 'fraude', 'fraudir', 'fraudulentar', 'fraudulento', 'frecuencia', 'frecuentar', 'frecuente', 'frecuentemente', 'fregar', 'freire', 'frenar', 'freno', 'frente', 'frenético', 'fresa', 'fresco', 'fresno', 'fricción', 'frigorífico', 'frivolidad', 'frob', 'from', 'frontal', 'frontalmente', 'frontera', 'fronterizo', 'frotar', 'fructificar', 'frugal', 'frustración', 'frustrado', 'frustrante', 'frustrar', 'fruta', 'fruto', 'frágil', 'fría', 'frío', 'fuego', 'fuencarral', 'fuenlabrada', 'fuenlabrado', 'fuente', 'fuentes', 'fuerir', 'fuero', 'fuerte', 'fuertemente', 'fuerteventura', 'fuerza', 'fuerzo', 'fuga', 'fugar', 'fugaz', 'fumar', 'funcional', 'funcionalidad', 'funcionamiento', 'funcionar', 'funcionaria', 'funcionario', 'funciones', 'función', 'funda', 'fundacional', 'fundación', 'fundado', 'fundador', 'fundadora', 'fundamental', 'fundamentalmente', 'fundamentar', 'fundamento', 'fundar', 'fundir', 'funeral', 'funeraria', 'funerario', 'furgoneta', 'furia', 'furibundo', 'fusil', 'fusilamiento', 'fusilar', 'fusionar', 'fusión', 'futbolista', 'future', 'futurista', 'futuro', 'futurs', 'fábrica', 'fábula', 'fácil', 'fácilmente', 'fáctico', 'fármaco', 'fátima', 'félix', 'férreo', 'fílmico', 'física', 'físicamente', 'físico', 'fórmula', 'fósil', 'fúnebre', 'fútbol', 'gabilondo', 'gabinete', 'gabriel', 'gabriela', 'gaditano', 'gafa', 'gag', 'gago', 'gainza', 'gal', 'gala', 'galardonado', 'galardonar', 'galardón', 'galaxia', 'galdakao', 'galega', 'galego', 'galería', 'galicia', 'galiciar', 'galicio', 'gallardón', 'gallego', 'gallina', 'galo', 'galán', 'gama', 'gamarra', 'game', 'gana', 'ganadero', 'ganadería', 'ganado', 'ganador', 'ganadora', 'ganancia', 'ganar', 'gantz', 'garaje', 'garamendi', 'garante', 'garantizado', 'garantizar', 'garantía', 'garcía', 'garcíacastellón', 'garcíapage', 'garganta', 'garicano', 'garrido', 'garzón', 'gas', 'gasolina', 'gasolinera', 'gaspar', 'gastado', 'gastar', 'gasto', 'gastronomía', 'gastronómico', 'gates', 'gatillo', 'gato', 'gay', 'gaza', 'gazteberri', 'gazteluurrutia', 'gel', 'gema', 'gemelo', 'gemma', 'gen', 'generacional', 'generación', 'generado', 'general', 'generalidad', 'generalista', 'generalitat', 'generalización', 'generalizado', 'generalizar', 'generalmente', 'generar', 'generation', 'generosidad', 'generoso', 'genial', 'genio', 'genital', 'genocidio', 'gente', 'gentiloni', 'gentrificación', 'genérico', 'genética', 'genético', 'geografía', 'geographic', 'geográfico', 'geolocalización', 'geológico', 'geopolítico', 'george', 'georgia', 'gerardo', 'gerencia', 'gerent', 'gerente', 'geriátrico', 'germano', 'germen', 'germán', 'gernika', 'geroa', 'gesta', 'gestación', 'gestar', 'gestionado', 'gestionar', 'gestión', 'gesto', 'gestor', 'gestora', 'get', 'getafe', 'getxo', 'gibraltar', 'gigante', 'gigantesco', 'gijón', 'gil', 'gimeno', 'gimnasio', 'giménez', 'ginebra', 'ginecólogo', 'gipuzkoa', 'gira', 'girar', 'giratorio', 'girl', 'giro', 'girona', 'gitano', 'giuseppe', 'global', 'globalización', 'globalizado', 'globo', 'gloria', 'glorioso', 'glovo', 'gmt', 'go', 'gobernabilidad', 'gobernación', 'gobernado', 'gobernador', 'gobernante', 'gobernanza', 'gobernar', 'gobierno', 'god', 'godoy', 'goenaga', 'gogora', 'gogoro', 'gol', 'golf', 'golfo', 'golpe', 'golpeado', 'golpear', 'golpista', 'golán', 'goma', 'gomera', 'gonzalo', 'gonzález', 'good', 'google', 'gordo', 'gore', 'gorka', 'gorra', 'gorro', 'gorrotxategi', 'gota', 'goteo', 'govern', 'goya', 'gozar', 'gps', 'grabación', 'grabado', 'grabar', 'gracia', 'gracias', 'gracioso', 'grado', 'graduación', 'gradual', 'gradualmente', 'gramo', 'gran', 'granada', 'granadino', 'granado', 'grancanario', 'grande', 'grandemarlaska', 'grandeza', 'grandísimo', 'granito', 'granja', 'grano', 'grar', 'grasa', 'gratis', 'gratitud', 'gratuidad', 'gratuitamente', 'gratuito', 'gravamen', 'grave', 'gravedad', 'gravemente', 'gravísimo', 'great', 'grecia', 'green', 'greenpeace', 'gregorio', 'gremio', 'greta', 'griego', 'grieta', 'grifo', 'gripe', 'gris', 'gritar', 'grito', 'group', 'grueso', 'grupal', 'grupo', 'gráfico', 'guadalajara', 'guaidó', 'guant', 'guante', 'guapo', 'guarda', 'guardacosta', 'guardado', 'guardar', 'guardería', 'guardia', 'guardiar', 'guardias', 'guardián', 'guatemala', 'gubernamental', 'guerra', 'guerrero', 'guerrilla', 'guerrillero', 'guiada', 'guiado', 'guiar', 'guiarte', 'guijarro', 'guillermo', 'guindo', 'guinea', 'guion', 'guionista', 'guipuzcoano', 'guir', 'guitarra', 'guiño', 'guión', 'gullón', 'gurutz', 'gurú', 'gustar', 'gustavo', 'gusto', 'gutiérrez', 'guzmán', 'guía', 'género', 'génova', 'génovo', 'gómez', 'gómezreino', 'gótico', 'gürtel', 'habana', 'haber', 'haberlo', 'habilidad', 'habilitación', 'habilitado', 'habilitar', 'habitabilidad', 'habitacional', 'habitación', 'habitado', 'habitante', 'habitar', 'habitual', 'habitualmente', 'habla', 'hablado', 'hablar', 'hablo', 'hablé', 'habríar', 'hacer', 'hacerlo', 'hacerte', 'hacia', 'hacienda', 'haciendo', 'hacinada', 'hacinado', 'hacinamiento', 'haciéndolo', 'haciéndote', 'hackeo', 'hada', 'haer', 'hagar', 'haití', 'halagüeño', 'halcón', 'hallado', 'hallar', 'hallazgo', 'hambre', 'hamburguesa', 'hanks', 'hannah', 'hans', 'harbor', 'harris', 'harry', 'harta', 'harto', 'harvard', 'harvey', 'hashtag', 'have', 'haz', 'hazi', 'hazte', 'haztir', 'hbo', 'health', 'hecho', 'hectárea', 'hegemonía', 'hegemónico', 'helado', 'heleno', 'helicóptero', 'helvético', 'hemeroteca', 'hemiciclo', 'henar', 'henry', 'heredado', 'heredar', 'heredera', 'heredero', 'hereditario', 'herencia', 'herida', 'herido', 'herir', 'hermana', 'hermandad', 'hermann', 'hermano', 'hermoso', 'hermán', 'hernando', 'hernani', 'hernar', 'hernández', 'heroico', 'heroína', 'herramienta', 'herrera', 'herrero', 'heterogéneo', 'heterosexual', 'hicimo', 'hidalgo', 'hidroalcohólico', 'hidrocarburo', 'hidráulico', 'hielo', 'hierro', 'higiene', 'higienir', 'higiénico', 'hija', 'hijo', 'hilera', 'hill', 'hillary', 'hilo', 'himalaya', 'himno', 'hincapié', 'hipertensión', 'hipocresía', 'hipoteca', 'hipotecario', 'hipotético', 'hipócrita', 'hipótesis', 'hispano', 'hispánico', 'historia', 'historiador', 'historial', 'historiografía', 'históricamente', 'histórico', 'hit', 'hitler', 'hito', 'hoc', 'hogar', 'hoja', 'hola', 'holanda', 'holandés', 'holar', 'hollywood', 'holocausto', 'hombr', 'hombre', 'hombro', 'home', 'homenaje', 'homenajear', 'homicida', 'homicidio', 'homofobia', 'homogéneo', 'homologado', 'homosexual', 'homosexualidad', 'homófobo', 'homóloga', 'homólogo', 'homónima', 'homónimo', 'hondarribia', 'hondarribiar', 'hondarribio', 'hondo', 'honduras', 'honesta', 'honestidad', 'honesto', 'hong', 'hongo', 'honor', 'honorario', 'honorífico', 'honrar', 'hopkin', 'hopkins', 'hora', 'horario', 'horas', 'horizontal', 'horizonte', 'hormigón', 'hormonal', 'horno', 'horquilla', 'horrible', 'horror', 'hortaleza', 'hospital', 'hospitalaria', 'hospitalario', 'hospitalización', 'hospitalizado', 'hospitalizar', 'hostelero', 'hostelería', 'hostigamiento', 'hostil', 'hostilidad', 'hotel', 'hotelero', 'housar', 'house', 'how', 'howard', 'hoy', 'hoyo', 'httpstwittercomeldiarionorte', 'httpsusuarioseldiarioeshaztesociolocaleditioneuskadi', 'httpswwwfacebookcomeldiarionortees', 'huawei', 'hueco', 'huelga', 'huella', 'huelva', 'huerta', 'huerto', 'huesca', 'hueso', 'huevo', 'hugo', 'huida', 'huir', 'human', 'humanidad', 'humanitario', 'humanizar', 'humano', 'humanos', 'humedad', 'humildad', 'humilde', 'humillación', 'humillante', 'humillar', 'humo', 'humor', 'humorista', 'humorístico', 'hundido', 'hundimiento', 'hundir', 'hungría', 'huracán', 'hurtado', 'hurto', 'huérfano', 'huésped', 'hábil', 'hábitat', 'hábito', 'hándicap', 'héroe', 'híbrido', 'hídrico', 'húmedo', 'húngaro', 'ia', 'ibarra', 'ibarretxe', 'iberdrola', 'iberia', 'iberoamericano', 'ibex', 'ibi', 'ibiza', 'ibon', 'ibáñez', 'ibérico', 'iceberg', 'iceta', 'ico', 'icono', 'icónica', 'icónico', 'id', 'ida', 'idaho', 'idea', 'ideado', 'ideal', 'idealista', 'idear', 'ideario', 'identidad', 'identificación', 'identificado', 'identificar', 'identifico', 'identitario', 'identity', 'ideología', 'ideológicamente', 'ideológico', 'ideólogo', 'idi', 'idiazayuso', 'idioma', 'idiosincrasia', 'idiota', 'idoia', 'idoiar', 'idoio', 'idoneidad', 'idp', 'idéntico', 'idílico', 'idóneo', 'ie', 'ies', 'iescolar', 'ifema', 'igea', 'igg', 'iglesia', 'ignacio', 'ignasi', 'ignorancia', 'ignorante', 'ignorar', 'igual', 'igualar', 'igualdad', 'igualitario', 'igualmente', 'ii', 'iii', 'ikea', 'iker', 'ikurriña', 'ildefonso', 'ilegal', 'ilegalidad', 'ilegalización', 'ilegalizar', 'ilegalmente', 'ilegítimo', 'illa', 'iluminación', 'iluminado', 'iluminar', 'ilusión', 'ilustración', 'ilustrado', 'ilustrador', 'ilustradora', 'ilustrar', 'ilustre', 'ilícito', 'imagen', 'imaginación', 'imaginado', 'imaginar', 'imaginario', 'imagino', 'imagínate', 'imitar', 'impactant', 'impactante', 'impactar', 'impacto', 'impago', 'imparable', 'imparcial', 'imparcialidad', 'impartido', 'impartir', 'impasible', 'impecable', 'impedimento', 'impedir', 'impensable', 'imperante', 'imperar', 'imperativo', 'imperfecto', 'imperial', 'imperio', 'implacable', 'implantación', 'implantado', 'implantar', 'implementación', 'implementada', 'implementado', 'implementar', 'implicación', 'implicado', 'implicar', 'implícito', 'imponente', 'imponer', 'impopular', 'importación', 'importado', 'importancia', 'importante', 'importantísimo', 'importar', 'importe', 'importir', 'imposibilidad', 'imposibilitar', 'imposible', 'imposición', 'impositivo', 'impotencia', 'impredecible', 'impregnar', 'imprescindible', 'impresionante', 'impresionar', 'impresión', 'impreso', 'imprevisible', 'imprevisto', 'imprimir', 'improbable', 'improcedente', 'impronta', 'impropio', 'improvisación', 'improvisado', 'improvisar', 'imprudencia', 'imprudente', 'impuesto', 'impugnación', 'impugnar', 'impulsado', 'impulsar', 'impulso', 'impulsor', 'impulsora', 'impune', 'impunidad', 'imputación', 'imputado', 'imputar', 'imserso', 'imán', 'in', 'inacabado', 'inacción', 'inaceptable', 'inactivo', 'inadecuado', 'inadmisible', 'inadvertido', 'inamovible', 'inapropiado', 'inasumibl', 'inasumible', 'inaudito', 'inauguración', 'inaugurado', 'inaugural', 'inaugurar', 'incansable', 'incapacidad', 'incapaz', 'incautación', 'incautado', 'incautar', 'incendiar', 'incendiario', 'incendio', 'incentivar', 'incentivo', 'incertidumbre', 'incesante', 'incidencia', 'incidente', 'incidir', 'incierto', 'incipiente', 'incitación', 'incitar', 'inclinación', 'inclinar', 'incluido', 'incluir', 'inclusivo', 'inclusión', 'incluso', 'incoar', 'incoherente', 'incomodar', 'incomodidad', 'incompatibilidad', 'incompatible', 'incompetencia', 'incompleto', 'incomprensible', 'incondicional', 'inconsciente', 'inconsistencia', 'inconstitucional', 'incontrolado', 'inconveniente', 'incorporación', 'incorporado', 'incorporar', 'incorporo', 'incorrecto', 'incrementado', 'incrementar', 'incremento', 'increpar', 'increíble', 'increíblemente', 'incrustado', 'incubación', 'incuestionable', 'inculcar', 'incumplimiento', 'incumplir', 'incurrir', 'incursión', 'incógnita', 'incómodo', 'indagación', 'indagar', 'indebidamente', 'indebido', 'indeciso', 'indefensión', 'indefenso', 'indefinidamente', 'indefinido', 'indemnización', 'indemnizar', 'independencia', 'independentismo', 'independentista', 'independiente', 'independientemente', 'indeterminado', 'india', 'indicación', 'indicado', 'indicador', 'indicar', 'indicativo', 'indiciario', 'indicio', 'indie', 'indiferencia', 'indiferente', 'indignación', 'indignado', 'indignante', 'indignar', 'indigno', 'indio', 'indirectamente', 'indirecto', 'indiscriminado', 'indiscutible', 'indispensable', 'inditex', 'individual', 'individualizado', 'individualmente', 'individuo', 'indo', 'indonesio', 'indra', 'inducir', 'indudable', 'indulto', 'industria', 'industrial', 'industrio', 'indígena', 'indígén', 'ine', 'ineficacia', 'ineficaz', 'ineficiente', 'ineludible', 'inequívocamente', 'inequívoco', 'inercia', 'inesperado', 'inestabilidad', 'inestable', 'inevitable', 'inevitablemente', 'inexcusable', 'inexistencia', 'inexistente', 'inexorablemente', 'inexplicable', 'infalible', 'infame', 'infancia', 'infanta', 'infante', 'infantería', 'infantil', 'infarto', 'infeccioso', 'infección', 'infectado', 'infectar', 'inferior', 'inferir', 'infierno', 'infiltración', 'infiltrado', 'infiltrar', 'infinidad', 'infinito', 'inflación', 'inflamación', 'inflar', 'inflexión', 'influencer', 'influencia', 'influenciado', 'influido', 'influir', 'influyente', 'info', 'infografía', 'infolibre', 'información', 'informado', 'informador', 'informal', 'informar', 'informativo', 'informe', 'informir', 'informándotar', 'informándote', 'informática', 'informático', 'infracción', 'infractor', 'infraestimado', 'infraestimar', 'infraestructura', 'infringir', 'infundado', 'ingeniero', 'ingeniería', 'ingenio', 'ingente', 'ingenuidad', 'ingenuo', 'ingerir', 'ingesta', 'inglaterra', 'inglés', 'ingrediente', 'ingresado', 'ingresar', 'ingreso', 'inhabilitación', 'inhabilitado', 'inhabilitar', 'inherente', 'inhibir', 'inhumano', 'iniciación', 'iniciado', 'inicial', 'inicialmente', 'iniciar', 'iniciativa', 'iniciativo', 'inicio', 'inimaginabl', 'inimaginable', 'ininterrumpido', 'injerencia', 'injuria', 'injusta', 'injustamente', 'injusticia', 'injustificable', 'injustificado', 'injusto', 'inmaculado', 'inmaterial', 'inmediación', 'inmediatamente', 'inmediatez', 'inmediato', 'inmenso', 'inmersión', 'inmerso', 'inmigración', 'inmigrante', 'inminente', 'inmiscuir', 'inmobiliaria', 'inmobiliario', 'inmoral', 'inmuebl', 'inmueble', 'inmune', 'inmunidad', 'inmunitario', 'innecesario', 'innegable', 'innovación', 'innovador', 'innovadora', 'innovar', 'innumerable', 'inocencia', 'inocente', 'inocular', 'inodoro', 'inofensivo', 'inolvidable', 'inquebrantable', 'inquieta', 'inquietante', 'inquietar', 'inquieto', 'inquietud', 'inquilino', 'insalvable', 'inscribir', 'inscripción', 'inscrito', 'insecto', 'inseguridad', 'inseguro', 'inserción', 'insertar', 'insignia', 'insinuar', 'insistencia', 'insistente', 'insistir', 'insoportable', 'insostenible', 'inspección', 'inspector', 'inspiración', 'inspirado', 'inspirar', 'inss', 'instagram', 'instalación', 'instalado', 'instalar', 'instancia', 'instancias', 'instante', 'instantánea', 'instantáneo', 'instar', 'instauración', 'instaurar', 'instinto', 'institucional', 'institución', 'institut', 'institutar', 'instituto', 'instrucción', 'instructor', 'instructora', 'instruir', 'instrumental', 'instrumentalización', 'instrumento', 'insuficiencia', 'insuficiente', 'insular', 'insultante', 'insultar', 'insulto', 'insólito', 'intacto', 'integración', 'integrado', 'integrador', 'integral', 'integrante', 'integrar', 'integridad', 'intelectual', 'inteligencia', 'inteligente', 'intemperie', 'intencionado', 'intencionalidad', 'intención', 'intensamente', 'intensidad', 'intensificación', 'intensificar', 'intensivo', 'intenso', 'intentar', 'intento', 'interacción', 'interactivo', 'interactuar', 'interamericán', 'interanual', 'intercambiar', 'intercambio', 'interceptar', 'interconectado', 'intereconomía', 'interesado', 'interesante', 'interesar', 'interferencia', 'interferir', 'intergubernamental', 'interinidad', 'interino', 'interior', 'interiorizado', 'interiorizar', 'interlocución', 'interlocutor', 'intermedia', 'intermediación', 'intermediaria', 'intermediario', 'intermedio', 'interminable', 'intermitente', 'intermón', 'internacional', 'internacionalización', 'internacionalmente', 'internado', 'internamente', 'internamiento', 'international', 'internet', 'interno', 'interpelación', 'interpelar', 'interpersonal', 'interponer', 'interpretación', 'interpretado', 'interpretar', 'interprofesional', 'interpuesto', 'interrogante', 'interrogar', 'interrogatorio', 'interrumpar', 'interrumpido', 'interrumpir', 'interrupción', 'interterritorial', 'intervalo', 'intervención', 'intervenida', 'intervenido', 'intervenir', 'interventor', 'interventora', 'intervinient', 'interés', 'intimidación', 'intimidad', 'intimidar', 'intimidatorio', 'intocable', 'intolerable', 'intolerancia', 'intrafamiliar', 'intranquilidad', 'intriga', 'introducción', 'introducido', 'introducir', 'intromisión', 'intrínseco', 'intuición', 'intuir', 'intérprete', 'inundación', 'inundar', 'inusual', 'invadir', 'invalidir', 'invasivo', 'invasión', 'invasor', 'invención', 'inventado', 'inventar', 'inventario', 'invento', 'invernadero', 'inverosímil', 'inversa', 'inversión', 'inverso', 'inversor', 'invertido', 'invertir', 'investidura', 'investigación', 'investigado', 'investigador', 'investigadora', 'investigar', 'investir', 'inviable', 'invierno', 'inviertar', 'invierte', 'inviolabilidad', 'inviolable', 'invisibilidad', 'invisibilizado', 'invisibilizar', 'invisible', 'invitación', 'invitado', 'invitar', 'invocar', 'involucrado', 'involucrar', 'involuntario', 'inyección', 'inyectar', 'inédito', 'inés', 'inútil', 'io', 'iosu', 'ipc', 'iprem', 'ir', 'ira', 'irak', 'iraní', 'iraquí', 'iratxe', 'irenar', 'irene', 'irenir', 'iriarte', 'irir', 'irlanda', 'irlandés', 'iron', 'ironizar', 'ironía', 'irpf', 'irracional', 'irregular', 'irregularidad', 'irregularmente', 'irrelevante', 'irremediablemente', 'irrenunciable', 'irresponsabilidad', 'irresponsable', 'irreversible', 'irrumpir', 'irrupción', 'irán', 'irónico', 'irún', 'is', 'isa', 'isaac', 'isabel', 'isasmendi', 'iscii', 'isciii', 'isidro', 'isla', 'islam', 'islamista', 'island', 'isleño', 'islámico', 'ismael', 'israel', 'israelí', 'it', 'italia', 'italiano', 'itinerante', 'itinerario', 'its', 'iturgaiz', 'itziar', 'iu', 'iv', 'iva', 'ivap', 'ivo', 'iván', 'izaguirrir', 'izaskun', 'izquierda', 'izquierdista', 'izquierdo', 'iñaki', 'iñigo', 'jabón', 'jacinto', 'jackson', 'jactar', 'jaime', 'jair', 'james', 'jamás', 'jamón', 'jane', 'janeiro', 'janet', 'japonés', 'japón', 'jaque', 'jardines', 'jardín', 'jared', 'jarro', 'jason', 'jaula', 'jaume', 'jaumir', 'javier', 'jazz', 'jaén', 'jean', 'jeanclaude', 'jec', 'jefa', 'jefatura', 'jefe', 'jeff', 'jeltzal', 'jeltzale', 'jennifer', 'jerarquía', 'jerga', 'jersey', 'jerusalén', 'jerárquico', 'jesús', 'jet', 'jim', 'jimmy', 'jiménez', 'jo', 'joan', 'joaquim', 'joaquín', 'joder', 'joe', 'john', 'johns', 'johnson', 'jokin', 'jon', 'jordan', 'jordania', 'jordi', 'jordán', 'jorge', 'jornada', 'jornalero', 'joseba', 'josefa', 'josep', 'joseph', 'josu', 'josé', 'journal', 'joval', 'joven', 'joya', 'jr', 'juan', 'juanma', 'jubilación', 'jubilado', 'jubilar', 'judicatura', 'judicial', 'judicialización', 'judicializado', 'judicializar', 'judicialmente', 'judío', 'juego', 'juegos', 'jueves', 'juez', 'jueza', 'jugada', 'jugador', 'jugar', 'jugoso', 'juguet', 'juguete', 'juicio', 'jul', 'julia', 'juliar', 'julio', 'julián', 'juncker', 'jungla', 'junio', 'junior', 'junquera', 'junt', 'junta', 'juntar', 'junto', 'jurado', 'jurar', 'jurisdiccional', 'jurisdicción', 'jurisprudencia', 'jurista', 'jurídicamente', 'jurídico', 'just', 'justamente', 'justicia', 'justificación', 'justificado', 'justificante', 'justificar', 'justificativo', 'justo', 'juvenil', 'juventud', 'juzgado', 'juzgar', 'jxcat', 'jón', 'karpa', 'kataia', 'kate', 'kelly', 'ken', 'kevin', 'kike', 'kilo', 'kilómetro', 'kim', 'king', 'kirol', 'kit', 'kitchen', 'km', 'koch', 'koldo', 'komunikazioa', 'kong', 'kremlin', 'kultur', 'lab', 'laberinto', 'labio', 'labor', 'laborable', 'laboral', 'laboralista', 'laboralmente', 'laboratorio', 'laborista', 'lacalle', 'lacra', 'lacrimógeno', 'lactancia', 'ladera', 'lado', 'ladrillo', 'ladrón', 'lafuente', 'lago', 'laguna', 'laicismo', 'lambán', 'lamela', 'lamentable', 'lamentablemente', 'lamentar', 'lamento', 'lancet', 'lancha', 'land', 'lander', 'lanza', 'lanzado', 'lanzamiento', 'lanzar', 'lanzarote', 'lapso', 'lar', 'laredo', 'larga', 'largo', 'largometraje', 'larguísimo', 'larrañaga', 'larsen', 'lasquetty', 'last', 'lastrado', 'lastrar', 'lastre', 'lastro', 'lata', 'latente', 'lateral', 'latina', 'latino', 'latinoamericano', 'latinoamérica', 'latitud', 'laura', 'lavado', 'lavadora', 'lavapiés', 'lavar', 'lawrence', 'lazo', 'lea', 'leal', 'lealtad', 'lear', 'lección', 'leche', 'lectivo', 'lector', 'lectora', 'lectors', 'lectura', 'led', 'lee', 'leer', 'legado', 'legal', 'legalidad', 'legalización', 'legalizar', 'legalmente', 'leganés', 'legar', 'legendario', 'legislación', 'legislador', 'legislar', 'legislativa', 'legislativo', 'legislatura', 'legitimación', 'legitimado', 'legitimar', 'legitimidad', 'legión', 'legumbr', 'legítima', 'legítimamente', 'legítimo', 'lehendakari', 'lehendakaritza', 'leioa', 'lejano', 'lejos', 'lejía', 'lema', 'lengua', 'lenguaje', 'lenin', 'lentamente', 'lentitud', 'lento', 'leo', 'leonardo', 'leonor', 'leonés', 'leopoldo', 'lesbiano', 'lesbo', 'lesionar', 'lesión', 'lesm', 'lesmes', 'letal', 'letalidad', 'leticia', 'letiziar', 'letra', 'letrada', 'letrado', 'levantado', 'levantamiento', 'levantar', 'levante', 'leve', 'levy', 'ley', 'leyenda', 'lezo', 'leído', 'león', 'lgtb', 'lgtbi', 'lgtbifobia', 'liberación', 'liberado', 'liberal', 'liberalismo', 'liberar', 'libertad', 'libia', 'libiar', 'libio', 'librado', 'librar', 'libre', 'libreer', 'libremente', 'librería', 'libreta', 'libro', 'licencia', 'licenciada', 'licenciado', 'licenciar', 'licenciatura', 'licitación', 'licitar', 'liderado', 'liderar', 'liderazgo', 'lideresa', 'lidia', 'lidiar', 'liechtenstein', 'lienzo', 'life', 'liga', 'ligado', 'ligar', 'ligeramente', 'ligero', 'light', 'like', 'lima', 'limbo', 'limitación', 'limitado', 'limitar', 'limpiadora', 'limpiar', 'limpieza', 'limpio', 'limítrofe', 'linar', 'linchamiento', 'lindo', 'line', 'lineal', 'lingüístico', 'link', 'linkedin', 'liquidación', 'liquidar', 'liquidez', 'lisboa', 'lista', 'listado', 'listo', 'listón', 'litera', 'literal', 'literalmente', 'literario', 'literatura', 'litigio', 'litoral', 'litro', 'little', 'liv', 'live', 'lives', 'liza', 'llama', 'llamada', 'llamado', 'llamamiento', 'llamar', 'llamativo', 'llame', 'llano', 'llanto', 'llarén', 'llave', 'llegada', 'llegado', 'llegar', 'llego', 'lleida', 'lleido', 'llena', 'llenar', 'lleno', 'llevada', 'llevadas', 'llevado', 'llevar', 'llevarla', 'lleve', 'llevábamos', 'llobregat', 'llodio', 'llorar', 'lloro', 'llover', 'lluis', 'lluvia', 'lluís', 'llámano', 'lobby', 'lobo', 'loca', 'local', 'localidad', 'localización', 'localizado', 'localizar', 'loco', 'locura', 'logarítimico', 'logarítmico', 'logo', 'logotipo', 'logrado', 'lograr', 'logro', 'logroño', 'logística', 'logístico', 'lola', 'loma', 'lombardía', 'lomo', 'lona', 'londinense', 'londres', 'longitud', 'lorca', 'lord', 'lorencer', 'lorenzo', 'losa', 'losanto', 'lote', 'lotería', 'louis', 'lourd', 'love', 'low', 'lozano', 'ls', 'luca', 'lucha', 'luchador', 'luchar', 'lucir', 'lucrar', 'lucrativo', 'lucro', 'lucum', 'lucía', 'luego', 'lugar', 'lugo', 'luis', 'luisa', 'lujo', 'lujoso', 'lukashenko', 'luminoso', 'luna', 'lunes', 'lupa', 'lustro', 'luto', 'luxemburgo', 'luz', 'luzón', 'lynch', 'lyon', 'lágrima', 'lámina', 'lápiz', 'lástima', 'lázaro', 'lés', 'lésbico', 'líbano', 'lícito', 'líder', 'límite', 'línea', 'líneas', 'lío', 'líquido', 'lírico', 'lógica', 'lógicamente', 'lógico', 'lópez', 'lópezacuña', 'lúdico', 'ma', 'macabro', 'macarena', 'macazago', 'machado', 'machismo', 'machista', 'machisto', 'macho', 'macrocausa', 'macroeconómico', 'macron', 'maddalen', 'made', 'madera', 'madre', 'madrid', 'madrileña', 'madrileño', 'madrugada', 'madura', 'madurar', 'madurez', 'maduro', 'maestra', 'maestre', 'maestro', 'mafia', 'mafioso', 'magazine', 'magdalena', 'magia', 'magistrada', 'magistrado', 'magistral', 'magistratura', 'magnar', 'magnate', 'magnitud', 'magnífico', 'mai', 'mail', 'mainstream', 'maite', 'majadahondo', 'majestad', 'major', 'make', 'mal', 'mala', 'malagueño', 'malaria', 'maldad', 'maldición', 'malditaes', 'maldito', 'malentendido', 'malestar', 'maleta', 'maletín', 'malinterpretar', 'mallorca', 'malo', 'malta', 'maltratado', 'maltratador', 'maltratar', 'maltrato', 'malvado', 'malversación', 'malvivir', 'mampara', 'mamá', 'mamífero', 'man', 'manada', 'manado', 'manager', 'managua', 'mancha', 'manchado', 'manchar', 'mancho', 'mancomunidad', 'manda', 'mandar', 'mandatario', 'mandato', 'mando', 'manejar', 'manejo', 'manera', 'manga', 'mango', 'manhattar', 'manifestación', 'manifestado', 'manifestante', 'manifestar', 'manifiesta', 'manifiestamente', 'manifiesto', 'maniobra', 'maniobrar', 'manipulación', 'manipulado', 'manipular', 'mano', 'manolo', 'manos', 'manresa', 'mansión', 'manta', 'mantener', 'mantenertir', 'mantenido', 'mantenimiento', 'mantero', 'manto', 'mantra', 'manual', 'manuel', 'manuela', 'manuscrito', 'manzana', 'manía', 'mapa', 'maquillaje', 'maquillar', 'maquinaria', 'mar', 'maratón', 'maravilla', 'maravilloso', 'maraña', 'marañón', 'marbella', 'marc', 'marca', 'marcadamente', 'marcado', 'marcador', 'marcar', 'marcelino', 'marcelo', 'marcha', 'marchar', 'marchena', 'marcial', 'marco', 'marcos', 'mare', 'marea', 'marear', 'marfil', 'margaret', 'margarita', 'margarito', 'margen', 'marginación', 'marginal', 'mari', 'maria', 'mariano', 'maribel', 'maricón', 'marido', 'marie', 'marina', 'marine', 'marinero', 'marino', 'mario', 'marisa', 'mariscal', 'mariña', 'mark', 'marketing', 'marlaska', 'maroto', 'marqués', 'marroquí', 'marrueco', 'marruecos', 'marrón', 'marshall', 'marta', 'martar', 'martell', 'martes', 'martillo', 'martin', 'marto', 'martí', 'martín', 'martínbla', 'martínez', 'martínezalmeidar', 'martínezalmeido', 'marvel', 'marx', 'marxista', 'mary', 'maryland', 'marzo', 'maría', 'marín', 'marítimo', 'mas', 'masa', 'masacr', 'masacre', 'mascaril', 'mascarilla', 'mascarillas', 'mascarillos', 'mascota', 'masculinidad', 'masculino', 'masificación', 'masivamente', 'masivo', 'masol', 'massachusetts', 'master', 'mata', 'matadero', 'matanza', 'matar', 'mate', 'matemática', 'matemático', 'mateo', 'materia', 'material', 'materialización', 'materializar', 'maternidad', 'materno', 'matiz', 'matizar', 'mato', 'matriculación', 'matriculado', 'matricular', 'matrimonial', 'matrimonio', 'matriz', 'matrona', 'matrícula', 'matt', 'matteo', 'matter', 'matthew', 'maura', 'mauricio', 'mausoleo', 'mauthausen', 'max', 'maximizar', 'may', 'maya', 'mayo', 'mayor', 'mayoral', 'mayorista', 'mayoritariamente', 'mayoritario', 'mayoría', 'mayúscula', 'mayúsculo', 'maza', 'mañana', 'mañueco', 'mccarthy', 'meca', 'mecanismo', 'mecánica', 'mecánico', 'medalla', 'media', 'mediación', 'mediador', 'mediados', 'mediano', 'medianoche', 'mediante', 'mediar', 'medias', 'medicación', 'medicalización', 'medicalizada', 'medicalizado', 'medicalizar', 'medicamento', 'medicina', 'medicine', 'medición', 'medida', 'medido', 'medieval', 'medina', 'medio', 'medioambiental', 'medioambiente', 'mediodía', 'medir', 'meditación', 'meditado', 'meditar', 'mediterráneo', 'mediático', 'megafonía', 'megavatio', 'megáfono', 'meirás', 'mejor', 'mejora', 'mejorar', 'mejoría', 'melancolía', 'melancólico', 'melilla', 'melisa', 'mella', 'melodía', 'melón', 'mem', 'memorable', 'memoria', 'memorial', 'memorialista', 'memorio', 'mena', 'menciona', 'mencionado', 'mencionar', 'mención', 'mendia', 'mendozar', 'menor', 'menorca', 'menos', 'menosprecio', 'mensaje', 'mensajero', 'mensajería', 'mensual', 'mensualidad', 'mensualmente', 'mental', 'mentalidad', 'mentar', 'mente', 'mentir', 'mentira', 'mentor', 'menudo', 'menéndez', 'menú', 'mer', 'meramente', 'mercadillo', 'mercado', 'mercadona', 'mercancía', 'mercante', 'mercantil', 'mercantilización', 'merced', 'mercedes', 'mercenario', 'merec', 'merecedor', 'merecer', 'merecido', 'meridional', 'meritxell', 'merkel', 'merma', 'mermada', 'mermado', 'mermar', 'mero', 'mers', 'mes', 'mesa', 'meseta', 'met', 'meta', 'metal', 'metamorfosis', 'meteorología', 'meteorológico', 'meter', 'metido', 'metodología', 'metodológico', 'metoo', 'metraje', 'metro', 'metropolitano', 'metros', 'metrópoli', 'metáfora', 'metálico', 'mexicano', 'mezcla', 'mezclado', 'mezclar', 'mezquita', 'miami', 'michael', 'michel', 'michelle', 'microbiología', 'microorganismo', 'microsoft', 'micrófono', 'miedo', 'miel', 'miembro', 'miente', 'mientras', 'mier', 'mierda', 'migración', 'migrant', 'migrante', 'migrar', 'migratorio', 'miguel', 'mike', 'mikel', 'mil', 'milagro', 'milagroso', 'milenio', 'milicia', 'miliciano', 'militancia', 'militante', 'militar', 'militarizado', 'mill', 'milla', 'millar', 'miller', 'millonario', 'millón', 'milán', 'milímetro', 'mimbr', 'min', 'mina', 'minar', 'mineral', 'minero', 'minería', 'minimizar', 'ministerial', 'ministerio', 'ministra', 'ministro', 'ministros', 'minorista', 'minoritario', 'minoría', 'minucioso', 'minuto', 'minúsculo', 'miquel', 'mir', 'mira', 'mirabaud', 'mirada', 'miranda', 'mirar', 'miras', 'mire', 'miren', 'miriam', 'misa', 'miserable', 'miseria', 'misericordia', 'misil', 'misiva', 'misión', 'misma', 'mismo', 'mismísimo', 'misoginia', 'misterio', 'misterioso', 'mitad', 'mitigación', 'mitigar', 'mitin', 'mito', 'mitológico', 'mixto', 'miércoles', 'miñano', 'mm', 'mobiliario', 'mochila', 'mochilo', 'moción', 'moco', 'moda', 'modalidad', 'modelo', 'moderación', 'moderadamente', 'moderado', 'moderar', 'moderna', 'modernidad', 'modernización', 'modernizar', 'moderno', 'modesto', 'modificación', 'modificado', 'modificar', 'modo', 'modos', 'modular', 'modus', 'modélico', 'mogán', 'mohamed', 'mohammed', 'mojado', 'mojar', 'mola', 'molecular', 'molestar', 'molestia', 'molesto', 'molina', 'molino', 'molécula', 'molín', 'momento', 'monarca', 'monarquia', 'monarquía', 'monasterio', 'moncloa', 'moncloacom', 'mondragón', 'moneda', 'monedero', 'monetario', 'monitor', 'monitorización', 'monitorizar', 'monja', 'monje', 'mono', 'monocultivo', 'monográfico', 'monoparental', 'monopolio', 'monstruo', 'montado', 'montai', 'montaje', 'montante', 'montar', 'montaña', 'montañés', 'monte', 'montero', 'montesino', 'monto', 'montoro', 'montserrat', 'montés', 'montón', 'monumental', 'monumento', 'monárquico', 'monólogo', 'moqueta', 'mora', 'morada', 'morado', 'moral', 'morales', 'moralmente', 'morar', 'moratoria', 'mordazar', 'mordazo', 'morder', 'mordida', 'moreno', 'moria', 'morir', 'moro', 'morosidad', 'mortal', 'mortalidad', 'mortífero', 'moscú', 'mosquito', 'mosso', 'mossos', 'mostrado', 'mostrar', 'mota', 'motivación', 'motivado', 'motivar', 'motivo', 'moto', 'motocicleta', 'motor', 'mountain', 'mover', 'movido', 'movie', 'movilidad', 'movilización', 'movilizado', 'movilizar', 'movimiento', 'movistar', 'mozo', 'muchacha', 'muchacho', 'muchísima', 'muchísimo', 'muchísimos', 'mudanza', 'mudar', 'mueble', 'muelle', 'muert', 'muerte', 'muerto', 'muestra', 'muestro', 'muga', 'mujer', 'multa', 'multar', 'multidisciplinar', 'multilateral', 'multilateralismo', 'multimedia', 'multimillonario', 'multinacional', 'multiplicación', 'multiplicar', 'multitud', 'multitudinario', 'mundial', 'mundialmente', 'mundo', 'mungia', 'municipal', 'municipalista', 'municipio', 'munición', 'mural', 'muralla', 'murcia', 'murciano', 'murciélago', 'murga', 'murgar', 'murgo', 'murillo', 'muro', 'musa', 'museo', 'music', 'musical', 'musulmán', 'mutación', 'mutar', 'mutua', 'mutuamente', 'mutuo', 'muñeca', 'muñeco', 'muñidor', 'muñoz', 'my', 'mágico', 'málaga', 'málago', 'máquina', 'mármol', 'márquez', 'máscara', 'máster', 'máxima', 'máxime', 'máximo', 'médica', 'médico', 'méndez', 'mérito', 'més', 'método', 'méxico', 'mínimamente', 'mínimo', 'místico', 'mítico', 'módulo', 'mónaco', 'mónica', 'mónico', 'móstol', 'móvil', 'móviles', 'múgico', 'múltiple', 'músculo', 'música', 'músico', 'na', 'nacer', 'nacho', 'nacido', 'nacimiento', 'nacional', 'nacionalidad', 'nacionalismo', 'nacionalismos', 'nacionalista', 'naciones', 'nación', 'nadal', 'nadar', 'nadia', 'nadie', 'nadio', 'nagasaki', 'namir', 'nancy', 'naranja', 'naranjar', 'naranjo', 'narco', 'narcotraficante', 'narcotráfico', 'nariz', 'narración', 'narrado', 'narrador', 'narrar', 'narrativa', 'narrativo', 'nasa', 'nasal', 'nasdaq', 'natal', 'natalia', 'natalidad', 'national', 'nativo', 'natural', 'naturaleza', 'naturalidad', 'nature', 'naufragio', 'navaja', 'naval', 'navarra', 'navarrir', 'navarro', 'nave', 'navegación', 'navegar', 'navidad', 'navideño', 'nazi', 'nazismo', 'nc', 'necesariamente', 'necesario', 'necesidad', 'necesitado', 'necesitamos', 'necesitar', 'necesitas', 'nefasto', 'negacionismo', 'negacionista', 'negación', 'negar', 'negativa', 'negativamente', 'negativo', 'negligencia', 'negligente', 'negociación', 'negociado', 'negociador', 'negociar', 'negocio', 'negra', 'negro', 'nekane', 'neoliberal', 'neoliberalismo', 'neoyorquino', 'nervio', 'nerviosismo', 'nervioso', 'netamente', 'netanyahu', 'netflix', 'neto', 'network', 'neumonir', 'neumonía', 'neumático', 'neurocirugía', 'neurológico', 'neurálgico', 'neurólogo', 'neutral', 'neutralidad', 'neutralizar', 'neutro', 'nevada', 'nevado', 'nevera', 'new', 'news', 'nexo', 'next', 'nicaragua', 'nicaraguo', 'nicaragüens', 'nicaragüense', 'nicho', 'nick', 'nicolás', 'nido', 'niebla', 'nieta', 'nieto', 'nieve', 'night', 'ninguno', 'nintendo', 'nipón', 'nissar', 'nivel', 'nixon', 'niña', 'niño', 'nobel', 'noble', 'noche', 'nochevieja', 'nocivo', 'noción', 'nocturno', 'nogal', 'noir', 'nolan', 'nombrado', 'nombramiento', 'nombrar', 'nombre', 'nominación', 'nominado', 'nominal', 'non', 'noreste', 'norma', 'normal', 'normalidad', 'normalización', 'normalizado', 'normalizar', 'normalmente', 'normandir', 'normativa', 'normativo', 'noroeste', 'norte', 'norteamericano', 'norteamérico', 'north', 'noruega', 'noruego', 'nosotra', 'nostalgia', 'nostálgico', 'not', 'nota', 'notable', 'notablemente', 'notar', 'notarial', 'notario', 'noticia', 'notificación', 'notificada', 'notificado', 'notificar', 'noto', 'notoriedad', 'notorio', 'nova', 'novedad', 'novedoso', 'novela', 'novelista', 'noveno', 'noventa', 'novia', 'noviembre', 'novio', 'now', 'nube', 'nuclear', 'nuestr', 'nueva', 'nuevamente', 'nueve', 'nuevo', 'nulidad', 'nulo', 'numeroso', 'numérico', 'nunca', 'nurio', 'nutrar', 'nutricional', 'nutrición', 'nutrido', 'nutrir', 'nº', 'néstor', 'nítido', 'nómina', 'nórdico', 'núcleo', 'número', 'núrio', 'núñez', 'oasis', 'obama', 'obamar', 'obedecer', 'obediencia', 'oberta', 'obesidad', 'obispo', 'objeción', 'objetivamente', 'objetividad', 'objetivo', 'objeto', 'obligación', 'obligado', 'obligar', 'obligatoriamente', 'obligatoriedad', 'obligatorio', 'obra', 'obrador', 'obrar', 'obrero', 'obsceno', 'observación', 'observado', 'observador', 'observar', 'observatorio', 'observir', 'observo', 'obsesionado', 'obsesivo', 'obsesión', 'obsoleto', 'obstaculizar', 'obstante', 'obstruir', 'obstáculo', 'obtención', 'obtener', 'obtenido', 'obvia', 'obviamente', 'obviar', 'obviedad', 'obvio', 'ocasionado', 'ocasional', 'ocasionalmente', 'ocasionar', 'ocasión', 'occidental', 'occidente', 'ocde', 'ochandiano', 'ochenta', 'ocho', 'ochoa', 'ocio', 'octavo', 'octubre', 'ocultación', 'ocultar', 'oculto', 'ocupación', 'ocupado', 'ocupante', 'ocupar', 'ocurrencia', 'ocurrido', 'ocurrir', 'océano', 'odiar', 'odio', 'odisea', 'oer', 'oeste', 'of', 'ofender', 'ofensa', 'ofensiva', 'ofensivo', 'oferta', 'ofertar', 'off', 'office', 'offshorar', 'offshore', 'oficial', 'oficialista', 'oficializar', 'oficialmente', 'oficina', 'oficio', 'ofrecer', 'ofrecido', 'ofrecimiento', 'ofrenda', 'ohio', 'ohl', 'oiarzabal', 'oim', 'oir', 'oit', 'ojalá', 'ojo', 'ok', 'okdiario', 'ola', 'oleada', 'oleaga', 'oleago', 'oler', 'olfato', 'olga', 'oliva', 'olivar', 'olivera', 'olivo', 'olmo', 'olor', 'olvidada', 'olvidado', 'olvidar', 'olvider', 'olvido', 'olímpico', 'olímpicos', 'om', 'omar', 'omisión', 'omiso', 'omitir', 'omnipresente', 'oms', 'on', 'onalia', 'once', 'onda', 'one', 'ong', 'onlinar', 'online', 'onu', 'onubense', 'opacidad', 'opaco', 'opción', 'ope', 'open', 'operación', 'operado', 'operador', 'operadora', 'operandi', 'operar', 'operario', 'operativa', 'operatividad', 'operativo', 'opinar', 'opinión', 'oponente', 'oponer', 'oportuna', 'oportunidad', 'oportunista', 'oportuno', 'oposición', 'opositor', 'opositora', 'opresión', 'oprimido', 'optar', 'optimismo', 'optimista', 'optimizar', 'opuesta', 'opuesto', 'opus', 'or', 'oración', 'orador', 'oral', 'orange', 'orden', 'ordenación', 'ordenado', 'ordenador', 'ordenamiento', 'ordenanza', 'ordenar', 'ordinario', 'ordizia', 'ordóñez', 'oregón', 'oreja', 'organigrama', 'organismo', 'organización', 'organizado', 'organizador', 'organizar', 'organizativo', 'orgullo', 'orgulloso', 'orgánico', 'orientación', 'orientado', 'oriental', 'orientar', 'oriente', 'origen', 'originado', 'original', 'originalidad', 'originalmente', 'originar', 'originario', 'orilla', 'orillar', 'oriol', 'orlean', 'orleans', 'oro', 'orquesta', 'orquestado', 'orquestar', 'ortega', 'ortiz', 'ortuzar', 'ortzi', 'osakidetcer', 'osakidetza', 'osakidetzo', 'oscar', 'oscilar', 'oscuridad', 'oscuro', 'oso', 'osorio', 'ossorio', 'ostentar', 'otan', 'otegi', 'otero', 'otorgado', 'otorgar', 'otoño', 'otrora', 'otto', 'our', 'ourense', 'ourensán', 'out', 'ovación', 'oveja', 'over', 'oviedo', 'oxfam', 'oxford', 'oxígeno', 'oído', 'oír', 'pa', 'pabellón', 'pablir', 'pablo', 'pablocasado', 'pabloiglesia', 'pac', 'pacheco', 'paciencia', 'paciente', 'pack', 'paco', 'pactado', 'pactar', 'pacto', 'pacíficamente', 'pacífico', 'padecer', 'padr', 'padre', 'padrino', 'paga', 'pagado', 'pagar', 'page', 'pago', 'pah', 'paisaje', 'paisajístico', 'paisano', 'pakistán', 'palabra', 'palacio', 'palacios', 'palanca', 'palau', 'palencia', 'palestina', 'palestino', 'palestra', 'paliar', 'paliativo', 'paliza', 'palma', 'palmo', 'palo', 'paloma', 'palpable', 'pamplona', 'pamplonar', 'pamplonés', 'pamplón', 'pan', 'panameño', 'panamá', 'pancarta', 'pandemia', 'pandémico', 'panel', 'panfleto', 'panorama', 'pantalla', 'pantallazo', 'pantalón', 'pantano', 'panteón', 'paolo', 'papa', 'papel', 'papelera', 'papeleta', 'papá', 'paquete', 'par', 'parada', 'paradero', 'paradigma', 'paradigmático', 'parado', 'paradoja', 'paradójicamente', 'paradójico', 'parafrasear', 'paragua', 'paraguay', 'paraje', 'paralelamente', 'paralelismo', 'paralelo', 'paralización', 'paralizado', 'paralizar', 'paramilitar', 'parangón', 'paranoico', 'parapolicial', 'parar', 'paraíso', 'parcela', 'parche', 'parcial', 'parcialidad', 'parcialmente', 'pardo', 'parecer', 'parecido', 'pared', 'pareja', 'parental', 'parentesco', 'paridad', 'pariente', 'parir', 'parisino', 'paritario', 'park', 'parking', 'parlament', 'parlamentaria', 'parlamentario', 'parlamento', 'paro', 'parodia', 'parque', 'parra', 'parroquia', 'parte', 'participación', 'participado', 'participant', 'participante', 'participar', 'participarar', 'participativo', 'particular', 'particularidad', 'particularmente', 'partida', 'partidario', 'partidista', 'partido', 'partir', 'partitura', 'parto', 'partícipe', 'partícula', 'parálisis', 'parámetro', 'paréntesis', 'parís', 'parón', 'pasado', 'pasaje', 'pasajero', 'pasaporte', 'pasar', 'pasarar', 'pasarela', 'pascual', 'pase', 'pasear', 'paseo', 'pasillo', 'pasividad', 'pasivo', 'pasión', 'paso', 'pasta', 'pastel', 'pastilla', 'pasto', 'pastor', 'pata', 'patada', 'patata', 'patente', 'patera', 'paternidad', 'patinete', 'patio', 'pato', 'patología', 'patria', 'patriarcado', 'patriarcal', 'patricia', 'patrimonial', 'patrimonio', 'patrio', 'patriota', 'patriotismo', 'patriótico', 'patrocinado', 'patrocinador', 'patrocinar', 'patrocinio', 'patronal', 'patronato', 'patrulla', 'patrullar', 'patrón', 'patxi', 'patógeno', 'pau', 'paul', 'paula', 'paulatinamente', 'paulatino', 'paulatín', 'paulo', 'pausa', 'pauta', 'payaso', 'paz', 'pazo', 'país', 'pañal', 'paño', 'pañuelo', 'pce', 'pcr', 'pdecat', 'pdf', 'pdt', 'peaje', 'pearl', 'peatonal', 'peatón', 'pecado', 'pecar', 'pecho', 'peculiar', 'peculiaridad', 'pedagogía', 'pedagógico', 'pedanía', 'pedazo', 'pediatra', 'pediatría', 'pedido', 'pedir', 'pedirl', 'pedreirar', 'pedro', 'pedrobravo', 'pega', 'pegado', 'pegar', 'pegatina', 'pekín', 'pelayo', 'pelea', 'pelear', 'peligrar', 'peligro', 'peligrosamente', 'peligrosidad', 'peligroso', 'pelo', 'pelota', 'pelotazo', 'pelotón', 'peluqueer', 'peluquería', 'película', 'pen', 'pena', 'penado', 'penal', 'penalista', 'penalización', 'penalizar', 'penalmente', 'penas', 'pendiente', 'pendrive', 'penetración', 'penetrar', 'peneuvista', 'peninsular', 'penitenciario', 'penoso', 'pensado', 'pensador', 'pensamiento', 'pensar', 'penser', 'pensionado', 'pensionista', 'pensión', 'pensár', 'península', 'penúltimo', 'peoplir', 'peor', 'pepe', 'pequeñito', 'pequeño', 'per', 'percatar', 'percepción', 'perceptor', 'percibido', 'percibir', 'percir', 'perdedor', 'perder', 'perdertir', 'perdido', 'perdonar', 'perdurar', 'perdón', 'pere', 'perecer', 'peregrinación', 'perfección', 'perfectamente', 'perfecto', 'perfil', 'perfilar', 'performance', 'pericia', 'pericial', 'periferia', 'periférico', 'perimetral', 'periodismo', 'periodista', 'periodo', 'periodístico', 'periplo', 'perito', 'periódicamente', 'periódico', 'perjudicado', 'perjudicar', 'perjudicial', 'perjuicio', 'perla', 'permanecer', 'permanencia', 'permanente', 'permanentemente', 'permiso', 'permitido', 'permitir', 'perpetrado', 'perpetrar', 'perpetuar', 'perpetuo', 'perpetúar', 'perplejidad', 'perplejo', 'perro', 'persecución', 'perseguido', 'perseguir', 'persiana', 'persigar', 'persistencia', 'persistente', 'persistir', 'persona', 'personada', 'personado', 'personaje', 'personal', 'personalidad', 'personalizado', 'personalmente', 'personar', 'perspectiva', 'pertenecer', 'perteneciente', 'pertenencia', 'pertinente', 'perturbación', 'peruano', 'perversión', 'perverso', 'pervertir', 'perímetro', 'período', 'perú', 'pesadilla', 'pesado', 'pesar', 'pesca', 'pescado', 'pescador', 'pescar', 'pesco', 'pese', 'pesetas', 'pesimismo', 'pesimista', 'peso', 'pesos', 'pesquero', 'pesquisa', 'peter', 'petición', 'petit', 'petrolera', 'petrolero', 'petróleo', 'pez', 'peña', 'peño', 'pge', 'philip', 'pianista', 'piano', 'pib', 'picado', 'picar', 'picasso', 'pico', 'pictórica', 'pie', 'piedad', 'piedra', 'piel', 'piense', 'pierda', 'pierna', 'pierre', 'pies', 'pieza', 'pila', 'pilar', 'pili', 'pillar', 'pilotar', 'piloto', 'pin', 'pinar', 'pincelada', 'pinchar', 'pinchazo', 'pinir', 'pino', 'pinta', 'pintada', 'pintado', 'pintar', 'pinto', 'pintor', 'pintoresco', 'pintura', 'pionera', 'pionero', 'pirata', 'pirineo', 'pirueta', 'pirámidir', 'pisa', 'pisar', 'piscina', 'piso', 'pista', 'pistaseldiarioes', 'pistasi', 'pistola', 'pistoletazo', 'pivotar', 'pizarra', 'pizza', 'placa', 'placer', 'plaga', 'plagado', 'plagio', 'plan', 'plana', 'planeado', 'planear', 'planeta', 'planetario', 'planificación', 'planificado', 'planificar', 'plano', 'planta', 'plantar', 'planteado', 'planteamiento', 'plantear', 'plantilla', 'plasmado', 'plasmar', 'plasmir', 'plata', 'plataforma', 'plato', 'plausible', 'play', 'playa', 'playlist', 'playstation', 'plaza', 'plazar', 'plazo', 'pleito', 'plena', 'plenamente', 'plenario', 'pleno', 'pliego', 'plomo', 'pluma', 'plumazo', 'plural', 'pluralidad', 'pluralismo', 'plurianual', 'plurinacional', 'plurinacionalidad', 'plus', 'plàcid', 'plácido', 'plástico', 'pnv', 'po', 'poblacional', 'población', 'poblado', 'poblar', 'pobre', 'pobreza', 'podcast', 'podcasts', 'podem', 'podemos', 'podemosiu', 'poder', 'poderoso', 'podrás', 'podía', 'poema', 'poemario', 'poesía', 'poeta', 'point', 'polaco', 'polarización', 'poli', 'policia', 'policial', 'policía', 'polideportivo', 'politización', 'politizado', 'politizar', 'politécnico', 'politólogo', 'pollo', 'polo', 'polonia', 'polución', 'polvo', 'polvorín', 'polémica', 'polémico', 'polígono', 'política', 'políticamente', 'políticasestudio', 'político', 'pomar', 'pompeo', 'ponderar', 'ponencia', 'ponente', 'poner', 'ponerlo', 'pont', 'pontevedra', 'pontón', 'pop', 'popular', 'popularidad', 'popularizar', 'popularmente', 'populi', 'populismo', 'populista', 'poquito', 'porcentaje', 'porcentual', 'porción', 'pormenorizado', 'porno', 'pornografía', 'porqué', 'porra', 'portada', 'portador', 'portal', 'portar', 'portavocir', 'portavocía', 'portavoz', 'portazo', 'portillo', 'portuario', 'portugal', 'portugués', 'portátil', 'pos', 'posado', 'posar', 'poseer', 'posesión', 'posgrado', 'posguerra', 'posibilidad', 'posibilitar', 'posible', 'posiblemente', 'posicionado', 'posicionamiento', 'posicionar', 'posición', 'positiva', 'positivamente', 'positividad', 'positivo', 'poso', 'posponer', 'post', 'postal', 'postelectoral', 'postergar', 'posterior', 'posteriori', 'posterioridad', 'posteriormente', 'postgrado', 'postre', 'postulado', 'postular', 'postura', 'pot', 'potable', 'potencia', 'potencial', 'potencialmente', 'potenciar', 'potente', 'potestad', 'power', 'pozo', 'pozuelo', 'poético', 'pp', 'ppc', 'ppcs', 'ppdeg', 'practicado', 'practicar', 'prado', 'pragmático', 'prat', 'praxi', 'prc', 'preacuerdo', 'preaviso', 'prebenda', 'precampaña', 'precaria', 'precariedad', 'precario', 'precaución', 'precedente', 'preceder', 'precedido', 'preceptivo', 'precepto', 'preciado', 'precintado', 'precio', 'precioso', 'precipicio', 'precipitación', 'precipitado', 'precipitar', 'precisamente', 'precisar', 'precisión', 'preciso', 'preconcebida', 'precoz', 'precuela', 'precursor', 'predecesor', 'predecir', 'predeterminado', 'predicar', 'predicción', 'predisposición', 'predominante', 'predominar', 'preelectoral', 'preferencia', 'preferente', 'preferentemente', 'preferible', 'preferiblemente', 'preferido', 'preferir', 'pregunta', 'preguntado', 'preguntar', 'preguntarno', 'pregunte', 'prejubilación', 'prejuicio', 'preliminar', 'prematuro', 'premiado', 'premiar', 'premio', 'premisa', 'premium', 'prenda', 'prender', 'prensa', 'preocupación', 'preocupado', 'preocupante', 'preocupar', 'preparación', 'preparado', 'preparar', 'preparativo', 'preparatorio', 'prerrogativa', 'presa', 'prescindir', 'prescribir', 'prescripción', 'prescrito', 'presencia', 'presencial', 'presencialidad', 'presencialmente', 'presenciar', 'presentación', 'presentado', 'presentador', 'presentadora', 'presentar', 'presente', 'preservación', 'preservar', 'presidencia', 'presidencial', 'president', 'presidenta', 'presidente', 'presidido', 'presidir', 'presionado', 'presionar', 'presión', 'preso', 'press', 'prestación', 'prestado', 'prestar', 'prestigio', 'prestigioso', 'prestir', 'presumiblemente', 'presumir', 'presumía', 'presunción', 'presuntamente', 'presunto', 'presuponer', 'presupuestado', 'presupuestaria', 'presupuestario', 'presupuesto', 'pretendemos', 'pretender', 'pretendido', 'pretensión', 'pretexto', 'prevalecer', 'prevalencia', 'prevalimiento', 'prevaricación', 'prevención', 'prevenir', 'preventivo', 'prever', 'previa', 'previamente', 'previo', 'previsible', 'previsiblemente', 'previsión', 'previsto', 'preámbulo', 'prieto', 'prima', 'primar', 'primaria', 'primario', 'primavera', 'prime', 'primero', 'primeros', 'primitivo', 'primo', 'primordial', 'princesa', 'principado', 'principal', 'principalmente', 'principio', 'principios', 'priori', 'prioridad', 'prioritario', 'priorizar', 'prisa', 'prisionero', 'prisión', 'prisma', 'prismos', 'prismático', 'privacidad', 'privación', 'privada', 'privado', 'privar', 'privatización', 'privatizado', 'privatizar', 'privilegiado', 'privilegiar', 'privilegio', 'pro', 'proactivo', 'probabilidad', 'probable', 'probablemente', 'probado', 'probar', 'problema', 'problemática', 'problemático', 'procedencia', 'procedente', 'proceder', 'procedimental', 'procedimiento', 'procesado', 'procesal', 'procesamiento', 'procesar', 'procesión', 'proceso', 'proclama', 'proclamación', 'proclamar', 'proclive', 'procurador', 'procurar', 'procés', 'producción', 'producido', 'producir', 'productividad', 'productivo', 'producto', 'productor', 'productora', 'produjerar', 'produkzioak', 'proetarra', 'proeza', 'profecía', 'proferir', 'profesional', 'profesionalidad', 'profesionalmente', 'profesión', 'profesor', 'profesora', 'profesorado', 'profesorar', 'profeta', 'profundamente', 'profundidad', 'profundización', 'profundizar', 'profundo', 'progenitor', 'programa', 'programación', 'programado', 'programador', 'programar', 'programático', 'progresar', 'progresista', 'progresivamente', 'progresivo', 'progresión', 'progreso', 'prohibición', 'prohibido', 'prohibir', 'prohíbir', 'project', 'proliferación', 'proliferar', 'prolongación', 'prolongado', 'prolongar', 'prolífico', 'promedio', 'promesa', 'prometedor', 'prometer', 'prometido', 'promocional', 'promocionar', 'promoción', 'promotor', 'promotora', 'promover', 'promovido', 'promulgar', 'pronosticar', 'pronto', 'pronunciado', 'pronunciamiento', 'pronunciar', 'pronóstico', 'propagación', 'propaganda', 'propagandístico', 'propagar', 'propenso', 'propiamente', 'propiciar', 'propicio', 'propiedad', 'propietaria', 'propietario', 'propinar', 'propio', 'proponer', 'proporcionado', 'proporcional', 'proporcionalidad', 'proporcionalmente', 'proporcionar', 'proporción', 'proposición', 'propuesta', 'propuesto', 'propugnar', 'propósito', 'prorrogable', 'prorrogado', 'prorrogar', 'prosa', 'proseguir', 'prospectiva', 'prospectivo', 'prosperar', 'prosperidad', 'prostitución', 'prostituta', 'protagonismo', 'protagonista', 'protagonizado', 'protagonizar', 'protección', 'protector', 'protectora', 'proteger', 'protegido', 'protesta', 'protestar', 'proteína', 'protocolario', 'protocolo', 'prototipo', 'proveedor', 'proveedora', 'proveer', 'proveniente', 'provenir', 'providencia', 'provincia', 'provincial', 'provisional', 'provisionalmente', 'provisión', 'provocación', 'provocado', 'provocador', 'provocar', 'proxeneta', 'proximidad', 'proyección', 'proyectado', 'proyectar', 'proyectil', 'proyecto', 'prudencia', 'prudencio', 'prudente', 'prueba', 'práctica', 'prácticamente', 'práctico', 'préstamo', 'príncipe', 'prólogo', 'prórroga', 'próspero', 'próximamente', 'próximo', 'psc', 'psdeg', 'pse', 'pseee', 'psicología', 'psicológicamente', 'psicológico', 'psicosocial', 'psicóloga', 'psicólogo', 'psiquiatra', 'psiquiatría', 'psiquiátrico', 'psn', 'psoe', 'psíquico', 'pub', 'public', 'publicación', 'publicado', 'publicamos', 'publicar', 'publicidad', 'publicitar', 'publicitario', 'publico', 'pucherazo', 'pudiérar', 'pudor', 'puebla', 'pueblo', 'pueda', 'puedas', 'puente', 'puerta', 'puerto', 'puertorriqueño', 'pues', 'puesta', 'puesto', 'pugna', 'pugnar', 'puig', 'puigdemont', 'pujol', 'pulmonar', 'pulmón', 'pulsar', 'pulsera', 'pulsión', 'pulso', 'punta', 'puntal', 'puntar', 'puntilla', 'punto', 'puntuación', 'puntual', 'puntualizar', 'puntualmente', 'pupitre', 'puramente', 'purga', 'puridad', 'puro', 'pusierar', 'puta', 'putin', 'puto', 'puñado', 'puñetazo', 'puño', 'pyme', 'página', 'pájaro', 'pánico', 'párrafo', 'pérdida', 'pérez', 'pésimo', 'pío', 'pís', 'pólvora', 'pública', 'públicamente', 'públicas', 'público', 'públicoprivado', 'púnica', 'púnicar', 'púnico', 'qaeda', 'qasem', 'quebradero', 'quebrar', 'queda', 'quedar', 'queer', 'quehacer', 'queja', 'quejar', 'quema', 'quemado', 'quemar', 'quemé', 'querar', 'querel', 'querella', 'querellant', 'querellar', 'querer', 'querido', 'queso', 'quevedo', 'queír', 'quid', 'quiebra', 'quierar', 'quieres', 'quim', 'quince', 'quincena', 'quincenal', 'quiniela', 'quinta', 'quinto', 'quintán', 'quirófano', 'quirón', 'quirúrgico', 'quitar', 'quizá', 'quizás', 'quién', 'quo', 'química', 'químico', 'rabia', 'racial', 'racializada', 'racional', 'racismo', 'racista', 'ración', 'radar', 'radiación', 'radicado', 'radical', 'radicalidad', 'radicalización', 'radicalmente', 'radicar', 'radio', 'radiofónico', 'radiografía', 'radiojaputa', 'rae', 'rafa', 'rafael', 'rajatabla', 'rajoy', 'ralentización', 'ralentizar', 'rama', 'rambla', 'ramiro', 'ramo', 'ramos', 'ramírez', 'ramón', 'rancho', 'random', 'rango', 'ranking', 'rapero', 'rapidez', 'raquel', 'rar', 'rara', 'rareza', 'raro', 'rasgo', 'raso', 'rastreador', 'rastrear', 'rastreo', 'rastro', 'rata', 'ratificación', 'ratificado', 'ratificar', 'ratifico', 'ratio', 'rato', 'ratón', 'rayo', 'raza', 'razonable', 'razonablemente', 'razonado', 'razonamiento', 'razonar', 'razón', 'raíz', 'raúl', 'raül', 'reabrir', 'reaccionar', 'reaccionario', 'reacción', 'reacio', 'reactivación', 'reactivar', 'reactivo', 'readmitir', 'reafirmar', 'reagar', 'real', 'realdonaldtrump', 'realidad', 'realismo', 'realista', 'reality', 'realización', 'realizado', 'realizador', 'realizadora', 'realizar', 'realmente', 'reanudación', 'reanudar', 'reaparecer', 'reaparición', 'reapertura', 'reavivar', 'rebaja', 'rebajado', 'rebajar', 'rebasar', 'rebatir', 'rebaño', 'rebelar', 'rebelde', 'rebeldía', 'rebelión', 'rebosar', 'rebote', 'rebrot', 'rebrote', 'recaar', 'recabado', 'recabar', 'recado', 'recaen', 'recaer', 'recalar', 'recalca', 'recalcar', 'recalificación', 'recambio', 'recarga', 'recaudación', 'recaudar', 'recelo', 'recepción', 'receptor', 'receptora', 'recesión', 'receso', 'receta', 'rechazado', 'rechazar', 'rechazo', 'recibido', 'recibir', 'recibo', 'reciclaje', 'reciclar', 'reciente', 'recientemente', 'recinto', 'recir', 'recital', 'recitar', 'recién', 'reclamación', 'reclamado', 'reclamar', 'reclamo', 'recluido', 'recluir', 'reclusión', 'recluso', 'reclutamiento', 'reclutar', 'recoger', 'recogida', 'recogido', 'recogía', 'recogíar', 'recolocar', 'recomeir', 'recomendable', 'recomendación', 'recomendado', 'recomendar', 'recompensa', 'recompensar', 'recomponer', 'reconciliación', 'reconducir', 'reconocer', 'reconocibl', 'reconocible', 'reconocido', 'reconocimiento', 'reconsiderar', 'reconstrucción', 'reconstruir', 'reconversión', 'reconvertido', 'reconvertir', 'recopilación', 'recopilado', 'recopilar', 'record', 'recordar', 'recordatorio', 'recordemos', 'recorrar', 'recorrer', 'recorrido', 'recortado', 'recortar', 'recorte', 'recreación', 'recrear', 'recreativa', 'recreativo', 'recreo', 'recriminar', 'recrudecer', 'recta', 'rectificación', 'rectificar', 'recto', 'rector', 'rectorado', 'recuento', 'recuerda', 'recuerdo', 'recular', 'recuperable', 'recuperación', 'recuperado', 'recuperan', 'recuperar', 'recuperir', 'recurrente', 'recurrido', 'recurrir', 'recurso', 'red', 'redacción', 'redactado', 'redactar', 'redactor', 'redactora', 'redactoro', 'redada', 'redención', 'redimir', 'redirigir', 'redistribución', 'redistribuir', 'redoblar', 'redondo', 'reducción', 'reducido', 'reducir', 'redundar', 'reedición', 'reeditar', 'reelección', 'reelegir', 'reembolsable', 'reembolso', 'reemplazar', 'reencontrar', 'reencuentro', 'reescribir', 'reestructuración', 'referencia', 'referendum', 'referente', 'referido', 'referir', 'referéndum', 'reflejado', 'reflejar', 'reflejo', 'reflexionar', 'reflexivo', 'reflexión', 'reforma', 'reformar', 'reformista', 'reformulación', 'reformular', 'reforzado', 'reforzar', 'refrendado', 'refrendar', 'refresco', 'refuerzo', 'refugiado', 'refugiar', 'refugio', 'regadío', 'regalado', 'regalar', 'regalo', 'regar', 'regeneración', 'regenerar', 'regentar', 'regidor', 'regidora', 'regimiento', 'regional', 'regir', 'registrado', 'registrar', 'registro', 'región', 'regla', 'reglado', 'reglamentario', 'reglamento', 'rego', 'regresar', 'regresen', 'regreso', 'reguero', 'regulación', 'regulado', 'regulador', 'regular', 'regularidad', 'regularización', 'regularizado', 'regularizar', 'regularmente', 'regulatorio', 'regímén', 'rehabilitación', 'rehabilitado', 'rehabilitar', 'rehacer', 'rehuir', 'rehusar', 'rehén', 'rei', 'reich', 'reina', 'reinado', 'reinar', 'reincorporación', 'reincorporar', 'reingreso', 'reiniciar', 'reino', 'reintegrar', 'reinterpretar', 'reinventar', 'reir', 'reiteración', 'reiteradamente', 'reiterado', 'reiterar', 'reivindicación', 'reivindicar', 'reivindicativo', 'reivindico', 'reja', 'relacionado', 'relacionar', 'relacionarno', 'relaciones', 'relación', 'relajación', 'relajamiento', 'relajar', 'relanzar', 'relata', 'relatado', 'relatar', 'relativamente', 'relativo', 'relato', 'relator', 'relegado', 'relegar', 'relevancia', 'relevante', 'relevar', 'relevo', 'relieve', 'religiosa', 'religioso', 'religión', 'rellenar', 'relleno', 'reloj', 'relucir', 'remachar', 'remacho', 'remake', 'remanente', 'remarca', 'remarcar', 'rematar', 'remedio', 'rememorar', 'remisión', 'remitar', 'remitido', 'remitir', 'remodelación', 'remontar', 'remordimiento', 'remoto', 'remover', 'remuneración', 'remunerado', 'renacer', 'renacimiento', 'renave', 'rendición', 'rendimiento', 'rendir', 'renegar', 'renfe', 'renglón', 'reno', 'renovable', 'renovación', 'renovado', 'renovador', 'renovar', 'renta', 'rentabilidad', 'rentabilizar', 'rentabl', 'rentable', 'renuncia', 'renunciar', 'reo', 'reorganización', 'reorganizar', 'reorientar', 'reparación', 'reparar', 'reparo', 'repartar', 'repartido', 'repartidor', 'repartir', 'reparto', 'repasar', 'repaso', 'repatriación', 'repatriar', 'repensar', 'repente', 'repentino', 'repercusión', 'repercutar', 'repercutir', 'repertorio', 'repetición', 'repetidamente', 'repetido', 'repetir', 'repetitivo', 'repito', 'replantear', 'repleta', 'repleto', 'replicar', 'reponer', 'report', 'reportaje', 'reportar', 'reporte', 'reportero', 'reposar', 'reposición', 'reposo', 'represalia', 'represaliado', 'representación', 'representado', 'representante', 'representar', 'representatividad', 'representativo', 'represente', 'represivo', 'represión', 'reprimir', 'reprobar', 'reprochar', 'reproche', 'reproducción', 'reproducir', 'reproductivo', 'repsol', 'republicana', 'republicano', 'repudiar', 'repudio', 'repulsa', 'repuntar', 'repunte', 'reputación', 'reputado', 'república', 'requeer', 'requerido', 'requerimiento', 'requerir', 'requeír', 'requisar', 'requisito', 'resaca', 'resaltar', 'rescatado', 'rescatar', 'rescate', 'rescindir', 'rescisión', 'research', 'resentimiento', 'reserva', 'reservado', 'reservar', 'reservoir', 'reseña', 'reseñar', 'resfriado', 'residencia', 'residencial', 'residente', 'residir', 'residual', 'residuo', 'residuos', 'resignación', 'resignar', 'resignificar', 'resiliencia', 'resistencia', 'resistente', 'resistir', 'resolución', 'resolver', 'resonar', 'resorte', 'respaldado', 'respaldar', 'respaldo', 'respectar', 'respectivamente', 'respectivo', 'respecto', 'respetado', 'respetar', 'respeto', 'respetuoso', 'respiración', 'respirador', 'respirar', 'respiratorio', 'respiro', 'responder', 'responsabilidad', 'responsabilizar', 'responsable', 'respuesta', 'resquicio', 'restablecer', 'restante', 'restar', 'restauración', 'restaurante', 'restaurar', 'resto', 'restricción', 'restrictivo', 'restringe', 'restringido', 'restringir', 'resucitar', 'resuelir', 'resuelto', 'resultado', 'resultante', 'resultar', 'resultir', 'resumen', 'resumir', 'resurgimiento', 'retaguardia', 'retar', 'retención', 'retener', 'retenido', 'reticencia', 'reticente', 'retirada', 'retirado', 'retirar', 'retiro', 'reto', 'retocar', 'retomar', 'retoque', 'retornar', 'retorno', 'retractar', 'retransmisión', 'retransmitir', 'retrasado', 'retrasar', 'retraso', 'retratado', 'retratar', 'retratir', 'retrato', 'retribución', 'retribuido', 'retributivo', 'retroactivo', 'retroceder', 'retroceso', 'retrospectivo', 'retórica', 'reubicar', 'reunido', 'reunierar', 'reunir', 'reunión', 'reuní', 'reuter', 'reutilización', 'reutilizar', 'revalidar', 'revalorización', 'revalorizar', 'revelación', 'revelado', 'revelador', 'revelar', 'reveler', 'reventar', 'reverso', 'reverter', 'revertir', 'revestir', 'reviertar', 'revilla', 'revisar', 'revisión', 'revista', 'revitalizar', 'revivir', 'revocar', 'revolucionar', 'revolucionario', 'revolución', 'revolver', 'revuelo', 'revuelta', 'revulsivo', 'revés', 'rey', 'reyero', 'reyes', 'reza', 'rezar', 'rezo', 'reír', 'reúna', 'reúnir', 'rgi', 'ribera', 'ribó', 'ricardo', 'richard', 'rico', 'rider', 'ridiculizar', 'ridículo', 'riego', 'rienda', 'riesgo', 'rifirrafe', 'rights', 'rigor', 'rigurosidad', 'riguroso', 'rincón', 'rioja', 'riqueza', 'rir', 'risa', 'rita', 'ritmo', 'rito', 'ritual', 'rival', 'rivalizar', 'rivera', 'rivero', 'riñón', 'rne', 'ro', 'road', 'robado', 'robar', 'robert', 'roberto', 'robin', 'robl', 'robo', 'robot', 'robusto', 'roca', 'rocar', 'roce', 'rock', 'rocoso', 'rocío', 'rodado', 'rodaje', 'rodar', 'rodeado', 'rodear', 'rodeo', 'rodilla', 'rodolfo', 'rodrigo', 'rodriguir', 'rodríguez', 'rodríguezmedel', 'rogar', 'rogatorio', 'roger', 'roja', 'rojo', 'rol', 'roldán', 'rollo', 'roma', 'romance', 'romano', 'romanticismo', 'romar', 'romeir', 'romero', 'rompar', 'romper', 'román', 'romántico', 'ron', 'ronald', 'ronda', 'rondar', 'room', 'ropa', 'roque', 'rosa', 'rosado', 'rosal', 'rosalir', 'rosalía', 'rosario', 'rosell', 'rostro', 'rotativo', 'rotatorio', 'roto', 'rotonda', 'rotundamente', 'rotundidad', 'rotundo', 'royal', 'royo', 'rozar', 'rtve', 'rubalcar', 'rubio', 'rubricar', 'rubén', 'rueda', 'rufián', 'ruido', 'ruidoso', 'ruina', 'ruiz', 'ruizgallardón', 'rull', 'rumano', 'rumanía', 'rumbo', 'rumor', 'runner', 'ruptura', 'rupturista', 'rural', 'rusia', 'ruso', 'ruta', 'rutina', 'rutinario', 'ruto', 'ruz', 'ryanair', 'rápidamente', 'rápido', 'récord', 'rédito', 'régimen', 'réplica', 'rígido', 'río', 'ríos', 'rúbrica', 'sa', 'sabadell', 'saber', 'sabiendas', 'sabin', 'sabino', 'sabio', 'sabor', 'sabotaje', 'sabotear', 'sabéis', 'saca', 'sacado', 'sacar', 'sacerdote', 'saciedad', 'saco', 'sacrificar', 'sacrificio', 'sacudir', 'saga', 'sagrado', 'saibigain', 'saiz', 'sal', 'sala', 'salamanca', 'salamanco', 'salarial', 'salario', 'saldar', 'saldo', 'salgado', 'salgar', 'salgo', 'salida', 'salido', 'saliente', 'salimos', 'salir', 'saliva', 'salpicado', 'salpicar', 'salta', 'saltar', 'saltir', 'salto', 'salubridad', 'salud', 'saludable', 'saludar', 'saludo', 'salut', 'salva', 'salvación', 'salvado', 'salvador', 'salvaguarda', 'salvaguardar', 'salvaje', 'salvamento', 'salvar', 'salvedad', 'salvini', 'salvo', 'salvoconducto', 'salí', 'salón', 'sam', 'samuel', 'san', 'sanar', 'sanchezcastejon', 'sancho', 'sancionado', 'sancionador', 'sancionar', 'sanción', 'sander', 'sandinista', 'sandra', 'saneado', 'saneamiento', 'sanear', 'sanfermín', 'sangre', 'sangriento', 'sanguíneo', 'sanidad', 'sanidade', 'sanita', 'sanitaria', 'sanitario', 'sano', 'sant', 'santa', 'santamaría', 'santana', 'santander', 'santi', 'santiago', 'santo', 'santos', 'santoña', 'santuario', 'sanz', 'sao', 'saqueo', 'sar', 'sara', 'sarah', 'sarasola', 'sarasolo', 'sarcástico', 'sargento', 'sars', 'satisfacción', 'satisfacer', 'satisfactoriamente', 'satisfactorio', 'satisfecho', 'saturación', 'saturado', 'saturar', 'satélite', 'satírico', 'saud', 'saudí', 'save', 'saúde', 'schengen', 'science', 'scribd', 'seat', 'sebastián', 'secar', 'sección', 'secesionista', 'secesión', 'seco', 'secreción', 'secretaria', 'secretario', 'secretaría', 'secretismo', 'secreto', 'secta', 'sectario', 'sectarismo', 'sector', 'sectorial', 'secuela', 'secuencia', 'secuestrado', 'secuestrar', 'secuestro', 'secundar', 'secundaria', 'secundario', 'sed', 'seda', 'sede', 'sedición', 'seducir', 'see', 'segarra', 'segmento', 'segovia', 'segregación', 'segregar', 'segrià', 'seguido', 'seguidor', 'seguimiento', 'seguir', 'segundo', 'segura', 'seguramente', 'seguridad', 'seguro', 'según', 'seis', 'seleccionado', 'seleccionar', 'selección', 'selectividad', 'selectivo', 'sellado', 'sellar', 'sello', 'selva', 'semana', 'semanal', 'semanalmente', 'sembrar', 'semejante', 'semejanza', 'semestre', 'semilla', 'seminario', 'semipresencial', 'semipresencialidad', 'sempre', 'semáforo', 'senado', 'senador', 'senadora', 'senar', 'sencillamente', 'sencillo', 'senda', 'sendero', 'sendos', 'senegal', 'seno', 'sensación', 'sensatez', 'sensato', 'sense', 'sensibilidad', 'sensibilización', 'sensibilizar', 'sensible', 'sensiblemente', 'sentado', 'sentar', 'sentencia', 'sentenciar', 'sentimental', 'sentimiento', 'sentir', 'sep', 'sepa', 'separ', 'separación', 'separado', 'separar', 'separatista', 'sepe', 'septiembre', 'sepultado', 'sepultar', 'sepultura', 'sequía', 'ser', 'serenidad', 'serer', 'sergar', 'sergas', 'sergi', 'sergio', 'seri', 'seriamente', 'serie', 'seriedad', 'serio', 'serna', 'serológica', 'serológico', 'seroprevalencia', 'serra', 'serrano', 'servicio', 'servido', 'servidor', 'servini', 'servir', 'servizo', 'sesenta', 'sesgado', 'sesgo', 'sesión', 'sestao', 'setenta', 'seu', 'seudónimo', 'severamente', 'severidad', 'severo', 'sevilla', 'sevillano', 'sevillar', 'sexismo', 'sexista', 'sexo', 'sexto', 'sexual', 'sexualidad', 'sexualmente', 'seña', 'señal', 'señalada', 'señalado', 'señalamiento', 'señalar', 'señalización', 'señor', 'señora', 'señoría', 'sgm', 'shared', 'shock', 'show', 'si', 'sic', 'sicav', 'sicavs', 'sicilia', 'sida', 'siempre', 'sierra', 'siete', 'sigar', 'sigla', 'siglo', 'significado', 'significante', 'significar', 'significativamente', 'significativo', 'signo', 'siguiente', 'silenciar', 'silencio', 'silencioso', 'silla', 'sillón', 'silueta', 'silva', 'silvia', 'silvio', 'simanca', 'simbolismo', 'simbolizar', 'simbología', 'simbólicamente', 'simbólico', 'similar', 'similitud', 'simon', 'simpatizante', 'simpatía', 'simple', 'simplemente', 'simplificación', 'simplificar', 'simpático', 'simulación', 'simulacro', 'simular', 'simultáneamente', 'simultáneo', 'simón', 'sinceramente', 'sinceridad', 'sincero', 'sindical', 'sindicalista', 'sindicato', 'sinergia', 'singapur', 'single', 'singular', 'singularidad', 'singularmente', 'siniestro', 'sino', 'sintetizar', 'sintomatología', 'sintomático', 'sintonía', 'sinvergüenza', 'sinónimo', 'siquiera', 'sirena', 'siria', 'sirio', 'sistema', 'sistemáticamente', 'sistemático', 'sistémico', 'sitio', 'situ', 'situación', 'situado', 'situar', 'sitúar', 'skype', 'sl', 'smi', 'smith', 'sms', 'so', 'soberanismo', 'soberanista', 'soberano', 'soberanía', 'soberbia', 'soborno', 'sobra', 'sobradamente', 'sobrar', 'sobrecarga', 'sobrecost', 'sobrecoste', 'sobrellevar', 'sobremanera', 'sobremesa', 'sobrenatural', 'sobrepasado', 'sobrepasar', 'sobresaliente', 'sobresalir', 'sobresalto', 'sobreseimiento', 'sobresueldo', 'sobrevenido', 'sobrevivir', 'sobrevolar', 'sobrina', 'sobrino', 'sobrio', 'socavar', 'socia', 'social', 'socialcomunista', 'socialdemócrata', 'socialismo', 'socialista', 'socialización', 'socializar', 'socialmente', 'sociedad', 'societario', 'socio', 'sociocultural', 'socioeconómico', 'sociolaboral', 'sociología', 'sociológico', 'sociopolítico', 'sociosanitario', 'socióloga', 'sociólogo', 'socorro', 'sofisticado', 'software', 'sofá', 'sofía', 'sol', 'solamente', 'solar', 'solas', 'soldado', 'soledad', 'solemne', 'solemnidad', 'soler', 'solicitado', 'solicitante', 'solicitar', 'solicitir', 'solicitud', 'solidaridad', 'solidario', 'solidez', 'solitario', 'solo', 'soltar', 'soltero', 'solucionar', 'solucionir', 'solución', 'solvencia', 'solventar', 'solvente', 'somalí', 'sombra', 'someter', 'sometido', 'sometimiento', 'sonado', 'sonar', 'sondeo', 'sonia', 'sonido', 'sonoro', 'sonreír', 'sonriente', 'sonrisa', 'sopesar', 'soplar', 'soportar', 'soporte', 'sorair', 'soraya', 'sordo', 'soria', 'soriano', 'sororidad', 'sorprendente', 'sorprender', 'sorprendido', 'sorpresa', 'sorpresivo', 'sortear', 'sorteo', 'sospecha', 'sospechar', 'sospechoso', 'sostener', 'sostenibilidad', 'sostenible', 'sostenido', 'sostenimiento', 'soto', 'sound', 'souto', 'soviético', 'soñar', 'sp', 'spain', 'spielberg', 'square', 'sra', 'stampa', 'stand', 'standard', 'stanley', 'star', 'stat', 'statu', 'stephen', 'steve', 'steven', 'stevir', 'stoa', 'stoar', 'stock', 'stop', 'streaming', 'street', 'studio', 'suave', 'suavizar', 'sub', 'subasta', 'subcomisión', 'subcontrata', 'subcontratar', 'subdelegación', 'subdirección', 'subdirector', 'subdirectora', 'subida', 'subido', 'subir', 'subjetividad', 'subjetivo', 'sublevación', 'submarino', 'subordinado', 'subrair', 'subrayar', 'subrogado', 'subsahariano', 'subsanar', 'subsecretario', 'subsidiario', 'subsidio', 'subsistencia', 'subsistir', 'subterráneo', 'suburbio', 'subvencionado', 'subvencionar', 'subvención', 'subversivo', 'subyacer', 'suceder', 'sucedido', 'sucesivamente', 'sucesivo', 'sucesión', 'suceso', 'sucesor', 'suciedad', 'sucio', 'sucumbir', 'sucursal', 'sudamericano', 'sudeste', 'sudor', 'sudáfrico', 'sudán', 'suecia', 'sueco', 'suegra', 'sueldo', 'suelo', 'suelta', 'suelto', 'suerte', 'sueño', 'suficiencia', 'suficiente', 'suficientemente', 'sufragado', 'sufragar', 'sufragio', 'sufrido', 'sufrimiento', 'sufrir', 'sugerencia', 'sugerente', 'sugerir', 'suicida', 'suicidar', 'suicidio', 'suisse', 'suite', 'suiza', 'suizo', 'sujetar', 'sujeto', 'suma', 'sumado', 'sumamente', 'sumar', 'sumario', 'sumergido', 'sumergir', 'sumido', 'suministrar', 'suministro', 'sumir', 'sumisión', 'sumo', 'supeditado', 'super', 'superación', 'superado', 'superar', 'supercualificada', 'superficial', 'superficie', 'superhéroe', 'superior', 'superioridad', 'superir', 'supermercado', 'superponer', 'supervisar', 'supervisión', 'supervisor', 'supervivencia', 'superviviente', 'superávit', 'suplemento', 'suplente', 'suplir', 'supondrir', 'suponer', 'suposición', 'supremacista', 'supremacía', 'supremir', 'supremo', 'supresión', 'suprimir', 'supuestamente', 'supuesto', 'sur', 'suramericano', 'surcoreano', 'sure', 'sureste', 'sureño', 'surgen', 'surgido', 'surgir', 'suroeste', 'surrealista', 'surtir', 'susaeta', 'susana', 'susar', 'susceptible', 'suscitado', 'suscitar', 'suscribir', 'suscribirte', 'suscripción', 'suscriptor', 'suscrito', 'suscríbete', 'suscríbetir', 'suso', 'suspender', 'suspendido', 'suspensión', 'suspenso', 'suspicacia', 'sustancia', 'sustancial', 'sustancialmente', 'sustanciar', 'sustentar', 'sustento', 'sustitución', 'sustituir', 'sustituto', 'susto', 'sustracción', 'sustraer', 'susán', 'sutil', 'suárez', 'swing', 'sànchez', 'sábado', 'sádico', 'sáenz', 'sáez', 'sánchez', 'sátira', 'sémper', 'séptimo', 'sígueno', 'símbolo', 'síndrome', 'síntesis', 'síntoma', 'sólido', 'sólo', 'sós', 'sótano', 'súbito', 'súper', 'tabaco', 'taberna', 'tabernilla', 'tabla', 'tablero', 'tableta', 'tabú', 'tachar', 'tailandia', 'taiwán', 'tajante', 'tajantemente', 'tajo', 'tal', 'talante', 'talavera', 'talento', 'talentoso', 'talla', 'taller', 'talón', 'tamayazo', 'tamayo', 'tamaño', 'tambalear', 'tambor', 'tampoco', 'tan', 'tanda', 'tangible', 'tanque', 'tapa', 'tapadera', 'tapado', 'tapar', 'tapia', 'tapiar', 'tapio', 'taquilla', 'tar', 'tardanza', 'tardar', 'tarde', 'tardir', 'tardía', 'tardío', 'tarea', 'tarifa', 'tarima', 'tarjeta', 'tarragona', 'tasa', 'taurino', 'taxi', 'taxista', 'taylor', 'taza', 'tc', 'teatral', 'teatro', 'techo', 'tecnología', 'tecnológico', 'ted', 'tedh', 'tedro', 'teheer', 'tejado', 'tejer', 'tejido', 'tel', 'tela', 'telar', 'tele', 'telecinco', 'telecomunicación', 'telediario', 'teledirigido', 'telefonear', 'telefonía', 'telefónica', 'telefónicamente', 'telefónico', 'telegram', 'telegrammeeldiarionortar', 'telegraph', 'telemadrid', 'telemáticamente', 'telemático', 'telepizza', 'teletrabajar', 'teletrabajo', 'televisado', 'televisivo', 'televisión', 'televisor', 'telleer', 'tellerir', 'tellería', 'teléfono', 'teléfonos', 'telón', 'tema', 'temario', 'temblar', 'temer', 'temerario', 'temido', 'temor', 'temperatura', 'templo', 'tempo', 'temporada', 'temporal', 'temporalidad', 'temporalmente', 'temporero', 'temprano', 'temá', 'temática', 'temático', 'temíar', 'tenar', 'tendencia', 'tender', 'tendido', 'tenencia', 'tener', 'tenerife', 'tenerifir', 'tengar', 'teniente', 'tenis', 'tenor', 'tensar', 'tensión', 'tenso', 'tentación', 'tentativa', 'teodoro', 'teoría', 'ter', 'terapia', 'terapéutico', 'tercer', 'tercero', 'tercio', 'teresa', 'tergiversación', 'terminado', 'terminal', 'terminar', 'terminator', 'terminir', 'terminología', 'termómetro', 'terna', 'terraza', 'terremoto', 'terreno', 'terrestre', 'terrible', 'territorial', 'territorio', 'terror', 'terrorismo', 'terrorista', 'terrorífico', 'tertsch', 'tertulia', 'teruel', 'tesis', 'tesitura', 'tesoreer', 'tesorero', 'tesorería', 'tesoro', 'test', 'testaferro', 'testamento', 'testar', 'testificar', 'testigo', 'testimonial', 'testimonio', 'tests', 'tetuán', 'texas', 'text', 'textil', 'texto', 'textualmente', 'textura', 'teñido', 'teóricamente', 'teórico', 'that', 'thatcher', 'the', 'they', 'think', 'this', 'thoma', 'thriller', 'thunberg', 'tibio', 'tiburón', 'tiempo', 'tienda', 'tierra', 'tierro', 'tiktok', 'tildar', 'tim', 'timbre', 'time', 'times', 'timón', 'tinta', 'tinte', 'tipo', 'tipología', 'tira', 'tirado', 'tirajana', 'tirar', 'tiro', 'tiroteo', 'tirón', 'titulación', 'titulado', 'titular', 'titularidad', 'tién', 'tjue', 'to', 'toalla', 'tobillo', 'tocado', 'tocar', 'toda', 'todas', 'todavía', 'today', 'todopoderoso', 'todoterreno', 'tokio', 'toledo', 'tolerancia', 'tolerar', 'tolosa', 'tolós', 'tom', 'toma', 'tomado', 'tomar', 'tomo', 'tomás', 'tomé', 'tonelada', 'tongo', 'toni', 'tono', 'tonto', 'tony', 'too', 'top', 'topar', 'tope', 'topo', 'toque', 'torcer', 'tormenta', 'tornar', 'torno', 'toro', 'toronto', 'torpedear', 'torra', 'torrar', 'torre', 'torrejón', 'torrelavega', 'torrent', 'torrente', 'torrir', 'tortilla', 'tortura', 'torturado', 'torturador', 'torturar', 'tos', 'toser', 'total', 'totalidad', 'totalitario', 'totalitarismo', 'totalmente', 'totana', 'tour', 'traba', 'trabajado', 'trabajador', 'trabajadora', 'trabajar', 'trabaje', 'trabajer', 'trabajo', 'tractor', 'tradicional', 'tradicionalmente', 'tradición', 'traducción', 'traducido', 'traducir', 'traductor', 'traer', 'traficante', 'traficar', 'tragar', 'tragedia', 'trago', 'traicionar', 'traición', 'traidor', 'traje', 'trama', 'tramitación', 'tramitar', 'tramo', 'trampa', 'tran', 'trance', 'tranquilamente', 'tranquilidad', 'tranquilizar', 'tranquilo', 'trans', 'transacción', 'transcripción', 'transcurrido', 'transcurrir', 'transcurso', 'transexual', 'transexualidad', 'transferencia', 'transferida', 'transferir', 'transfobia', 'transformación', 'transformador', 'transformar', 'transgresión', 'transición', 'transitar', 'transitorio', 'transmisión', 'transmisor', 'transmitar', 'transmitido', 'transmitir', 'transnacional', 'transparencia', 'transparente', 'transportar', 'transporte', 'transversal', 'transversalidad', 'tranvía', 'trapero', 'trapo', 'tras', 'trascendencia', 'trascendental', 'trascender', 'trasciendar', 'trasero', 'trasfondo', 'trasiego', 'trasladado', 'trasladar', 'trasladir', 'traslado', 'trasmisión', 'trasmitir', 'traspasar', 'traspaso', 'traste', 'trastocar', 'trastorno', 'trasvase', 'trata', 'tratado', 'tratamiento', 'tratar', 'trato', 'trauma', 'traumatología', 'traumático', 'travesía', 'través', 'trayecto', 'trayectoria', 'trazabilidad', 'trazado', 'trazar', 'trazo', 'trece', 'tregua', 'treinta', 'treintena', 'tremendamente', 'tremendo', 'tren', 'tres', 'tribu', 'tribuna', 'tribunal', 'tributación', 'tributar', 'tributario', 'tributo', 'trillo', 'trilogía', 'trimestral', 'trimestre', 'trinchera', 'trinidad', 'tripartito', 'triple', 'triplicar', 'tripulación', 'tripulante', 'triste', 'tristemente', 'tristeza', 'triunfar', 'triunfo', 'triángulo', 'troika', 'tronco', 'trono', 'tropa', 'tropezar', 'tropical', 'troya', 'trozo', 'truco', 'trueno', 'trujillo', 'trump', 'trumpir', 'truncar', 'tráfico', 'trágico', 'tráiler', 'trámite', 'tránsito', 'trío', 'tsj', 'tsjc', 'tsjm', 'tsunami', 'tuberculosis', 'tubo', 'tudela', 'tuerca', 'tuit', 'tuitear', 'tuitero', 'tuits', 'tumba', 'tumbado', 'tumbar', 'turbio', 'turco', 'turismo', 'turista', 'turno', 'turolense', 'turquir', 'turquía', 'turull', 'turístico', 'tutela', 'tutelado', 'tutelar', 'tutor', 'tutora', 'tuviérir', 'tv', 'tve', 'twitter', 'txagorritxu', 'txitxo', 'txomin', 'táctica', 'táctico', 'tándem', 'técnica', 'técnicamente', 'técnico', 'térmico', 'término', 'tía', 'tímido', 'tío', 'típico', 'título', 'tónica', 'tópico', 'tóxico', 'tú', 'túnel', 'túnez', 'uber', 'ubicación', 'ubicado', 'ubicar', 'ubs', 'ucao', 'ucd', 'uci', 'uco', 'ucrania', 'ucraniano', 'udef', 'ue', 'ugarte', 'ugt', 'ultima', 'ultimar', 'ultimo', 'ultra', 'ultraconservador', 'ultraderecha', 'ultraderechista', 'ultraliberal', 'umbral', 'ume', 'unai', 'unanimidad', 'uned', 'unesco', 'unida', 'unidad', 'unidas', 'unido', 'unidos', 'unificación', 'unificado', 'unificar', 'uniformado', 'uniforme', 'unilateral', 'unilateralmente', 'unir', 'unitario', 'united', 'universal', 'universidad', 'universidades', 'universitario', 'universitat', 'university', 'universo', 'unión', 'unánime', 'unísono', 'uoc', 'up', 'upn', 'upvehu', 'upyd', 'urbana', 'urbanismo', 'urbanista', 'urbanizable', 'urbanización', 'urbano', 'urbanorma', 'urbanístico', 'urbe', 'urdangarin', 'urdial', 'urge', 'urgencia', 'urgente', 'urgentemente', 'urgir', 'uriarte', 'uribir', 'urjc', 'urkullu', 'urna', 'urr', 'urraza', 'ursula', 'uruguay', 'us', 'usado', 'usamos', 'usar', 'usb', 'usera', 'uso', 'usted', 'usual', 'usuaria', 'usuario', 'usurpación', 'usurpar', 'utah', 'ute', 'utensilio', 'utilidad', 'utilización', 'utilizado', 'utilizar', 'utopía', 'utópico', 'uu', 'uva', 'uxue', 'uña', 'va', 'vaca', 'vacacional', 'vacación', 'vacante', 'vaciado', 'vaciar', 'vacuna', 'vacunación', 'vacunar', 'vacuno', 'vacía', 'vacíar', 'vacío', 'vago', 'vagón', 'vaivén', 'val', 'valedor', 'valencia', 'valenciano', 'valentir', 'valentía', 'valer', 'valerio', 'valero', 'validación', 'validar', 'validez', 'valiente', 'valioso', 'vall', 'valla', 'valladolid', 'valle', 'valleca', 'valley', 'vallisoletano', 'vallès', 'valor', 'valora', 'valoración', 'valorado', 'valorar', 'valverde', 'valència', 'valía', 'vanguardia', 'vanity', 'vano', 'vapor', 'vara', 'varado', 'varapalo', 'vargas', 'variabilidad', 'variable', 'variación', 'variado', 'variante', 'variar', 'variedad', 'variopinto', 'varios', 'varir', 'varonar', 'varíar', 'varón', 'vas', 'vasco', 'vaso', 'vaticano', 'vaticinar', 'vaya', 'vayar', 'vean', 'veces', 'vecina', 'vecinal', 'vecindad', 'vecindario', 'vecino', 'vector', 'vega', 'vegar', 'vegas', 'vegetación', 'vegetal', 'vego', 'vehículo', 'veinte', 'veintena', 'veinticinco', 'veinticuatro', 'vejación', 'vela', 'velado', 'velar', 'velasco', 'velatorio', 'velo', 'velocidad', 'velázquez', 'vence', 'vencedor', 'vencer', 'vencido', 'vencimiento', 'vendar', 'vendedor', 'vender', 'vendido', 'vendrir', 'venecia', 'veneno', 'venezolano', 'venezuela', 'venganza', 'vengar', 'venidero', 'venido', 'venir', 'venta', 'ventaja', 'ventajoso', 'ventana', 'ventanilla', 'ventilación', 'ventilado', 'ventilador', 'ventilar', 'veo', 'ver', 'vera', 'veracidad', 'veraniego', 'verano', 'veraz', 'verbal', 'verbalizar', 'verbo', 'verdad', 'verdaderamente', 'verdadero', 'verde', 'verdugo', 'verdura', 'veredicto', 'vergonzoso', 'vergés', 'vergüenza', 'verificación', 'verificar', 'verno', 'verosímil', 'versar', 'versión', 'verso', 'vertebral', 'vertebrar', 'vertedero', 'verter', 'vertical', 'vertido', 'vertient', 'vertiente', 'verás', 'verónico', 'ves', 'vestido', 'vestigio', 'vestimenta', 'vestir', 'vestuario', 'vetado', 'vetar', 'veterano', 'veterinario', 'vetir', 'veto', 'vez', 'veíamos', 'vi', 'via', 'viabilidad', 'viable', 'viajar', 'viaje', 'viajero', 'viajir', 'vial', 'viandante', 'vicealcaldesa', 'viceconsejera', 'viceconsejero', 'vicelehendakari', 'viceministro', 'vicente', 'vicepresidencia', 'vicepresident', 'vicepresidenta', 'vicepresidente', 'vicerrector', 'vicesecretaria', 'vicesecretario', 'viceversar', 'vicinay', 'vicio', 'victoria', 'vicálvaro', 'vida', 'vidal', 'video', 'videoclip', 'videoconferencia', 'videojuego', 'videollamada', 'vidrio', 'viejo', 'viena', 'viento', 'vientre', 'viernes', 'vietnam', 'view', 'vigencia', 'vigente', 'vigilado', 'vigilancia', 'vigilante', 'vigilar', 'vigilir', 'vigo', 'vigor', 'vih', 'vii', 'viii', 'vila', 'vilanova', 'villa', 'villacís', 'villalonga', 'villano', 'villanueva', 'villanuevo', 'villar', 'villaregir', 'villarejo', 'villarreal', 'villaverdar', 'villaverde', 'villega', 'vilo', 'vinculación', 'vinculado', 'vinculante', 'vincular', 'vino', 'violación', 'violado', 'violador', 'violar', 'violencia', 'violentamente', 'violentar', 'violento', 'violeta', 'vip', 'viraje', 'viral', 'viralizar', 'virar', 'virgen', 'virginia', 'virtual', 'virtualmente', 'virtud', 'virulencia', 'virus', 'virólogo', 'visa', 'visado', 'visceral', 'visibilidad', 'visibilización', 'visibilizar', 'visible', 'visiblemente', 'visionado', 'visita', 'visitado', 'visitante', 'visitar', 'visión', 'vislumbrar', 'vislumbrir', 'viso', 'vista', 'vistalegre', 'vistas', 'vistazo', 'visto', 'visual', 'visualización', 'visualizar', 'visualmente', 'vital', 'vitalicio', 'vitalidad', 'vitamina', 'vitorear', 'vitoria', 'vitoriagasteiz', 'vitoriano', 'vitorio', 'viuda', 'viv', 'viva', 'vivar', 'vivencia', 'vivero', 'vivido', 'vivienda', 'vivir', 'vivo', 'viví', 'vizcaya', 'vizcaíno', 'viña', 'viñeta', 'vladimir', 'vocación', 'vocal', 'volante', 'volar', 'volcado', 'volcar', 'volcán', 'volkswagen', 'volumen', 'voluntad', 'voluntariamente', 'voluntariedad', 'voluntario', 'volver', 'volví', 'volvía', 'von', 'vorágine', 'vosotro', 'votación', 'votado', 'votante', 'votar', 'voto', 'vox', 'voz', 'vs', 'vuelco', 'vuelo', 'vuelta', 'vulgar', 'vulnerabilidad', 'vulnerable', 'vulneración', 'vulnerar', 'válido', 'vázquez', 'véar', 'vértigo', 'vía', 'vías', 'víctima', 'víctor', 'vídeo', 'vínculo', 'vírica', 'víspera', 'vísperas', 'víver', 'vómito', 'wall', 'war', 'warner', 'warren', 'wars', 'was', 'washington', 'watch', 'way', 'we', 'web', 'webs', 'weinstein', 'west', 'western', 'what', 'whatsapp', 'when', 'white', 'who', 'wifi', 'wild', 'will', 'william', 'williams', 'with', 'women', 'woody', 'work', 'world', 'wuhan', 'wwf', 'wwwescolarnetabout', 'wwwreligiondigitalorg', 'xabier', 'xavier', 'xenofobia', 'xenófobo', 'xeral', 'xi', 'xii', 'xiii', 'ximo', 'xix', 'xosé', 'xunta', 'xunto', 'xv', 'xvi', 'xvii', 'xviii', 'xx', 'xxi', 'yacer', 'yacimiento', 'yate', 'yemen', 'yerno', 'yihadista', 'yo', 'yoga', 'yolanda', 'york', 'yorker', 'you', 'your', 'youtube', 'youtuber', 'zabala', 'zaldibar', 'zambrana', 'zambrán', 'zamora', 'zamoro', 'zangir', 'zanja', 'zanjar', 'zanjó', 'zapatero', 'zapato', 'zaplana', 'zaplán', 'zaragoza', 'zaragozano', 'zaragozar', 'zarautz', 'zarzuela', 'zelanda', 'zerbitzuak', 'zoido', 'zona', 'zu', 'zuckerberg', 'zulueta', 'zuzeneko', 'zárate', 'ºc', 'ábalo', 'ácido', 'áfrica', 'ágil', 'águila', 'álava', 'álbum', 'álgido', 'álvarez', 'álvaro', 'ámbito', 'án', 'ángel', 'ángela', 'ángulo', 'ánimo', 'ápice', 'árabe', 'árbitro', 'árbol', 'área', 'ático', 'ávila', 'ávilo', 'ébola', 'él', 'élite', 'énfasis', 'épica', 'épico', 'época', 'és', 'ética', 'ético', 'étnico', 'éxito', 'ídolo', 'índice', 'índole', 'íntegramente', 'íntegro', 'íntimamente', 'íntimo', 'íntir', 'ír', 'íñigo', 'òmnium', 'ópera', 'óptico', 'óptimo', 'órbita', 'órdago', 'órden', 'órgano', 'óscar', 'últimamente', 'último', 'única', 'únicamente', 'único', 'útil']\n"
     ]
    }
   ],
   "source": [
    "# rescatemos los nombres de los términos/tokens:\n",
    "\n",
    "term_names = feature_names\n",
    "\n",
    "print(term_names)"
   ]
  },
  {
   "cell_type": "code",
   "execution_count": null,
   "metadata": {
    "colab": {
     "base_uri": "https://localhost:8080/"
    },
    "id": "DAEyQueEMFvz",
    "outputId": "2066bc70-9de7-4e20-f188-94141fca7976"
   },
   "outputs": [
    {
     "name": "stdout",
     "output_type": "stream",
     "text": [
      "(12384, 10)\n"
     ]
    }
   ],
   "source": [
    "# Y generamos un DataFrame con la matriz term-topic:\n",
    "\n",
    "term_topic_matrix = pd.DataFrame(data=lsi_term_topic, \n",
    "                                 index = term_names,   \n",
    "                                 columns = [f'Concepto_Latente_{r}' for r in range(0,V_T.shape[1])]\n",
    "                                )\n",
    "\n",
    "print(term_topic_matrix.shape)   #  words X topics"
   ]
  },
  {
   "cell_type": "code",
   "execution_count": null,
   "metadata": {
    "colab": {
     "base_uri": "https://localhost:8080/",
     "height": 487
    },
    "id": "vnabn_mrMPW4",
    "outputId": "fd8198ea-d741-477e-e97d-36aa1ae2b32e"
   },
   "outputs": [
    {
     "data": {
      "text/html": [
       "\n",
       "  <div id=\"df-9127d0d2-e5ce-4225-8ba1-e1018b9a20a1\">\n",
       "    <div class=\"colab-df-container\">\n",
       "      <div>\n",
       "<style scoped>\n",
       "    .dataframe tbody tr th:only-of-type {\n",
       "        vertical-align: middle;\n",
       "    }\n",
       "\n",
       "    .dataframe tbody tr th {\n",
       "        vertical-align: top;\n",
       "    }\n",
       "\n",
       "    .dataframe thead th {\n",
       "        text-align: right;\n",
       "    }\n",
       "</style>\n",
       "<table border=\"1\" class=\"dataframe\">\n",
       "  <thead>\n",
       "    <tr style=\"text-align: right;\">\n",
       "      <th></th>\n",
       "      <th>Concepto_Latente_0</th>\n",
       "      <th>Concepto_Latente_1</th>\n",
       "      <th>Concepto_Latente_2</th>\n",
       "      <th>Concepto_Latente_3</th>\n",
       "      <th>Concepto_Latente_4</th>\n",
       "      <th>Concepto_Latente_5</th>\n",
       "      <th>Concepto_Latente_6</th>\n",
       "      <th>Concepto_Latente_7</th>\n",
       "      <th>Concepto_Latente_8</th>\n",
       "      <th>Concepto_Latente_9</th>\n",
       "    </tr>\n",
       "  </thead>\n",
       "  <tbody>\n",
       "    <tr>\n",
       "      <th>abad</th>\n",
       "      <td>0.000814</td>\n",
       "      <td>-0.000969</td>\n",
       "      <td>-0.000577</td>\n",
       "      <td>0.001257</td>\n",
       "      <td>0.000369</td>\n",
       "      <td>0.000111</td>\n",
       "      <td>-0.000527</td>\n",
       "      <td>0.000019</td>\n",
       "      <td>0.000630</td>\n",
       "      <td>-0.000382</td>\n",
       "    </tr>\n",
       "    <tr>\n",
       "      <th>abadía</th>\n",
       "      <td>0.000513</td>\n",
       "      <td>-0.001006</td>\n",
       "      <td>-0.000514</td>\n",
       "      <td>0.000280</td>\n",
       "      <td>-0.000060</td>\n",
       "      <td>0.000146</td>\n",
       "      <td>0.000653</td>\n",
       "      <td>-0.000138</td>\n",
       "      <td>-0.000369</td>\n",
       "      <td>-0.000625</td>\n",
       "    </tr>\n",
       "    <tr>\n",
       "      <th>abajo</th>\n",
       "      <td>0.002840</td>\n",
       "      <td>-0.001832</td>\n",
       "      <td>-0.005737</td>\n",
       "      <td>0.000790</td>\n",
       "      <td>-0.000399</td>\n",
       "      <td>0.001048</td>\n",
       "      <td>-0.001765</td>\n",
       "      <td>0.001599</td>\n",
       "      <td>-0.000037</td>\n",
       "      <td>0.001866</td>\n",
       "    </tr>\n",
       "    <tr>\n",
       "      <th>abanderar</th>\n",
       "      <td>0.000567</td>\n",
       "      <td>-0.001264</td>\n",
       "      <td>0.000690</td>\n",
       "      <td>-0.001096</td>\n",
       "      <td>-0.000316</td>\n",
       "      <td>0.000765</td>\n",
       "      <td>-0.000080</td>\n",
       "      <td>-0.000641</td>\n",
       "      <td>0.000280</td>\n",
       "      <td>-0.000526</td>\n",
       "    </tr>\n",
       "    <tr>\n",
       "      <th>abandonado</th>\n",
       "      <td>0.002193</td>\n",
       "      <td>-0.000700</td>\n",
       "      <td>-0.003721</td>\n",
       "      <td>0.000895</td>\n",
       "      <td>-0.001372</td>\n",
       "      <td>-0.000035</td>\n",
       "      <td>-0.000231</td>\n",
       "      <td>0.000267</td>\n",
       "      <td>0.001114</td>\n",
       "      <td>-0.000325</td>\n",
       "    </tr>\n",
       "    <tr>\n",
       "      <th>...</th>\n",
       "      <td>...</td>\n",
       "      <td>...</td>\n",
       "      <td>...</td>\n",
       "      <td>...</td>\n",
       "      <td>...</td>\n",
       "      <td>...</td>\n",
       "      <td>...</td>\n",
       "      <td>...</td>\n",
       "      <td>...</td>\n",
       "      <td>...</td>\n",
       "    </tr>\n",
       "    <tr>\n",
       "      <th>último</th>\n",
       "      <td>0.057067</td>\n",
       "      <td>0.083922</td>\n",
       "      <td>0.024521</td>\n",
       "      <td>0.031433</td>\n",
       "      <td>0.014869</td>\n",
       "      <td>0.094139</td>\n",
       "      <td>0.026464</td>\n",
       "      <td>-0.005952</td>\n",
       "      <td>-0.014701</td>\n",
       "      <td>-0.038132</td>\n",
       "    </tr>\n",
       "    <tr>\n",
       "      <th>única</th>\n",
       "      <td>0.000471</td>\n",
       "      <td>-0.000305</td>\n",
       "      <td>0.000041</td>\n",
       "      <td>-0.000058</td>\n",
       "      <td>0.001134</td>\n",
       "      <td>0.000323</td>\n",
       "      <td>-0.000091</td>\n",
       "      <td>-0.000563</td>\n",
       "      <td>0.000050</td>\n",
       "      <td>0.000512</td>\n",
       "    </tr>\n",
       "    <tr>\n",
       "      <th>únicamente</th>\n",
       "      <td>0.004768</td>\n",
       "      <td>-0.000265</td>\n",
       "      <td>-0.001026</td>\n",
       "      <td>0.002052</td>\n",
       "      <td>-0.001568</td>\n",
       "      <td>-0.000912</td>\n",
       "      <td>-0.000311</td>\n",
       "      <td>0.002243</td>\n",
       "      <td>-0.002849</td>\n",
       "      <td>-0.003687</td>\n",
       "    </tr>\n",
       "    <tr>\n",
       "      <th>único</th>\n",
       "      <td>0.023145</td>\n",
       "      <td>-0.014938</td>\n",
       "      <td>-0.003181</td>\n",
       "      <td>-0.006603</td>\n",
       "      <td>-0.004236</td>\n",
       "      <td>0.007775</td>\n",
       "      <td>0.000114</td>\n",
       "      <td>0.012971</td>\n",
       "      <td>-0.008084</td>\n",
       "      <td>0.001809</td>\n",
       "    </tr>\n",
       "    <tr>\n",
       "      <th>útil</th>\n",
       "      <td>0.010667</td>\n",
       "      <td>0.021221</td>\n",
       "      <td>-0.002437</td>\n",
       "      <td>-0.008555</td>\n",
       "      <td>-0.020438</td>\n",
       "      <td>0.008131</td>\n",
       "      <td>0.008949</td>\n",
       "      <td>-0.008549</td>\n",
       "      <td>-0.026798</td>\n",
       "      <td>0.042256</td>\n",
       "    </tr>\n",
       "  </tbody>\n",
       "</table>\n",
       "<p>12384 rows × 10 columns</p>\n",
       "</div>\n",
       "      <button class=\"colab-df-convert\" onclick=\"convertToInteractive('df-9127d0d2-e5ce-4225-8ba1-e1018b9a20a1')\"\n",
       "              title=\"Convert this dataframe to an interactive table.\"\n",
       "              style=\"display:none;\">\n",
       "        \n",
       "  <svg xmlns=\"http://www.w3.org/2000/svg\" height=\"24px\"viewBox=\"0 0 24 24\"\n",
       "       width=\"24px\">\n",
       "    <path d=\"M0 0h24v24H0V0z\" fill=\"none\"/>\n",
       "    <path d=\"M18.56 5.44l.94 2.06.94-2.06 2.06-.94-2.06-.94-.94-2.06-.94 2.06-2.06.94zm-11 1L8.5 8.5l.94-2.06 2.06-.94-2.06-.94L8.5 2.5l-.94 2.06-2.06.94zm10 10l.94 2.06.94-2.06 2.06-.94-2.06-.94-.94-2.06-.94 2.06-2.06.94z\"/><path d=\"M17.41 7.96l-1.37-1.37c-.4-.4-.92-.59-1.43-.59-.52 0-1.04.2-1.43.59L10.3 9.45l-7.72 7.72c-.78.78-.78 2.05 0 2.83L4 21.41c.39.39.9.59 1.41.59.51 0 1.02-.2 1.41-.59l7.78-7.78 2.81-2.81c.8-.78.8-2.07 0-2.86zM5.41 20L4 18.59l7.72-7.72 1.47 1.35L5.41 20z\"/>\n",
       "  </svg>\n",
       "      </button>\n",
       "      \n",
       "  <style>\n",
       "    .colab-df-container {\n",
       "      display:flex;\n",
       "      flex-wrap:wrap;\n",
       "      gap: 12px;\n",
       "    }\n",
       "\n",
       "    .colab-df-convert {\n",
       "      background-color: #E8F0FE;\n",
       "      border: none;\n",
       "      border-radius: 50%;\n",
       "      cursor: pointer;\n",
       "      display: none;\n",
       "      fill: #1967D2;\n",
       "      height: 32px;\n",
       "      padding: 0 0 0 0;\n",
       "      width: 32px;\n",
       "    }\n",
       "\n",
       "    .colab-df-convert:hover {\n",
       "      background-color: #E2EBFA;\n",
       "      box-shadow: 0px 1px 2px rgba(60, 64, 67, 0.3), 0px 1px 3px 1px rgba(60, 64, 67, 0.15);\n",
       "      fill: #174EA6;\n",
       "    }\n",
       "\n",
       "    [theme=dark] .colab-df-convert {\n",
       "      background-color: #3B4455;\n",
       "      fill: #D2E3FC;\n",
       "    }\n",
       "\n",
       "    [theme=dark] .colab-df-convert:hover {\n",
       "      background-color: #434B5C;\n",
       "      box-shadow: 0px 1px 3px 1px rgba(0, 0, 0, 0.15);\n",
       "      filter: drop-shadow(0px 1px 2px rgba(0, 0, 0, 0.3));\n",
       "      fill: #FFFFFF;\n",
       "    }\n",
       "  </style>\n",
       "\n",
       "      <script>\n",
       "        const buttonEl =\n",
       "          document.querySelector('#df-9127d0d2-e5ce-4225-8ba1-e1018b9a20a1 button.colab-df-convert');\n",
       "        buttonEl.style.display =\n",
       "          google.colab.kernel.accessAllowed ? 'block' : 'none';\n",
       "\n",
       "        async function convertToInteractive(key) {\n",
       "          const element = document.querySelector('#df-9127d0d2-e5ce-4225-8ba1-e1018b9a20a1');\n",
       "          const dataTable =\n",
       "            await google.colab.kernel.invokeFunction('convertToInteractive',\n",
       "                                                     [key], {});\n",
       "          if (!dataTable) return;\n",
       "\n",
       "          const docLinkHtml = 'Like what you see? Visit the ' +\n",
       "            '<a target=\"_blank\" href=https://colab.research.google.com/notebooks/data_table.ipynb>data table notebook</a>'\n",
       "            + ' to learn more about interactive tables.';\n",
       "          element.innerHTML = '';\n",
       "          dataTable['output_type'] = 'display_data';\n",
       "          await google.colab.output.renderOutput(dataTable, element);\n",
       "          const docLink = document.createElement('div');\n",
       "          docLink.innerHTML = docLinkHtml;\n",
       "          element.appendChild(docLink);\n",
       "        }\n",
       "      </script>\n",
       "    </div>\n",
       "  </div>\n",
       "  "
      ],
      "text/plain": [
       "            Concepto_Latente_0  Concepto_Latente_1  Concepto_Latente_2  \\\n",
       "abad                  0.000814           -0.000969           -0.000577   \n",
       "abadía                0.000513           -0.001006           -0.000514   \n",
       "abajo                 0.002840           -0.001832           -0.005737   \n",
       "abanderar             0.000567           -0.001264            0.000690   \n",
       "abandonado            0.002193           -0.000700           -0.003721   \n",
       "...                        ...                 ...                 ...   \n",
       "último                0.057067            0.083922            0.024521   \n",
       "única                 0.000471           -0.000305            0.000041   \n",
       "únicamente            0.004768           -0.000265           -0.001026   \n",
       "único                 0.023145           -0.014938           -0.003181   \n",
       "útil                  0.010667            0.021221           -0.002437   \n",
       "\n",
       "            Concepto_Latente_3  Concepto_Latente_4  Concepto_Latente_5  \\\n",
       "abad                  0.001257            0.000369            0.000111   \n",
       "abadía                0.000280           -0.000060            0.000146   \n",
       "abajo                 0.000790           -0.000399            0.001048   \n",
       "abanderar            -0.001096           -0.000316            0.000765   \n",
       "abandonado            0.000895           -0.001372           -0.000035   \n",
       "...                        ...                 ...                 ...   \n",
       "último                0.031433            0.014869            0.094139   \n",
       "única                -0.000058            0.001134            0.000323   \n",
       "únicamente            0.002052           -0.001568           -0.000912   \n",
       "único                -0.006603           -0.004236            0.007775   \n",
       "útil                 -0.008555           -0.020438            0.008131   \n",
       "\n",
       "            Concepto_Latente_6  Concepto_Latente_7  Concepto_Latente_8  \\\n",
       "abad                 -0.000527            0.000019            0.000630   \n",
       "abadía                0.000653           -0.000138           -0.000369   \n",
       "abajo                -0.001765            0.001599           -0.000037   \n",
       "abanderar            -0.000080           -0.000641            0.000280   \n",
       "abandonado           -0.000231            0.000267            0.001114   \n",
       "...                        ...                 ...                 ...   \n",
       "último                0.026464           -0.005952           -0.014701   \n",
       "única                -0.000091           -0.000563            0.000050   \n",
       "únicamente           -0.000311            0.002243           -0.002849   \n",
       "único                 0.000114            0.012971           -0.008084   \n",
       "útil                  0.008949           -0.008549           -0.026798   \n",
       "\n",
       "            Concepto_Latente_9  \n",
       "abad                 -0.000382  \n",
       "abadía               -0.000625  \n",
       "abajo                 0.001866  \n",
       "abanderar            -0.000526  \n",
       "abandonado           -0.000325  \n",
       "...                        ...  \n",
       "último               -0.038132  \n",
       "única                 0.000512  \n",
       "únicamente           -0.003687  \n",
       "único                 0.001809  \n",
       "útil                  0.042256  \n",
       "\n",
       "[12384 rows x 10 columns]"
      ]
     },
     "execution_count": 66,
     "metadata": {},
     "output_type": "execute_result"
    }
   ],
   "source": [
    "term_topic_matrix"
   ]
  }
 ],
 "metadata": {
  "colab": {
   "provenance": []
  },
  "kernelspec": {
   "display_name": "Python 3 (ipykernel)",
   "language": "python",
   "name": "python3"
  },
  "language_info": {
   "codemirror_mode": {
    "name": "ipython",
    "version": 3
   },
   "file_extension": ".py",
   "mimetype": "text/x-python",
   "name": "python",
   "nbconvert_exporter": "python",
   "pygments_lexer": "ipython3",
   "version": "3.9.16"
  }
 },
 "nbformat": 4,
 "nbformat_minor": 4
}
